{
  "nbformat": 4,
  "nbformat_minor": 0,
  "metadata": {
    "colab": {
      "name": "Disneyland Reviews.ipynb",
      "provenance": [],
      "collapsed_sections": [
        "a6mznUTOEwye",
        "D5n1-RHBiFv1",
        "ncLMioavd5Nw"
      ],
      "authorship_tag": "ABX9TyNkY5N39CVCN4xwAL3cWxuU",
      "include_colab_link": true
    },
    "kernelspec": {
      "name": "python3",
      "display_name": "Python 3"
    },
    "accelerator": "GPU"
  },
  "cells": [
    {
      "cell_type": "markdown",
      "metadata": {
        "id": "view-in-github",
        "colab_type": "text"
      },
      "source": [
        "<a href=\"https://colab.research.google.com/github/anandyadav819/kaggle-notebooks/blob/main/Disneyland_Reviews.ipynb\" target=\"_parent\"><img src=\"https://colab.research.google.com/assets/colab-badge.svg\" alt=\"Open In Colab\"/></a>"
      ]
    },
    {
      "cell_type": "code",
      "metadata": {
        "id": "_IOcDOIr88JS"
      },
      "source": [
        "from google.colab import drive\n",
        "import os"
      ],
      "execution_count": null,
      "outputs": []
    },
    {
      "cell_type": "code",
      "metadata": {
        "id": "_Kni1R-r9D3C",
        "colab": {
          "base_uri": "https://localhost:8080/"
        },
        "outputId": "4e6621ec-073b-450b-d410-b52357283b34"
      },
      "source": [
        "drive.mount(\"gdrive/\")\n",
        "#os.chdir(\"gdrive/My Drive/NLP/datasets/Disneyland Reviews/\")\n",
        "os.chdir(\"gdrive/My Drive/NLP/\")"
      ],
      "execution_count": null,
      "outputs": [
        {
          "output_type": "stream",
          "text": [
            "Mounted at gdrive/\n"
          ],
          "name": "stdout"
        }
      ]
    },
    {
      "cell_type": "code",
      "metadata": {
        "colab": {
          "base_uri": "https://localhost:8080/"
        },
        "id": "8s8Iqd4o9S8G",
        "outputId": "637265a8-c4ad-415c-b5c3-ac8c8e20ec2f"
      },
      "source": [
        "os.listdir()"
      ],
      "execution_count": null,
      "outputs": [
        {
          "output_type": "execute_result",
          "data": {
            "text/plain": [
              "['glove.6B.100d.txt',\n",
              " 'glove.6B.50d.txt',\n",
              " 'glove.6B.zip',\n",
              " 'glove.pdf',\n",
              " '.index',\n",
              " 'checkpoint',\n",
              " '.data-00000-of-00001',\n",
              " 'models',\n",
              " 'datasets',\n",
              " 'training_checkpoints',\n",
              " 'Neural Machine Translation',\n",
              " 'training_checkpoints_lm',\n",
              " 'Linkedin post',\n",
              " 'Dataset',\n",
              " 'Advanced NLP - Book.ipynb',\n",
              " 'Text Generation.ipynb',\n",
              " 'autocorrect_decoder_gru.h5',\n",
              " 'autocorrect_encoder_gru.h5',\n",
              " 'autocorrect_tokenizer.json',\n",
              " 'TextRecommender.ipynb',\n",
              " 'spacy_1.ipynb',\n",
              " 'Disneyland Reviews.ipynb']"
            ]
          },
          "metadata": {
            "tags": []
          },
          "execution_count": 3
        }
      ]
    },
    {
      "cell_type": "code",
      "metadata": {
        "id": "103Bjp3t9ame"
      },
      "source": [
        "import pandas as pd\n",
        "import numpy as np\n",
        "import matplotlib.pyplot as plt\n",
        "import seaborn as sns\n",
        "import spacy\n",
        "from sklearn.feature_extraction.text import TfidfVectorizer\n",
        "from sklearn.preprocessing import LabelEncoder\n",
        "from sklearn.model_selection import train_test_split\n",
        "from sklearn.linear_model import LogisticRegression\n",
        "from sklearn.metrics import classification_report\n",
        "import re\n",
        "import nltk\n",
        "from nltk.corpus import stopwords\n",
        "from nltk.stem import WordNetLemmatizer\n",
        "from nltk.stem.porter import *\n",
        "from nltk.stem.snowball import SnowballStemmer\n",
        "import tensorflow as tf"
      ],
      "execution_count": null,
      "outputs": []
    },
    {
      "cell_type": "code",
      "metadata": {
        "colab": {
          "base_uri": "https://localhost:8080/"
        },
        "id": "6_L2di1xiArB",
        "outputId": "d82dbeb4-0d5f-4609-9741-5162d3245ba3"
      },
      "source": [
        "nltk.download('stopwords')\n",
        "nltk.download('wordnet')\n",
        "! python -m spacy download en_core_web_md"
      ],
      "execution_count": null,
      "outputs": [
        {
          "output_type": "stream",
          "text": [
            "[nltk_data] Downloading package stopwords to /root/nltk_data...\n",
            "[nltk_data]   Unzipping corpora/stopwords.zip.\n",
            "[nltk_data] Downloading package wordnet to /root/nltk_data...\n",
            "[nltk_data]   Unzipping corpora/wordnet.zip.\n",
            "Collecting en_core_web_md==2.2.5\n",
            "\u001b[?25l  Downloading https://github.com/explosion/spacy-models/releases/download/en_core_web_md-2.2.5/en_core_web_md-2.2.5.tar.gz (96.4MB)\n",
            "\u001b[K     |████████████████████████████████| 96.4MB 1.1MB/s \n",
            "\u001b[?25hRequirement already satisfied: spacy>=2.2.2 in /usr/local/lib/python3.7/dist-packages (from en_core_web_md==2.2.5) (2.2.4)\n",
            "Requirement already satisfied: murmurhash<1.1.0,>=0.28.0 in /usr/local/lib/python3.7/dist-packages (from spacy>=2.2.2->en_core_web_md==2.2.5) (1.0.5)\n",
            "Requirement already satisfied: preshed<3.1.0,>=3.0.2 in /usr/local/lib/python3.7/dist-packages (from spacy>=2.2.2->en_core_web_md==2.2.5) (3.0.5)\n",
            "Requirement already satisfied: plac<1.2.0,>=0.9.6 in /usr/local/lib/python3.7/dist-packages (from spacy>=2.2.2->en_core_web_md==2.2.5) (1.1.3)\n",
            "Requirement already satisfied: tqdm<5.0.0,>=4.38.0 in /usr/local/lib/python3.7/dist-packages (from spacy>=2.2.2->en_core_web_md==2.2.5) (4.41.1)\n",
            "Requirement already satisfied: setuptools in /usr/local/lib/python3.7/dist-packages (from spacy>=2.2.2->en_core_web_md==2.2.5) (53.0.0)\n",
            "Requirement already satisfied: blis<0.5.0,>=0.4.0 in /usr/local/lib/python3.7/dist-packages (from spacy>=2.2.2->en_core_web_md==2.2.5) (0.4.1)\n",
            "Requirement already satisfied: srsly<1.1.0,>=1.0.2 in /usr/local/lib/python3.7/dist-packages (from spacy>=2.2.2->en_core_web_md==2.2.5) (1.0.5)\n",
            "Requirement already satisfied: wasabi<1.1.0,>=0.4.0 in /usr/local/lib/python3.7/dist-packages (from spacy>=2.2.2->en_core_web_md==2.2.5) (0.8.2)\n",
            "Requirement already satisfied: catalogue<1.1.0,>=0.0.7 in /usr/local/lib/python3.7/dist-packages (from spacy>=2.2.2->en_core_web_md==2.2.5) (1.0.0)\n",
            "Requirement already satisfied: requests<3.0.0,>=2.13.0 in /usr/local/lib/python3.7/dist-packages (from spacy>=2.2.2->en_core_web_md==2.2.5) (2.23.0)\n",
            "Requirement already satisfied: numpy>=1.15.0 in /usr/local/lib/python3.7/dist-packages (from spacy>=2.2.2->en_core_web_md==2.2.5) (1.19.5)\n",
            "Requirement already satisfied: thinc==7.4.0 in /usr/local/lib/python3.7/dist-packages (from spacy>=2.2.2->en_core_web_md==2.2.5) (7.4.0)\n",
            "Requirement already satisfied: cymem<2.1.0,>=2.0.2 in /usr/local/lib/python3.7/dist-packages (from spacy>=2.2.2->en_core_web_md==2.2.5) (2.0.5)\n",
            "Requirement already satisfied: importlib-metadata>=0.20; python_version < \"3.8\" in /usr/local/lib/python3.7/dist-packages (from catalogue<1.1.0,>=0.0.7->spacy>=2.2.2->en_core_web_md==2.2.5) (3.7.0)\n",
            "Requirement already satisfied: certifi>=2017.4.17 in /usr/local/lib/python3.7/dist-packages (from requests<3.0.0,>=2.13.0->spacy>=2.2.2->en_core_web_md==2.2.5) (2020.12.5)\n",
            "Requirement already satisfied: chardet<4,>=3.0.2 in /usr/local/lib/python3.7/dist-packages (from requests<3.0.0,>=2.13.0->spacy>=2.2.2->en_core_web_md==2.2.5) (3.0.4)\n",
            "Requirement already satisfied: idna<3,>=2.5 in /usr/local/lib/python3.7/dist-packages (from requests<3.0.0,>=2.13.0->spacy>=2.2.2->en_core_web_md==2.2.5) (2.10)\n",
            "Requirement already satisfied: urllib3!=1.25.0,!=1.25.1,<1.26,>=1.21.1 in /usr/local/lib/python3.7/dist-packages (from requests<3.0.0,>=2.13.0->spacy>=2.2.2->en_core_web_md==2.2.5) (1.24.3)\n",
            "Requirement already satisfied: typing-extensions>=3.6.4; python_version < \"3.8\" in /usr/local/lib/python3.7/dist-packages (from importlib-metadata>=0.20; python_version < \"3.8\"->catalogue<1.1.0,>=0.0.7->spacy>=2.2.2->en_core_web_md==2.2.5) (3.7.4.3)\n",
            "Requirement already satisfied: zipp>=0.5 in /usr/local/lib/python3.7/dist-packages (from importlib-metadata>=0.20; python_version < \"3.8\"->catalogue<1.1.0,>=0.0.7->spacy>=2.2.2->en_core_web_md==2.2.5) (3.4.0)\n",
            "Building wheels for collected packages: en-core-web-md\n",
            "  Building wheel for en-core-web-md (setup.py) ... \u001b[?25l\u001b[?25hdone\n",
            "  Created wheel for en-core-web-md: filename=en_core_web_md-2.2.5-cp37-none-any.whl size=98051305 sha256=6d9873d803a6988bbd8082d0e204871298622b538bb4f71b9b52881c40443cc6\n",
            "  Stored in directory: /tmp/pip-ephem-wheel-cache-5emvj0hj/wheels/df/94/ad/f5cf59224cea6b5686ac4fd1ad19c8a07bc026e13c36502d81\n",
            "Successfully built en-core-web-md\n",
            "Installing collected packages: en-core-web-md\n",
            "Successfully installed en-core-web-md-2.2.5\n",
            "\u001b[38;5;2m✔ Download and installation successful\u001b[0m\n",
            "You can now load the model via spacy.load('en_core_web_md')\n"
          ],
          "name": "stdout"
        }
      ]
    },
    {
      "cell_type": "code",
      "metadata": {
        "id": "WJ9NfCUsodLf"
      },
      "source": [
        "nlp = spacy.load('en', disable=[\"tagger\", \"parser\"])"
      ],
      "execution_count": null,
      "outputs": []
    },
    {
      "cell_type": "code",
      "metadata": {
        "id": "5omcj43R-DlN"
      },
      "source": [
        "data = pd.read_csv(\"datasets/Disneyland Reviews/DisneylandReviews.csv\", encoding=\"ISO-8859-1\")"
      ],
      "execution_count": null,
      "outputs": []
    },
    {
      "cell_type": "code",
      "metadata": {
        "colab": {
          "base_uri": "https://localhost:8080/"
        },
        "id": "pSqBJ44D-z8X",
        "outputId": "59296158-c4b5-409b-9140-e000522fcea6"
      },
      "source": [
        "data.info()"
      ],
      "execution_count": null,
      "outputs": [
        {
          "output_type": "stream",
          "text": [
            "<class 'pandas.core.frame.DataFrame'>\n",
            "RangeIndex: 42656 entries, 0 to 42655\n",
            "Data columns (total 6 columns):\n",
            " #   Column             Non-Null Count  Dtype \n",
            "---  ------             --------------  ----- \n",
            " 0   Review_ID          42656 non-null  int64 \n",
            " 1   Rating             42656 non-null  int64 \n",
            " 2   Year_Month         42656 non-null  object\n",
            " 3   Reviewer_Location  42656 non-null  object\n",
            " 4   Review_Text        42656 non-null  object\n",
            " 5   Branch             42656 non-null  object\n",
            "dtypes: int64(2), object(4)\n",
            "memory usage: 2.0+ MB\n"
          ],
          "name": "stdout"
        }
      ]
    },
    {
      "cell_type": "code",
      "metadata": {
        "colab": {
          "base_uri": "https://localhost:8080/",
          "height": 297
        },
        "id": "HPUh7sKF-3E9",
        "outputId": "f1519882-c929-4fb0-9743-59b9b6d52d0e"
      },
      "source": [
        "data.describe()"
      ],
      "execution_count": null,
      "outputs": [
        {
          "output_type": "execute_result",
          "data": {
            "text/html": [
              "<div>\n",
              "<style scoped>\n",
              "    .dataframe tbody tr th:only-of-type {\n",
              "        vertical-align: middle;\n",
              "    }\n",
              "\n",
              "    .dataframe tbody tr th {\n",
              "        vertical-align: top;\n",
              "    }\n",
              "\n",
              "    .dataframe thead th {\n",
              "        text-align: right;\n",
              "    }\n",
              "</style>\n",
              "<table border=\"1\" class=\"dataframe\">\n",
              "  <thead>\n",
              "    <tr style=\"text-align: right;\">\n",
              "      <th></th>\n",
              "      <th>Review_ID</th>\n",
              "      <th>Rating</th>\n",
              "    </tr>\n",
              "  </thead>\n",
              "  <tbody>\n",
              "    <tr>\n",
              "      <th>count</th>\n",
              "      <td>4.265600e+04</td>\n",
              "      <td>42656.000000</td>\n",
              "    </tr>\n",
              "    <tr>\n",
              "      <th>mean</th>\n",
              "      <td>3.188553e+08</td>\n",
              "      <td>4.217695</td>\n",
              "    </tr>\n",
              "    <tr>\n",
              "      <th>std</th>\n",
              "      <td>1.657092e+08</td>\n",
              "      <td>1.063371</td>\n",
              "    </tr>\n",
              "    <tr>\n",
              "      <th>min</th>\n",
              "      <td>1.398724e+06</td>\n",
              "      <td>1.000000</td>\n",
              "    </tr>\n",
              "    <tr>\n",
              "      <th>25%</th>\n",
              "      <td>1.743274e+08</td>\n",
              "      <td>4.000000</td>\n",
              "    </tr>\n",
              "    <tr>\n",
              "      <th>50%</th>\n",
              "      <td>2.907583e+08</td>\n",
              "      <td>5.000000</td>\n",
              "    </tr>\n",
              "    <tr>\n",
              "      <th>75%</th>\n",
              "      <td>4.489579e+08</td>\n",
              "      <td>5.000000</td>\n",
              "    </tr>\n",
              "    <tr>\n",
              "      <th>max</th>\n",
              "      <td>6.708014e+08</td>\n",
              "      <td>5.000000</td>\n",
              "    </tr>\n",
              "  </tbody>\n",
              "</table>\n",
              "</div>"
            ],
            "text/plain": [
              "          Review_ID        Rating\n",
              "count  4.265600e+04  42656.000000\n",
              "mean   3.188553e+08      4.217695\n",
              "std    1.657092e+08      1.063371\n",
              "min    1.398724e+06      1.000000\n",
              "25%    1.743274e+08      4.000000\n",
              "50%    2.907583e+08      5.000000\n",
              "75%    4.489579e+08      5.000000\n",
              "max    6.708014e+08      5.000000"
            ]
          },
          "metadata": {
            "tags": []
          },
          "execution_count": 9
        }
      ]
    },
    {
      "cell_type": "code",
      "metadata": {
        "colab": {
          "base_uri": "https://localhost:8080/",
          "height": 204
        },
        "id": "4vQwIVVS-KAv",
        "outputId": "14dbdd79-d376-4e84-aca6-25150065a41e"
      },
      "source": [
        "data.head()"
      ],
      "execution_count": null,
      "outputs": [
        {
          "output_type": "execute_result",
          "data": {
            "text/html": [
              "<div>\n",
              "<style scoped>\n",
              "    .dataframe tbody tr th:only-of-type {\n",
              "        vertical-align: middle;\n",
              "    }\n",
              "\n",
              "    .dataframe tbody tr th {\n",
              "        vertical-align: top;\n",
              "    }\n",
              "\n",
              "    .dataframe thead th {\n",
              "        text-align: right;\n",
              "    }\n",
              "</style>\n",
              "<table border=\"1\" class=\"dataframe\">\n",
              "  <thead>\n",
              "    <tr style=\"text-align: right;\">\n",
              "      <th></th>\n",
              "      <th>Review_ID</th>\n",
              "      <th>Rating</th>\n",
              "      <th>Year_Month</th>\n",
              "      <th>Reviewer_Location</th>\n",
              "      <th>Review_Text</th>\n",
              "      <th>Branch</th>\n",
              "    </tr>\n",
              "  </thead>\n",
              "  <tbody>\n",
              "    <tr>\n",
              "      <th>0</th>\n",
              "      <td>670772142</td>\n",
              "      <td>4</td>\n",
              "      <td>2019-4</td>\n",
              "      <td>Australia</td>\n",
              "      <td>If you've ever been to Disneyland anywhere you...</td>\n",
              "      <td>Disneyland_HongKong</td>\n",
              "    </tr>\n",
              "    <tr>\n",
              "      <th>1</th>\n",
              "      <td>670682799</td>\n",
              "      <td>4</td>\n",
              "      <td>2019-5</td>\n",
              "      <td>Philippines</td>\n",
              "      <td>Its been a while since d last time we visit HK...</td>\n",
              "      <td>Disneyland_HongKong</td>\n",
              "    </tr>\n",
              "    <tr>\n",
              "      <th>2</th>\n",
              "      <td>670623270</td>\n",
              "      <td>4</td>\n",
              "      <td>2019-4</td>\n",
              "      <td>United Arab Emirates</td>\n",
              "      <td>Thanks God it wasn   t too hot or too humid wh...</td>\n",
              "      <td>Disneyland_HongKong</td>\n",
              "    </tr>\n",
              "    <tr>\n",
              "      <th>3</th>\n",
              "      <td>670607911</td>\n",
              "      <td>4</td>\n",
              "      <td>2019-4</td>\n",
              "      <td>Australia</td>\n",
              "      <td>HK Disneyland is a great compact park. Unfortu...</td>\n",
              "      <td>Disneyland_HongKong</td>\n",
              "    </tr>\n",
              "    <tr>\n",
              "      <th>4</th>\n",
              "      <td>670607296</td>\n",
              "      <td>4</td>\n",
              "      <td>2019-4</td>\n",
              "      <td>United Kingdom</td>\n",
              "      <td>the location is not in the city, took around 1...</td>\n",
              "      <td>Disneyland_HongKong</td>\n",
              "    </tr>\n",
              "  </tbody>\n",
              "</table>\n",
              "</div>"
            ],
            "text/plain": [
              "   Review_ID  ...               Branch\n",
              "0  670772142  ...  Disneyland_HongKong\n",
              "1  670682799  ...  Disneyland_HongKong\n",
              "2  670623270  ...  Disneyland_HongKong\n",
              "3  670607911  ...  Disneyland_HongKong\n",
              "4  670607296  ...  Disneyland_HongKong\n",
              "\n",
              "[5 rows x 6 columns]"
            ]
          },
          "metadata": {
            "tags": []
          },
          "execution_count": 10
        }
      ]
    },
    {
      "cell_type": "code",
      "metadata": {
        "colab": {
          "base_uri": "https://localhost:8080/"
        },
        "id": "Foc7uX5z-yZ6",
        "outputId": "883ef573-e469-48b8-8652-2d88942543c3"
      },
      "source": [
        "print(\"Unique Reviewer Locations: \", len(list(set(data['Reviewer_Location']))))"
      ],
      "execution_count": null,
      "outputs": [
        {
          "output_type": "stream",
          "text": [
            "Unique Reviewer Locations:  162\n"
          ],
          "name": "stdout"
        }
      ]
    },
    {
      "cell_type": "markdown",
      "metadata": {
        "id": "a6mznUTOEwye"
      },
      "source": [
        "#EDA"
      ]
    },
    {
      "cell_type": "code",
      "metadata": {
        "colab": {
          "base_uri": "https://localhost:8080/"
        },
        "id": "0J0lDw6ZHUM0",
        "outputId": "ce7de369-0e46-4fef-cb93-ae4010a4de03"
      },
      "source": [
        "print(\"Unique Reviewer Locations: \", len(list(set(data['Year_Month']))))"
      ],
      "execution_count": null,
      "outputs": [
        {
          "output_type": "stream",
          "text": [
            "Unique Reviewer Locations:  112\n"
          ],
          "name": "stdout"
        }
      ]
    },
    {
      "cell_type": "code",
      "metadata": {
        "id": "y86_12JGG60d"
      },
      "source": [
        "data['Review_Year'] = data['Year_Month'].apply(lambda x:x.split('-')[0] if x!=\"missing\" else x)\n",
        "data['Review_Month'] = data['Year_Month'].apply(lambda x:x.split('-')[1] if x!=\"missing\" else x)"
      ],
      "execution_count": null,
      "outputs": []
    },
    {
      "cell_type": "markdown",
      "metadata": {
        "id": "t0huLLyBEyZM"
      },
      "source": [
        "## Rating"
      ]
    },
    {
      "cell_type": "code",
      "metadata": {
        "colab": {
          "base_uri": "https://localhost:8080/",
          "height": 279
        },
        "id": "zkPV5VhQEsJ4",
        "outputId": "35f6ed48-4ec3-40e3-c7bd-1a2c9bd9b6b7"
      },
      "source": [
        "#fig, axs = plt.subplots(nrows=2, ncols=3, figsize=(10, 10))\n",
        "sns.countplot(x='Rating', data=data);\n",
        "plt.show()"
      ],
      "execution_count": null,
      "outputs": [
        {
          "output_type": "display_data",
          "data": {
            "image/png": "[encoded data removed]",
            "text/plain": [
              "<Figure size 432x288 with 1 Axes>"
            ]
          },
          "metadata": {
            "tags": [],
            "needs_background": "light"
          }
        }
      ]
    },
    {
      "cell_type": "code",
      "metadata": {
        "colab": {
          "base_uri": "https://localhost:8080/",
          "height": 549
        },
        "id": "4yJtyTyHI_06",
        "outputId": "d1947dcb-fb04-45bd-e15c-e2d5445175a7"
      },
      "source": [
        "plt.figure(figsize=(19, 6))\n",
        "sns.countplot(x='Reviewer_Location', data=data);\n",
        "plt.xticks(rotation=90)\n",
        "plt.show()"
      ],
      "execution_count": null,
      "outputs": [
        {
          "output_type": "display_data",
          "data": {
            "image/png": "[encoded data removed]",
            "text/plain": [
              "<Figure size 1368x432 with 1 Axes>"
            ]
          },
          "metadata": {
            "tags": [],
            "needs_background": "light"
          }
        }
      ]
    },
    {
      "cell_type": "code",
      "metadata": {
        "colab": {
          "base_uri": "https://localhost:8080/",
          "height": 389
        },
        "id": "kk0_cQlWFFqa",
        "outputId": "d416d811-3ae5-478f-86be-0f55badaaf9e"
      },
      "source": [
        "plt.figure(figsize=(8, 6))\n",
        "sns.countplot(x='Branch', data=data);\n",
        "#plt.xticks(rotation=90)\n",
        "plt.show()"
      ],
      "execution_count": null,
      "outputs": [
        {
          "output_type": "display_data",
          "data": {
            "image/png": "[encoded data removed]",
            "text/plain": [
              "<Figure size 576x432 with 1 Axes>"
            ]
          },
          "metadata": {
            "tags": [],
            "needs_background": "light"
          }
        }
      ]
    },
    {
      "cell_type": "code",
      "metadata": {
        "colab": {
          "base_uri": "https://localhost:8080/",
          "height": 421
        },
        "id": "peyCA1R5L6N8",
        "outputId": "560c6160-7a64-47b4-8906-3e4a5ebfc3b2"
      },
      "source": [
        "plt.figure(figsize=(19, 6))\n",
        "sns.countplot(x='Year_Month', data=data);\n",
        "plt.xticks(rotation=90)\n",
        "plt.show()"
      ],
      "execution_count": null,
      "outputs": [
        {
          "output_type": "display_data",
          "data": {
            "image/png": "[encoded data removed]",
            "text/plain": [
              "<Figure size 1368x432 with 1 Axes>"
            ]
          },
          "metadata": {
            "tags": [],
            "needs_background": "light"
          }
        }
      ]
    },
    {
      "cell_type": "code",
      "metadata": {
        "colab": {
          "base_uri": "https://localhost:8080/"
        },
        "id": "78OHIUqpMJp3",
        "outputId": "b8b08401-8994-4b66-f6a7-517ecaa66a91"
      },
      "source": [
        "data_wrt_rating = data[[\"Rating\", \"Branch\"]].groupby('Branch').aggregate('mean')\n",
        "data_wrt_rating['Rating'].head()"
      ],
      "execution_count": null,
      "outputs": [
        {
          "output_type": "execute_result",
          "data": {
            "text/plain": [
              "Branch\n",
              "Disneyland_California    4.405339\n",
              "Disneyland_HongKong      4.204158\n",
              "Disneyland_Paris         3.960088\n",
              "Name: Rating, dtype: float64"
            ]
          },
          "metadata": {
            "tags": []
          },
          "execution_count": 36
        }
      ]
    },
    {
      "cell_type": "code",
      "metadata": {
        "colab": {
          "base_uri": "https://localhost:8080/",
          "height": 419
        },
        "id": "PCFFjoaiNtyv",
        "outputId": "91c7b32a-54e3-4f19-fcf4-ea2567ccf0be"
      },
      "source": [
        "data_wrt_yearmonth = data[[\"Rating\", \"Year_Month\"]].groupby('Year_Month').aggregate('mean').reset_index().sort_values(by=\"Rating\", ascending=False)\n",
        "data_wrt_yearmonth"
      ],
      "execution_count": null,
      "outputs": [
        {
          "output_type": "execute_result",
          "data": {
            "text/html": [
              "<div>\n",
              "<style scoped>\n",
              "    .dataframe tbody tr th:only-of-type {\n",
              "        vertical-align: middle;\n",
              "    }\n",
              "\n",
              "    .dataframe tbody tr th {\n",
              "        vertical-align: top;\n",
              "    }\n",
              "\n",
              "    .dataframe thead th {\n",
              "        text-align: right;\n",
              "    }\n",
              "</style>\n",
              "<table border=\"1\" class=\"dataframe\">\n",
              "  <thead>\n",
              "    <tr style=\"text-align: right;\">\n",
              "      <th></th>\n",
              "      <th>Year_Month</th>\n",
              "      <th>Rating</th>\n",
              "    </tr>\n",
              "  </thead>\n",
              "  <tbody>\n",
              "    <tr>\n",
              "      <th>4</th>\n",
              "      <td>2010-4</td>\n",
              "      <td>5.000000</td>\n",
              "    </tr>\n",
              "    <tr>\n",
              "      <th>0</th>\n",
              "      <td>2010-10</td>\n",
              "      <td>4.666667</td>\n",
              "    </tr>\n",
              "    <tr>\n",
              "      <th>3</th>\n",
              "      <td>2010-3</td>\n",
              "      <td>4.500000</td>\n",
              "    </tr>\n",
              "    <tr>\n",
              "      <th>57</th>\n",
              "      <td>2014-9</td>\n",
              "      <td>4.489152</td>\n",
              "    </tr>\n",
              "    <tr>\n",
              "      <th>60</th>\n",
              "      <td>2015-11</td>\n",
              "      <td>4.424547</td>\n",
              "    </tr>\n",
              "    <tr>\n",
              "      <th>...</th>\n",
              "      <td>...</td>\n",
              "      <td>...</td>\n",
              "    </tr>\n",
              "    <tr>\n",
              "      <th>16</th>\n",
              "      <td>2011-4</td>\n",
              "      <td>3.939759</td>\n",
              "    </tr>\n",
              "    <tr>\n",
              "      <th>32</th>\n",
              "      <td>2012-8</td>\n",
              "      <td>3.930288</td>\n",
              "    </tr>\n",
              "    <tr>\n",
              "      <th>2</th>\n",
              "      <td>2010-12</td>\n",
              "      <td>3.892857</td>\n",
              "    </tr>\n",
              "    <tr>\n",
              "      <th>14</th>\n",
              "      <td>2011-2</td>\n",
              "      <td>3.866667</td>\n",
              "    </tr>\n",
              "    <tr>\n",
              "      <th>5</th>\n",
              "      <td>2010-5</td>\n",
              "      <td>3.250000</td>\n",
              "    </tr>\n",
              "  </tbody>\n",
              "</table>\n",
              "<p>112 rows × 2 columns</p>\n",
              "</div>"
            ],
            "text/plain": [
              "   Year_Month    Rating\n",
              "4      2010-4  5.000000\n",
              "0     2010-10  4.666667\n",
              "3      2010-3  4.500000\n",
              "57     2014-9  4.489152\n",
              "60    2015-11  4.424547\n",
              "..        ...       ...\n",
              "16     2011-4  3.939759\n",
              "32     2012-8  3.930288\n",
              "2     2010-12  3.892857\n",
              "14     2011-2  3.866667\n",
              "5      2010-5  3.250000\n",
              "\n",
              "[112 rows x 2 columns]"
            ]
          },
          "metadata": {
            "tags": []
          },
          "execution_count": 42
        }
      ]
    },
    {
      "cell_type": "code",
      "metadata": {
        "colab": {
          "base_uri": "https://localhost:8080/",
          "height": 452
        },
        "id": "w1xAMZ_kb8aT",
        "outputId": "1cb6470b-95ff-44a8-9b0c-3b3e7fbfaf5e"
      },
      "source": [
        "data_wrt_month = data[[\"Rating\", \"Review_Month\"]].groupby('Review_Month').aggregate('mean').reset_index().sort_values(by=\"Rating\", ascending=True)\n",
        "data_wrt_month"
      ],
      "execution_count": null,
      "outputs": [
        {
          "output_type": "execute_result",
          "data": {
            "text/html": [
              "<div>\n",
              "<style scoped>\n",
              "    .dataframe tbody tr th:only-of-type {\n",
              "        vertical-align: middle;\n",
              "    }\n",
              "\n",
              "    .dataframe tbody tr th {\n",
              "        vertical-align: top;\n",
              "    }\n",
              "\n",
              "    .dataframe thead th {\n",
              "        text-align: right;\n",
              "    }\n",
              "</style>\n",
              "<table border=\"1\" class=\"dataframe\">\n",
              "  <thead>\n",
              "    <tr style=\"text-align: right;\">\n",
              "      <th></th>\n",
              "      <th>Review_Month</th>\n",
              "      <th>Rating</th>\n",
              "    </tr>\n",
              "  </thead>\n",
              "  <tbody>\n",
              "    <tr>\n",
              "      <th>12</th>\n",
              "      <td>missing</td>\n",
              "      <td>4.012246</td>\n",
              "    </tr>\n",
              "    <tr>\n",
              "      <th>10</th>\n",
              "      <td>8</td>\n",
              "      <td>4.115423</td>\n",
              "    </tr>\n",
              "    <tr>\n",
              "      <th>8</th>\n",
              "      <td>6</td>\n",
              "      <td>4.194150</td>\n",
              "    </tr>\n",
              "    <tr>\n",
              "      <th>6</th>\n",
              "      <td>4</td>\n",
              "      <td>4.201553</td>\n",
              "    </tr>\n",
              "    <tr>\n",
              "      <th>4</th>\n",
              "      <td>2</td>\n",
              "      <td>4.204961</td>\n",
              "    </tr>\n",
              "    <tr>\n",
              "      <th>9</th>\n",
              "      <td>7</td>\n",
              "      <td>4.213402</td>\n",
              "    </tr>\n",
              "    <tr>\n",
              "      <th>5</th>\n",
              "      <td>3</td>\n",
              "      <td>4.215380</td>\n",
              "    </tr>\n",
              "    <tr>\n",
              "      <th>7</th>\n",
              "      <td>5</td>\n",
              "      <td>4.232335</td>\n",
              "    </tr>\n",
              "    <tr>\n",
              "      <th>3</th>\n",
              "      <td>12</td>\n",
              "      <td>4.235157</td>\n",
              "    </tr>\n",
              "    <tr>\n",
              "      <th>1</th>\n",
              "      <td>10</td>\n",
              "      <td>4.239373</td>\n",
              "    </tr>\n",
              "    <tr>\n",
              "      <th>0</th>\n",
              "      <td>1</td>\n",
              "      <td>4.292528</td>\n",
              "    </tr>\n",
              "    <tr>\n",
              "      <th>2</th>\n",
              "      <td>11</td>\n",
              "      <td>4.324395</td>\n",
              "    </tr>\n",
              "    <tr>\n",
              "      <th>11</th>\n",
              "      <td>9</td>\n",
              "      <td>4.362229</td>\n",
              "    </tr>\n",
              "  </tbody>\n",
              "</table>\n",
              "</div>"
            ],
            "text/plain": [
              "   Review_Month    Rating\n",
              "12      missing  4.012246\n",
              "10            8  4.115423\n",
              "8             6  4.194150\n",
              "6             4  4.201553\n",
              "4             2  4.204961\n",
              "9             7  4.213402\n",
              "5             3  4.215380\n",
              "7             5  4.232335\n",
              "3            12  4.235157\n",
              "1            10  4.239373\n",
              "0             1  4.292528\n",
              "2            11  4.324395\n",
              "11            9  4.362229"
            ]
          },
          "metadata": {
            "tags": []
          },
          "execution_count": 46
        }
      ]
    },
    {
      "cell_type": "code",
      "metadata": {
        "colab": {
          "base_uri": "https://localhost:8080/",
          "height": 390
        },
        "id": "6yiU5VAQdikP",
        "outputId": "3228406c-28c4-4fd2-b3b8-849c5809fb62"
      },
      "source": [
        "data_wrt_year = data[[\"Rating\", \"Review_Year\"]].groupby('Review_Year').aggregate('mean').reset_index().sort_values(by=\"Rating\", ascending=True)\n",
        "data_wrt_year"
      ],
      "execution_count": null,
      "outputs": [
        {
          "output_type": "execute_result",
          "data": {
            "text/html": [
              "<div>\n",
              "<style scoped>\n",
              "    .dataframe tbody tr th:only-of-type {\n",
              "        vertical-align: middle;\n",
              "    }\n",
              "\n",
              "    .dataframe tbody tr th {\n",
              "        vertical-align: top;\n",
              "    }\n",
              "\n",
              "    .dataframe thead th {\n",
              "        text-align: right;\n",
              "    }\n",
              "</style>\n",
              "<table border=\"1\" class=\"dataframe\">\n",
              "  <thead>\n",
              "    <tr style=\"text-align: right;\">\n",
              "      <th></th>\n",
              "      <th>Review_Year</th>\n",
              "      <th>Rating</th>\n",
              "    </tr>\n",
              "  </thead>\n",
              "  <tbody>\n",
              "    <tr>\n",
              "      <th>10</th>\n",
              "      <td>missing</td>\n",
              "      <td>4.012246</td>\n",
              "    </tr>\n",
              "    <tr>\n",
              "      <th>9</th>\n",
              "      <td>2019</td>\n",
              "      <td>4.111959</td>\n",
              "    </tr>\n",
              "    <tr>\n",
              "      <th>8</th>\n",
              "      <td>2018</td>\n",
              "      <td>4.136853</td>\n",
              "    </tr>\n",
              "    <tr>\n",
              "      <th>0</th>\n",
              "      <td>2010</td>\n",
              "      <td>4.167832</td>\n",
              "    </tr>\n",
              "    <tr>\n",
              "      <th>1</th>\n",
              "      <td>2011</td>\n",
              "      <td>4.214718</td>\n",
              "    </tr>\n",
              "    <tr>\n",
              "      <th>3</th>\n",
              "      <td>2013</td>\n",
              "      <td>4.223871</td>\n",
              "    </tr>\n",
              "    <tr>\n",
              "      <th>6</th>\n",
              "      <td>2016</td>\n",
              "      <td>4.234581</td>\n",
              "    </tr>\n",
              "    <tr>\n",
              "      <th>7</th>\n",
              "      <td>2017</td>\n",
              "      <td>4.235804</td>\n",
              "    </tr>\n",
              "    <tr>\n",
              "      <th>4</th>\n",
              "      <td>2014</td>\n",
              "      <td>4.241087</td>\n",
              "    </tr>\n",
              "    <tr>\n",
              "      <th>5</th>\n",
              "      <td>2015</td>\n",
              "      <td>4.259206</td>\n",
              "    </tr>\n",
              "    <tr>\n",
              "      <th>2</th>\n",
              "      <td>2012</td>\n",
              "      <td>4.288577</td>\n",
              "    </tr>\n",
              "  </tbody>\n",
              "</table>\n",
              "</div>"
            ],
            "text/plain": [
              "   Review_Year    Rating\n",
              "10     missing  4.012246\n",
              "9         2019  4.111959\n",
              "8         2018  4.136853\n",
              "0         2010  4.167832\n",
              "1         2011  4.214718\n",
              "3         2013  4.223871\n",
              "6         2016  4.234581\n",
              "7         2017  4.235804\n",
              "4         2014  4.241087\n",
              "5         2015  4.259206\n",
              "2         2012  4.288577"
            ]
          },
          "metadata": {
            "tags": []
          },
          "execution_count": 48
        }
      ]
    },
    {
      "cell_type": "code",
      "metadata": {
        "colab": {
          "base_uri": "https://localhost:8080/",
          "height": 419
        },
        "id": "AM00rw6Ac6pp",
        "outputId": "fedd3399-6d36-4040-f4a7-1a71e6110eda"
      },
      "source": [
        "data_wrt_loc = data[[\"Rating\", \"Reviewer_Location\"]].groupby('Reviewer_Location').aggregate('mean').reset_index().sort_values(by=\"Rating\", ascending=True)\n",
        "data_wrt_loc"
      ],
      "execution_count": null,
      "outputs": [
        {
          "output_type": "execute_result",
          "data": {
            "text/html": [
              "<div>\n",
              "<style scoped>\n",
              "    .dataframe tbody tr th:only-of-type {\n",
              "        vertical-align: middle;\n",
              "    }\n",
              "\n",
              "    .dataframe tbody tr th {\n",
              "        vertical-align: top;\n",
              "    }\n",
              "\n",
              "    .dataframe thead th {\n",
              "        text-align: right;\n",
              "    }\n",
              "</style>\n",
              "<table border=\"1\" class=\"dataframe\">\n",
              "  <thead>\n",
              "    <tr style=\"text-align: right;\">\n",
              "      <th></th>\n",
              "      <th>Reviewer_Location</th>\n",
              "      <th>Rating</th>\n",
              "    </tr>\n",
              "  </thead>\n",
              "  <tbody>\n",
              "    <tr>\n",
              "      <th>147</th>\n",
              "      <td>Turks and Caicos Islands</td>\n",
              "      <td>1.500000</td>\n",
              "    </tr>\n",
              "    <tr>\n",
              "      <th>136</th>\n",
              "      <td>Suriname</td>\n",
              "      <td>2.000000</td>\n",
              "    </tr>\n",
              "    <tr>\n",
              "      <th>132</th>\n",
              "      <td>South Sudan</td>\n",
              "      <td>2.000000</td>\n",
              "    </tr>\n",
              "    <tr>\n",
              "      <th>39</th>\n",
              "      <td>Ecuador</td>\n",
              "      <td>2.333333</td>\n",
              "    </tr>\n",
              "    <tr>\n",
              "      <th>58</th>\n",
              "      <td>Haiti</td>\n",
              "      <td>3.000000</td>\n",
              "    </tr>\n",
              "    <tr>\n",
              "      <th>...</th>\n",
              "      <td>...</td>\n",
              "      <td>...</td>\n",
              "    </tr>\n",
              "    <tr>\n",
              "      <th>54</th>\n",
              "      <td>Grenada</td>\n",
              "      <td>5.000000</td>\n",
              "    </tr>\n",
              "    <tr>\n",
              "      <th>123</th>\n",
              "      <td>Senegal</td>\n",
              "      <td>5.000000</td>\n",
              "    </tr>\n",
              "    <tr>\n",
              "      <th>81</th>\n",
              "      <td>Libya</td>\n",
              "      <td>5.000000</td>\n",
              "    </tr>\n",
              "    <tr>\n",
              "      <th>31</th>\n",
              "      <td>Cuba</td>\n",
              "      <td>5.000000</td>\n",
              "    </tr>\n",
              "    <tr>\n",
              "      <th>161</th>\n",
              "      <td>Åland Islands</td>\n",
              "      <td>5.000000</td>\n",
              "    </tr>\n",
              "  </tbody>\n",
              "</table>\n",
              "<p>162 rows × 2 columns</p>\n",
              "</div>"
            ],
            "text/plain": [
              "            Reviewer_Location    Rating\n",
              "147  Turks and Caicos Islands  1.500000\n",
              "136                  Suriname  2.000000\n",
              "132               South Sudan  2.000000\n",
              "39                    Ecuador  2.333333\n",
              "58                      Haiti  3.000000\n",
              "..                        ...       ...\n",
              "54                    Grenada  5.000000\n",
              "123                   Senegal  5.000000\n",
              "81                      Libya  5.000000\n",
              "31                       Cuba  5.000000\n",
              "161             Åland Islands  5.000000\n",
              "\n",
              "[162 rows x 2 columns]"
            ]
          },
          "metadata": {
            "tags": []
          },
          "execution_count": 47
        }
      ]
    },
    {
      "cell_type": "code",
      "metadata": {
        "id": "KneKQECodYRl"
      },
      "source": [
        ""
      ],
      "execution_count": null,
      "outputs": []
    },
    {
      "cell_type": "markdown",
      "metadata": {
        "id": "D5n1-RHBiFv1"
      },
      "source": [
        "#Preprocessing"
      ]
    },
    {
      "cell_type": "code",
      "metadata": {
        "id": "jHrFExH-oYdz"
      },
      "source": [
        "def clean_text(x):\n",
        "  \n",
        "  #x = re.sub(r\"\\W\", \" \", x)\n",
        "  x = re.sub(r\"[0-9]\", \" \", x)\n",
        "  x = re.sub(r\"\\s{2,}\", \" \", x)\n",
        "  return x\n",
        "\n",
        "def clean_text2(x):\n",
        "  \n",
        "  x = re.sub(r\"\\W\", \" \", x)\n",
        "  #x = re.sub(r\"[0-9]\", \" \", x)\n",
        "  x = re.sub(r\"\\s{2,}\", \" \", x)\n",
        "  x = re.sub(r\"pron\", \"\", x)\n",
        "  return x\n"
      ],
      "execution_count": null,
      "outputs": []
    },
    {
      "cell_type": "code",
      "metadata": {
        "colab": {
          "base_uri": "https://localhost:8080/"
        },
        "id": "_Cxmo5XaklTJ",
        "outputId": "3e6c4e1a-e2b8-4b44-b83f-fa72fa0ec5a3"
      },
      "source": [
        "print(clean_text(\"If you've ever     been to        Disneyland anywhere you...\"))"
      ],
      "execution_count": null,
      "outputs": [
        {
          "output_type": "stream",
          "text": [
            "If you've ever been to Disneyland anywhere you...\n"
          ],
          "name": "stdout"
        }
      ]
    },
    {
      "cell_type": "code",
      "metadata": {
        "id": "HfZ0aCFOiJnN"
      },
      "source": [
        "all_stop_words = stopwords.words('english')\n",
        "#all_stop_words.append(\"I\")"
      ],
      "execution_count": null,
      "outputs": []
    },
    {
      "cell_type": "code",
      "metadata": {
        "colab": {
          "base_uri": "https://localhost:8080/"
        },
        "id": "pIb86UkU-q2V",
        "outputId": "1ea93b04-0139-4142-87ae-37919c54aee0"
      },
      "source": [
        "print(all_stop_words)"
      ],
      "execution_count": null,
      "outputs": [
        {
          "output_type": "stream",
          "text": [
            "['i', 'me', 'my', 'myself', 'we', 'our', 'ours', 'ourselves', 'you', \"you're\", \"you've\", \"you'll\", \"you'd\", 'your', 'yours', 'yourself', 'yourselves', 'he', 'him', 'his', 'himself', 'she', \"she's\", 'her', 'hers', 'herself', 'it', \"it's\", 'its', 'itself', 'they', 'them', 'their', 'theirs', 'themselves', 'what', 'which', 'who', 'whom', 'this', 'that', \"that'll\", 'these', 'those', 'am', 'is', 'are', 'was', 'were', 'be', 'been', 'being', 'have', 'has', 'had', 'having', 'do', 'does', 'did', 'doing', 'a', 'an', 'the', 'and', 'but', 'if', 'or', 'because', 'as', 'until', 'while', 'of', 'at', 'by', 'for', 'with', 'about', 'against', 'between', 'into', 'through', 'during', 'before', 'after', 'above', 'below', 'to', 'from', 'up', 'down', 'in', 'out', 'on', 'off', 'over', 'under', 'again', 'further', 'then', 'once', 'here', 'there', 'when', 'where', 'why', 'how', 'all', 'any', 'both', 'each', 'few', 'more', 'most', 'other', 'some', 'such', 'no', 'nor', 'not', 'only', 'own', 'same', 'so', 'than', 'too', 'very', 's', 't', 'can', 'will', 'just', 'don', \"don't\", 'should', \"should've\", 'now', 'd', 'll', 'm', 'o', 're', 've', 'y', 'ain', 'aren', \"aren't\", 'couldn', \"couldn't\", 'didn', \"didn't\", 'doesn', \"doesn't\", 'hadn', \"hadn't\", 'hasn', \"hasn't\", 'haven', \"haven't\", 'isn', \"isn't\", 'ma', 'mightn', \"mightn't\", 'mustn', \"mustn't\", 'needn', \"needn't\", 'shan', \"shan't\", 'shouldn', \"shouldn't\", 'wasn', \"wasn't\", 'weren', \"weren't\", 'won', \"won't\", 'wouldn', \"wouldn't\"]\n"
          ],
          "name": "stdout"
        }
      ]
    },
    {
      "cell_type": "code",
      "metadata": {
        "id": "AbgNSf1ZiK4W"
      },
      "source": [
        "wnl = WordNetLemmatizer()\n",
        "stm = PorterStemmer()\n",
        "sn_stm = SnowballStemmer('english')"
      ],
      "execution_count": null,
      "outputs": []
    },
    {
      "cell_type": "code",
      "metadata": {
        "id": "wcOMD8Paigk3"
      },
      "source": [
        "data_cp = data.copy(deep=True)"
      ],
      "execution_count": null,
      "outputs": []
    },
    {
      "cell_type": "code",
      "metadata": {
        "id": "X-YFL-sPDOfL"
      },
      "source": [
        "docs = list(nlp.pipe(data_cp['Review_Text'].tolist()))"
      ],
      "execution_count": null,
      "outputs": []
    },
    {
      "cell_type": "code",
      "metadata": {
        "id": "HgyFa6yiDfdj"
      },
      "source": [
        "for token in docs[4]:\n",
        "  if token.lemma_!=\"-PRON-\" or token.lemma_!=\"  \":\n",
        "    print(token.lemma_)"
      ],
      "execution_count": null,
      "outputs": []
    },
    {
      "cell_type": "code",
      "metadata": {
        "id": "NYA3c9YsFqs0"
      },
      "source": [
        "data_cp['Review_Text'] = [\" \".join(i.lemma_ for i in j) for j in docs]"
      ],
      "execution_count": null,
      "outputs": []
    },
    {
      "cell_type": "code",
      "metadata": {
        "colab": {
          "base_uri": "https://localhost:8080/"
        },
        "id": "511yCyluFvga",
        "outputId": "9c879fdd-34dd-4b84-e6b3-4fff50dccdc1"
      },
      "source": [
        "data_cp['Review_Text'].head(5)"
      ],
      "execution_count": null,
      "outputs": [
        {
          "output_type": "execute_result",
          "data": {
            "text/plain": [
              "0    If -PRON- have ever be to Disneyland anywhere ...\n",
              "1    Its be a while since have last time we visit H...\n",
              "2    Thanks God it wasn    t too hot or too humid w...\n",
              "3    HK Disneyland be a great compact park . Unfort...\n",
              "4    the location be not in the city , take around ...\n",
              "Name: Review_Text, dtype: object"
            ]
          },
          "metadata": {
            "tags": []
          },
          "execution_count": 36
        }
      ]
    },
    {
      "cell_type": "code",
      "metadata": {
        "id": "oyOLOhQbiNq9"
      },
      "source": [
        "#data_cp['Review_Text'] = [\" \".join(i.lemma_ for i in j) for j in docs]#data_cp['Review_Text'].apply(lambda x:\" \".join([i.lemma_ for i in nlp(x)]))\n",
        "#data_cp['Review_Text'] = data_cp['Review_Text'].apply(lambda x:\" \".join([stm.stem(i) for i in x.split()]))\n",
        "data_cp['Review_Text'] = data_cp['Review_Text'].apply(lambda x: clean_text(x))\n",
        "data_cp['Review_Text'] = data_cp['Review_Text'].apply(lambda x:\" \".join([i for i in x.lower().split() if i not in all_stop_words]))\n",
        "data_cp['Review_Text'] = data_cp['Review_Text'].apply(lambda x: clean_text2(x))"
      ],
      "execution_count": null,
      "outputs": []
    },
    {
      "cell_type": "code",
      "metadata": {
        "colab": {
          "base_uri": "https://localhost:8080/"
        },
        "id": "yLVE87VHioK2",
        "outputId": "422e9852-7b6c-4945-d9c9-e4830407cf11"
      },
      "source": [
        "data_cp['Review_Text'].tolist()"
      ],
      "execution_count": null,
      "outputs": [
        {
          "output_type": "execute_result",
          "data": {
            "text/plain": [
              "['  ever disneyland anywhere  find disneyland hong kong similar layout walk main street familiar feel one ride small world absolutely fabulous worth day visit fairly hot relatively busy queue move fairly good ',\n",
              " 'since last time visit hk disneyland yet time stay tomorrowland aka marvel land now iron man experience n newly open ant man n wasp ironman great feature n exciting especially whole scenery hk hk central area kowloon antman changed previous buzz lightyear little  expect something most however boy like it space mountain turns star wars great for cast member staff felt bite minus point dun feel like disney brand seems much local like ocean park even worst they get smiling face wanna u enter n attraction n leave hello suppose happiest place earth brand really feel it bakery main street much attractive delicacy n disney theme sweet good points last also starbucks inside theme park ',\n",
              " 'thanks god hot humid visit park otherwise would big issue lot shade i arrive around leave p m unfortunately last even parade hour much plenty everyone find something interest enjoy extremely busy long time queue certain attraction minute really bad although amaze time feel bite underwhelm choice ride attraction park quite small really expect something grand even main castle close way quite small the food option good coffee shop include starbucks plenty gift shop issue toilet everywhere together great day really enjoy ',\n",
              " 'hk disneyland great compact park unfortunately quite bite maintenance work go present numb area close include famous castle go midweek crowd certainly near bus la disneyland notice visit price food drink etc really go roof prepare pay top dollar snack avoid souvenir shop regardless kid love ',\n",
              " 'location city take around hour kowlon kid like disneyland much everything fine really crowd hot hong kong',\n",
              " 'disney world disneyland anaheim tokyo disneyland feel disneyland hong kong really small call disneyland way ride attraction souvenirs food even entrance ticket slightly much expensive disneyland good basically park good small child people never disney food choice acceptable mostly fast food expensive bottled water however expensive water fountain around refill water bottle parade pretty good crowd problem problem people rude push shove cut line ride gift shop food stand much take forget try see one show free seat see disney let happen far wrong manage disney property ',\n",
              " 'great place day go even know obviously go daughter absolutely love bad parade get cancel though ',\n",
              " 'think intro disney magic little one almost attraction complete days one drawback time example disney storybook theatre close  would thu private event restaurant close mid week tue thur good well plan visit mid week big disappointment food park even maxim decent restaurant main street corner cafe main street bakery prepare typical abrupt hongkong style service serve staff ',\n",
              " 'feel let place disneyland train fantastic get past station bad signage terrible staff want rainning ride work find map place price fun park disney character see cabana photo visitor queue rain waste money walt disney would horrify enough eat place amount people rest room seems build something know atmosphere fun fantasy ',\n",
              " 'go talk disneyland whatever say little disneyland childhood dream come true starting entrance environment popcorn show everything even mtr trains station specially design opinion one two day ticket explore good time else attraction may remain incomplete one day online two day ticket save around hkd comparison spot ticket must miss attraction include jungle river cruise micky phillhar magic show lion king showit well home work regard show timings maximise numb show cover well avoid sunday public holiday avoid rush ',\n",
              " 'disneyland never cease amaze  disneyland florida think exhaust kid still much fun disneyland hong kong dl bucketlist much come ',\n",
              " 'spend day grow kid admit great time seem kid never tire disney many ride state disney park great one little haunt house catch lion king show space mountain iron man experience list lot shop spend money course kid love day ',\n",
              " 'spend two day day go early go straight back park lineup child get go many ride twice row disneyland suitable young child much go ride disappoint castle close nightly firework would like go hot season ',\n",
              " 'indeed happy place earth family really fun make daughter birthday memorable one ',\n",
              " 'place huge definately need much one day child age love great variety ride attraction age food option fantastic model order staff fantastic helpful awesome family experience ',\n",
              " 'bring ticket leave get day little price visit would advise everyone look online deal worth walk price castle close due area refurbish alter weekday aprox much min wait ride much little would recommend weekend holiday say like disney park theme park general food drink expensive this small park easily day',\n",
              " 'huge enough visit one day day pass scene amaze like movie fairytales etc pm enjoy lot character show street must visit ',\n",
              " 'around per person want eat drink point cost small fortune go week day like assume like us wait around half hour per ride time go disney castle construction look like finish soon fast track free everyone single rider lot fast average day expensive place ',\n",
              " 'disneyland doe need review place speak however small expect great experience',\n",
              " 'nothing much say except become child step inside disneyland hk easy go come dedicate tram subway station wait parade sunset definitely worth wait ',\n",
              " 'buy day tourist ticket via klook make well value good day get bearing day go ride miss go back favourite one also mean little queue show parade amaze see lion king moana mickey wondrous book unfortunately work castle visible train open still magical time ',\n",
              " 'first  really big disneyland fan live minute california disneyland year choice vacation hong kong able get free ticket first get subway downtown super easy say impress train take deck disney theme next park okay super small compare one california castle construction kinda suck train run go wednesday slow lot ride please come idea  nice place little kid thrill seeker stay home one tip make sure read description ride wait line never get minute life back iron man experience ',\n",
              " 'mickey wounderous book great kid love new ant man attraction good age four year old love pub afraid wait line loud noise year old afraid iron man ride good probably great ride castle major construction firework overall park still beautiful wonderful visit buy teacup ride good restaurant standard chinese food reasonable price disney great day two still probably well attraction hong kong child one top two sure adults go roller coaster ride good disappoint ',\n",
              " 'hong kong disneyland twice even new attraction ant man wasp experience really flat enjoyable disneylands region sleeping beauty castle renovation picture take main square appeal scaffold sight souvenirs food even entrance ticket slightly much expensive disneylands ',\n",
              " 'go early want photo signboard mickey donald duck otherwise spend hour wait line get free photo pay photo also available price tomorrow land iron man excellent twice philar magic really awesome fantasy land great ride adventure land nice opportunity take photo tarzan treetop house visit boat cruise kid grizzly gulch one favourite roller coaster ride worth minute wait ',\n",
              " 'disneylands world generic apart language different shame build work close eat area definitely worth visit young child ',\n",
              " 'trip year ago smallish disneyland park attraction high standard thrill ride outdoor roller coaster park clean tidy food expensive park excellent qualify ie serve like warm cold vegetarian option castle renovation time visit park easy walk around many attraction great kid lines virtually non existent long wait minutesoverall worth visit kid hong kong time park entry also comparatively inexpensive compare disneyland park ',\n",
              " 'hong kong disneyland time already still want come back ride chicken try visit finally courage try end love love big grizzly mountain ride think scary love back ',\n",
              " 'visit wednesday arrive open find queue time short much ride want early afternoon unfortunately firework due castle renovate see many parade disney world decide stay even ',\n",
              " 'need say home disney disneyland anaheim hk disney th park biggest ride scary space mountain mostly kiddy ride really enjoy lion king show get expensive water equate aud small bottle burger combo meal equate aud also stay disney hollywood hotel u ball charge insane price aud buffet dinner aud breakfast shop cafe supermarket nearby grab snack cheap dinner unless u take train travel thru hk china week crazy expensive crappy deep fry food flavourless bowl lettuce salad food place open castle maintenance train maintenance voucher get way state shop main st discount tell bakery home call false advertise toy story land insanely hot shade sun bounce light concrete husband actually hypo wait daughter ride coz hot come disneyland surely put camo style shade wait parent pass seat elderly go astray either pretty disappoint experience aud poor adult child day pass note u win need go back day ',\n",
              " 'took five year old two year old could fault anything hire pram pinch quickly replace staff amaze stay one hotel makes much easy ',\n",
              " 'great day even adult early  able almost ride couple hour restaurant great good selection different food try caramel popcorn unfortunately go bar restaurant close still option available ride mostly little kid bite couple good adult shop highlight day huge selection disney gift clothe note daily special get early sell lot shade bring hat umbrella ',\n",
              " 'go hong kong disneyland little trepidation family disneyland california month previously trepidation need love hkdl loved love love yes much small california many fast pace ride none little great day park beautiful experience like anaheim go day large amount rain expect number line little minute much ride rain hold p m  would able go park time go back ride want rain start find much people huddle umbrella go undercover ride totally recommend hkdl keep mind small slow pace disney park ',\n",
              " 'disneyland lot fun many ride good like iron man experience hyperspace mountain toy story car many go shanghai disneyland good one crowd go lot ride hong kong able ride almost every ride day lines short park small easy get around ',\n",
              " 'disneyland la two time tokyo disneyland disney sea walking gate hk disneyland feel like go back la park disney hk government love quietness hk disneyland morning much thing hk open a m walk people front us great toy storyland open a m purchase ticket online australia print leave send email link electronic version qr code personalise character use print version much easy website little slow also purchase dining vouchers good entitle us lunch dinner popcorn iceblock two day like double numb voucher purchase hk disneyland use old style fast pass system scan ticket get print fastpass stay disney explorers lodge receive fast pass certain ride good food hk disneyland aim asian market although restaurant serve burgers etc fussy eater beware may limit choice food disney quality eat starliner restaurant tomorrowland love space mountain star wars overlie sooo coool pirates caribbean ride sad lion king show mickey philharmagic show great fun unique hk disneyland mystic manor amaze trackless ride fun go three time big grizzly mountain runaway mine cars great fun experience vary depend sit front row amaze last row still fun little rough also unique hk disneyland iron man experience ride simulator stark industries flyer hong kong lots fun ride jungle cruise remember choose english line cantonese line skipper script say difference line wait time really notice yes hkl disneyland small la disneyland tokyo disneyland two day allow see pretty much everything break net speed disney love family girl age attend park christmas decoration parade great hk disneyland mtr line change sunny bay station disneyland line use octopus card travel mtr shuttle bus run disney hotels transport hub disneyland walk want along bay hotel would roughly minute walk disneyland hotel along bay also ferry run central hk disneyland mtr train well option opinion especially mickey shaped windows disney theming inside train carriage ',\n",
              " 'australian family four kid enjoy full day hong kong disneyland plenty see disney get chance visit hong kong say definitely couple unique hong kong experience include two marvel attraction antman ironman enjoy thrill seeker couple great ride big grizzly mountain probably favourite unexpected fast rc racer toystoryland definitely worth wait family young kid heap kind skip fantasyland young family would probably spend lot day park easy get good dedicate disney train line fun ride easily navigable mtr hong kong simple cheap get park ',\n",
              " 'travel disney land mong cok purchase ticket one travel shop discount rate purchase hong thai travel bank centre nathan road right next mong kok station go level numerous travel shop include cts review read much people purchase ticket ask around shop level price disneyland ticket include cts find hong thai travel cheap ticket hkd adult would recommend ask around shop price day seem open a m sale advisor hand letter take box office disney land swap entry ticket easy problem hong thai travel bank centre nathan roadas park open decide get taxi way cost roughly hkd mong kok take around minute way back use train route disney land sunny bay pink line sunny bay lai king station orange line lai king station mong kok red line the train cost around hkd take roughly hour want catch train disneyland mong kok route is mong kok lai king station red line lai king station sunny bay station orange line sunny bay station disneyland pink line ',\n",
              " 'hong kong easy get via mtr kowloon great signage fast day start good arrive start rain quite heavily stop mid afternoon characters main street see two day probably due rain even though crowd entry big inside seem crowd toy story land ghost town one go ride rain enjoy ride open good day hear great thing mystic manor find okay love hyperspace mountain ant man ironman big grizzly mountain runaway mine car favorite day though shop good disneyland usa disappoint cater mainly child happy visit think  would go hong kong ',\n",
              " 'visit understand memorable experience place bring child everyone stay firework food expensive take snack along ',\n",
              " 'hkdl get different event different period like jan feb chines new year apr may spring carnival summer halloween christmas event get different theme charaters costume decorate sometimes may get special daily parade recommend check clearly event want join make disney trip like crowd mar november without event happen choice ',\n",
              " 'park great amusement park available small ride tame park day disney always clean well customer service ',\n",
              " 'visited family memorable experience seem big anaheim clean good maintain received priority queue pass need line short ',\n",
              " '  always go fun disneyland reminder bring selfie stick huge tripod bring bottle water reusable container use instead food expensive eat plenty go ride rollercoasters right away miss festival lion king show forget moana production though  expect song movie see maui wear comfortable shoe lot walk fun get discourage long queue  turn soon think ',\n",
              " 'honest rain nearly day weather well  sure overall impression would much well lack thrill seek ride disney park say also lack ridiculously long quees waits around minute ',\n",
              " 'super small cute disney park  disney fan tick park day though warn  use service walt disney world disneyland seem translate good hong kong disneyland food also good lunch lucky nugget saloon mediocre well fun day though regardless ',\n",
              " 'plaza inn fantastic kid group love ride small disneyland love disney worth visit super disney probably skip go disneyland anaheim ',\n",
              " ' disneyworld orlando yr ago year old back buy different value ticket various ride whereas change entry fee cover ride etc except food change place remarkably clean good maintain give numb visitor see day ride long wait ie minute skip till late day ie p m wait period little minutes full day get around leave street parade finish around pm exhausting simply love',\n",
              " 'great time disneyland great busy saturday sunday point note park open zone doe open purchase priority ticket go weekend would recommend priority ticket queues small week sure priority need ',\n",
              " 'terrific time disneyland hongkong ride fun wait time okay show enjoyable clean staff super friendly let average food expect ',\n",
              " 'even though rain set much day adult still fun time disneyland hong kong',\n",
              " 'good see small great bring child adult one excite big child either ',\n",
              " 'love disney even work disney world college come hong kong know visit visit one paris go regret hong kong disneyland small disney parks able ride ride hour arrive a m love wondrous book mickey mystic manor ride also like new ant man wasp ride b c  like buzz lightyear space ranger ride orlando also like character dress easter easter decoration good love parade afternoon night time one remind electro magic parade orlando  disney fan must visit hong kong disneyland ',\n",
              " 'small disneyland cater kid nice ride include new ant man ride pricey food somewhat long queue part theme park try go morning even well stay one day hotel maximize park ',\n",
              " 'essay go city disney central station buy ticket sight additional vip status line week day park full heaven downside experience main castle appear publicity reparation hard find restaurant variation vegetarian food unless like pop corn corn cob vegie burger one fast food outlet really enjoy self mind friend something work adult good ',\n",
              " 'awesome attraction blow mind away attraction fill amaze ride entertainment also halal food definitely cater need glad able meet mickey friend ',\n",
              " 'great fun family fact small park disney plus facilities seem new load different game ',\n",
              " 'love place clean safe mrt get night time beautiful many thing',\n",
              " 'hong kong disneyland quite small many people wait line long take average one hour much line however transit disneyland tram nice impressive ',\n",
              " 'visit parent teenage sister really fun day food offering good albeit expensive incredibly busy think disneyland easy get central hong kong think highlight gift shop huge would definitely recommend family day ',\n",
              " 'okay disney much cater small child rather adult area close one really thrill ride rest child maybe need much western restaurant good ',\n",
              " 'went day xx brilliant food x holiday day local people busy buy polite great time',\n",
              " 'would recommend go tip navigate easily manage much time marvellous amusement park visit new year year old infant point helpful fellow traveller tip take big luggage even trolley bag enter let inside plus pay use thier storage service also backpack read big allowed book online klook app get discount save time spot book long que always reach disneyland special metro train interior superb give great feel take map use free wifi access app show timing ride schedule miss live show worth watch direction highly creative always ask disneyland employee ride entrance exit sticker usually keep give free soveniour even leav door person also give remember ask politely rest worth visit whatever age group belong miss disneyland la la land ',\n",
              " 'small disney castle work overall amaze time able ride ride want ride nice staff lovely experience ',\n",
              " 'way small staff interact kid much every park around world signs go hard read arrows point random direction son autistic get tell take around priority que know many ques bonus toilets plentiful clean good shade plenty seat ',\n",
              " 'superb atmosphere hk disneyland must enter park a m soon open much enough thing dawn better check amusement renovation usually park construction everyday last item hk tour check luggage kowloon station visit disneyland recommend reserve two day ticket want try excursion fantastic creation life time snap capture hour ',\n",
              " 'love place fun food nostalgia create even great mickey fan enough avenue enjoy kid even adult enjoy ',\n",
              " 'friendly lovely food halloween time great time good see everything one day ',\n",
              " 'hotel clean tidy environment nice staff hotel nice effective swimming pool good child good resort feel hotel lot activity child play better provide photo take hotel guest disney explorers micky souvenir explorer bathrobe ',\n",
              " 'son wife three child recently visit disney hk great time explore say virtually lines the one fault find food children food lack variety taste grandson must gluten free selection child menu eat purchase steak well either frequent disney us conscious allergy gluten free menu item readily available would implore hong kong ownership american icon much sensitive need make much need improvement menu ',\n",
              " 'took family park time disney park love joy see kid eye enjoy offer weather great good ',\n",
              " ' ever disneyland could ask much rides good show good performer excellent rides much towards kid friendly couple adult ride overall great experience ',\n",
              " 'recent stop hong kong pay return trip disney choose day park quiet long wait minute sure case time unfortunately ride test upgrade prevent disappointment check closure go eat park previous experience restaurant disappoint expensive visit park whenever visit hong kong visit disney must ',\n",
              " 'impromptu trip disneyland weekday love trip wait time little minutes wait time ride limited restaurant though maybe weekday bad part though castle renovation go construction park ',\n",
              " 'wonderful place bring kid ages it good keep clean alot ride young kid amzaing staff around there halal food wonderful fantastic night light parade fantabulous its must go parent young kid ',\n",
              " 'enjoy disneyland hong kong disneyland really easy access special metro disneyland special design well get directly queue park open open enjoy many ride without long queue weekday avoid weekends for muslim traveler worry since find halal restaurant inside call tahitian terrace locate close tarzan treehouse price range hkd mistake enjoy big ride avoid big thrill drop try almost ride except big grizzly mountain runaway mine cars shame afraid fast backward drop lol far enjoy ant man wasp nano battle hyperspace mountain mystic manor mickey phillarmagic ',\n",
              " '  time  daughter time hk disneyland staff nice give much priority despite mos pregnant overall theme park still nice however comfort room good maintain shocked find regular mall even ocean park provide toilet clean liquid dispenser every cubicle disneyland none maybe  time upgrade good ',\n",
              " 'although apparently small disneyland love nz disney everything amaze show ride attention detail highly recommend although really need one day never queue long min tuesday march ',\n",
              " 'buy package disney website start explorers lodge package include several priority pass like fast pass actually never need use long wait time ride minute show ride english much cast member speak english really good park small disneyland park world still feel like enough keep us busy day half bus shuttle clean run time would definitely go next time hong kong ',\n",
              " 'great way spend day hong kong tourist easy wander park lot fun overall good value find good souvenir along way food little expensive much park way',\n",
              " 'go hk disneyland april happen qing ming festival expect massive crowd day queues ride f b outlet long great experience especially young kid amount spend ticket  really waste money sit ride  wonder park cap numb guest park hard time find seat around book ticket via disneyland hotel online info confirmation give whether park ticket book end unable enter buy ticket spot luckily one cast member carmen help us resolve issue let us access without queue also balloon overrpriced hk helium balloon ',\n",
              " 'la florida disney many time tell would disappoint one love different ride show still layout disney feel expand whole lot moment suggestion would add much food restaurant food line long ride lien purchase online ticket buy partial ride upgrade want full ride upgrade sell day imho good worth spend open close love midway game fun',\n",
              " 'already go th time never enough truly magical experience even though small park full excitement parade ride character cast member blend make great day kid going mtr easy ',\n",
              " 'wife bring daughers law hong kong disney recently much year since last visit disney many new attraction add enjoy much visit favourite ride mountain runaway mine car even age range fact play time together time allow would play much take ride disregard age visit hong kong disney fun ',\n",
              " 'local family member take us round know trick get around park super busy many queue kids enjoy think even way well easy get ride without queue avoid weekend local holiday lion king show fabulous ',\n",
              " 'definitely fun place visit whilst honkers load fun would recommend visit',\n",
              " 'everyone love disneyland travel young kid would really recommend stay one three disney hotel hotel provide coach thereby make much convinient stay disney hotel two night high point visit disney character breakfast also take two day pass make whole experience much relax easy go vegetarian food available one restaurant taste quantity good park good design enough option engage young kid old kid parade miss good different photo opps disney character ride kid really enjoy opportunity dress young jedi n fight evil force great family vacation ',\n",
              " 'true highlight trip suspend reality good park land attention detail incredible decor sound smell staff costume persona truly something everyone age line good manage even open day new marvel ride around min wait make sure use smart fast track pass free ride fair say park much small somehow become much much charm staff much people bend backwards clearly love job seem intuitively know people need would strongly recommend anyone day two spare current two day ticket offer great us much flagship ride day one show day item close proximity airport cheap bag storage ideal place stop visit last day like head straight airport ',\n",
              " '  quite time one well disney queue short small enough see everything day go mid week lot quiet buy ticket klook easy many ride attraction refurbishment around restaurant close presumably due little people price stay though may want double check advance really want experience may close avoid disappointment ',\n",
              " 'bucket list unlock one well trip ever enjoy every single inside disneyland must try every ride ',\n",
              " 'hong kong disneyland definitely must see small park lose size make quality hong kong currently home marvel themed ride disappoint hong kong many standard ride show expect disney also maintain variety exclusive hong kong also lot exclusive merchandise especially pin also much ride bilingual ',\n",
              " 'buy discount ticket klook thus ticket queue arrive get mtr disneyland min hong kong station breaky pret manger shop mall take lot water expensive park also take kid food snack expensive great quality get search entry good bag many compartment easy hide get late gate open go straight star wars toystory area ride fast pass want go winnie pooh use queue long toy story land great big queue green parachute ride one go start star wars pm street show good need get early disappoint see lion king show currently download free disney hk app tell happen lion king show miss apparently get street show end may get recommend musical show big theatre next small world saw pm show lot singe mickey mouse goofy highlight day though mine train amaze went time good long day tire stay pm light show ',\n",
              " 'despite one small park company two day really worth five year old baby much relax find enough time enjoy transfer metro disney line work like charme super clear signpost truly fun day kid ',\n",
              " ' family trip disney family hubby la kid leave hotel even though park open glad take little get get ticket etc buy priority line pass extra hkd big waste money park busy wait ride park busy many food shop open kid love ride go several time year old cry leave want go must good day long foot hurt end day walk definitely worth see kid good time aud ticket include priority line pass ',\n",
              " 'th time hong kong disneyland  always recommend go weekday weekend everybody go child queue double castle attraction shut always inform guest website staff nice speak english need intimidate ',\n",
              " 'feel disney spirit place disney character around one must wait long lineup shake hand stay couple hour leave ',\n",
              " 'fantastic nice place kid friendly easly get food area better buy ticket online traveloka guest save time come place near bus station mtr station',\n",
              " 'love disneyland attraction good run good worth visit fun day age park easily accessible hong kong central train highly recommend street parade stay see park light night ',\n",
              " 'friendly staff cool weather used klook purchase discount ticket scan qr code enter easy fast enjoyed time kid',\n",
              " 'smallest disneyland spend day go tokyo disneyland february compare one hong kong would say small theme park however pack quite lot activity ride small area still lot day fact hong kong disneyland new much update area iron man upcoming ant man crowd week day still short queue ride parade day night similar much disneyland short many float went mickey show good lion king show enjoyable ',\n",
              " '  big disney park fan regular visitor disneyland paris excite visit new disney park great time compare paris tokyo florida  visit small limit numb ride real thrill ride space mountain tame compare version i m serious disney park struggle fill two day  would recommend visit one day highlight show lion king show wondrous book well quality show  see disney park stage live singe performance impressive food option also really good lot variety ',\n",
              " 'huge game cum theme park travel cute little one make sure enough thing eat drink although lot restaurant eatery much occupy peak hour evolve theme park addition new game every year like stark area sci fi zone wait till pm witness disney signature parade please expect wait time min ride ',\n",
              " 'main attraction shut still pay full entrance fee without intimation either online ticket kiosk',\n",
              " '  great disney property park fun ride attraction give disney fix mystic manor great unique ride play part sea story disney try tell overall  fun go visit crowd low sure check time book visit ',\n",
              " 'make honk kong disney mtr easy quick pretty convenient purchase ticket onsite use online discount foreign traveler show web page driver license much easy buy online download app great map track wait time ride ride min wait recommend get fast pass dumbo line take much long advertise wait time able get ride still make back mtr decent time train pretty pack overall manageable enjoyable disney experience day ',\n",
              " 'even though small great ride wonderful atmosphere paint night parade must hard find good lunch food choice matt great shop longest ride line minute year old daughter princess makeover super cute ask staff member sticker generally different one pocket day easily rd ',\n",
              " 'try buy ticket online day enter payment detail say try late try different card still give message credit card company say payment take receive book confirmation take taxi tst area expensive air condition car pleasant journey arrive next day park waste time guest relation tell payment take buy ticket park need check card statement ensure payment taken we know add priority pass ticket information long queue entrance unlike park visit us purchase whilst iron man ride priority card scan entry scan get two priority ride record use record know time try use priority pass rd time late tell none leave embarrass front park guests say occur iron man scan twice tell go back iron man tire point go around park want walk back say would go guest relations instead guest relations apologetic offer priority ticket next visit uk expect return offer soft drink popcorn whoopy dah lunch thank leave resolve satisfaction please careful buy online purchase priority pass the queue minute great time disney pre purchase priority pass experience leave us feel dissatisfy rather elate still need check payment take negative disney experience continue even back uk next week ',\n",
              " 'went hk disneyland via mtr easy get back early march day light shower cold day rain take minute get onto ride want wife never disney trip get good shot characters thoroughly enjoy main street parade leave train minute walk easy get hotel ',\n",
              " 'spent day disneyland young child nd time actually park must visit everybody ever opportunity ',\n",
              " 'disappoint hk disneyland train run castle renovation several area air dilapidation coach driver advise us take food bag would search pocket reason want make pay incredibly high price food sell also suggest buy souvenir take picture get item ali baba ali express suppose basic souvenir mug cost a approx watch a parade though fantastic make lot rest  twice day afternoon even firework  would previously see suspend due renovation mtr station right gate change central line also ferry limit certain time leave mtr taxi bus well senior hk oyster seniors card get way back station close hotel bother tour ',\n",
              " 'time come hk disneyland unlucky us rain haha although rain stop us enjoy sad afternoon parade cancel night weather clear hk disneyland push paint night parade time see year ago firework behind castle still renovation my family definitely go back love see little one enjoy disneyland ',\n",
              " 'hk disneyland great experience xmas celebration ride great people management also top notch renovation main castle undergo go disappointment main night parade cancellation wait till last moment rain ruin refund voucher would appreciate cancel show castle renovation ',\n",
              " 'start journey reach disneyland mtr give fun ride train paint disney character also train within disneyland help reach attraction ',\n",
              " 'year ago wife go child really nice spend time kid theme park problems castle renovation fireworks lion king renovation princess photo limit elsa freeze available photo session quite sad daughter favorite princess ',\n",
              " 'visited theme park overall okay nothing spectacular previously disneyland anaheim disney world florida disneyland paris tokyo disneyland disneysea hk disneyland tiny fortunately many crowd haunt house mystic manor weird though would expect something along line disneyland park yes maybe cultural thing nothing beat haunt house universal studios singapore halloween horror nights fyi overall kid fun main reason go disneyland ',\n",
              " 'take kid disneyland weekday great decision minimum rush small queue reach start tomorrowland ride pm leave pm hyperspace mountain grizzly mountain jungle cruise mystic manor iron man experience must ride well buy ticket food combo klook stand queue scan barcode enter also much importantly take food coupon entry ahve return late get coupon go royal banquet hall food average food carry water bottle water expensive ',\n",
              " 'like compare united states easy navigate small much ride little one go  would line short minute minute wait unheard usa get easily mtr expect spend day open moana show disney tale story show favorite ',\n",
              " 'monastery really beautiful place giant statue truly awe inspire well see clear day cloud really limit visibility great view tram good nong ping commercial ',\n",
              " 'fun day quite busy wait time roughly minute per ride plenty eat place souvenir shop available couple good rollercoaster ride nothing like disneyland usa would still recommend good day ',\n",
              " 'optimal size try much ride one day queue little minute wish much affordable gift shop food beverage ',\n",
              " 'tickets cheap disneys fast pass bomb pre buy well ride mansion grizzly man coaster space mountain good florida california even paris ironman okay pooh bear good park way small keep day simple need one day ',\n",
              " 'florida anaheim euro disney hong kong disney definately small however give hour day spare time think worth visit limited numb ride still fully professionally set true disney style show equally disney standard ',\n",
              " 'without doubt true disney experience parade ride character cast member blend make great day kid journey long mtr take literally front gate convenient stroller allow enter baby food many healthy option inside classic like small world park train main st castle lack magical feel make sure ticket line tedious morning waste time ticket counter',\n",
              " '  see many negative post comment hk disneyland past really bad yes expensive small ton ride age hk resident always go hk disneyland experience every time whether parade ride park incredible ton revamp past year farewell autopia buzz lightyear astroblasters replace brand new section tomorrowland feature iron man ant man come april good brand new revamp space mountain staff extremely helpful gift shop load merchandise souvenir park also extremely kid friendly negative extract park food price food bad  quality way expensive since visitor allow bring food may starve day buy expensive meal lot free time hk want something enjoyable whether kid mate hk disney great park although major thrill seeker ocean park would much suit ',\n",
              " 'small disappoint along line park small without big attraction hour see everything construction lot noise visit ridiculous visit enchant forest hear jackhammer maneges limit price high quality park well keep money invest another activity',\n",
              " 'place little disneyland kid amaze fun place massive wonderful place visit kid old enough qualify ride boy cms pretty much qualify every single ride love adventure land personally involve tree house boat ride etc mystic mansion world soooo digital good eating option veg folk limit asked around inside park veg food people kinda look us weird lol vegie burger well get great dland compensate non food part ice cream hkd pop corn price like hk tea pack form it good bus disneyland r lantau cost around hkd very inexpensive stay tst tsim sha tsui from lantau toll toook go tst prat avenue costs around hkd per adult around hkd per child if take taxi dinsey tst consider decent traffic would set hkd one way peak traffic cost around hkd hkd disney must visit take day queue s long minimum take us min queue get attraction infants toddler cap mandatory ready buckle stand long queue s unless priority pass ',\n",
              " 'really love disneyland two must ride mystic manor grizzly gulch runaway mine trains excellent highly recommend go weekday wait long minute monday tuesday need priority special priority special weekday ',\n",
              " 'came day chinese new year crowd try googling well time visit disneyland big parade around theme park certain hour last one hr avoid rush back visitor try stay back last parade get mtr much visitor leave theme park provide stroller rend careful lose deposit slip would cash deposit return stroller kid enjoy every parade especially last one hr lightworks disney character street ',\n",
              " 'amusement park age disneyland child adult young heart place enjoy well time visit march weather good enjoy roam around ',\n",
              " ' time go disneyland hong kong unfortunately cinderella castle renovate firework show cancel shows mickey wondrous book lion king amaze parade afternoon also good see disney cartoon character come love big grizzly mountain runaway thrill recommend buy popcorn sell stand throughout disneyland taste good ',\n",
              " 'hk crowd norm disneyland exception weekday still crowd hate think like weekend area unavailable due remodel work sad new area open since last visit quite good lot ride child age enjoy good day buy ticket arrive save time queue many time cheap gate easily accessible mrt hk big disneyland world make little one smile day ',\n",
              " 'go w family invitation coming disneyland bring child scream enjoy fun time especially kid w trip usual even monday queing long line activity leave make ceratin choice event ride etc get roller coaster ride star wars hyperspace mountain photo take w iron man strut around pose w us parade store buy etc make stay much memorable live presentation lion king musical wc make final cut one day experience disney memorable ',\n",
              " 'nice cute small disney attractions slowly expand much fun rollercoasters family many small ride enjoy small kid bring water bottle drink food expensive many choice jedi show must young one besides eatery worth go ',\n",
              " 'well disneyland still make happy play disneyland ride extreme universal atudio build age enjoy time play ',\n",
              " 'small park american disneyland favourite part lion king show great costume acrobatic makeup prop grandson doe want go theatre change mind show staff sometimes busy talk staff assist sometimes abrupt overall though great time think american disneyland set huge standard hard match ',\n",
              " 'amazing show everything amaze u disney fan visit fact must u ur miss',\n",
              " 'relatively small compare disney world well maintain clean admission fee low us dollar ',\n",
              " 'like show anaheim show day hk disney perfection chinese friend say would happy sleep bathroom floor ',\n",
              " 'came parent year ago came another visit ride okay usual super crowd busy especially lunch hour queue long min hour food especially starliner restaurant serve western food ticket come food coupon purchase meal hk bought recommend value set maximise burger pathetic small flat meat half ',\n",
              " 'spent whole day come early avoid crowd good buy ticket ahead avoid public holiday weekend tough week day well accessible metro hot commercial consumer ares many thing possible resist enjoy artificial word attraction ',\n",
              " 'husband love disney visit quite hong kong great park visit favourite ride mystic manor nothing disney great little story bite funny amaze detail ride believe hk really special run away train quite deceive start slow start think bite rubbish surprise winner us get ticket klook far cheap even come option meal deal mean worry food disney great okay work castle moment think may take moment tiny find odd see castle like money build bite castle firework moment light show main street good hk disney toy story land build one orlando really good love toy story ',\n",
              " 'live fl ca disney world disneyland many occasion although one far small  glad go special train take obsession duffy park go week day enter park open line encounter character easy day lots great food option typical disney fare quite enjoy time spend ',\n",
              " ' disney experience think great location start ppl say hk disneyland small one tokyo help us feel overwhelm ride ride long maybe rain day get see many character reason unfortunately castle maintenance get full experience fun ',\n",
              " 'incredible actually ride every attraction park sometimes twice long wait min even use fast pass priority pass compared disneyland anaheim ca usa opportunity would rather visit hong kong disneyland save money purchase ticket meal via klook app relationship klook fun ',\n",
              " 'husband free day fly back home decide visit age get entry depend currency rate park doe open arrive early decide buy ticket gate rather phone surprisingly enough easy quick process show passportswe get metro hong kong sunny bay station cross platform catch disneyland train one stop seeing monday amount people wait park open massive bug bear nearly everyone phone put selfies please love much get mirror anyway announcement run open gate run manner push shove park patch original disney florida ride get round park quick certainly worth plus adult the atmosphere certainly either maybe warm ',\n",
              " 'visited disneyland hong kong today march poor experience little place term ride experience much close renovation include main disney castle lot stuff open anyway kids could get pic fav character keep disappear break every min queue long already miss even reduction already expensive price pretty crappy day outsmall park half open worth money ',\n",
              " 'trip hk without swinge disneyland day never enough check attraction place huge seem always something every time visit ',\n",
              " 'relatively small park compare one florida sure worse hit park castle close upgrade firework offer park staff come across unfriendly helpful odd exception fact smile sticker entrance turnstile must remind park staff since much us visit disney park inherent great expectation ',\n",
              " 'disneyland really kid ride way short time compare counterpart ride universal studios kids would love mickey wondrous book lion king show ',\n",
              " 'spent hour hong kong disneyland easy get mtr queue long day fabulous castle open time  update  disney course everything pricey main street parade really good ',\n",
              " 'would say place really good much fun friend  little sad one day enough try activity ride good place get rid stress ',\n",
              " 'daughter bucket list visit every disney go disneyland option familar disney us one much small large ride star wars rollar coaster big thunder mountain mystic mansion version haunted mansion otherwise park kid friendly get open stay close bite long daughter love ',\n",
              " 'must visit hong kong great kid big kid also time disneyland get day pass weather great rain half way day weather forecast sunny buy day pass one weather fine ',\n",
              " 'place huge many fun activity family friend would recommend go place child child friendly ',\n",
              " 'disneyland perfect place unwind child always find way visit disneyland world ',\n",
              " 'magical fun time disneyland wonderful day staff make visit extra special kind patient unfortunately disappoint find firework cancel night warn explanation ',\n",
              " 'ride mean much child except much thrill decoration however really detail bring disney effect nice see really bring child great atmosphere great people overall go family young child definitely good time however look thrill ride well head ocean park instead ',\n",
              " 'last month parent friend go hong kong arrive hong kong february weather cool sunny go hotel clean service good almost everything perfect drawback room hotel small enough place play rest go restaurant food  delicious we beef ball roast goose shrimp ravioli herbal tea eat dad see store sell ipads next store since new ipad really fantastic go disneyland day arrive play many recreational event many people wait long time play roller coaster really cool many people really want try play day every one tire take small train back hotel play rugby last day hong kong interest try time play good win match award two white cap two rugby ball need go home trip great really want leave promise come back soon late ',\n",
              " 'firstly disneyland happy place earth great small park little anaheim tokyo standard easily cover hour leave plenty time shop hit ride like multiple time come tuesday early march arrive park open weather nice line thankfully almost non existent even usual busy time p m much line little min buy priority pass hindsight require end use get value really skip minute queue waste money particular occasion perhaps get lucky day would make worth money unsure rc car grizzly favourite ride extremely thrill disneyland hk must see well disneyland experience ',\n",
              " 'journey start end magical sentence although hk disneyland big disneyland world attraction ride adequate spend whole day hearing news hk disneyland expand attraction add frozen land marvel land believe hk disneyland attract countless people future time hope din place increase many people find place eat park ',\n",
              " 'hk disneyland big well disneyland grateful enough ride attraction make trip worthwhile easily accessible mtr trains main disappointment wes character stroll thru park mingle visitor may overcast potentially rainy sky case weather also keep line ride short min max fast pass need also like disneyland still visit variety park pay one fee orlando florida people buy ticket four five park want visit get really expensive ',\n",
              " 'magic start mtr mickey shapped window handle bar five minute walk park fountain poster feel like already inside characters walk around everwhere fun ride friendly helpful staff parade amaze oh kid good time time year look forward visit soon ',\n",
              " 'overcrowded chinese tourist like take photo cute young child without permission ride fun take long queue food offer good ',\n",
              " 'smaller original still much fun fair way travel reach train hk central ',\n",
              " '  disneyland much say we go monday crowd big still able get many ride jungle river cruise slinky dog spin toy soldier parachute drop mystic manor grizzly mountain runaway mine cars mickey philharmagic hyperspace mountain ironman experience without fast pass special mention mystic manor  say  available hong kong mystic manor disneyland go although thrill ride still fun amuse us mm souvenir also cute spend quite amount money mm souvenir disneyland shop even shop hong kong airport go find something like buy hesitate downside sleeping beauty castle winnie pooh ride close maintenance ',\n",
              " 'go family group hong kong disneyland wonderful time grandchild love good value money clean good lay highly recommend fun day child adult ',\n",
              " 'easy get need take subway inside subway also disney decoration take picture head convenience clean inside disney park lot cute sounveir shop area clean people friendly lots disney character take pic long line depend time month go although big disney still spend whole day like cute stuff hongkong disney must go buy lot ',\n",
              " '  work way disney park around world  already hit orlando anaheim paris location tokyo shanghai although park slightly large anaheim really feel like attraction cram small space like original overall park clean themed good cast member come contact pleasant think compare disney park  fair like hk version although lot attraction mirror image close ride disney park although branch iron man experience think star tours iron man new ant man wasp attraction yet open go february mystic manor hk answer haunted mansion compel story character albert monkey draw great effect hk dl almost worth one attraction ride twice although big fl detail paris hong kong disneyland definitely worth visit ',\n",
              " 'one group disneyland japan want go one tell staff friendly welcome peppy plus mascot mill fun know upwelling go bad day something great experience exception two staff none smile make feel welcome mascot finally see end day town part costumes ruin staff wear black run shoe ok foot need comfortable seriously jar staff get things like recycle bin load take away empty one put replace tables clear two restaurant shut numb ride close castle shut hk worth money tell disneyland hk loose money surprise go numb ride positive loved ironman ride starwars roller coaster gulch ',\n",
              " ' disneyland love visit disney land good find one small compare though still give delightful experience ride lesser lot come thing morning occupy whole day big attraction parade miss last parade night feast eye family kid enjoy thoroughly',\n",
              " 'hk disney small disney parks definitely something cover day contemplate vip tour wdw leave late book end glad waste money need unless go one chinese holiday stay hk central take train easy run every minute really matt miss one even return night despite people frequent enough never significant wait people somewhat pushy though  form fomo fear miss train door open people push finish one ride seem need run next one get ahead people rope drop would normally allow flow people park much like start gun new york marathon say love park favorite ride phantom manor similar type ride ratatouille france magical effect light show night also worth stay check tall person find contort seat fit leg thing tokyo fit find cross leg move foot far back seat sit make difference lion king show amaze would put must ',\n",
              " 'big disney fan super excite visit hk disneyland although fun day help feel disappoint park small feel price extortionate compare disneyland paris much large significantly cheap find magic disney feel like old theme park staff particularly friendly engage guest fact ignore group staff member say mystic manor quite possibly new favourite disney ride ever really go ',\n",
              " 'always dream visit disneyland come true visit hk disneyland easily reach thro mtr station much convenient mode go around park train ride boat ride tarzan house magic show winnie phoo etc amazing witness main street parade huge food court available inside premise overall relax day',\n",
              " 'visit hong kong disneyland group family st january think park pack since holiday season luckily park moderately pack think place great place spend day hk trip park nice small typical disney park compared disney park  ever visit theme park short wait time especially thrill seeker attraction course need check fast pass download app beforehand check schedule parade map wait time attraction unfortunately visit sleeping beauty castle still construction manage enjoy disney christmas celebration visit manage enjoy ride parade show hour visit  thrill seeker forget enjoy two attraction exclusive hk disneyland big grizzly mountain runaway mine cars mystic manor magical time great fun go wrong hong kong disneyland ',\n",
              " 'great day easy one day much small disneyland around world warn currently p m firework due maintenance castle',\n",
              " 'disneyland never fail amuse everyone excellent friendly park attraction great crews great speak english also nice hotel',\n",
              " 'great way spend day hong kong usual good run disney facility easy access venue use mtr way easy crowds ok mid week winter cost hk day adult eat explorer club restaurant asian curry ok although bite bland cater taste e fantastic day ',\n",
              " 'awesome feel great experience really enjoy lot family would love visit place',\n",
              " ' time visit hong kong disneyland decide go disneyland chinese new year holiday crowd really enjoy attraction ',\n",
              " 'entering hk disneyland tend bring back child inside  forget life problem magically  different world full fun fantasy love ride restaurant choose ',\n",
              " 'personally go disneyland outside california know expect cultural tie chinese culture implement park simply amaze probably park mickey speak cantonese park clean small typical disney park various show watch throughout park ride similar would find california believe iron man attraction may unique hk park busy point wait hour ride average minute per ride  look experience something different disney would place go go day able go everything want go keep mind park small would recommend come chinese new year golden week ',\n",
              " 'first time  disneyland benchmark comparison smaller expect big enough fill full day two adult lots fun though ride aim child disappoint  big fit disney train cool real air excitement join mickey minnie day enjoy ',\n",
              " 'visit every disney park except shanghai perhaps favorite toddler close replica anaheim disneyland small without big kid ride pros disney park crowd love tokyo disney sea crowd really kill experience people hong kong apparently wake early even park open really line couple hour even busy hour line moderate love variety food different region actually look forward meal different time jedi train never full admission ticket much cheap disney park world use app like klook buy discount ticket discount meal child really perfect disney experience ',\n",
              " 'wonderful excitement build train ride disneyland cute mickey themed carriage enjoy mickey waffle lion king show line ride long feel experience quite overrate much prefer ocean park ',\n",
              " 'staff member friendly accommodate chinese new year place pack line bite long lot people parade disney employee charge keep crowd away float cranky ill mannered disneyland really beautiful place restaurant food cart every corner restroom big clean ride attraction enjoyable enough would want see ride ',\n",
              " 'worth experience enjoyed together daughter grandchild feels like young ',\n",
              " 'magical expect fairy tale great themed ride highlight us iron man go slightly much expensive ticket get priority pass otherwise need queue quite bite ',\n",
              " 'kid would eye feast attraction big ocean park good want see micky mouse person sadly time castle renovate ',\n",
              " 'crowd much time long queue ride food limit choice quite pricey kids collect sticker give staff place need approach staff free sticker',\n",
              " 'family disney florida many time hk disney small still charm disney florida girl great day even age og would go back againn',\n",
              " 'stayed disney hollywood hotel spend day disney hong kong year old daughter amaze time character princess park small florida california good worth visit',\n",
              " 'small disneyland compare paris attraction espcially kid adult come typhoon attraction close price bite high get overall great time take us half day finish park look thrill attraction adult ocean park much much well ',\n",
              " 'visit disney park la good florida really impress hong kong disneyland last visit good connect good organize staff friendly helpful  good full day visit need plan one must decide show watch fast pass gather ',\n",
              " 'busy night around hrs royal banquet hall feb long queue order food much table occupy however staff call wilson absolutely professional smile time even clean table non stop make us feel warm like home keep professional work effort many staff smile like beautiful smile ',\n",
              " 'much park close disappoint ride park know expansion plan much close know afford expand know small park go lack disney every aspect cost really easy get mtr good hrs entertainment look something different visit hk ',\n",
              " 'great day lines get long quickly glad get early huge crowd terrific souvenir shop price bad food good especially caramel popcorn amaze ',\n",
              " 'interest park although crowd line never bad go plan one day enjoy suggest go shop early day people savage store worker could even keep people throw thing floor shelve mess terrible store experience wait min pay park fun space mountian fantastic shop awful know go need one day park',\n",
              " 'lovely place really take back childhood although queue get long fast pass logical display great ride great good food option parade great fireworks great great show really enjoyable spend whole day small disney land really lovely ',\n",
              " 'fantastic experience enjoyed every step stay wonderful theme park thank disneyland hongkong ',\n",
              " 'doubt people keep say happy place earth honest place quite far city worry reach use mtr personally think entry ticket quite pricey  pay incredible attraction  truly magical family kid  must visit place meet almost disney character forget capture moment many beautiful photo spot capture suggestion  would well come morning since weather hot much crowd afternoon rush sure see parade firework show night minute close time really worth wait say one well show ever see ',\n",
              " 'never go tokyo disneyland shanghai disneyland hong kong disneyland disneyland crowd enjoy hour stay ',\n",
              " 'much small us version easily cover entire park one full day thing find us fun see mystic manor space mountain two favorite ',\n",
              " 'easy get use mtr change sunny bay station onto shuttle service disneyland resort expect lot disney themed stuff go train mickey shape window hang hand grip mickey shape various statue character carafe go february damp day overly busy queue time minute without kind priority board ticket disney land paris walt disney world florida still hugely impress stop smile whole visit real mixture east west theme go similar many way different enough make still feel new build work go around castle result train work though detract day log disney land wi fi get hk voucher thoroughly enjoy toy story land classic area tomorrow land rebranded star wars marvel hong king part short break celebrate birthday would thoroughly recommend take time visit never old disney ',\n",
              " 'visit magical last son always enjoy meet character food shape like mickey would recommend food option exit one variety visit frequently',\n",
              " 'kid love lots ride child adult food good lot place buy souveniors ',\n",
              " 'ride view character actor marvelous highly recommend lion king festival little think title show music dance spectacular anyone enjoy enjoy movie night parade bite crowd taste get slightly injure due immense numb people parade fun watch getting ride difficult queue usually min long ',\n",
              " 'definitely happy place earth start day photo op balloon make sure photo pass get great photo take pro opt daughter princess day stay hotel near restaurant make sure catch day night parade ',\n",
              " 'great place visit age really clean worker allow line jumper good small park make easy navigate keep go back see thing miss ',\n",
              " 'went yrs old yrs old yrs old fun since already know enjoy know character crowded usual go sunday cny period ride kid friendly much much attraction compare many year back visit great kid adult ',\n",
              " 'wholesome place take kid gripe small world ride close due upgrade love food cater many cuisine asian western miss light saber churros ',\n",
              " 'sure anaheim park small much fun travel year old perfect enjoy day park quite see everything day perfect give us luxury time see everything time spare blow away show mickey wonderous book lion king incredible skip moana schedule rides thrill definitely good fun disney amaze knack make kid ride fun adult toy story land parachute drop well make sure get rope drop maximise time park food expensive good enough choose week day low crowd nd week jan crowd good take train mtr  part experience easy plan saved money buy ticket klook easy use often get discount voucher shop main street wait rope drop rest park store parcel collect end day consider book character meal e g breakfast disney hotel get great character snap save need line precious park time ',\n",
              " 'friend end hong kong trip disneyland since late flight even check hotel purchase ticket concierge include bus ride drop luggage right entrance disneyland reasonable fee special place disney hold luggage day small disneyland compare anaheim florida definitely fun see experience food inside park disappoint overall time see experience rest hong kong  worth time mtr station right exit easy catch catch airport express ',\n",
              " 'nice place love much big spacious ride modern parade disneyland figure also beautiful nice unfortunately disney castle renovation could see firework show ',\n",
              " 'everything fun fun fun food quality ahould check since uts really pricy everyone pay',\n",
              " 'great day granddaughter absolute ball great main street parade ride kid expect food n drink tad expensive pleant spot us oldie sit relax',\n",
              " 'went disneyland family indeed place small boy girl also adult bring back fun memory child place bite small compare disneyland also lot renovation go bite disappointment parade light since character present parade felt like cheat nice experience see difference disneyland place ',\n",
              " 'back childhood life theme park full imagination attractive spend whole day morning even never get bore show lot attraction forget see firework close ceremony ',\n",
              " 'small disneyland compare country beautiful disney themed train reach park big disappointment due disney castle close firework friendly staff helpful',\n",
              " 'visited january st used mtr kowloon quick easy change quirky disney carriage last one caught p m parade flight fantasy p m paint night parade also p m love mickey projection show birthday edition magical twilight snowfall fun see area close renovation still plenty see plenty queue ride overall great visit even big kid ',\n",
              " 'fun go hk disneyland stay one disney hotel take private bus pre purchase ticket aware great senior discount this disneyland asia understand tokyo disneyland well disneyland hk small two park us oddly similar yet oddly different park clean small world refurbish able check fun thing note star wars chopstick star wars shop wish  would buy much indian food lunch spicy good usual disney sign rule get ride recall see sober part instruction anaheim orlando disneyland lantau island although fun would probably spend time thing next time ',\n",
              " 'disneyland make people happy kid also adult like parade something watch although advice early get priority pass budget permit enjoy day pass make great deal experience ',\n",
              " 'although small disneyland world discount value definitely worth visit ',\n",
              " 'indeed happy place earth kid enjoy lot eldest years girl year old boy year old boy year old girl light show parade fantastic even food yum ',\n",
              " 'choose chinese national holiday visit disneyland busy travel small kid worry go lot ride buy meal deal ticket find good value limit choice lunch moana show great park easily accessible year old ',\n",
              " 'really one happy place earth ambiance themed park make feel young free sure enjoy ride sadly go castle construction disneyland trip complete ',\n",
              " '  go disney park california orlando hk disneyland small comparison love park exhaust end day still allow activity  finish time schedule time friend meet friend nam cheong mtr ride disneyland line smart thing would buy ticket phone ride mtr waste time ticket gate once take round picture impression wow castle awful though block castle make much robust castle soon  understand park like japan usa  look snack around park look dole whip need get way food awful hk disney fact really surprise give much good food hk really pretty horrid friend bad lunch go along ride ride minute wait think acceptable think long wait hyperspace mountain minute checked parade actually hope asian woman dress cinderella snow white nope god forbid snow white asian suppose get lolafter snack fail philharmagic show exit park around pm took mtr straight tsim sha tsui nice dinner pm pm friend park whisky bar pm home bed one much amaze day type disney excursion never happen either california florida simply give scale park also awful public transportation either city would recommend come hk disneyland would let however  sightsee hk time disney  brainer go ',\n",
              " 'hong kong september park small three previously visit expect ride feature pretty quiet gay visit ',\n",
              " 'year old daughter love disney princess take disneyland absolute blast probably love parade well get see princess unbeknownst us hong kong week lead chinese new year city pack really affect disney trip way probably much busy monday normally would disneyland hong kong near big original disney world orlando yet paris tokyo disney compare even though park big two america miss anything year old would lack ride activity old kid teen classic small world great trip ',\n",
              " 'lucky weather great go mean quiet wait ride may dissapointed still beautifully put together ride small still lot fun would recommend afternoon morning need spend full day ',\n",
              " 'place nice visit paris usa one great  foot much little child show even great really wait space mountain nice ',\n",
              " 'never disney land visit know much excite daughter place crowd everything super expensive ride childish enjoy queues long else expect popular destination even parade excellent enjoyed thoroughly ',\n",
              " 'relive childhood disney everything child dream colourful vibrant full energy great show great ride nice theme park totally justify disney brand',\n",
              " 'kid small comparison disneyland usa animal toy real animal anyhow good start make ',\n",
              " 'daughter experience princess one whole day memory lifetime always treat visit disneyland ',\n",
              " 'great opportunity experience hand magic disney visit disney park nice visit park magic asian flair many similar attraction like one us familiar time ',\n",
              " 'hong kong disneyland big resort lot pack park easy navigate always something see character encounter take place time throughout day park often without crazy lineup separate section park unique good organize gift shop something little different lion king show amaze entertain great place spend day two hong kong ',\n",
              " 'love disneyland would recommend hongkong disneyland reason are staff hongkong disneyland good like disneyland disneysea tokyo  rude n polite difficult speak english better go dufan jakarta disneyland hongkong hear staff shout people line attraction smile disneyland hongkong staff ',\n",
              " 'every year come disney child every year wrong last one prices entrance ticket outrageous specially take account ride minimal food price normal even disney super hyper expensive horrible food even junk food tasteless only good thing place leave ',\n",
              " 'go disneyland adventure place price enter ridiculously high bother skip line thing coz worth get early enough get go ride lunch famous disney castle undergo renovation indicate website gate drink food stupid little shop everything way overpriced photo take ',\n",
              " 'visited kid wife much fun we back sure disneyland hong kong many activity offer great time family love hong kong',\n",
              " 'hong kong disneyland small disney park crowd japan new ironman ride attraction old one close replace ',\n",
              " 'nice place like mickey mouse kid feel great meet real cartoon character spend whole day feel refresh fun ',\n",
              " 'small park u finish one day maybe little still interest everytime visit disneyland end ',\n",
              " 'like unhelpfulness staff pre purchase meal voucher lose soon enter park go back one store check drop pay merchandise store lady rude rudely ask bow know  even find ask many people come look food voucher say none could believe crass people request reception reprint voucher since bar code refuse say show backward technology  big deal reprint bar code someone already use voucher bar code would work anyway harm reprint christmas holiday crowd good organise place close since expand parade fun  ride especially star war grizzly gulch ',\n",
              " 'concierge hotel find phone leave taxi would accept tip truly go beyond actual park great  rigid seem like silly rule large amount old teen early girl attitude main attendee great courtesy guest happen  selfie ',\n",
              " 'buy ticket klook easily access disneyland entrance print document present staff entrance bad thing present cartoon wait take picture donald duck daisy show short time waste time lot woody toy story show morning almost cry staff tell woody show parade time evening long queue wait machine wait around minute hour play minutes food disneyland really good choice eat ',\n",
              " 'though hk disneyland fraction typical size age find fun one dislike mickey minnie donald goofy first time use day pass still complete major attraction good reason come ',\n",
              " 'always want see disneyland chance christmas eve disappoint maybe nearly may enjoy much expect see lot much character confront close exhibit ',\n",
              " 'sorry say much interest part probably disney themed train final leg journey senior think day would leisurely one plenty rest stop even close postive take train around outskirts tell us much see little enjoy rides yo parent carer food drink overpriced aussie would consider half decent highlight photo thanks visit disneyland',\n",
              " 'day easily spend much one day heaps young old young heart like adrenaline rush ride plenty ride sight see long wait period ride great parade light show dusk breath take must go prepare long day ',\n",
              " 'daughter great day disney get open much ride little get busy would recommend get fast pass repeat ride enjoy ride whilst wait fast pass time food expensive great overall good day fun esp xmas decoration nice ',\n",
              " 'experience visit hk every thing crazy wait time ride good one hour washroom close one half hour wait poor lady the food pricey ever micky would buy people people people small kingdom local want come wonder lose money every year well save time money thing else thank ',\n",
              " 'go euro disney paris disney land bite disappoint go disney hong kong feel disney vibes small attraction adult child great enjoy int',\n",
              " 'tad disappoint paris disney small fun ride disappoint lack variety retail therapy sorry disney go ocean park next time ',\n",
              " 'love disneyland ambiance parade everything great food taste ',\n",
              " 'overall small park compare disneyland definitely need day go late april hot end buy umbrella brilliant day sadly castle open surround wire fence make photo hard overall splendid day line issue max wait min',\n",
              " '  write honest truthful opinion park  pay anybody discredit disney hk go rip expensive overpriced park even worth hk let alone pay hk attraction ride garbage decent food court price food three four time price theme park big victoria park hk those comment wonderful time must pay disney high something would rather go ocean park much big much thing see get disneyland pay us ',\n",
              " 'easy get via taxi approx hkd airport lion king mickey storybook well show park fantastic parade even adult feel include disney atmosphere food drink little pricey ',\n",
              " ' experience disneyland n great much fun partner space ship roller coaster andy toy story tarzan tree house cool mickey mouse show unexpected backwards train ride great n challenge good get scream time lol worth come back age u r welcome',\n",
              " 'visit superb amusement theme park two time already last visit take yr old father enjoy like child whole area divide zone zone uniquely plan design speciality zone mind zone ride show eatery area love grizzly bear mine area stupendous ride zone plan hot water geizers rocky mountainous type excellent also space ride area good starwars themed people go around ride great also like little child boat ride show little little excite us  really small kid nice rail line around park easy travel buy online ticket website make enty super easy also priority pass us free father senior ticket cheap pass really help us see everything fast u need walk around lot lot rest place refreshment available take slow protect head hat one day finish like sweet dream interested people take two day ticket incline also hotel inside include package designate time themed festivity procession firework attract lot crowd journey city take around hr discounted ticket available klook dot com also overall lifetime dream come true dream go disneyland last yr minimum happy ',\n",
              " 'visit anahiem disneyland many year ago expect much hkdl however thoroughly enjoy vist highlight marvel iron man experience unique hkdl also mystic manor twist haunted mansion quite busy day go opt two day pass still manageable issue find table eat queue starbucks coffee ',\n",
              " 'great day family minimal ques see park one day going back day watch show easy train ride park ',\n",
              " '  long time since last step hk disneyland actually little year ago go hk disneyland run run thru park go edition time lol so time park direct see show ride frankly queue scary unless go thing morning buy get fastpass day enough see show ride ok certain thing renovation include good love castle thus firework night though never stay late stay new mona show lion king show favorite small world ride pooh ride course good love parade usual magical little see mickey much disney character ',\n",
              " 'spend daughter birrhday disneyland per dream come true show ride shop peefect gift give child also realize child good wife enjoy day gegerally get tire walk day though walk whole day intermittent rest meal garden perfect way enjoy whole day highly recommend ',\n",
              " 'good day tire kid unfortunately time much due queue wait around probably would choose go back especially price s ',\n",
              " 'visited australia enjoyed ride parade show disappointed toy train ride close knew castle would renovation big let leave decide pop gift shop buy mickey mini mouse plush toy chinese outfit sign say hkd go pay girl behind counter say hkd take colleague show offer sign say apply mickey mini plush toy duffy friend toy girl condescend make us feel unpleasant accept buy hkd leave hong kong airport day late disney store airport know would one see deal plush hkd ask apply mickey mini mouse lo behold girl store say hkd disneyland park store honour offer store disappoint staff rude try enquire offer rightly give everyone airport store give us offer clearly state stand main disneyland make would great day disneyland unpleasant discourage family friend visit hong kong disneyland due unpleasant experience disney would like much honest promotion honour state price ',\n",
              " 'disneyland make think happy thought enjoy day much fun almost realise almost close time definitely come back real soon ',\n",
              " 'else possibly say go disneyland already say truly magical place bite different original disney california space mountain combination space mountain star wars quite hysterical hearing r ear ride dark haunt house combination raiders lost ark style seat fact haunt house jungle cruise way well california disney whole adventure land green lush toy story land incredible full lot great ride thunder mountain amaze much well california super easy get use mtr ',\n",
              " 'year ago park slight change time firework night parade disney character look halal food place adventure land serve asian food quite resonable price ride please go iron man ride also go star war jedi train fight darth vader starwar fan must miss every ride wait time minute overall park good organise ',\n",
              " 'whilst many ride disneyland paris still good day light show great seem lot ride cafe close know castle open little disappoint ride especially consider cost ticket ',\n",
              " ' thing agendum finish check hotel go disneyland time trip mom son even though tire travel feel happy place earth would cheer everyone buy ticket klook helpful line long seem catch well time picture mascots enjoy simple ride small world intense visually interactive mystic manor ',\n",
              " 'family go everyone love although small defiantly disney worth go disney fan popular ride restaurant character park also get special disney charm pandora ',\n",
              " 'family five kid baby go hk disney magical day find plenty even small kid unfortunate thing happen inconsiderate staff hurry us delay due baby issue thing note many show light english still fin modestly reduce enjoyment time ',\n",
              " '  great visit disneyland miss spectacular show wish add much thrill ride ',\n",
              " 'friend go last jan year enjoy roam around ride get chance visit side roller coaster think ferris wheel castle still renovation fire work display suppose complete disney trip think well visit castle ',\n",
              " 'love disney land something unfortunately enjoy shanghai tokyo disney land wayyy well nothing wrong hong kong one think small one basic ride disney land fan like must',\n",
              " 'stay explorers hotel night day access park perfect us year old go doe want go much ride park good run manage thoursands people really good perfectly maintain truly disneyland lovely music play everywhere plenty staff whenever question need help lot food cooldrink option create happy place love ',\n",
              " 'many ride disneys easy get charge fortune bag storage cheap locker bag big castle still build great yet ',\n",
              " 'feel disneyland like usa paris many people winter fast pass free wait line great day usual ',\n",
              " 'two ride land area several ride close park small ride compact small space ride short well show lion king moana disappoint line minute wait time  get cook squid sell kiosk taste like beef jerky take subway get disneyland',\n",
              " 'rd dl park visit go anaheim park went january degree celsius perfect walk around fantasy land toy story land always busy rest park generally quiet longest line see dumbo ride min wait dl hotel guest get priority pass use popular attraction line basically min walk onto ride highlights grizzly gulch mine car ride iron man experience hyperspace mountain favourite show mickey wonderous book favourite parade paint night characters two day see character seem easy access california also interact well overall day enough regular traveller disney freak need day see everything day go major attraction time take time much little stressful california castle get renovate complete believe next year ant man wasp attraction open march great park lot fun ',\n",
              " 'disney abre time specially visit child visit disneyland california disney world florida disappoint like disney pretty way far complicate get expensive small attraction old classic park like jungle river cruise dumbo small world etc ',\n",
              " 'local annual pass bring kid visit almost month despite park big enough full day travel extension may take year late perhaps day visit good understand package tour stay disneyland resort hotel compliment ticket visit theme park good ',\n",
              " 'brought mum time disneyland love much bought merchandise wear like child park toilets however clean queue elderly ride ',\n",
              " 'much people themepark one small much ride attraction name people flock place country good disney park one ',\n",
              " 'adult son wonderful day dec bid disney fan go china complete around world disneyland park go hong kong shanghai park like disney operation clean good lay great service good worth money expert mirror la plenty people speak english little enough point right direction rides great food selection extensive night activity good long subway ride hong kong pretty long walk front gate important tip take kind bag purse put whatever need pocket save hour get security line long line people without basically walk right ',\n",
              " 'hong kong disneyland magic magic kingdom much small size therefore little crowd easy navigate downside quality price food offer restaurant hotel really option unless one take subway site also hard find willingness employee accommodate special diet gluten free granddaughter celiacs ask ice cream dish rather cone would think ask something unbelievably difficult would give us ice cream cardboard paper french fry container plastic cup use serve sundae find reluctance make exception order restaurant surprise find place disney brand especially consider price food actual park ticket hotel ticket reasonable ',\n",
              " 'would spend money go america go hong kong disneyland carefree trip train arrive late morning see lion king show go ride watch halloween parade eat drink ball leave nightfall highly recommend ',\n",
              " 'resort nice provide great experience kid please check weather plan trip visit hongkong disneyland rainy season rain much time resort perform parade firework ',\n",
              " 'adult great time eat burgers starlight go handful ride watch big parade ride train buy lot souvenir',\n",
              " 'park day jan weekday park crowd much ride wait time little min weather great good however firework end parade weekday disappoint ',\n",
              " 'adult visit disneyland experience awesome kid happy see favorite disney figure try buy ticket online avoid minute queue even weekday early entrance make much attraction since wait time attraction min wait time one day ticket enough early look taxi get disneyland way cheap uber since get cold around degrees celsius december',\n",
              " 'much amaze days disneyland make son special need wheelchair feel like prince made everything easy super friendly',\n",
              " 'december really different kind ambiance hk disneyland seasonal show keep go back much ',\n",
              " 'visit two young kid call highlight holiday v small park compare usa park still worth ride great worth get fast pass well ride far iron man ride although much scary one toy story land winner kid especially hot wheel soldier ride also love main street food great expect get kid visit hk park definitely worth visit day ',\n",
              " '  would recommend go disneyland january crowd little weather great visit day uncrowded min long wait attraction ideal kid year old night parade highlight ',\n",
              " 'disneyland oceanpark pm day much enough boring thd adult decent great decent kid depend much love disney character curiosity experience hype disneyland please opt oceanpark amazinb ride many theme like zoo aquarium waterpark rollercoaster ride experience definitely well option ',\n",
              " 'january visit hongkng family trip international trip course complete without visit disneyland pack everything need trip baggage hahah enough night stay know temperature hong kong time increase degree even degree leave way back ph jacket bring enough insulate us cold weather even time  long time hongkong even experience kind cold weather one lesson learn travel always check weather much ready enjoy trip still enjoy disneyland tour especially daughter love minnie mouse hopefully go back feel young heart ',\n",
              " 'visit hong kong disney remember remarkable time many year ago time think worth price admission great getaway several hong kong ride comparing shanghai disney prefer one little much spend two day stay little long disney fan count disney little one pure disney heart ',\n",
              " 'nice time go see parade queue take picture mickey minie tooooo long ',\n",
              " 'husband long layover airport leave bag left luggage counter terminal catch blue taxi disneyland visit disney park states many time excite see similarity difference hong kong park arrive around pm absolutely queue ticket counter employee kindly inform us need purchase fast pass ticket give small numb guest park day right long queue minute winnie pooh otherwise walk right ride wait minute never see disney park little crowd visit january th like disneys park charm good lot construction right include castle construction tomorrowland strong focus photograph many character meet greet photo opportunity everywhere perhaps due new instagram focus world live fascinate see many dress guest ready picture high heel designer dress lipstick etc normal turkey leg eat guest florida park park appear quite small compare ca disneyland spend hour park ready go ride majority ride roller coaster bite much excite states big grizzly mountain runaway mine cars look like thunder mountain railroad much much excite also interest see similarity difference mystic manor haunted mansion also new ride experience see states glad take full day initial visit hong kong visit disney perfect place spend long layover ',\n",
              " 'smaller much little challenge ride ocean park hk disneyland nevertheless really deliver go hkdl couple day op think may theme park overkill easily manage keep go open arrive prior start close final street parade family include year old awesome time line short thursday january weather perfectly goldilocks zone ride fun albeit much challenge vibe ideal get fully adult guest wear mickey minnie ear hkdl headgear even recommend fork slightly extra buy combo food package something normally eschew definitely suggest good worth purchase online prior go go one park suggest hkdl balance clean easy queue little walk unless much local flavour want much thrill seek ride ideally make comparison either way enjoy ride ',\n",
              " 'visit florida disney world three time hard anything live one florida love disney magic spirit create hongkong disney small go part hour buy much day pass necessary love walk around feel atmosphere perfect ',\n",
              " 'get birthday badge happy service crow give excellent service try make everything magical patron possible ride one never miss mine ride totally worth accidentally break piece glass item shop pay crow female want pay know genuine accident shop hotel hollywood ',\n",
              " 'small still huge area attraction discover one day go open time week day otherwise terrible experience lucky visit mid week day many attraction area much people queue ',\n",
              " 'nice escape city day visit disneyland easy get take train hk central sunny bay tung chung line change sunny bay purpose build disneyland line mickey theming literally everywhere resort around hk around us one day pass one day really need sting little locker charge though disney touch expect disney park small compact lucky day visit crowd low never queue much min anything hyperspace mountain iron man ride great tomorrowland probably well adult guest mine train grizzly gulch great mystic manor seem strange use haunted mansion charm almost everything kid friendly fantasyland seem take large proportion park florida california quiet food outlet close skyliner diner explorers banquet hall good choice plenty seat',\n",
              " 'disney small one day pass much adequate castle close refurbishment nice pic castle sound area castle also half size disney resort mickey light show main street excellent good sadly night show wait cancel min due start mins light rain shower visit florida disney many time obviously far superior main comment say every single staff member hong kong look miserable really want comparison florida staff burst smile fun many large ride two fast pass ride eat chinese restaurant average food would definitely recommend visit compare disney park  great day ',\n",
              " 'assume small one tokyo tried ride extreme rain cause parade cancel dissapointed okay last minute ride park close expensive okay ',\n",
              " 'park crowd disneyland park layout make easy hit big ride day two day would ideal complete show meet greet food option vary quite good ',\n",
              " 'experience disneyland unforgettable start end happy weather bad enjoy ',\n",
              " 'disney park prepare one small still great attraction feel like disney numb attraction close visit one day pass sufficient get add meal voucher though great value restrict eat',\n",
              " 'family amaze time yes  small make beauty dare say originality without stray basic disney experience one day enough wait see expand future ',\n",
              " 'main attraction visit hong kong disneylaned happy trip day spend mickey mini must see age much kid year ',\n",
              " 'buy day ticket please try much possible spend day much take absorb enjoy go every ride possible matt feel young go park truly world even miss show entertain disney fan young old everything touristy mickey mouse waffle star war churro minnie ice cream pic character toy souveneirs take ton pic memory never leave ',\n",
              " 'main destination visit hongkong forget purchase ticket online come void long queue counter track suitable young child souvenier shop pleanty offer night attraction also entertain us much',\n",
              " 'disneyland hong kong small la disneyworld park florida make enjoyable day mtr train take right disneyland easy fast affordable complaint husband donut ',\n",
              " ' time go disneyland disappoint see show moana lion king ride also see parade pricy ticket get spend whole day park much fun would highly recommend ',\n",
              " 'bite disappointment queue nearly minute ride even want get fast pass ride tell pass available park big walk around everywhere young kid rend wagon hkd per day entrance fee comparatively high compare country still worth come kid love ',\n",
              " 'th visit hk disneyland everything close proximity queue bad minute top bad new year day still shame firework know beforehand book dinner would normally watch firework display ',\n",
              " 'great park great kid year age big day push kids adult love',\n",
              " 'visit hk disneyland year compare last time toy story good place visit star war theme tomorrowland big disappointment queue long time commander post one r shanghai disneyland much well p m paint night parade fantastic ',\n",
              " 'excellent day disney queue much ride little min philarmagic amaze always really nice feel park far little crowd florida iron man experience highlight unfortunately even parade cancel due inclement weather whole hong kong public transport cheap efficient frequent ',\n",
              " ' family kid yrs yrs go disneyland christmas eve read review know prepare crowd say pleasantly surprise book ticket online klook prove effortless show qr code gain enterance go inside main enterance gate open disneyland california roughly know ride want get head straight ride quite ride little wait time make way around park easily pick ride depend wait time day suggest wear comfortable shoe yes small park still kilometer walk ultimately great day would definitely recommend hong kong disneyland visit ',\n",
              " 'stay disneyland hotel spend half day park kid hire stroller park young kid hk ease kid walk tiredness good spread attraction ride old young food park expensive hk bottle water lion king mickey magical story book show outstanding minute long align small kid attention span disneyland park app come handy display wait time ride attraction good help navigate park ',\n",
              " 'spent day park christmas eve experience magical always park fill crowd affect enjoyment day used disney app able gauge approximate wait time ride come early day able experience good part park highly recommend grizzly mine car hyperspace ride also watch show parade lion king show particular magical really bring back kid us even christmas themed show memorable good orchestrate definitely magical unique experience hk',\n",
              " 'average wait time much popular ride min back future replace ironman guess buzz lightyear also remove hyperspace mountain bright windy open eye  crazy non stop high speed roller coaster ride prefer grizzly gulch roller coaster speed vary include backward ride cycle high speed ride  much bearable hyperspace mountain food expensive park expect average hkd meal ',\n",
              " 'magical experience young child totally much fun old child many thing well time night get much magical feel many photo upload ',\n",
              " 'go day ticket disneyland offer promotion voucher free pop corn would strongly suggest buy advance online ticket skip line may want compare official disneyland online travel provider get well offer theme park small compare tokyo one yet go christmas holiday around min wait time expect attraction end try ride ',\n",
              " 'show park minute open worry traffic entrance park pretty empty open park full half hour official open main street able get photo little shop open tomorrowland ride open early open little late castle construction good picture right ironman ride fun line seem since shanghai disney open crowd hong kong disney big ride want funny enough long line jungle cruise haha new favorite ride mystic manor new terrific version haunted mansion really good sure see love park make reservation crystal lotus cute dim sum reservation able get write separate review restaurant whole park shop pm head go disneyland hotel around p m crowd come insane apparently everyone arrive late stay late happy come early leave early happy go enjoy get discount ticket klook com advance crowd  pretty small park easy manage go fun ',\n",
              " 'year old son small park compare park u s definitely doable hour favorite ride grizzly gulch hyperspace mountain iron man experience numb one tip get right line buy ticket get park super quick walk ride thursday january line long minute around noon also get fast pass hyper space mountain morning sure come back late without wait would also recommend download hong kong disneyland app see wait time get map park eat main street corner cafe sweet sour chicken shrimp burgers really good easy get mtr take us minute arrive kowloon think would come time definitely worth visit little one time ',\n",
              " 'nd time visit hkg disneyland child enjoy every moment place worth visit ',\n",
              " 'visit disneyland family partner partner sister probably young enough get away act like big kid even though young adult plus parent great time ride fantastic mystic manor fantastic experience appropriate age go ride three time get iron man experience early soak everything part park offer awesome section buy ticket include meal drink snack definitely well value heap option restaurant eat choose wisely use voucher  plan purchase souvenir take extra cash get quite expensive mtr train disneyland experience completely disney train make experience much magical kid ',\n",
              " 'rd visit since every time something new keep update add attractionsunfortunately stop fire work due refurbish princess castleit big one day need enjoy itmost attention year oldso family love',\n",
              " 'visit disneyland hong kong mid dec lovely time especially kid crowd entrance actually buy ticket hotel save us make queue want explore everything well go morning great ride queue quite long accompany kid ensure extra money ride toy shop picture take etc worth price pay nice moment ',\n",
              " 'go girl age enough everyone surprise think eldest would bore although quite gear little princess enough good ride nostalgic experience entertain much honest really look forward disney thing loathe plastic environment good much much entertain  would anticipate mystic manor ride good queue abysmal clearly signpost riverboat ride fantastic largely guide deserve either oscar pay rise brilliant commentary runaway mine carts ride extremely good fun good term safety queue move surprisingly quickly relatively painless even disney cynic like much prefer disneyland paris find much much plastic money grub ',\n",
              " 'think hype hong kong disneyland resort much deliverable actual experience expect expectation actually much video picture line character mingle couple come minute picture shoot head back line video show disney character walk around park interact people make ambiance park much disney like actually expectation expect cylons jedis mickey minne goofy etc see park unfortunately actually look entertainment bad place clean staff friendly magical experience reach peak go much expectation else may disappoint like worth visit repeat ',\n",
              " 'previously walt disney world decide take kid hong kong disneyland disney park experience decision mainly base small park little bite easy little leg absolutely adore six year old go every ride apart rc racer due height apart mystic manor find little scary love look delight three year old face also sweet fantastic warm big park u s a one day park definitely every single ride apart rc racer tarzan house every single show apart moana parade net character none garden fit two day open close stack fast pass hand maybe slow due little kid us know people park one day justice park lose star food merchandise food gross say merchandise well unfortunately heap shop main street stock exactly merchandise apart pandora personally wear nothing adult variety selection poor would go back probably look forward next disney park ',\n",
              " 'go hk disneyland several time much change parade still attraction good new attraction come unfortunately replace daughter favorite attraction part near castle close renovation make pleasant take picture visit park nice experience several time bore ',\n",
              " 'place overrate entrance fee expensive queue ride long crowd horrible tokyo disneyland much well btw ocean park way well ',\n",
              " 'love disney character since kid bring daughter love every part love parade every different season always make goosebump love music make much photo character daughter worth pay ticket year pass place happy place earth ',\n",
              " ' time disney magical time must say bite scare attitude staff certain review read staff visitor local foreign polite great time fan roller coaster disney hong kong place go offer much family moment spread magic beautiful show like moana lion king story book park big day watch time disney parade prepare queue minute popular ride show surely go back disney hong kong ',\n",
              " 'way well one shanghai well disneyland paris big line long much season like anywhere else hong kong need wait long queue get ride ',\n",
              " 'visit hong kong disneyland two son twenty seem enjoy much lots see much tame level prefer much excite ride head ocean park us disneyland happy place earth day expensive yes make much laugh along day remember huge discount normal entry fee hkd hkd purchase senior ticket online many say official ask proof age purchase ticket ask us make sure you great day thoroughly enjoy ',\n",
              " 'busy time year long queue much ride limit express pass  disneyland still good worth visit wifi  patchy  expensive would expect kid love ',\n",
              " 'la one good wait time crowd get getting two day pass help kid tow ',\n",
              " 'compare universal studio disneyland hongkong overrate tickets expensive half theme park renovation food way expensive quality product little upgrade taste serve course presentation photo op mascot minute additional time atleast post timeline map direction visitor reference sellers rude give unless pay go pay order duh good kid like extreme ride picture maze impose limit time also recommend child teen enjoy extreme ride food drink outside prohibit food awesomely tasteful really waste money eat quality rather pricy ',\n",
              " 'two day visit disneyland bitter disappointment park busy move around freely average wait time ride minute option fast pass norm many theme park around world see disney princesses photo opportunity reason young two want go disneyland photo opportunity full even arrive destination train around park go one way return point departure line coffee food result leave park early anticipate wait long disappoint experience say little back please visit christmas new year season ',\n",
              " 'bought day pass really worth every cent easy access via mtr take roughly around min tsim sha tsui mtr station explore theme park halal food provide prayer room muslim take picture character queue long regret enjoy game queue time little min please go weekday weekend plan come child take day pass ',\n",
              " 'disney go process renovation great thing come still great experience ',\n",
              " 'rides wise kid enjoy tyere edtreme ride food fair price got meal promo w ticket best go tge ride want morning w little wait time thennget fast pass ride tgen come back late really reminisce childhood one ',\n",
              " 'get sunny bay mtr station interchain tonmtr disneybought day pass december friendly weather day get promo x popcorn x disc hkd ride also friendly child new ride iron man space ship moana dance performance ride enjoy fast pass space mountain winny pooh come collect fast pass ticket firstresto full crowd long q suggest yo early late lunch bring yor snack delay lunch parade entertaint us afternoon singe fire work perform close day pm unfortunately time castle renovation firework xmast ',\n",
              " 'went begin month december disneyland already wonderfully decorate christmas light many performance season crowd highly recommend ',\n",
              " 'visit christmas th long line never end great catch mickey minnie stop book tour gray line tour hongkong candy gladys well get subway mtr ',\n",
              " '  tokyo disneyland anaheim disneyland hong kong disneyland small certainly  already hong kong miss ironman experience hyper space mountain big grizzly mountain runaway cars well attraction ',\n",
              " 'visited disney christmas holiday beautiful park holiday decoration enjoyed light christmas tree definitely fun day easy get mtr ',\n",
              " 'disneyland every child dream place always super crowd disneyland hand crowd yay go early morning morning crowd manageable manage get go twice ride wait much mins ride easy walk around christmas lighting see parade fun snacks store everywhere many show watch good organise place go weekday great go friday crowd ',\n",
              " 'disney land great fun stuff year ago ride like buzz lightyear base shoot utopia quite popular ride disney take away replace ride like iron man experience course ride quite good old one good also castle currently construction food quite expensive',\n",
              " 'many china pple push shove around without apology traumatic visited last year year nth much change prefer tokyo disneyland ',\n",
              " 'first time hong kong disneyland kid lot fun especially mystic manor toy story parachute ride place huge pack time go waste lot time queing ride even food lot stuff evenhave starwars ironman ride kid love met mickey minie goofy chipmunks donald duck ironman ',\n",
              " 'went hk disneyland last th december wife year old son even time anymore magical happy feel still palpable arrive expect inevitably spend much time area around main street much see realize move area attactions son particiularly love toy story land area give familiarity character even go back night time upon request also spend much hour line picture micky mouse long wait worth easy time line chewbacca r earlier we lunch dinner royal banquet explorers club respectively venue offer great food good choice maximize klook meal coupon hkd per meal pay excess plus free ice cream popcorn usual line ride bite challenge get easy towards afternoon choose one suitable son take lot great photo around park realize hindsight get day pass instead day maximize perhaps next time son old pm parade disneyland character get underway son matt sleepy perk especially see lighning mcqueen big mack eye catch move light show performer really look good glow dark led suit mobile stage parade go shop souvenir finally go back hotel via mtr fortunately operate midnight our recommendation really expect spend whole day park well avail klook park entry ticket meal savings overall hk itinerary accomodate consider day pass instead day really want maximize attraction without rush much kid surely enjoy downloading theme park application also greatly help conveniently see show time suggest also print klook park entry ticket possible easy present gate try open e coupon one mobile phone get confuse delay queue like happen case using say e coupon print official coupon gate use claim meal snack late on hope review help ',\n",
              " 'love attention design detail along basic great thing happen great day see thing experience many ride time think add another park solid one day adventure two day incorporate rest think stay disney hotel would good come california anaheim disneyland several time may somewhat pale comparison still fun experience also great people watch especially westerner snowfall christmas tree fantastic still love  small small world ',\n",
              " 'kid enjoy especially mytic monor lion king show story book show show superb wonderful time hong kong disneyland ',\n",
              " 'say everything magical visit xmas light brilliantly everything expensive inside lifetime experience ',\n",
              " 'december well year tobe disneyland festive problem huge crowd due toholiday season kids age enjoy kid ride good ride adult good job many activity good connect zone mystic manor scary funny big frizy mountain mine car amaze well ride the wondrous magical story amaze show miss kiddie ride u easily park iron man shark good thriller ride tomorrow land good food court well food explorer restaurant next mystic manor good indian food expensive u choice outside food allow cold day visit need jacket overall fun fill experience recommend ',\n",
              " 'would like show appreciation towards staff toys story parachute calm professional assistance towards us daughter injure head queue rd december although visit cut short staff leave good impression us thanks ',\n",
              " 'recommend explore adventure zone queue extremely long average wait time min ',\n",
              " 'spend whole day disney weekday went morning hardly need queue even afternoon queue little half hour maximum wonderful experience kid love show professional entertain stay night parade ',\n",
              " 'park good organize support staff helpful lot brochure map restroom restroom clean easy walk around manageable vegetarian food option almost nil road side stall area smelly non veg food rides safe safety check staff check start queue long ride min enjoy park ',\n",
              " 'little kid visit disney land rain day unfortunately upset train disney railroad fantasyland mainstreet close time p m even raining operate send many visitor back main street order get home get back main place dinner fact many people wet without alternate option walk way main street even without rain suit umbrella ',\n",
              " 'visited disney land wife three year old daughter daughter love kid friendly ride musical show good place kid go though limit ride adult however go kid like recommend ',\n",
              " 'arrive well time arrive go straight far ride lot fun couple hour runaway train great ride along space mountain still beat parade afternoon',\n",
              " 'castle close street parade pricey food souvenir open castle definite time maybe sometime unlucky us castle street parade instead projector show mickey appear sometime elevate stage though teen get unforgettable experience visit happen week october try choose another month date possible busy season expect long queue pricey hot noisy plenty long walksprepare wallet prepare stamen prepare crowd iron man experience well far small world ride show much miss book read show day enough take ride show long queue make difficult finish watch book ticket ahead time make sure waste even much time queue get ticket definitely need much time tour whole place ',\n",
              " 'time visit disneyland hong kong boy boy visit course eldest three visit never fail entertain us make us enjoy every moment ambience still fun enjoyable time visit party mood everywhere service staff accommodate always strive make everyone happy helpful never seem agitate request rides games new entertainment e g iron man star wars even old game good maintain clean still enjoy food price theme park food drink expensive meal cost us average hk pack drink kid save drink part disneyland hk good feel like child every time back ',\n",
              " 'like hong kong disneyland visit timesthe food particularly option wonderful chinese cuisinecoupled traditional disneyland classic ideal place soenda full day remember buy fast track pass ',\n",
              " 'superb nice dream come true firework attraction sleep beauty castle renovate place good lot happy inside',\n",
              " 'fair never go rival park florida however fair selection ride include space mountain big thunder mountain gear much towards young disney fan parades great good numb show opportunity meet main character park clean though staff adopt american style focus customer service staff good top make day magical worth visit spare day ',\n",
              " 'visit disneyland early november weather perfect impress ease locate ride get one point queue move quickly weekday imagine large crowd visit weekend holiday would definitely recommend revisit ',\n",
              " 'hong kong think go soo much well big ride whole park would consider big comparison place like thorpe park alton towers happy say would recommend thrill seeker go ',\n",
              " 'say must visit location hk kid adult also enjoy full well maintain ride house lot theme park within small world must watch show donot come back without watch parade firework',\n",
              " 'really enjoy reminder download app check busy ride get fast pass',\n",
              " 'wonderful time best time visit week arrive open get two hour crowd miss small world night beautiful wait clock strike every minute worry language barrier much everyone speak english sign english ',\n",
              " 'never disneyland seize chance much memorable experience hk ',\n",
              " 'dream celebrate birthday happy place yes happen thank supportive kid husband well since mickey mouse lover could contain happiness step train feel super cold welcome breeze hk disneyland fun ride really fun ride love mystic mano iron man experiencefood oh find expensive downside weather plan visit december make sure wear thick clothings really cold week ago price reasonable fun ride beautiful architecture must try happy place ',\n",
              " 'enjoy visit hong kong disneyland despite hurricane month early good job present park good condition possible nice compact park get attraction quite good substitute anaheim though ',\n",
              " 'disneyland park anaheim orlando paris hong kong anaheim always favorite really enjoy especially thing park mystic manor big grizzly mountain mickey wondrous book rope drop close hour much thing queue early small wait time late ',\n",
              " '  person visit hong kong december the weather c nice weather rain  able follow show time table buy day pass visit hong kong disneyland purchase day pass enough time complete theme park game activity suggest buy day pass day visit hong kong disneyland till pmbeside also recommend purchase disneyland ticket meal coupon online visit disneyland save time money happy family day hong kong disneyland ',\n",
              " 'fabulous day disney hong kong get long open much part queue long get ride merchandise shop amaze parade world queue time increase significantly late afternoon early even tire happy wander around take sight definitely go back ',\n",
              " 'park fairly small full fun day especially enjoy mystic manor iron man different disney park definitely worth see disney fan ',\n",
              " 'went december weather cold crowd unfortunately plan visit sleeping beauty castle  disappoint renovation also fireworks also visit jungle river cruise unavailable kid love place lot construction go ',\n",
              " 'several change like mickey wondrous book l love mickey night musical grizzly mine ride ',\n",
              " 'disney land live expectation timer  place straight story book though themed around disney story character many ride suitable much age group  place relieve fairytale world live show brilliantly perform try visit place work day make easy see thing enjoy ride per convinience ',\n",
              " 'perfect theme park especially family many kind choice arena see level thrill arena worry adult also arena like indiana jones train good challenge seeker',\n",
              " 'kids extremely happy snacks drink available easily staffs attentive everything good except specific group people cut queue pushy ',\n",
              " 'big either american disney size france japan unlike french disney english use french site like disney speak english  good make fantastic see island reclaim sea engineer skill behind fete breathtakingly great classic ride show even chinese addiction staff friendly welcome food outlet good need visit take everything unless go gate open ',\n",
              " 'enjoyed parade snow fall pretty pack parade though much firework castle reno ',\n",
              " 'disneyland always dream visit since small child disappoint great place kid matt age world something everyone prepare wait ride food drink stall everywhere plenty bathroom facility ',\n",
              " 'go tuesday week december crowd able go ride twice ironman hyper space mountain rc racer big grizzly bear run away mine cars my favourite ride rc racer big grizzly bear queue little minute park good manage staff polite year old daughter enjoy every time time ',\n",
              " 'fantastic time disneyland gap year new ride add night parade awesome initially sad firework night go night parade disappoint miss ironman ride thrill even y o son able enjoy take time complaint almost main course sell restaurant foodcourt way overpriced compare normal restaurant town sensible rule selfie stick allow inside ',\n",
              " '  small comparison la ride fun almost line never spend much minute wait line app great let check line time good ',\n",
              " 'lot construction way tone visitor inside souvenir shop without crowd control almost min line cashier check ',\n",
              " 'hong kong disneyland small disneylands suitable young child travel teenager offer excitement theme parks park clean good maintain ',\n",
              " 'need two day cover entire park kids love go early park open avoid long queue throughly enjoy park ',\n",
              " 'always stay final parade worth squeeze grab good spot seat near christmas tree disappoint shows every min final event make sure seat ride ',\n",
              " 'day sunday n monday december holiday daughter happily pose disney princess n enjoy ride enjoyed watch mickey wondrous book food okay disneyland improve well ',\n",
              " 'truly disney place showcase disney character lot shop one day enough need little day enjoy whole day end day parade awesome ',\n",
              " 'visited hk disneyland rd time experienced new iron man ride realistic ant man new attraction slate release mar sadly firework due castle undergo upgrade work ',\n",
              " 'disney fan place go interesting ride entertain live show lion king meet disney character beautiful disney prop castle excite souvenir shop may think disneyland young kid definitely agree adults like mickey minnie donald duck enjoy place ',\n",
              " '  family visit hk disneyland year end season provide climate atmosphere christmas themed show celebration take place park though day  great place child various ride show eatery family child friendly tip try go weekday crowd weekend understand really massive monday december crowd sizeable wait ride go minute much popular one thought day visit sufficient unless intend go ride show child ',\n",
              " 'pain expensive cheesy touristic rip one centre felt like entire life saving squeeze ok kid even get bore stuff quickly needs rethink',\n",
              " 'like disneylands hong kong quite small monday still quite crowd ',\n",
              " 'many place close renovation experience lot fun stuff fun roller coaster personally like shop part souvenir awesome many choice foods expensive delicious much say overall good experience us ',\n",
              " 'great day family avoid weekend july august nice new attraction seasonal theme bring empty bottle food drink expensive ',\n",
              " 'always nice entertainment good attraction two negative aspect price food option ',\n",
              " 'experience start take mtr disneyland thrill kid overall kid enjoy although crowd crowd control good manage get masse people organise happy show also quite masterpiece term overall experience showmanship enjoyed ironman ride ',\n",
              " ' visit hong kong disneyland impression bias towards tokyo disneyland prior hk disneyland apart rather small sleeping beauty castle renovation stand small park expensive food yet peak visitation help slightly rainy weather also ruin outdoor show parade manage cover ride show want day attraction like festival lion king mickey wonderous book iron man experience mickey philharmagic ',\n",
              " 'ride almost similar disneylands okay go one time see hong kong disneyland feel ',\n",
              " 'god love place big paris one much fun entertainment spot good organise buy fast pass though ',\n",
              " 'arrive castle close ride operate still pay full price eat meal absolutely tasteless fact wrong meal year order shabu shabu japanese outlet want order fish chip somewhere near goldmine restaurant close corn cob us ice cream terribly expensive wife enjoy visit disneyland see couple parade couple show many photo would much enjoyable child sure would cost lot much would want ice cream toy pop corn drink etc would prepare pay ridiculous price ',\n",
              " 'especially shanghai disneyland open much big numb people visit hong kong disneyland drop dramatically bad disney great hong kong people visit disneyland highly recommend especially kid ',\n",
              " 'matt disneyland go  still happy place earth visitor smile face young old conveniently locate seems like road lead disney',\n",
              " 'disneyland make basically child really amaze adult october busy time still day sufficient enjoy whole disneyland enjoy every time spend child like come back disneyland everything make mesmerise starting toy train meet iconic mickey mouse forget single time spend disneyland divide section two section ride fantasyland young child tomorrowland adult teen ride see ironman museum awesome show another show mickey mouse donald duck small world ride boat simply much charm well say much attraction equally awesome park super clean good maintain win find anything look dirty wear staff supportive halloween around corner whole park decorate halloween theme entry fee right price tag rest everything inside costly half litre water bottle cost hkd mickey shape light balloon cost hkd logically balloon cost little hkd inr india attraction also shop extensively basic shirt great party wear gown simple water bottle soft toy everything relate disney sale prices obviously high basic shirt yr child price hkd inr doll set small doll set back hkd inr visit disneylands one mesmerise brain refuse forget instance disneyland overall must visit place hong kong ',\n",
              " 'resident hong kong close disneyland visit often ever since open use yearly pass whole family awesome escape frantic sometimes dirty city life surround normal disney character see plus numb new disney marvel character marvel inspire ride favourites family include jungle river cruise grizzly gulch small world teacup ride slinky dog mystic manor staff almost always friendly helpful show parade always jaw drop definitely miss watch sporadic street performance street sweeper drummer amaze drum perscusion show base garbage bin clean implement also watch clean paint use water disney character literally street road really two possible negative disney experience limit selection western style quality food disney resteraunts lastly mainland china holiday disney quite unpleasant crowd well plan always try get open time little queue crowd say iconic firework show good worth hang around oh get train disney train station clean quick cheap way get great trip disneyland thoroughly recommend ',\n",
              " 'visit years ago great sure average wait time min food good well option popcorn public show great main street especially xmas show if go make sure buy express pass otherwise wait day couple ride ',\n",
              " 'enjoy two day visit hong kong disneyland small side compare disney parks run perfectly like mystic mansion favorite ride encounter overly long line time memorable kind surprise wide verity flavor popcorn like japan ',\n",
              " 'one day enough explore entire hongkong disneyland family kiddo take us two day roam entire park enter park make sure disneyland map park way plan day watch time allot different show show fantastic circle life even much fantastic long queue every show advantage get fast pass escape long line except picture take minnie mickey mouse endure long queue fast pass jungle river experience must water thirsty water fountain park locate map anyway selfie stick allow inside park ',\n",
              " 'use go disneyland disney world usa several time disneyland paris compare disneyland paris tiny illusion piece disney many favourite traditional disney ride say great time bring day pass much difference price day go also purchase food package meal snack food get deal fill struggle get food snack either popcorn ice cream meal full size dinner soft drink everything eat tasty possibly meal snack option would suit us well quiet go hardly queue ride need use fast pass all decorations christmas really good disappoint much way disney christmas ornament purchase great time still get small castle think one paris small huge comparison one ',\n",
              " 'disneyland disneyland one recommend go visit kid yes overpriced little bore honest',\n",
              " 'took daughter hk disneyland th birthday disneyland hotel hugely overpriced book hotel outside disney park beautiful much show love magic manor daughter love lion king show parade great bite short thing go bad though lot wait every ride minute kids get tire give ride food overpriced taste bad main dining hall usd tasteless meal food stall outdate corn usd sausage usd actually soft drink park cost hkd usd allow bring food another point  close christmas time lot christmas music play non stop include church hymn like hark herald angels sing come ye faithful etc sounds religious suitable kid bight brainwash say wi fi park family young kid recommend day visit heavy breakfast ',\n",
              " 'great place age go went week day good place busy thank god make lot easy get ride time lot old people different show matt old get still enjoy disney stayed day watch parade worth value money highly recommend booked two way transfer save hassle train espically travel little kid ',\n",
              " 'much fun favorite activity hk magical experience indeed big thank klook  able get much affordable ticket disneyland day visit totally enough especially weekend want experience ride take picture disney character ',\n",
              " 'already disneyland experience anaheim california usa want year old grandson enjoy experience expect big crowd saturday true enough fall line ride opt little crowd attraction bumper car area grandkid pass height test without notice little year old allow staff member position assist get information vendor man kiosk make disney experience worth amaze parade sadly firework night ',\n",
              " 'rides family friendly disability friendly mix intense relax ride exhibition show expect facade theme park intricate good maintain food item also cleverly design incorporate disney symbol design would highly recommend family buy meal combo ticket lunch dinner drink snack get much bang buck please view follow photo experience beauty theme park ',\n",
              " 'third disney park visit usual full disney magic hong kong small one visit also short queue crowd orlandoand paris bus service park hotel also much well paris proper queue system happy tick another disney list ',\n",
              " 'dream mine visit disney park around world th one get check wonderful weather pretty quiet day go halloween time parade fun kid enjoy never see disney park offer merchandise discount come noon definitely take advantage small like original disneyland unique  way definitely well thunder mountain park around world ',\n",
              " 'great place spend young one well kid year much ride option favourite small small world mickey mouse cinema show toy story unable due height ride wait time min stay p m pm christmas light concert show p m parade worth pre purchase ticket via klook cheap meal voucher really suggest ',\n",
              " 'family spend one whole day hk disneyland apparently still enough many thing see watch ride arrive gate open already place teem guest help buy ticket online cheap able skip ticket counter breeze entrance greet row souvenir shop row cheery greeters kid race towards ride us adult appreciate already starbucks along main ave provide caffeine respite every appreciate numerous pocket bench rest helpful staff consistently provide assistance query love photo op cinderella snow white good lion king moana show ',\n",
              " 'hk kid grandkids love disney orlando take day couple thoughts compact park day easy get taxi train ticket compare price orlando stuff inside little expensive really vip experience worth especially park busy sure get armband parade get well seat possible jockeying weather perfect november weekday crowd weekend crowd especially mainlanders since completion high speed rail assessment ',\n",
              " 'nice place visit loved never disney land quite experience restaurants stall game ride shop loved ',\n",
              " 'full mainland tourist spit push shove happiest place earth expensive ',\n",
              " 'arrive around minute gate open stay day close much fun course travel kid lot break  would take enjoy parade firework muslims traveller prayer room even ablution area although label musolla use religion give credit think ablution area prayer room spacious enclose child rest pray much ride suitable even year old daughter although food cafeteria also delicious ',\n",
              " 'work disneyland california quite time honestly say hong kong disneyland deliver magic great place date hang friend take whole family small world incredible hide character disney movie throughout thunder mountain absolute favorite ride slightly old kid adult show great see festival lion king mickey wondrous book amaze moana show okay moana sing leave good food option lot land explore definitely small disney start early see much park day turn day pass annual cool let put pay amount towards full year oh free wi fi throughout park looking forward head back ',\n",
              " 'hit ride hr love place go mid day october crowd ',\n",
              " 'little small compare disney park castle jungle cruise ride close queue short family great time ',\n",
              " 'spend day explore park visit disneyland hong kong disney fan enjoy park doe great job whole disney experience many ride similar would find walt disney world see park quest visit disney parks around world crowds manageable weather perfect visit ',\n",
              " 'well every go well every well every one shold go well every well well',\n",
              " 'know disneyland small one world visit tokyo one visit experience tokyo good thus small expectation really enjoy attraction much well tokyo one well attraction enjoy mystic manor feel kind childhood innocent miss mini lion king musical really worth watch ',\n",
              " 'visit disneyland plan solely son year old would also much fun know whole environment one gala celebration different world create within disneyland make one new experience humanly impossible ride fair bite walk different land quite wait popular ride fast access plan though downer food option fussy plan movement disneyland around restaurant serve food like dine option bite pricey fare offer come expect entertainment park et al ride brilliant wife particular get nostalgic small world ride odd year iron man ride miss ride couple piece advise a plan route eg come iron man ride even nearly wait around time plan want lunch decide route cover various land b plan ride attraction want cover must c get hold map enter show timing different show timing vary also popular one go full sometimes min advance d finally see time parade even grand finale park close time miss get crowd try get get good path side place honestly near impossible cover park single day even much good one would take day cover even rapid pace two day would give ability cover park relax manner goes without say must ',\n",
              " 'disney love family must us park open late disney park work us actually sleep vacation park small absolutely lovely find negative pushy guest parade time virtually line much ride hotel give us fastpasses need single one ride actually walk wait wait minute dumbo think would like see much offering meet character cast members friendly quite usual disney standard overall wonderful small park easily full day ',\n",
              " 'always fun visit disneyland the hype begin commute disneyland transfer disney train mickey mouse shape window children always fun disneyland adult trip also appreciate adult friendly ride points improvement clean much accessible public toilet healthy dish menu child english main language ride character mascot play end stay hotel disneyland good amenity room spacious clean stay true disney design little pricey expect get money worth amenity service privacy security property decor sharing disneyland train disneyland hotel photo ',\n",
              " 'lovely full day disneyland hong kong paris california florida park hong kong tiny comparison still fun day area castle still partly obscure construction wall crane soon demolish new super castle really excite park mostly bilingual english cantonese mandarin occasion would hilarious mickey friend speak cantonese tips highlights park go mystic manor unique experience amongst disney park fusion ratatouille haunt mansion ride big grizzly mountain runaway train fusion exhibition everest big thunder mountain launch coaster hyperspace mountain hkdl version space mountain go twice love rest park ride similar rest park around world mickey wondrous book really special show highly recommend see performance full attempt get seat  fusion florida happily ever night time show paris peter pan night time show live singe performer excellent parade excellent opportunity see lot character arrive minute get spot want meet character get park gates open lot character meet main street usa main park open mickey minnie goofy donald daisy chip dale negative day weak side show performance e g moana home come christmas stage show  would avoid use time go ride also shop always ram overflow queue snake around shop could find end line want get gift want queue hong kong disney store airport price fair bite stock ',\n",
              " 'love princess love show good place entertainment kid love enjoy ride love take picture firework weather cool ',\n",
              " 'cold weather around visit january bite rain also well time go month still go show must go dream come true kid well kid around years old height limit ride ',\n",
              " 'make sure download disneyland hk app easy map access know show schedule day helpful us able pace schedule whole day disneyland mtr disney easy good food inside quite expensive even drink suggest bring refillable tumbler water walk whole day must watch lion king show festival parade ',\n",
              " 'beautiful place one keep go brought kid school break lot change new attraction however come wrong time lot construction castle closure put language use hmmm mickey talk cantonese put stick english instead ',\n",
              " 'spent weekend hk daughter gymnastic meet decide reward afterwards family day disneyland great fun especially since join friend event daughter cartwheel way entrance crowd bad castle repair traditional firework cap night instead light show parade half bad ',\n",
              " 'awesome go monday get see every show ride every ride want wait time minimal crowd sparse would say one poor experience come cast member responsible maintain line pluto meet greet quite rude yell child repeatedly yell parent child parent get line allow rejoin line ahead son also frustrate wait quite time see pluto find overly expensive  disney ',\n",
              " 'read alot review bite concern worth go absolutely amaze experience note huge disney fan disney part visit arrive early seem start tourist season busy bad stand line long minute park open allow shop area obviously buy stuff make money sooooo much choose go much ride go twice day night buy ticket food voucher klook great saving also really worth ride really fun overall ride experience amaze thoroughly enjoy mine cart grizzly grouch area good star war ride toy story horse shoe parade watch day night parade absolutely spectacular definitely worth go tip though find spot minute parade due start alot people also try find spot towards end main street usa road split different park last float character go way bottom road also manage watch two show lion king amaze moana great lion king definitely way well experience let character walk around available short time slot limit amount people try plan day around ',\n",
              " 'disneyland must visit hong kong locate near airport way depend stay stay new territories sha tin fortunately bus go lantau island plaza change disneyland bus r take us straight disneyland take around min get many way get disneyland mtr blue colour taxi bus bus definitely cheap option cost hkd per person entry park quite expensive cost per adult per child october total cost gbp within park many various ride suit age infamous hyperspace mountain jungle cruise eatery within park reasonable price visit park weekday even though lot people park queue ride good average around minute wait parade miss good put together visit october construction work carry princess castle firework display even overall fantastic day young child love time disneyland hong kong definitely worth visit tips visit weekday pre book buy ticket see deal package ',\n",
              " 'crowded worth love light show night christmas music play snowflake fly air instant feel joy christmas ',\n",
              " 'entry expensive kid year free lot people tell us worth crap however enjoy kid young ride ride suit age group huge variety food restaurant cafe around safety concern lack security guard police presence catch man take picture child along kid watch moana live show accompany child family take photo young teenager confront delete speak english managed delete stop spot time wait turn ride see two native people take photo child ask stop intervene people speak english stare like completely normal react make upset angry furious behaviour unacceptable especially come child contact authority staff seem care important people make aware alert please watch kids times take eye ',\n",
              " 'must trip kid got kid dress princess enjoy magical experience child give birthday badge hotel pin get recognise disneyland receive complimentary ice cream restuarant staff would wish happy birthday however prob last time gg disneyland hk lion king show yr ago experience push rude mainland chinese queue pleasant perhaps disneyland sea japan would much well choice ',\n",
              " 'loved disney park quiet  retain charm original disney park america start modernise great day favourite four asian disney park ',\n",
              " 'well thing disney land allow much ride young kid able visit much ride year old son however visit disneyland like shanghai tokyo may feel happy disney land could find wow factor disney land food expensive would suggest buy advance meal ticket klook convert voucher check gate ',\n",
              " 'one small park currently disney park except paris hopefully next year allow half day see everything ride worth time wait line hyperspace mountain mystic manor grizzly rollercoaster ',\n",
              " 'visited theme park time past year get old show time give place spruce add much new ride otherwise lose visitor theme park region',\n",
              " 'honest expect wrong disney park small brilliant small part charm classic expect none stress hassle get park ',\n",
              " 'move fast get thru park day know win see everything certainly pack like la disneyland disney world ride small world san peter pan ride area different food really bad jr yelper say eat well restaurant part explorer club variety ethnic selection order nearly plate meager portion wrong disney park meal ever jungle ride close weekday go different disney ice cream pop sell cart one blueberry minnie strawberry usd ok even light show basically flash light mickey friend building electric parade really good watch part moana show bore singe mediocre leave th disney park easily rank bottom ',\n",
              " 'hong kong disneyland beat track destination everyone desire site full new creation nice atmosphere beautiful landscape explore visit place also capture attention feel absorb ',\n",
              " 'go girlfriend hong kong great time needless say live childhood dream one day see look face whole day spend hk disneyland getting disneyland central way back easy convenient give hong kong mtr one world much efficient metro system ',\n",
              " 'absolute must see perfect way spend beautiful day park along show stun good organise plenty friendly staff help around food good large variety restaurant caffe locker service leave belonging day secure access anytime also luggage valet service want leave case wheel spend much ticket price ride include ',\n",
              " 'every disney park world one may favorite visit hkdl love beautiful surrounding short nonexistent line manicure walk hotel park musical production terrific currently mickey wondrous book unique attraction good mystic manor haunted mansion grizzly gulch also minor noteworthy feature park small world include disney character jungle river cruise surprise end castle surprisingly small currently undergo construction enlarge ',\n",
              " 'fl check sadly think well spend day ocean park ',\n",
              " 'great day disneyland go thursday october busy longest wait anything minute download app tell current wait time park much small disneylands good us kid easy walk around whole park time much ride good young kid may lack  big thrill food generally okay astonish price get dark go back ride thing want miss early day parade good busy everyone able see fine highlights lion king show miss  good airconditioned break mystic manor jungle river cruise make sure go dark  much well people mention hk disneyland really character walk around park like find disneylands get pic thing line specific location time train good even pack close time walk slowly back station easily manage stay whole day open close would definitely go back next time hk need decide disneyland ocean park pick disneyland travel young kid ',\n",
              " 'simply well day hong kong disney read negative review prove untrue visit mid november park decorate christmas make even much special wife year old daughter go ride excellent line pretty short monday long wait minute ride walk show parade pretty good except snow show pm worth wait around park clean toilet clean plenty food store overpriced go territory best ride mystic manor grizzly gulch iron man one tomorrow land daughter say negative thrill ride like major roller coaster getting via mtr super easy buy ticket online go guest relations leave main gate pick actual ticket helpful please give helpful vote ',\n",
              " 'went week day would recommend even hundred people line long minute go ride love iron man experience food expensive great cost aus burger small serve chick wing milkshake aside amaze everything light building etc night give truely magical experience feel like kid much prefer disneyland ocean park',\n",
              " 'great park easily ride everything want one day go back hour mid day day favorite ride show mickey wonderous book time favorite disney show wish castle construction  go see new one complete ',\n",
              " 'dumb go america street bore place price cheap much buy elsewhere zone horrible much people staff much adventure unhappy whole trip ',\n",
              " 'visit theme park time life time mom dad went three time alone two time wife theme park visit back amaze wonder dreamland ride every ride thrill ride family ride well well attraction course ironman experience mystic manor cool hyperspace mountain rc racer grizzly mine car ride thrill excite enjoyed lion king mickey mouse show river cruise awesome  small world amaze september month recommend visit long line iconic castle transform know long would take castle transformation complete would th visit ',\n",
              " '  lucky enough visit hong kong disneyland numb time since open time  something new excite whether child adult hong kong disneyland great day anyone want picture take mickey mouse  short train ride part hong kong great food outlet entertainment family ',\n",
              " 'trip fill coaster white knuckle ride forget want good old disney magic worth visit quite small park compare disney resort show good firework castle construction many character wander around photo good day little disappoint honest ',\n",
              " 'although give priority pass kingdom club stay manage use queue generally long except photo iron man small kid ride priority pass given us applicable ride would definitely serve us well applicable ride young kid ride like toy story parachute slinky dog etc would attract young kid much use would think would well disneyland share character would appear like disneyland la much character appear different time slot information available anywhere ',\n",
              " 'disneyland need say much much wonderful place world hong kong disney lot small course plenty twice much recently get open great queue ride whizz round quite quickly love show put lion king one great make sure get see book day ticket online hkd worth quite close airport luggage storage want fill day leave min hong kong central station easy get train mickey shape window handle cute you read much blog page please check ',\n",
              " 'went family child age the disneyland mtr nice take around min reach destination go weather sunny rain stay novotel city gate hotel station disneyland convenience ',\n",
              " 'course anything disney magic experience hong kong disneyland memorable one park california usa find hong kong much quiet long ever line ride would minute couple ride stay nearby disneyland hotel include priority pass certain attraction ride fun couple height restriction year old miss disappointment big line see character result us miss photo much even full day line close good even officially arrive couple appearance day limit much character dress day hour scatter throughout park even would make everyones visit bite much magical chaos gift shop crazy well time shop whilst parade happen outside would skip back heartbeat quite easily spend another day ',\n",
              " 'visit th november sadly alot ride attraction close besides place clean good keep ',\n",
              " 'went group disneyfied adult week day park deck halloween nice crowd go every ride without long wait liked crowd mellow happy ',\n",
              " 'visit disneyland paris year ago decide spend last day holiday disneyland hong kong ride outdate give hk love thing electronic expect much great variety ride paris parade start late miss last minute even parade coach pick meet parade patch paris year agothe majority staff rude unhelpful unlike paris staff given english widely speak hk lot staff barely understand english putting mildly utter disappointment start finish ',\n",
              " 'need plan ride want go want see big everything show arrive min early ride max min hour wait without fast track sunday hit one want go early beat crowd go halloween good deal disney site allow enter park time end year popular character expect little min hour wait take picture eg jack sally halloween disney staff give lot sticker candy halloween villain night parade end excite one day regular one float villain plain comparatively ',\n",
              " 'indeed one happy place earth though ride thrill ride ocean park hk park entertain child audience visitor young adult  solo traveler ocean park hk think would suit  go watch show presentation run around park expect foot soar lolno firework display go parade would entertain sure overall  good  certainly feel like kid visit park',\n",
              " 'want celebrate birthday little disney however feel disney hong kong poor cousin compare tokyo suppose come different management everyone know japanese meticulous last detail whilst hong kong suppose practical mindset rather imagination basic normal job magical place waste plenty room improve make well place magical possible ',\n",
              " 'fantastic experience second time visit hongkong disneyland never fail amaze well part iron man experience superb also castle renovation go photo well go place early get map city hall area get fast pass save time queing ',\n",
              " 'overall place okay many attraction close reduction entry price attraction ok nothing like expect disney park american disney though ok day ',\n",
              " 'actually think disneyland would small kid go teenage love many attraction great ready stay long queue bite expensive energy spend whole day case ',\n",
              " 'live hong kong month hear great thing hk disneyland decide go friend really fantastic time get right open line quite short morning spend much minute line park small able go favorite ride multiple time throughout day without fast pass size visit park one day much feasible personally love space mountain grizzly gulch rollercoasters food good food disney park mickey waffle ice cream tasty popcorn warm sandwich bakery street barely meat cheese recommend bring food park would get season pass hk disney  small would get old quickly go often definitely visit every ',\n",
              " 'visit hk disneyland last day hong kong food great expect price line nightmare lot ride audio cantonese understandable hk however bite let understand ',\n",
              " 'love disneyland typically lay world great ride young old lot food drink station around park ride open day go plenty parade music happen much day always fun day ',\n",
              " 'go frankly speak travel disneylands one well see night parade since hold quite time know overall pricey enjopyment expect ',\n",
              " 'although  big people come little hence manage play ride watch show great wait time usually much minute however castle still renovation firework supposedly highlight disneyland popcorn also special box like tokyo normal package ',\n",
              " 'hong kong disneyland small limit ride compare park california tokyo paris little disappoint kid enjoy disney good place spend afternoon time spare otherwise would give miss ',\n",
              " 'matt age marital status disney always favorite place show ride fantastic keep come back definitely age ',\n",
              " 'hong kong disney marvellous place parade show ride great young kid real thrill ride much ride yr old go amaze park ride line long minute great well worth',\n",
              " 'fairytale place visit hk easy cheap way disney land take mrt ',\n",
              " 'disneyland childhood dream every kid finally come true mean say heaven well place well time consider go halloween wish go every day quite research go list ride want sit land visit find disneyland app helpful term event day plan always finish item checklist plenty time visit every land must ride grizzy mountain runaway mine car hyperspace mountain experience iron man experience rc race car mystique manorthe app show timing event attend show parade ready walk lot wait lot queue want take picture mickey minnie ride fast track option additional cost every land themed restaurant since halloween everyone dress costume hand candy part trick treat visit haunt house finally watch really cool villains night parade definite visit place feel anything everything possible truly magical ',\n",
              " 'tell original park usa would disappoint hk disneyland certainly go expect see see usa park local charm enjoy day love parade issue much taxi readily available leave park wait ',\n",
              " 'amazing kid teenager takes day lot venue must visit time disneyland',\n",
              " 'walking entrance disneyland hard feel inner kid come feel super excite magical right begin beautiful statue mickey mouse friend big water fountain arrive morning soon park open go ticket queue fairly fast crowd grow much quick expect late find choose public holiday weekend crowd much big usual would advise research plan trip definitely test patience dampen spirit time queue every single ride anywhere minute several hour long hot day anticipate line disneyland public holiday really make thing time slow disneyland even get magical happy one ride land option scan ticket would give another ticket time frame able go thing come back skip line within time frame able go main ride explore land many amazingly fun ride experience good photo meet greet favourite disney character eeyore r iron man much tarzan treehouse brilliant toy story land every big kid dream lucky enough see disneyland halloween time spectacular spend day upon reflection would plan spend full day regardless public holiday disneyland truly imagine much allow child fun would definitely go back ',\n",
              " 'go family kid tow halloween weekend day pass time visit hk dl visit surely well try much attraction kid much definitely enjoy much meet mickey mouse goofy watch flights fantasy parade mickey projection show villain parade journey halloween halloween feature snack great popscicles waffle eggette etc staff give away lota free sticker kid lot trick treatin mickey mouse marshmallow gummy candy everything great expect disneyland hk never disappoint adult appreciate place like toilet hehehe smell spotless clean aaaaaand wait free unlimited toilet seat cover sorry brief shallow happy episode come toilet seat cover free anyhoo hkdl recommend age must visit hk definitely ',\n",
              " 'must super lucky day arrive queue ride much approx minute course make day much fun manage get everything include lion king show incredible comparison think park beat paris obviously cheap food surprisingly okay great day ',\n",
              " 'huge area really beautiful disney train easy go location via mtr lot attraction activity rides play parade app really helpful also brochure entrance map schedule delicious food snack',\n",
              " 'well time stay hong kong book day ticket via klook get discount book via klook place open time spend fantasyland maximum numb ride show also many character would visit many thing cover plan route accordingly day pass go around liesure lion king show mind blow mickey adventure book great time night parade amaze plan sit atleast min ahead schedule get well place watch show cheap way reach via mtr take approx min ',\n",
              " 'visited march sunday due weekend many visitor long queue ride attraction skip several ride due long wait time however whatever ride take much thrill parade day one afternoon one even fun watch especially even parade illumination attractive close firework tell discontinue restaurant inside park however food expensive average taste expensive affair entry ticket inside food etc overpriced though end tire overall fun fill day spend hk disney land ',\n",
              " 'felt like kid obviously small original still entertain experience original',\n",
              " 'never disneyland find entertain space huge convenient luggage hold area us leave luggage hkd per piece lot walk involve glad wear comfortable shoe clothe buy discount ticket via klook get problem inside go look ride lot thrill ride fun nonetheless impress amount detail go create ride upkeep everything perfectly maintain chip paint see anywhere delicious food nowhere find disneyland though  eat survive tastebuds take consideration manage take ride want still take show park close even line much long hk resident come even annual pass rain anytime hk pack raincoat even rain come handy mine train ride parade end day really cool since halloween season disney villain come play ',\n",
              " 'amaze love every queue meet character bite long especially heat good worth keep child shade entertain ',\n",
              " 'visited month old baby manage ride age friendly park great one two day visit ',\n",
              " 'lot fun park new motion game like iron man enjoyable however park renovation sleep beauty castle firework wish watch firework front castle note haunt house small bore worth wait long long queue grey bear mine star war track iron man favorite star war track speed pass worth fetch asap wifi extremely slow rely bring phone well signal mobile signal weak ',\n",
              " 'nothing world good scenery organization like much robot trash bin go around talk d',\n",
              " 'nothing short amaze although visit private event close attraction feel bite unfair give discount visitor day make announcement prior ',\n",
              " 'happiest place earth may agree ball go mind set kiddy level ball',\n",
              " 'hong kong disneyland numb occasion time however take grandchildren us boy age wonderful day afternoon halloween parade invite take part however decide decline bite shy parade good perform disneyland hong kong push day one small disney global site however lack size make atmosphere great park good worth visit stay hong kong mtr mass transit railway easy way get site journey take min mongkok ',\n",
              " 'like disneyland throughout world  primarily design kid recommend take mtr theme park like say disneyland much kid adult let face kid day recommend stay watch nightly firework show begin p m nightly ',\n",
              " 'time visit partial closure park due private event nd rd november come way indonesia pay expensive airfares also pay expensively night stay hotel visit several section adventureland grizzly gulch mystic point toy story land make matter wrong closure prime time park around pm way dark around pm case even disney close disappoint would like see responsibility disney regard issue disney give certain reduction hotel price day pass price due incomplete magical experience ',\n",
              " 'extremely average ride please save money go universal studios singapore get anywhere close create magical experience promise park crowd section shut renovation pay entry seem like eternally queue ride exhibit extremely disappoint ',\n",
              " 'disneyland one major attraction tourists visit hongkong however expensive apart heaven kid ',\n",
              " 'english language travel book blogs like compare hong kong disneyland ocean park hong kong opened ocean park often get nod year old rival much scenic location three time large wide range attraction thrill ride entertain guest show star costume character live land marine animal two category ocean park wet however food ho hum carnival type fare versus disneyland high quality wide range dine experience decide factor know disney magic something different disney park hospitality memory make cleanliness positive attitude character story beloved generation like come home whether go child hkd small disney park make visit little magical unique version haunted mansion mystic manor whisk guest victorian home world traveler lord henry mystic mansion come alive henry mischievous pet monkey albert open music box unleash mayhem enchantment another hkd exclusive excite year old iron man experience imagine stark enterprises assume sponsorship star tours big grizzly mountain runaway mine cars hkd version big thunder mountain railroad section rider go backwards fun enter cantonese mandarin line jungle cruise hear tire corny joke different language ok matterhorn pirates caribbean last time eat smoke duck leg curry fish ball anaheim orlando ',\n",
              " 'go wrong disneyland kid suggest go early avoid long line afternoon line ride start build wait time mins unlike morning mins ',\n",
              " 'really memorable time best food  theme park hand night parade beautiful wait come back ',\n",
              " 'main trip highlight disneyland loads fun load excitement super time ',\n",
              " 'anaheim orlando hong kong disappoint another fantastic environment disney team nowhere near expanse orlando even anaheim hk disneyland still provide much enjoyable experience age adult small yr child party dumbo still favorite good ironman experience hkd ironman unanimous choice repeat leave park close ',\n",
              " 'truly happy place earth best place spend family friend rides fun age queue quick small compare anaheim disneyland many good attraction family member enjoy facilities family friendly local staff man parade friendly warm represent disney ',\n",
              " 'spend hour disneyland year old granddaughter time  see age height qualify much excite ride ride reserve grandfather enjoy trip latter part october apparently cool bite comfortable warm fun place ',\n",
              " 'quite disappoint castle renovation hence firework character roam around park limit street march end fast ',\n",
              " 'disneyland disneyland lots character visit lot ride experience explore queue overpriced food however go disneyland numb tip provide go early attendance part litterally triple around p m p m nearly queue entertainment ride hit p m much popular ride min wait bring water take three bottle show enter let straight small amount food bring picnic sure food overpriced substandard expect theme park accept head early bring water let imagination run away fun disneyland ',\n",
              " 'draw us disneyland exhuberance excitement create child parent enjoy entertain hong kong disneyland different yet different disneyland go unique ride new one like one see iron man experience add acquisition marvel universe disney ',\n",
              " 'well take year finally get disneyland love every know h k disney small great get one fun fill day virtually wait ride go friday wife enjoy jungle ride cup saucer always see t v hyper space gulch mansion stuff excellent would imagine take child want day pass would go  great deal dear ',\n",
              " 'yikes wrong thing hk disneyland never end music tune omg pull hair would seriously go bonkers work kid small go many time say absolutely love every time even discover well time go pour rain one else queue suddenly brighten hour crowd return friend good tip nowadays never go stuff like avoid like plague  get young kid take love remember tho  crowd hell expensive take food force eat restaurant even buy water queue long use smuggle sandwich dark piece cloth bottom bag get stuff hide good enjoy x',\n",
              " 'love hong kong disneyland something special magical disneyland hong kong disneyland capture good need see smile face parade know one great place ',\n",
              " 'spend magical day hong kong disneyland brother family reservation hong kong disney disney park one obviously much small use context magic disney however whilst small perfectly form still huge variety thing across park would say particularly gear small child size suit ability get around park everything highlights flights fantasy parade magical toy story land particular parachute ride small world time favourite everything would expect disney really nice bite size dose make perfect day visit ',\n",
              " 'go day great day adult kid alike good mixture ride show everyone enjoy day ',\n",
              " 'reading online feel huge feel inferiority disneyland compare american counterpart honestly say great time may look small map would say feel size disneyland california much see downtime sit eat twice whole day would say hardcore disney fan two day park definitely justice one favourite ride order mystic manor big grizzly mountain runaway mine car hyperspace mountain iron man experiece head straight iron man experience mystic manor get park face minimal wait time return late day queue build stay onsite hollywood hotel provide us fast passes come handy instance shout small world dumbo ride hold special place heart too the show hong kong disney amaze check festival lion king mickey wonderous book mickeys philharmagic remember enjoy show disney parks much love mickey show cool involve fight crowd space main street show literally project surround building stand wherever like end day villains night show keep halloween theme involve popular villain favourite disney movie lot fun mostly chinese apart whole lot cackle really sure go shout cruella give as good show parade see mickeys flight fancy well keep halloween halloween street party main street fun avoid hong kong disneyland app come useful plan day disney provide show parade time locate probably tell disney fan honestly great time feel like people tad harsh relation park constant tell expect much disappointment are size sleeping beauty castle fact lot construction go around pardon dust create magic partner point ft fence probably make already small castle look even small sure finish look amaze definitely back see despite disney corporation pride magic customer service disappoint see fully reflect park overall customer service lack hong kong whole understand culturally different world constantly disappoint rudeness experience trip think something need work park order keep disney magic ',\n",
              " 'small park feel like disney lion king show cancel park attendee book private part day unfair think restaurant close castle build site poor consider still pay full price mention disney customer service brush reply check web site day closure bit crap buy ticket month early return really poor excuse disneyland ',\n",
              " 'enjoy day disneyland like crow weekend dilemma please ride without long queue ',\n",
              " 'awesome fun disneyland fun halloween show mickey minnie goofy dance great fun day ',\n",
              " 'disneyland hong kong st disneyland ever visit great experience daughter close friend daughter really enjoy place story time well place celebrate nd birthday truly recommend place  ideal kid adult ',\n",
              " 'visit hkdisneyland open day love read recent mix review decide would revisit glad mrt trip downtown kowloon simple say little take min gate open a m wander many photo opportunity good love character land open new ironman experience easy couple grandparent think transformer ride universal studios much much excite young old would love youth would find tame staff friendly extremely helpful well make happy place visit today midweek line anything whatever rude experience want wander main street parade doe halloween think good quick crowd lion king show stand still star wars ride old space mountain ride new name enjoy toy story land grandparent enjoy watch expression face child mostly age element imagine teenager think excite would recommend yes would time probably still never disneyland get usa ',\n",
              " 'hong kong even slightly interest anything disney include new franchise visit disneyland must classic include trip  small world pixar star wars iron man display bring disney date literally something everyone hong kong disneyland even journey disney mtr fun ',\n",
              " 'much small california disneyland almost identical respect cover easily half day ',\n",
              " '  close airport small enough stop great young family  busy go toy story land ',\n",
              " 'great place reat ride great ambiencea lot walk though enjoyable miss mickey parade night around light show castle late attraction good organise good play ',\n",
              " 'suprisingly theme park quite accesible mtr surprise place get really crowd twice come across mascot shame get snap photo guide stop queue halfway make sure early ride ok really love entire place bring back childhood ',\n",
              " '  possible go around ride one day plan go hong kong disneyland well thing disneyland firework parade ',\n",
              " 'good place relax adult child take whole day view feature inside park ',\n",
              " 'love ten hour delay hong kong airport this amazing day thedisney garden ride amazing be sure mickey mouse waffle awesome day question long',\n",
              " 'disneyland small little compare paris disneyland one day enough visit weekday weekend use fast track facility utilize time efficiently tips visitor visit weekday avoid weekend holiday carry food save time money carry water bottle save time money drinking water available place refill water bottle avoid photo mickey mouse entrance mickey available various place day saw lot people waste time photo wait minute get photo near grizzle gulch attraction see long queue attraction take fast track pass come back late ',\n",
              " ' disneyland ride year old entry take minute arrive straight day ',\n",
              " 'read review go lot disappoint small went open mind disneyland disney world usa lovely day adult got around park day ride wait line manageable watch show except halloween street parade pm disappoint line character photo day smooth charm original park good worth visit disney fan ',\n",
              " 'disneyland hong kong fabulous opportunity australasia experience joy magical world away bar club casino adults kid kid thrill magic firstly stay disney resort wise buy ticket online also include meal ticket easy cheap package also include drink ice cream voucher spend disney shop arrive close open time beat crowd also remember grand parade firework late even check show time choose arrival time accordingly one train connection disneyland stress miss run every min etc entry non peak season quick beware bag check picnic outside food big drink allow inside fun begin grab map review show time run amok big family group like separate meet bump arrange time every ride suitable everyone outer restaurant quiet like food market make sure take voucher validate applicable queues ride october long wait min depend type ride much fast action ride go quick little kid go dumbo ride well simple fun want adrenalin rush star wars ride old cabin rail ride trick skip halloween walk journey  chinese one character speak english  small world ride fantasyland cute time fly time day end everyone tire themed park out tythanks security staff let devastate year old nephew enter exit gate parent search disney cap leave behind pose photo exit magic one pick find leave ',\n",
              " 'kid enjoy place much hotel stay offer us discount ticket place easy reach metro ',\n",
              " 'great time disneyland arrive early already crowd lots coach bus take cab drop point min entrance disneyland take mtr disneyland right front entrance spend hour go ride enjoy show lion king moana winnie poo etc ',\n",
              " 'disneyland must go place come hongkong since kid always dream come disneyland amaze experience many attraction must take picture disney character main street  must wait night see disney parade main street food okay lil bite expensive hey come enjoy dream holiday d',\n",
              " 'plan watch parade make sure grab good position main street especially straight lane else may miss part check t c book online especially meal coupon get redeem entrance ',\n",
              " 'everybody child dream come beautiful place true truly incredible not kid enjoy visit adult young heart surely love place my nephew niece even mom love place meeting mickey friend parade truly dream come true looking forward visit place ',\n",
              " 'good organise place good fun spend day kid plan good enjoy show day trip however timing meet various character increase especially crowd large ',\n",
              " 'take day ticket sure one day cover day reach weekday crowd halloween time place parade decoration halloween started start trek iron man ride good remember ride thrill universal studio intend young child disney proceed show realize show get full reach early moana show little seat security staff especially one male kind rude people walk around guess need remember police kid come lot hope see staff fluent english speak english sound rather rude stand know move away etc word hear really need lesson polite assertive food option write many disappoint people eat pork beef chicken option try asian cuisine restaurant average come quality food vegetarian  day fast kid almost true if book disney site get x coupon main street store refuse take much one coupon transaction argue call manager confirm rule one coupon per transaction surprise day visit another store inside star trek fantasy land one accept coupon wife ticket surprising think english language proficiency culprit unpleasant experience parade excellent especially pm halloween parade shows also really good guess much ride thing miss disneyland day saturday clearly see difference crowd crowd stuff pend finish everything lunchtime overall half day visit opinion particular miss couple ride cover park day try visit weekday mtr connect park transportation city easy free wi fi hongkong disneyland app android give detail show keep crash often samsung phone day  manageable food drink allow carry inside mention everywhere still see people get catch security waste time dispose many ride attraction close public certain day due private event detail update daily basis website app check beforehand plan go little min early show get fill fast ',\n",
              " 'disneyland los angeles compare hong kong site original enjoy disneyland much staff always friendly helpful mix pre buy ticket go way help us resolve issue even offer us express pass popular ride october halloween theme throughout park line ride long holiday season hong kong resident give away lot sticker lolly halloween themed garden kid make small basket go trick treat free food standard theme park menu item burgers fry decent enough theme park near airport direction cost us approx aud way hotel mong kok via uber people need large van there also complimentary wi fi throughout park long tire day pm night worth see parade good ride feature recommend attend two day get see themed section day kid love us adult ',\n",
              " 'disneyland hong kong small compare disneyland visit visit clean leaves tree scatter alley pavement construction sophisticate pro roam entire disneyland one day big ',\n",
              " 'visit hong kong honeymoon december perfect really good time find cute merchandise disneyland store pick many tshirts kitchen stuff accessory etcmust visit love ride food try red velvet pop corn food travel update daily follow foodieandmoody instagram thank ',\n",
              " ' time disneyland rather disappoint queue terribly long food massively overpriced ride hardly thrill suppose park cater mostly towards touristy family young child much well thing hong kong well cheap theme park ocean park advice go ahead hk disneyland travel child elderly quite bite money spare small theme park expensive food souvenir extremely tourist friendly explore hong kong authenticity instead ',\n",
              " 'disneyland way commercialize many store ride compare one us my brother enjoy since ultimate night show cancel announce website it big disappointment suppose treat ',\n",
              " 'compared disneyland california park small say still memorable enjoy experience complaint rain much day detract great time',\n",
              " 'comparison la disneyland intimidate bug spend day still see everything ride line long use priority pass staff friendly year old perfect ',\n",
              " 'love disney say donald duck mickey mouse big fan still get idea spend day holiday disneyland reason think size area hk disneyland perfect may slightly small disneylands people doe want spend time disneyland like place great come place june degrees celsius hk spend whole day disneyland crazy sun hk think would make lol may good idea big area disneyland seasonal country hk furthermore still favourite ride attraction overall give star highly recommend want disneyland experience unwilling spend much day trip ',\n",
              " 'best get early possible though crowd queueslow morning day progress obviously queue time extend would start tomorrow land work way around park anti clockwise direction believe ride well run time miss much take something eat back pack young family eat park expensive great day good family memory forever ',\n",
              " ' disneyland trip definitely memorable one crowd bad tell able enjoy ride day unfortunately halloweentown river view cafe close villains night close entertain ',\n",
              " 'seventeen hour layover hong kong take daughter disneyland special treat fill time love wife little disappoint get picture micky minnie task self line long shade keep get close keep go back start again wich make long day still great day kid even lineup still worth take little one ',\n",
              " 'day disneyland always magical friend reach sunny bay station get disneyland resort greet disney themed train mickey shape window bring along umbrella poncho case rain shelter whether family friend enjoy experience ride cater child roller coaster thrill ride toy story section halal certify store mainstreet market explorer club muslim traveller look parade kid love wear comfortable outfit shoe possible place damn huge require lot walk highly recommend age ',\n",
              " 'come disney expect wonderful thing disappoint overall experience recent visit park small magical vibe anaheim disneyland exhibit majority staff encounter personality brick show happiness excitement food option average opportunity photo character limit park close approx pm day visit photo mickey minnie close p m cause much disappointment numerous visitor general upkeep park also seem quite poor overgrow garden dirty ground area advantage much short queue ride disneyland feel like another average theme park even come close compare original anaheim would recommend visit theme park ',\n",
              " 'visiting disneyland dream kids adult good visit early paris time boy disney train really really lovely unfortunately visit main castle close renovation many ride close due typhoon hence limit choice even even firework cancel replace parade good small compare one paris two attraction disney park studio still good suggest book ticket advance preferable online discount price ',\n",
              " 'enjoy every minute great experience take small train around disneyland take small boat see wonderful animal live although unreal one look real emotion voice act there also nice show famous character disney worth visit',\n",
              " ' trip disneyland ever definitely last staff friendly help inquiry despite long wait ride definitely enjoyable definitely revisit future thabks bring kid ',\n",
              " 'go day trip stay hk travel easy get mtr hop special disney train disney ear window handrail nice touch park big disney park one main ride per area plus small one castle quite small oct undergo maintenance board shame ride disney park haunt mansion actually quite good iron man screen blur rate clean good staff guest polite everyone queue mention eurodisney ',\n",
              " 'everyone dream visit disneyland life one reason visit hong kong starting disneyland train till last ride enjoy lot would much ride timing would extend till pm would awesome ',\n",
              " 'area small though standard attraction disneylanin food iside park expensive disneylands however still good place kid big good enough one day tour tire lot place take photo better choose october chinese new year crowd serve huge chinese visitor ',\n",
              " 'would expect disney site queue short day mean see ride much attraction one day reason give star area park close p m two attraction close p m visit',\n",
              " 'take year old visit hong kong disneyland birthday treat go day clean typhoon impress efficiency fabulous time baby fun  small world boat ride winnie pooh train ride incredibles ride easy get around stroller compare rest hk stroller friendly decent food option baby cafe decent baby change breastfeed facility available staff friendly enjoy fact large disneylands easy see entertainment leave night put special halloween parade easy get hk disneyland via metro need change little metro hotel another hk island e g kowloon also close cable car ride ngong ping time energy would recommend two together day see ngong ping take cable car great view beauty hk take metro disneyland enjoy rest day even ',\n",
              " 'smaller original disneyland anaheim even compact nature pack day full fun get super lucky day crowd friend manage every single thing except little kid ride unique ride hkd like mystic manor new iron man ride give brag right park standard like star wars version space mountain small world personal favorite jungle cruise show go see much fun amaze even show multiple language add charm lion king favorite parade especially villains parade night really fantastic food also good unreasonable consider hk price want special sticker sure ask cat member help question may get one get three amaze fun day ',\n",
              " 'nearly robust japanese french american counterpart hong kong disneyland charm numb one perk crowd never see crowd light disney park nearly ride walk entire day even fantastic mystic manor big grizzly mountain runaway minecars hyperspace mountain downside low crowd many ride shop food vendor hour latter open food great people friendly actually kind nice rush relatively small park worth one day visit casual disney park fan two day fanatic bonus tip check mickey wondrous book fun impressively produce musical stage show ',\n",
              " 'traveled friend sydney book separate special tour run concurrently tour guide superb childrenhighly recommend book tour want cover select attraction within day food well though give price otherwise great place visit',\n",
              " 'small nothing much see got half day much attraction worth money',\n",
              " 'like wonderful enchant disneyland park facility perfectly keep high quality service entertainment visit week one big typhoon ever hit area besides amount tree lose get damage everything else run exception area around castle close repair improvement food great large serve food voucher entrance ticket good option even choose meal limit voucher value pay difference park may small much park around world still favorite ride area love every minute one highlight us amaze lion king show lots character around park great parade every day great family experience ',\n",
              " 'love experience think ride excellent stay hotel disneyland would highly recommend try come winter heat almost unbearable middle day especially min queue due golden week would wonderful see park open p m ride enjoy outside heat want leave p m ',\n",
              " 'plan trip hong kong realise would mid autumn festival go disneyland sunday festival realise line get park would hour long a m heat oppressive far little shade water dispenser available wait wait wait give p m get a m leave park small compare disneyland crowd bag check entrance like never ever see crazy ',\n",
              " 'hong kong disneyland disney experience fianc e la paris small disneylands probably one day opt pay tiny bite much day end please decision feel get lot payback ride multiple time hong kong disneyland seem really good make ride effective even lot mystic manor probably well example detail special effect incredible notice new thing time jungle cruise also great four time guide genuinely funny great action pack circuit one zebra miss ear though little impressive space mountain see yet still worth time cheap star wars overlie doe work see much track rig inside really black think point highly recommend grizzly mountain runaway mine car really like style rather mimic big thunder mountain generally crowd good behave little queue jump thursday friday park get really busy afternoon would recommend big attraction morning end last hour able walk small world jungle cruise grizzly mine cart without queue would also suggest fantasyland soon park open five ride hour would impossible late day teacup fast experience ride overall fairly gentle head neck still lot fun really like disneyland railroad much see seem pointless outside la iron man simulator look suspiciously similar star tours throughout disneyland cast exuberant la generally add experience apart jungle cruise helpful polite much seem speak enough english us worry time experience mar lack chinese language seasonal walkthrough base nightmare christmas section one entirely deliver character speak chinese really able follow visually impressive warn guest would understand speak chinese thing park english one big wait time would recommend disney seriously consider restrict people use big sun umbrella fairy tale forest pointless people stand umbrella block everyone view overall park probably aesthetically impressive la paris still feel disney one area excel light park night look great go though may genuine disney feel due small turn problem also notice far little annoy stroller park everywhere la far little smoke france food good disney theming get disney fix would recommend ',\n",
              " 'th time visit hong kong disneyland the iron man ride great star war mountain ride bite scary young child year old bite scare ride year old love twice food great dad laksa high quality kid hainan chicken enjoy lot get pass get halloween town quite fun may scary young kid son cry visit fantasy land suitable young kid try teacup dumble see mickey mouses orchestra movie highlight kid however difficulty find mickey mini mouse disney character take photo overall great time ',\n",
              " 'halloween theme park bite small lot tourist  bite crowd try go weekday well experience rest experience good ',\n",
              " 'like theme park numerous shop sell overpriced merchandise line short wait get big letdown price get work around aud two adults food typical theme park quality must see disney kid probably worth trip tip take umbrella sun shade ',\n",
              " 'wife absolutely love place spend whole day get mtr tsim tsa tsui ease would expect set take cash cool plenty thing lot area rest chill need would recommend stay visit get show sundown kid love score massive point kid overall fun ',\n",
              " 'great day disneyland family prepurchased ticket hotel take train octopus card easy use train system quick way get go weekday avoid long line food expensive seemed little small us park little show ride great fun toy story land lot fun lot eat place open restrict choice food ',\n",
              " 'wonderful go disneyland lot thing hot day enjoying walk around cold drink ice cream beautiful night time lot lights lovely dinner love ',\n",
              " 'ability go disneyland resort life long dream family hong kong disneyland perfect place spend time family friend  offer wide variety experience gastronomical aspect imaginative concept trigger happiness connect inner child ride pristine condition food good quality would definitely recommend disneyland anyone know rest life ',\n",
              " 'lovely place would recommend yr old daughter love think well suit young age group disneyland usa think well ',\n",
              " 'partner love disney always go go disneyland hong kong see one last year check la paris version together park great alot well expect nice size mean get around attraction spend whole day ride long park visit recently drawback come show offer lion king show spectacle watch singe dance however song sound vary note use performer also go moana show expect see hear great music time music involve maybe hard find performer right ability slight area improvement picky overall great day would highly recommend tip obviously hot make sure take lot water fairly expensive park tip go tuesday hope would quiet busy possibly day china day try go slow day get around everything ',\n",
              " 'small nice generally many programme show plan schedule firework amaze ',\n",
              " 'disney park  uniqueness get early buy ticket line catch mtr sunny bay change train disneyland resort line  heat exhaust take plenty sun protection pop shop cool recommend take toddler theme park little realy long day staff friendly much speak english ',\n",
              " 'luckily keep disneyland stay end family trip moment one enter sprawl premise one realise american venture elaborate high tech beautiful nothing much family visit hong kong term activity involve kid disneyland much make built like fairy fantasy land separate section one ideally need full day able enjoy everything crowded like mad long queue even get snap click disney character parade day spectacle watch esp end day halloween theme place however son hugely disappoint totally miss adventure land still regret fault space everything good find shut time staff site tell us h however reach adventure land h mins spare totally shut nobody explain section still open also lose hour morning view heavy rain authority would allow us even limit entry hour adventure land next day personally feel highly unprofessional insensitive shut section way close time son still feel miserable talk trip ideally stay inside night right amount stay worth every penny',\n",
              " 'locate lantau island hk easily accessible mtr disney line trains also design disney theme park pretty big enough spend hour also necessary amenity kid infant good maintain unfortunately main castle renovation also ride attraction shut due mangkhut typhoon hit week ',\n",
              " 'spent day park queue ride guess peak season hot though would probably recommend go cool month may queue ride typhoon ride close food pretty pricey delicious great see halloween theme throughout park incorporate food design take yr old small world ride yr old nephew go pretty much ride spent heap merchandise would definitely want go ',\n",
              " '  disneyland trip disappoint go little bro birthday celebration think enjoy much run lowkey scream get entrance arch haha whole day require enjoy ride go little lunch miss lines already forgive trip since go saturday september popular time visit since blogs say  already start rain hk september luckily sunny time wait line average minute guess lucky right food cost lot  well eat outside come full stomach avoid food stall inside sausage toy story land good miss hyperspace mountain ride tomorrowland intense small world ride cute chill relax try since january much firework display close day compensate character parade three time day able take photo character prioritize ride hehe since long entertain photo op pm staff get ready close parade regret tho ride super fun merchandise also cost lot way regrets ',\n",
              " 'huge park lot attraction plan visit beforehand via website order maximise time lots airconditioned food option usually crowd due hot weather outside ',\n",
              " 'go disneyland soon arrive hk airport leave luggage luggage storage near gate hongkong disneyland ride mostly kid attraction dedicate adult well stay resirt walk away visit september unfortunately firework available due renovation ',\n",
              " 'go never disneyland one people crazy disney small really small whole park half day go chinese holiday flood mainland chinese tourist pretty much every disneyland size take advantage fast pass system ticket crumple break machine win accept small inconspicuous button back fastpass machine print fast pass ticket unscrupulous visitor press repeatedly get multiple ride without wait line visit ride fast pass last thing stay late firework castle ',\n",
              " 'like title say wonderful place go aug childrens stoke even weather hot hot hot remember bring lotsssss water mini fan child help lot bring one precaution would bad idea bring rain coat cause rain anytime hk the theme park clean good organise plesing walk around dispite numb people ',\n",
              " 'two day pass book disney web site small disney park lot fun dinner cafe nice little expencive ',\n",
              " 'disneyland much small therefore much crowd one california usa well ride park grizzly gulch hyperspace mountain almost everything else gear toward young child good visit star ',\n",
              " 'disneyland theme really find worth spend full day quite expensive far city feel ocean park much well alternative spend day ',\n",
              " 'disneyland hk april buy ticket online person whether ticket lunch dinner include rainy day prepare also rain coat umbrella unfortunately one iconic palace renovation temporarely close lunch dinner voucher capable select restourants plan whole day disneyland buy ticket lunch dinner include still cheap way ',\n",
              " 'feel like kid first experience disney truly magical everything themed toy food disappoint castle still renovation also take note time get picture take various character around park late get mickey minnie picture food voucher good worth food portion large drinks expensive must stay good hydrate amount walk use fast pass park busy shop amaze cute item purchase control parade night much fun wish stay night resort complete park overall amaze experience ',\n",
              " 'love place year old daughter one year old son enjoy disneyland ride age restriction like theme park buy day entry ticket good spend day ',\n",
              " 'park nice possible come kid want take photo famous disney cartoon like mickey minnie let ok understand people need rest need cartoon take photo one photographying hour pausa another hour people wait come back let group people say much photo understand policy',\n",
              " 'awesome day everything great well think apart seriously disappoint journey halloween town end randomly walk throughs majority cantonese top hardly queue ride wait long go minute whoever come walk story need sort end actor tress great though especially sally rag doll  really amaze make voice jack course good themed room decoration really get pay attention start end ending really impact guest impression whole group like wtf end something tell lack budget may affect end ',\n",
              " 'good mtr make approachable good staff buy ticket online contact hotel one day enough atlest child food horrible vegetarian ',\n",
              " 'hood park nothing signal good moment fun greetings france recommand park',\n",
              " 'second time year visit well trying celebrate honeymoon disneylands good pin selection sticker impress since traditionally get pin disney world every time go customer service disney level people avoid eye contact approach us dine cafe  signal help cast member cell phone  try buy storm trooper magnet wait someone look phone ring us roller coaster fun line wednesday super clean bathroom park toy story land small ride good kid decorate halloween enjoyable see due damage typhoon jungle cruise close biggie probably want come back specifically ride thank goodness good company able point fun disney decor love disney park ',\n",
              " 'tokyo la disneyland i also visit disneyland back back disappoint small year good truly expanded only thing miss toon town great day people young child day pass around aud adult kids worth visit never suggest train',\n",
              " 'service compare open period totally different guide map easy traveller organize plan date must spend much time whole trip show lion king favorite show carry feeling less actress monumental anymore souvenir quality honestly really china like thing find mongkok market hope help somehow thank ',\n",
              " 'caught mrt disneyland kowloon great part enjoyable day would think would train mickey mouse head shape window cool it reasonable walk terminal actual entrance lot thing look include course lot option take money the actual park good various land clean slick though staff many pretty slow make thing happen rides include roller coaster fun plenty every age level adventure tolerance integration star wars marvel theme good toy story park area grizzly gulch say day theme park see people love disney theme park get far much couple day certainly worth visit honk kong ',\n",
              " 'famous attraction hong kong probably brand however find extra ordinary ride show theme park would rather suggest spend one extra day ocean park ',\n",
              " 'everything magical start finish take daughter hong kong disneyland th birthday carry big smile face throughout day take car cost us hkd whole day tickets expensive worth pay show good personally enjoy watch festival lion king musical stage show tell story simba hakunama tata waiting time ride around minute weekend see fastpass distribution sign near entrance attraction want ride cartoon character rest time therefore possibility miss night parade spectacular quick tip time heavy rain may visit near disney shop buy raincoat worth hkd available adult child walk freely disneyland',\n",
              " 'hong kong disneyland amaze take mtr kowloon hk disneyland train adorable mickey mouse window various statue disney character fun see arrive park open get watch family open park family mom cutely dress kid different halloween costume pick open disney adorable right disneyland decorate halloween area villians plan music variety halloween music mickey minnie mouse dress halloween opinion hk disneyland great place go want go ride long go peak time  sure would go moon festival much ride wait much minute however meet character range wait minute wait hour food okay air conditioner grab food eat outside table outside restaurant ',\n",
              " 'disney great tell expect much disappoint get disney magic castor frame gorgeous mountain different ride unique hk spin food amaze struggle find anything quick service go disney food love place',\n",
              " 'travel train easy cute way get disneyland train carriage railway station really worth see purchase entry ticket available day hotel concierge lot fairly flat walk start train within disneyland orientate ensure hat sunscreen warm weather course immaculately clean every aspect renovations extension underway finish really great ',\n",
              " 'disney always magical kingdom numerous visit still love tour around park enjoy show ride staff little little friendly disneyland tokyo still helpful wait time ride short expect probably weekday public holiday summer holiday recommend go summer holiday weather hot humid much people queue probably crazy long ',\n",
              " 'halal eatery available premise easy access mrt kids friendly stroller available rend nurse baby care room day pass exit enter within day go citygate outlet one mrt station away ',\n",
              " 'family take day pass ticket entrance really love place describe much fun night watch firecracker mascot disney show ',\n",
              " 'yes visit disneyland clearly disappoint fact pour drop terminal take hotel shuttle wait amaze day get ticket klook fuss free entrance scan print ticket send via email use express pass give complimentary disneyland hotel fun ride attraction highly recommend space mountain anything airconditioned fast never fail disappoint  finish priority pass buy slushies popcorns snack walk around take polaroids character around would recommend trip family group friend  also hear rather small disneyland compare one elsewhere would recommend visit ',\n",
              " 'visit disneyland great visit glad come flight cancel buy ticket disney hollywood hotel highly recommend iron man activity castle close due remodel believe able get picture star wars character nice see character walk around except halloween character mickey start play mickey song street lot people maybe holiday recommend jungle ride thumbs ',\n",
              " 'may much beautiful disneylands  visit la orlando shanghai hong kong little offer stay recommend stay hong kong disneyland hotel give paper fastpasses use ironman experience hyperspace mountain mystic manor grizzly gulch roller coaster mickey philharmagic see see numerous time wdw get certain numb fp person per night stay base level room stay kingdom club room receive pass per night per person pass stay four night attraction throw away give away simply many small park even want ride five attraction many time highly recommend little one night staying hong kong disneyland hotel also get mickey wondrous book show still able get fastpass winnie pooh park good use vip tour rest ride skip line private view area nighttime parade need crowd compare us park standard even july watch parade upstairs rr station main street one around us superb view able ride thing multiple time see show american park great time far little doe require much day plan correctly lot new amaze attraction like shanghai extremely hot july  give four star ',\n",
              " 'place prove disneyland really happy place earth inner child run wild park huge really clean  really enjoyable transportation interesting take special train disneyland amaze although allow item selfie stick thing place truely magical ',\n",
              " 'visited humid day duck shop cool week day crowd recover typhoon rather quickly everything open would never know typhoon pass ironman experience cheesy photo opportunity person ironman costume use pre record voice moana homecoming celebration outdoor half cover venue also cheesy kid seem like moana character sorta look like moana lady may want watch movie hula correctly funny see one drummer body suit make look tan maori tattoo parade normal character toy story lilo stitch etc seemed short american version overall little disney entertain child maybe teenager spend total hour ',\n",
              " 'great day disney see show parade ride want go somebody get hk instead hk must show passport get reduce price well worth visit kid big kid ',\n",
              " 'great time park despite mostly gear towards young child compare disney resort still disney high quality experience decent food option even dietary restriction really fun ride ambiance disney always make worth opinion ',\n",
              " 'loved hk disneyland stay disneyland hotel free shuttle bus service hotel resort provide plethora activity thing see loved show show like mickey wondrous book etc enjoyed shop almost gift shop every store sell different thing visit however abit crowd wait time exceed mins bummer due heat june however fam marvellous time btw highlight night time parade showcase many float character ',\n",
              " 'know kind traveller family holiday fit two category theme parks resort far theme parks go disneyland write book create genre remain top visit hong kong park multiple time never disappoint standard ever improve cast attentive character facility world class ride continually meet disney high standard kid always love get old find new aspect park love grisly gulch mystic manor climb top list favourite ride groot new favourite character jedi train academy benefit slightly little kids session new ironman ride welcome addition park wait see build next ',\n",
              " 'day visit hong kong disneyland warm weather fine start change rain rest day enjoy disneyland find lot area close weather many place eat think much people grab table get shelter weather make difficult anyone want eat meal table quite easy get ride much people disappear rain set tickets expensive child heart  worth go ',\n",
              " 'really love place disneyland much although ticket quite expensive really worth food also expensive inside ride fun coming back year end ',\n",
              " 'many people say hk disneyland good small disney fan like almost disneylands world except one paris shanghai think hk disneyland small good enough many people never disneyland one good thing hk disneyland walk long way get attraction park big compared city disneyworld florida slow walker like pretty tire walk attraction though mean transport use example bus small visitor easily explore whole park one day give much time see beautiful place hk and visitor like chinese food forget try plaza inn delicious chicken suckle pig ',\n",
              " 'always dream visit disneyland hong kong near one really save go unfortunately day go rain buy raincoat raincoats cost hkd rain stop us enjoy disneyland offer say one day enough try ride attraction park well part show watch feast lion king mickey philharmonic theater storybook like go back childhood day nostalgic specially disney fan like parade main highlight totally enjoy one thing disappoint firework sleeping beauty castle close renovation also get see much disney character maybe rain lastly food pricey small portion overall memorable fun visit ',\n",
              " 'family enjoy trip disney hk really happy place adult remind childhood day one staff accommodate guard stand entrance near jungle river although forget take note name lunch starliner unfortunately family enjoy food would recommend royal banquet hall enjoy dinner variety food choose serve satisfy son enjoy hyperspace mountain enjoy jungle river lot family surely enjoy tour disney hk ',\n",
              " 'hong kong disneyland small compare much resturants ride queue much short must disney stuff unfortunately magic castle close refurbishment full day open fireworks fit everything comfortably ',\n",
              " 'good day wait line would good castle open closed refurbishment shame',\n",
              " 'always want take daughter disney land th birthday india hong kong close cheap disney land good book two day ticket manage see everything enjoy every ride long queue minute per ride two full day afford waist ride attraction daughter love experience much ride twice well part carry water drink food save lot dollar everything expensive like amusement park ',\n",
              " 'much say  nice park nice walk around take atmosphere much big kid loop ride everything inside expensive usual worth go one day able everything want within day ',\n",
              " 'perfect offset kid whole day fun n delight everything good plan away breeze well place kid round entertainment fun ride show food choice ',\n",
              " 'fault disney bad typhoon storm hit close disrupt operation fault responsibility handle ensue customer issue explain mr dominic chanat hong kong disneyland reservation center travel far kid pay plane ticket pay hotel etc buy silver pass park limit time seem care park close stay one day many thing park run close ask able use pass saturday make close day problem leave sunday give us magical template answer pass use saturday consideration greed customer concern respond aftermath storm park currently disarray well avoid get place fix ensure us attraction inspect safety due storm damage may compromise safety ',\n",
              " 'say usa disney paris one wrong one far expensive enter expensive buy water food gifts price totally disappoint big ride everything seem gear towards young child nothing us big kid waste money save go usa well disney far ',\n",
              " 'part disneyland world guess hk disneyland good enough wow however place clean muslim tourist worry get halal food musollah provide cater fun mystic manor grizzly grunch space mountain one day enough look around ride everything plus shop parade go weekday queue take long maximum get minute per ride enjoy anyway take photo icon queue specific spot photography ',\n",
              " 'definitely must visit lifetime definitely look forward go back sad castle close renovation firework long part lineup thank staff especially one lilo stitch costumes welcome fun ride also fun absurd amount wait time compare theme park similar scale thank disneyland hong kong ',\n",
              " 'arrived via mtr station sunny bay disney train take entrance bought ticket klook allow us direct admission park officially open a m open gate allow access main street visit weekend although busy still able go ride watch main parade see pixar water street party great fun get completely soak food pre purchase offer klook allow eat variety restaurant allow us one main course drink lunch must eat p m main course drink dinner eat pm also take pick ice cream popcorn one vendor cart best ride iron man visit much disney park totally different take haunted mansion disney park merchandise expensive park cover free wifi ',\n",
              " 'disneyland hk little overrate though interest ride event activity full park flood regional tourist long delay make fun fly away ',\n",
              " 'admittedly comparison usa great day usually long queue access ride great selection young dare great ride young visitor ',\n",
              " 'title sum really manage whole park day include go ride watch daytime even parade festival light typical disney atmosphere love small ',\n",
              " 'like disneyland great entertainment around never get us bore much firework show parade show night much await moment disney fan ',\n",
              " 'find wrong disney park around world  far small immersive area castle small magic bright note  easy get quick hour ',\n",
              " 'visited two day pass experience majority ride attraction two day huge site stun garden pristine facility something everyone catering local english speak attraction deliver combination language generally work good cast member polish performer enjoy performance see mickey storybook theatre moana halloween street party thoroughly enjoy time ',\n",
              " 'twice visit feel like come back childhood year would love go branch disneyland ',\n",
              " 'compared dl usa park small however still great time went mon  would line park clean staff friendly parade fun ',\n",
              " 'kid teenager still great day small kid think tailor really good handful good ride adult make enjoyable expect many thrill seek ride layout park themed detail go attraction fantastic one day pass need get around attraction disappointment lack food stall lack variety many stall close kids hotdog seem fresh pm parade fantastic must see age ',\n",
              " 'great environment excellent service awesome character dinner experience photography session child good food enchanted garden hotel provide plenty activity child one example tai chi exercise master goofy recommended stay little day night fully enjoy hotel amenity also disneyland park little disney princess themed package must little one surprise await hotel room disney decoration come back soon explore disney explorer lodge ',\n",
              " 'kid truly enjoy disneyland hk disappoint sleeping beauty castle close due renovation us muslim option halal food explorers cafe also little prayer room locate next cafe boy enjoy ironman ride tomorrowland totally worth visit hope improve free wifi network ',\n",
              " 'quintessential disney unsure expect disney bad orlando many many time death park much small ride similar maybe different name similar orlando one big difference toy story land remind hollywood studios ride see super fun even year old line august  would expect much minute much stay disney property give basically fast pass ride ride accept pass one go ride twice ',\n",
              " 'must visit place young old definitely enjoy ride show parade sad though much firework able witness go last still place fun family go ',\n",
              " 'went thursday literally wait ride negative haunted house pirates caribbean matterhorn yet air condition work full force inside attraction ',\n",
              " 'love parade adventure trolley mine coaster super fun good buffet mickey mouse restaurant awesome',\n",
              " 'travel mtr get ride magic train good new travel car get drive much beautiful road hong kong either way magical ',\n",
              " 'think place awesome small little crowd version much good know disney park shorter wait time ride great food entertain electric light parade small world ride easy ride mtr train overall great day fun ',\n",
              " 'hk disneyland visit always wonderful experience kid nice time since half day free time stay luckily crowd get ride etc easy ',\n",
              " 'time loved place atmosphere bad fantasyland close renovation staff extremely helpful toilets find everywhere  clean merch expensive though ',\n",
              " 'hugely expensive one adult one yo surely must small disney park offering expect western style junk food think wrong ride good queue discipline time bad ignorant people shove kid past us kid cry adult could get join reluctantly let fairytale castle tiny behind hoarding guess work add extra magic digger go ocean park instead ',\n",
              " 'go year old find hk disneyland great wish book night hotel despite cost much hotel back sai yin pun would mean spend much time disneyland get stay firework night go relatively quiet day line still long bother get photo character make random appearance throughout day lines good ride age appropriate year old still manage spend whole day see everything another opportunity go back would invest extra dollar stay disneyland hotel therefore spend much time cost expect go theme park lot chinese food available lunch either expensive mickey mouse shape waffle train take disneyland sunny bay disney themed pretty cool actually go several year ago march worth belated review ',\n",
              " 'park big complete day bring umbrella case rain rainy season really turn service cashier seem want get soon possible ',\n",
              " 'great trip stayed day disneyland hollywood hotel room size rooms good disneyland good area u see renovation kid love great fun',\n",
              " 'come expectation us disney park  really enjoy great time minute get disney train way till leave really hot much shelter  find respite ride shop many ride  probably something day leisurely pace especially  busy ride long minute wait go weekday there unique feature park mystic manor character never meet like cookie friend duffy lilo also food expensive little variety us dedicate ice cream store one churro cart etc little crowd quite good experience us castle small  upgrade transport city easy surprisingly quick even leave paint night parade ',\n",
              " 'nice place visit family especially early teen young get good deal air asia make even well well buy meal deal site economical compare buy individually provide course go use lunch dinner issue rain sign inclement weather lot ride stop spoil day crowd indoor ride',\n",
              " 'good place adult child good fun time roam around disneyland take ride muslim friend halal foodcourt theme park advise buy ticket online may good promotion ',\n",
              " 'large disneyland property still happy place earth aware many ride stand queue shade hot many ride entertainment ',\n",
              " 'visit walt disney world disneyland ca small one however plus side  crow admission expensive walt disney world disneyland ca ',\n",
              " 'ok family disneyland la paris disneyland similar style small little thrill ride go monday peak ride five minute queue pull recommend park parent hate rollercoasters young kid want go disneyland go ride ride park really mild kid get experience disneyland daughter really really enjoy even though thrill ',\n",
              " 'great attraction locate far city accessible mtr ride good long ques even though rain great day ',\n",
              " 'time happy know new attraction since last time although bite sad castle renovation firework display',\n",
              " ' disneyland  fun able meet favorite character donald duck magical ',\n",
              " 'price overly busy attraction expensive food drink generally worth effort attendance compare alternative park hong kong ',\n",
              " 'took year old really excite nevre disney land expect see character walk around photo greeting etc see queue meet privately want think old big ride go good many long queue everything mostly family ride little kid go thrill expensive day took hour get go ride hour leave go back ',\n",
              " 'come wife anniversary mid reluctant place kid however love core fun two day get become small kid enjoy ride favorite one hyperspace starwars wife love meet childhood character overall fun ',\n",
              " 'family enjoy show shop souveniers go rainy season spoil fun ',\n",
              " 'go sister thing expect transportation quite convenient busy j need queue long sad get sick ride fine end waffle cute miss ',\n",
              " 'fun excite adventure look place much excite theme park ever u enter main entrance u automatically become kid even though rain stop fun superb definitely come ',\n",
              " 'super fun day spend day cool fun ambiance disneyland us paris doe compare good many ride parade fabulous ',\n",
              " 'another tourist spot visit educational tour highlight one really fun ',\n",
              " '  lucky friend know go else would able see much attraction many ride long line show long line worth wait amaze lion king show must see also plan visit summer remember purchase rechargeable fan walk around ',\n",
              " 'lucky enough catch hong kong disneyland rainy august day hot crowd hear get  small park lot ride enjoy day much beautiful part adventure land large amaze tree landscape fastpass ride winnie pooh hyperspace mountain ironman grizzly ride probably favorite definitely go early much people seem come around warn toy story land shade ',\n",
              " 'happy place kid kid heart son enjoy disneyland park though time visit castle renovation otherwise whole experience memorable ',\n",
              " 'easily assemble train great disney experience really small compare orlando great day visit open late ocean park must disney fan ',\n",
              " 'pretty good day actually half day get ride pour rain start storm completely drench manage alright day get early good avoid build crowd ',\n",
              " 'much time hong kong visit disneyland ngong ping day noon go visit disneyland close overall quite satisfy even though half day play ride still get little time see souvenir shop disney definitely one must visit place hk ',\n",
              " 'visit disneyland hong kong friend seriously beyond expectation know would much fun buy ticket traveloka cheap also food include honestly food bite disappoint ride amaze favorite love firework part well firework ever see muslim need place prayer asian restaurant cozy musholla let pray even buy food look forward visit disneyland ',\n",
              " 'part trip hong kong disneyland definitely must visit disneyland past one full fill expectation arrival easy good entertain special disney mtr train manicure station grand sign lead park fountain mickey surf moby dick friend watch walk straight gate queue buy ticket klook print instruct unfortunately everyone chaos people try find get qr code work phone hold every increase line park open a m ride open even sleeping beauty castle refurbishment see properly access ride enjoy iron man experience simulation ride get fast pass space mountain jungle cruise okay queue different language fool short english queue ride space mountain watch jedi training cater good different language use kid great unfortunately heaven open pour rain appear enough place people shelter regard indoor ride cover area big puddle everywhere however silver line open mystic manor close day overall load ride lot character meet area queue course need bite much organise ',\n",
              " 'ride great disney quality crowd long wait time however cast member par anytime ask something either tell ask guy try answer quick possible walk away line pay attention enough someone pass cut front ',\n",
              " 'third time hk disneyland two day ticket time day five item enjoy want watch mickey wondrous book two session miss opportunity staff tell us wait minute session definitely get seat go last minute help priority pass festive lion king moreover unless min pass helpful heavy rain time much ride continue may worth get rain coat keep go priority admission iron man experience expect cm ',\n",
              " 'strongly advise people take day pass kid mostly ride long wait hour even weekday stay disneys hotel also get fast pass every night miss opportunity',\n",
              " 'hong kong disneyland fun go without kid yet adult surely enjoy experience negative side queue excesive cost food drink inside park however worth visit ',\n",
              " 'theme park suit kid good however clueless park day pass sell complete good within day feel unless feel obligate visit n every attraction need spend day otherwise place beautiful food great costly course effect theatre experience iron man good create post sunset firework absolute visual delight need stay back till pm make visit feel complete easy commute disneyland mtr east tsim sha tsui nam cheong sunny bay disneyland change line mention station shud disneyland min tsim sha tsui ',\n",
              " 'august rainy season hk prepare umbrella rain coat get adv online ticket either print paper qr code phone bet line little attraction elsewhere park renovation e g get good view disney castle due reno hourly show cantonese except folk song english ',\n",
              " 'barely qualify gauge quality disneyland kid disney theme park since ladyfriend decide long move spend weekend lantau frank enjoy hk disneyland  really small sure reviewer mention mean  doable two three hour maybe long kid although miss m any thrill ride disney property feature  go ocean park  nice way spend afternoon i m go explain disneyland tip go weekday never weekend sure get crowd hit single line tuesday start serve booze early even know advice front maybe go late say propos nothing little stop one hit beforehand bring roadies lunch option although   definitely expensive disney park term food multinational cafeteria style restaurant great certainly get job break bank note even write visit hk look authentic hk experience go disneyland stick main island kowloon million awesome thing see kid like ride need check disney experience bucket list sort personal disney thing mandate therapist something spend much time possible happy place earth try dissuade  small enough spend morning actual hk stuff spend afternoon vice versa  also pretty close action  take public expect minute ride central nice thing disneyland dedicate mtr line complete mickey head shape window strap finally ride want go little adult agree upon ladyfriend myself hyperspace mountain small scale star wars themed ride piggy back space mountain concept  little scary actual roller coaster stomach drop big brothering kid frighten roller coaster would make go build confidence couple cool sw tie ins well big grizzly mountain runaway mine cars  name  fun little ride rc racer version big swinge pirate ship ride many us grow stomach drop galore toy soldier parachute drop bench seat hoist way high afford one well view day drop iron man experience vr experience several notch see action film dx  ok adult suspect elementary age kid would love ',\n",
              " 'never think would go disneyland location away city good nicec date attraction like iron man beautiful firework night',\n",
              " 'visit disneyland good one park small disneyland tokyo california good thing walk far get go line ride much short disneylands complaint hot sweat much make short look wet nite would advise visit winter staff helpful time ',\n",
              " 'bad disneyland experience stay night watch parade light show much fun p s forget collect sticker crow member ',\n",
              " 'hong kong disney great fun love return magic ever ride big kid awesome well worth long line hot weather micky pancake yummy shop area great place cool ride photo character brilliant even teenager resist snug pluto ',\n",
              " 'great place visit one two entire day take water home drink really expensive inside park ',\n",
              " 'really nice theme park short wait time ride would recommend much phantom manor unique hong kong disneyland ',\n",
              " 'love disney big visit one day night parade cancel th hour due thunderstorm shame ticket price reasonably price food drink balloon etc extortionate price balloon think ridiculous queues reasonable ride much queue minute rollercoaster minute using app helpful see queue time ',\n",
              " 'great place family friend lovey show end firework show end day ',\n",
              " 'visit place wednesday avoid crowd unfortunately crowd manage play ride queue long much ride lion king show excellent whole area small ticket overpriced ',\n",
              " 'special day wan visit disneyland since child get go finally birthday present family visit cousin one friend enjoy much thank y ',\n",
              " 'great time pretty pricey buy hey disneyland loved bakery goody corn popcorn minnie waffle like fact pay extra fast pass put ticket give us time fast pass awesome heat kill us though ',\n",
              " 'best place ever full many think full day exhaust many thing see food expensive average ride attendant polite smile need much much english speak staff clean transport system fantastic  must see holiday itinerary ',\n",
              " 'visited place time much recent one manage catch iron man one new attraction park place hold special mean us time return back feeling always special nice place visit ',\n",
              " 'year old girl excite never see happy roller coaster especially grizzly gulch exhilarate kid enjoy much adult fantasyland must young kid parade especially one night paint night amazingly beautiful one kind experience kid ',\n",
              " 'place nice clean small small disneyland place perfect little kid monday well day go wait use ride ',\n",
              " '  need stamen patience good place spend hour kid plenty great attraction everything high quality however like disneylands wait time long especially meet get photo character allow little min per character get kid choose carefully otherwise  pay fortune spend day get photo best things rides attraction great show like lion king everything clean good maintained easy get mtr train taxisworst things food expensive wait time long eg minute mcdonalds pretty basic fare wait time photo disney character long active people management employ make second per photo opportunity move guest relations almost useless expect help understand care kid howl distress ',\n",
              " 'stay hotel night already expect would need little day fully enjoy place expect disneyland disappoint us park beautifully decorate ride entertainment amaze go december even cold wear heavy clothe almost faint heat good thing bring extra blouse great restaurant around try chinese restaurant offer big bowl noodle soup  good person guess order one finish ride cute really kid life threaten ride people enjoy  great stay even hotel disappoint sell disney merchandise great souvenir ',\n",
              " 'go hk disneyland wanchai rainy friday afternoon easy get mtr park crowd line fairly short reason jungle cruise line long wait lucky line english speak river guide speak clear english much say train conductor whose english indistinguishable chinese castle construction inform pay wonderful afternoon four hour plenty ',\n",
              " 'disneyland small one compare different part world however  amaze hong kong small place disneyland  fun disneyland expect much try compare one different side world may say disneyland theme park different size one much ride ',\n",
              " 'hong kong disney super fun one small disneyland mean easily one day sure go ironman ride excellent haunt mansion great fun day recommend hong kong disneyland ',\n",
              " 'friend come back hk uk pick day visit hk disneyland theme park always offer visitor joyful atmosphere make feel like magical fairyland staff passionate job offer memorable experience traveler however refurbishment castle good abandonment buzz lightyear game make visit little repentant still great day ',\n",
              " 'small date poor facility young child enjoy place food expensive ',\n",
              " 'always love visit place anytime repeatedly watch show firework display end time friend family visit hk disneyland miss',\n",
              " 'disney mostly know expect florida know park flawless finish attention detail little lack may see people empty bin etc thing ',\n",
              " 'nice place big small reach rmb go get fast past space mountain ironman winnie pooh walk around see short line start day download ',\n",
              " 'must visit get day ticket cover zone price good almost although weather indeed humid lot fun make sure get booklet ',\n",
              " 'read review small rate go find well expect go monday height august summer holiday rain slightly morning deter ',\n",
              " 'place good familiy worthed many attraction show kid adult slow fast excellent show mickey parade night must see disneyland ',\n",
              " 'nice day lovely touch disney near wow factor original spend full day hour stop flight arrive open via disney train ',\n",
              " 'far fun version short line la disneyland parade spectacular wait time fofor ride approx min shock fast everything english speak ride unlike ',\n",
              " 'it s dream come true age still dream disneyland trip great adventure place wonderful intertaining especially kid place huge ',\n",
              " 'definitely well disneyland park disappointed size castle good much attraction definitely young child much disney magic parc feel like disney ',\n",
              " 'hong kong disneyland twice small version eurododney original disneyland us the hong kong disneyland specialize show fantastic add park usual stuff find place enjoyable much well parent catch almost everything little day recommend ',\n",
              " 'far small disney easy enough get much day went week many kid classic disney feature small scale ',\n",
              " 'travelled early year april smooth get hong kong disney mtr traveling young kid fairly easy smooth visit much disney park quite high expectation park meet soon board disney train sunny bay station see feel expense spare visit saturday busy overcrowd time ride open part construction renovation include main castle average wait time character hr average queue time kid ride mins opt meal pass work well us lunch meal royal banquet hall surprisingly good consider theme park food dinner clopin festival foods amaze coming stockholm admit food get restaurant well anything sweden please check pics whether visit hong kong disney kid worth visit like day theme park ',\n",
              " 'attraction lot klook cheap way buy ticket recommend buy value meal reason photo share popcorn good cook ',\n",
              " 'disneyland hong kong beautiful husband spend day thoroughly enjoy center park renovation disappoint attraction run park good organise clean easy navigate get early beat line heat ',\n",
              " 'tip buy discount ticket klook spend little day park plenty time everything line long aware food option expensive good lot walk get park ',\n",
              " 'find even wet disney fun enough shelter much place get soak would bring brolly show thing mr love paint night parade take break afternoon hot come back early even would otherwise long day little one mtr convenient ',\n",
              " 'st ever experience disney land resort lovely like rest hong kong got prepated walk walk walk extremely unusual ride fun characters let rain put toy shop wow even adult buy stuff lol downside muslim prayer room stand near entrance sell halaal food try caramel popcorn tasty smell divine ',\n",
              " 'definitely small disney theme park world wide store really strong punch disney magic visit th anniversary theme park go major renovation slate build brand new castle perhaps complete  disney theme park must say definitely take chinese culture meld traditional disney experience offer grill squid snack toy story land definitely must see must go mystic manor ride  much fun offer different vision haunted mansion ride another ride must iron man experience similar disneyland star tour ride except take stark expo hydra start cause mayhem tony stark save day definitely totally different ride anywhere else totally worth wait  would also suggest stay chance hotel disney dim sum cute miss ',\n",
              " 'quite expensive much see rides overcrouded wait time hour much time may okey visit ',\n",
              " 'august monday still lot people we kid weather really hot humidity like plus big pride end close imagine every one go home time ',\n",
              " 'buy ticket via trip advisor find go define day go day typhoon warn vast majority attraction open fact outside attraction lovely day sooo disappoint sun ride available',\n",
              " '  hk disneyland much time would say ever pixar water play street party one favourite first reason  specially fond mr incredible family frozone  cute another reason chance get wet cool summer love idea water dance party sun lol believe special summer hope go end ah btw also add zootopia meet greet another must ',\n",
              " 'disneyland sea definitely one wrong encounter yes staff friendly helpful well meet quite handful staff typical arrogant attitude face explorer hotel sure staff train put arrogant attitude case good job disneyland hongkong piss turn many tourist never ever visit horrible place ',\n",
              " 'park unique attraction disney park staff rude never smile firework show parade map night amaze iron man atraction great ',\n",
              " 'many thing miss park castle small embarrass find american experience translate good food price obscene bottle water bring water nothing else water fountain water burn hot really hesitant drink mystic point great addition park hyperspace mountain strange hour open close p m also train stop p m super disappoint really overall seem like money grab day enjoyable someone party huge disney fan comment place miss magic agree bad amusement park ride fun price ouch easy get though train fantastic also nice train station park highly recommend ',\n",
              " 'wonderful day disney land disney park wow great time ride theme different park food personalise waffle jelly shape mickey mouse small big detail wow different show must see check schedule parade night amaze beautiful side visit castle construction show get see castle princess wonderful day would recommend use mtr disney train additional experience instead bus much day order see area experience ride long long day park expensive make sure budget definitely must see definitely back soon d',\n",
              " 'daughter much fun everyone kid need bring kid enjoy ',\n",
              " 'family go last june year old daughter birthday baby girl enjoy much wear belle costume give us vip pass parade one day enough enjoy attraction want come back ',\n",
              " 'watch simba show lovely cartoon draw session another fun activity children love need day cover ',\n",
              " 'visit year old birthday queue long benefit priority pass show mickey magic one well see parade also nice tried train stope us minute tell us close technical reason annoy go back entrance pick child cart leave enter ride many ride son fact many ride park expect slightly much price food obviously high water include day pass park manage get picture character long queue good ',\n",
              " 'get simple train senior price go disneyland terrific cheap day ',\n",
              " 'disney park small around world still lot fun best food ever eat theme park ',\n",
              " 'great time disney land hk kid teen love star wars roller coaster lots walk wear comfy shoe easy get mtr ',\n",
              " 'place awesome one day enough go around yes happy place earth even old feel happiness inside heart well part kid really enjoy place ',\n",
              " 'debate hong kong disney ocean park disney win doubt time worth tip help arrive gate open best avoid crouds mickey wondrous book popular show want go last show arrive full recovery arrived early leave last enjoy full day really need day ticket  small park comparison orlando parks fast pass available whine poo space mountin iron man scan ticket machine print time returnit great fun even though rain afternoon',\n",
              " 'definitely kid enjoy core adult also rock full day catch parade theatre show keep eye time venue app full day require cover segment ',\n",
              " ' companion time couple ride stand line hour laugh like kid humid though ',\n",
              " 'although small disney parks attention detail great customer service top list wait period line major attraction long atmosphere layout resort good think downside many thrill ride park ',\n",
              " 'use travel package much quick easy use mass rapid train system go far much regular time stick long go early day open time big breakfast hand take water site price high rides good highlight effect main theatre fabulous attraction close update ',\n",
              " 'visit st week may ride show great love disney night parade much kids enjoy thoroughly',\n",
              " 'place fill amaze ride play option kid spend full day get bore ample option choose buy express entry ticket save time wait queue ',\n",
              " 'one favorite spot hongkong iove ambiance full kid sstar war fan ',\n",
              " 'went whole family us take mtr reach place stop sunny bay station change train disneyland resort special white train mickey window disney figurine inside train weather good get lil rain enjoy buy disney raincoat store nearby continue adventure favorite ride big grizzly mountain time bro lunch starliner dinner good food affordable price spend full day much fun ',\n",
              " 'take bus shenzhen get give time trip take december crowd bad best ride go hyperspace mountain like space mountain us star wars themed mystic manor hong kong answer haunted mansion big grizzly mountain truly well surprise three one pet peeve us citizen sad popcorn sweet rather salty would love butter salt popcorn ',\n",
              " 'amaze disneyland visit great experience age many fun ride activity see whole park easily day spend hr try mickey mouse waffle main street ',\n",
              " 'beautiful wife family visit disney park late teen kid enjoy experience previously l lucky enough visit much disney theme park gotta say l totally underwhelm disappoint offer lf space mountain  sure kid without key attraction find park flat ordinary probably give miss true indicator full disney experience disappointing ',\n",
              " 'know park small low expectation  good disneyland anaheim ca like much euro disney spend full day hope  able visit ',\n",
              " '  nice theme park quite lot ride tho thrill show also fabulous however way many people sort crowd control exercise ',\n",
              " 'travel disney park world would say small castle suppose remove soon actually small original park anaheim ca toy story land pretty cool really go favorite ride mystic manor version haunted mansion absolutely park day especially fall ',\n",
              " 'small version orlando subtle asian influence necessary balance subtle work good mostly american theme park experience ',\n",
              " 'disneyland really grow ever since come last time moana  fantastic unfortunately never come august really really really hot stay like hour since daughter still small still lot laughter lot excitement ',\n",
              " 'must visit place hong kong lovely place great experience heaven small child simple word ',\n",
              " 'disneyland beautiful place one need visit hongkong enjoy ride especialy grease train experience ',\n",
              " 'perhaps time hk disneyland miss something time around lots new current character abound land area increase accommodate extra addition many old favorite miss time perhaps long doe appear crowd control keep arrive allow entry surely maximum limit much famous structure good disney one castle walk thru around day low cover pic upper portion still quite good would give littlies thrill refreshments etc quite fairly price ',\n",
              " 'one disney theme park price seem bite high opinion area kid perfectly respectable amusement park decent bite ride especially young set east asia make big park perfectly acceptable alternative ',\n",
              " 'nice parade show nice ride need wait little minute get single ride need spare whole day place anyway place adult child visit ',\n",
              " 'easy get use mtr great little one obviously look thrill real big ride castle small expect get round park everything day ',\n",
              " 'family one week visit hong kong usa decide spend full day hong kong disneyland great place kid age fun ride entertain show also disneyland california disney world florida disneyland hong kong contain various experience wonderfully unique visitor hong kong ',\n",
              " 'good theme park unfortunately rain heavily wet inspite purchase raincoat co lot open area nevertheless good experience ',\n",
              " 'buy ticket one travel agent jakarta give us discount  really helpful cut queue time main entrance excite since journey thung chung mtr station sunny bay sunny bay special mtr mickey minnie mouse window spend whole day  open close ride make us queue minute still make us happy bad chance take photo shoot disney figure since notice schedulethe area complete moslem prayer room clean equip pray clothe prepare really enjoy time parade  entertain also enjoy close fire work famous spectacular really well place visit ever never old go disneyland',\n",
              " 'unfortunately castle area close construction however lucky enough get free via uncle work disneyland sure cost wise however enjoy food atmosphere turn celebrate still dream usual theme park go early enough time enjoy everything early night show disney land even well show day lion king performance amazing oh fry chicken sausage roll heart definitely visit magical place',\n",
              " 'hong kong disneyland amaze well disneyland big line ride long hour ride meet character however week day quiet weekend may abit much busy ride excellent definitely recommend day hong king dinsey oh parade amaze ',\n",
              " 'hong kong disney big would miss go hong kong would time still school holiday heap people big wait ride minute big see space mountain make sure hat keep sun although plenty shade around spend around hour could hang light show parade day fantastic miss go ride watch film show stage show great give us bite break heat seat air condition theatre top plenty drink food outlet scatter around park together disney souvenir expensive compare use pay australia ',\n",
              " 'already disneyland time  always nice day family last time  stay one three hotel resort really fun stay disney hollywood hotel restaurant buffet dinner amaze ',\n",
              " 'pure vegetarian restaurant locate tsim tsa tsui serve north south indian dish definitely well indian restaurant hong kong stayed hk night visit sangeetha daily dinner would recommend authentic south indian cuisine hk ',\n",
              " 'went visit hk disneyland small park compare eurodisney park pack go tuesday disneyland queue mins average play pirate caribean peter pan attraction ',\n",
              " ' disney land like lot get immerse pretty good break character anywhere like much ',\n",
              " 'smaller version disney equally good teenagers great day love day disney ',\n",
              " 'small disneyland draw card large resort like tokyo usa cost expensive price new zealand due heat would well visit p m close would give time enjoy park see parade take food drink food expensive wait time much ride hour may get lucky get fast past avoid line take orange train line get change disney line sunny bay show map ',\n",
              " 'although scorch hot visit enjoy visit lot small disneyland anaheim close super early like disneyland ',\n",
              " 'smallest disneyland finish walk whole place min strongly recommend even spend time service also bad ',\n",
              " 'know much people busy live suggest live life work dream come true able visit disneyland yr old daughter gift god say god help find job able purchase ticket able afford hongkong general visit place fun since difficult travel old already imagine long lie overs old body take live life guy really fun share diy itinerary attraction miss maximize adventure ',\n",
              " 'modern good nice rides age active good miss one best disneyland',\n",
              " 'managed go disney land experience say terrific usual ride attraction iron man mystic manor ride well star war one pretty good great place go want spend day fun ',\n",
              " 'disneyland big one paris really lovely convenient mtr hong kong station fast way take tung chung line sunny bay station change disneyland line really beautiful tram ',\n",
              " '  nice hk specific station would take disneyland hassle free easy arrive tip buy ticket advance klook kkday save time queue weekday tourist flock weekend happy weather good initially check weather one week state thunderstorm occur turn sunny able enjoy almost ride almost still live show really fan one day enough hk disney small compare hk shanghai paris accordingly  visit summer bring gear comfortable outfit really hot wear rubber shoe really involve lot walk ',\n",
              " 'visit castle construction certainly take away disney magic amaze sight see park contrast green mountain load ride show fill day however many shop main street usa still enough get disney good toy story land roughly size paris big thunder mountain ride high lite one well ride ever disney park come fit laughter unprepared twist surprise see much marvel ride build park expand many restaurant park however fair amount variety food massively cater towards western culture however still get burgers fry chicken ect huge disney fan absolutely love park would love go back new castle build ',\n",
              " 'place oh adorable visitor make cute mickey minnie paraphernalia  one tick bucket list although sure one usa paris well still smile much ',\n",
              " 'great time disneyland hong kong wait time long disney park small also food great place doe fry chicken real nice must try lotso ice cream yum ',\n",
              " 'lovely hot disney visit great day firstly easy get either hing kong centre kowloon take mtr got upon open able get numb ride minimal wait time park many familiarity us site similar land easy navigate although hing kong park seem small much walkable rides kid love space mountain different name toy story hot wheels ride awesome course ride grizzly mine cars three time food price approximate park warm bring much water want western food spot get overall would go thrill wait time maybe luck numb character recognize popular disney japan impact us castle small undergo renovation bad miss parade great check weather bring water enjoy ',\n",
              " ' visit disney much small expect compare universal many others the grizzly mine car good experience also kid love mystic manor hyperspace mountain iron man experience parachute drop couple show others mostly routine stuff easy navigate though bite hot june staff friendly everything good organise place good maintain lot greenery expect food costly outside food allow bag check entrance wifi free good find app useful night parade fantastic worth wait take two day pass marginally much expensive one day ticket better go early course avoid holiday weekend still may find school trip add wait time easily access mtr prefer stay nearby disney hotel regular free shuttle bus available ',\n",
              " 'got two day pass time daughter would grand time park expect queue would long every ride every photo op character indeed enjoy parade much anyway day hit star war shop lose wallet piss tell cctv shop could believe since want day ruin ask help outside still continue journey get rescue friend friend lend us money train fare food pm though get email disney say wallet recover run lose find area leave daughter queue cinderella op two nice local girl voila recover wallet intact way many beautiful thing happen someone unknown lend us money two girl promise take photo daughter cinderella case come back right away lady give discount coupon item want buy pay back good deed pay item food wallet return unexpected magical disneyland hongkong among happy place earth magical ',\n",
              " 'cool mtr train disney check klook app cheap ticket download disney hong kong app phone handy arrive theme park sunday visit security bag check start around a m entry theme park around store main street open rides fantasyland open tomorrowland grizzly gulch open close three fast pass option available winnie pooh ride hyperspace mountain ironman experience must see lion king show though daughter say much different orlando animal kingdom version mystic manor specific hk disney hyperspace mountain big grizzly mine cart ironman experience stan lee cameo video disney main street pm activity grizzly mine cart close pm my favorite restaurant explorer club restaurant hainan chicken rice food expensive approximately per person per meal ice cream freshly make waffle cone hkd hkd double scoop hit spot small world ride cash hkd rmb the castle surprisingly really small currently undergo construction one day need disney hong kong daughter prefer disney hong kong disney shanghai little people shove say ride well shanghai ',\n",
              " 'lovely place awesome world cartoon world visit time love come suberb ride',\n",
              " 'small disneyland resort hk disneyland still disneyland feel many favourite ride queues normally much short disneyland resort steer clear china hk school holiday good day visit day old time sake ',\n",
              " 'definitely worth visit early large crowd start iron man ride great tomorrowland highlight ride except adventure island tarzan house haad full enjoyable day ',\n",
              " ' time disney park even though park midway transformation worth go fantastic ride mystic manor one well dark ride ever experience truly sight behold great ride include big grizzly mountain rc racer iron man experience wait go back new castle complete much ride add ',\n",
              " 'get disney line train window shape like mickey mouse know magic begin instantly feel like child upon arrival great store buy great gift people home well thrill ride great experience ',\n",
              " 'visited friend plan stay couple hour spend whole day took train cute well day ride early beat ques small disneyland perfect young family loved ',\n",
              " 'go disneyland buy grandkids disney stuff get day tour pick hotel drop night start get back hotel pm last drop bus leave disneyland pm big day go nearly ride even mr slinky kiddie ride haha see two show even go one ride twice final parade pretty good think go day enough',\n",
              " 'suitable kid much teenager like fun ticket price worth ',\n",
              " 'must place visit disney lover visit july please wear sunglass hat bring umbrella sunblock really super hot day wear comfort shoe ',\n",
              " 'nice place hang kid though kid yrs max fun overall fun place two day',\n",
              " 'may one small disneyland really clean good put together well ride close visit make sure double check online go ',\n",
              " 'think enjoy actually enjoy lot good organize perfect show miss lion king show',\n",
              " 'year old fun long line little much lot factor line think anyone go whole park one day see maybe disneyland hour food highly overpriced shop crowd nice ac bathroom bite dirty toilet grind good boys there lot rude tourist adult kid appear rush push lot overall worth visit may may go back son old much patient protect tourist push fyi ask gate buy one day ticket son love upgrade two day ticket pay difference leave answer ',\n",
              " '  much disney park one far way small  quite easy much park morning get early hr much main ride entry seem muddle affair none gate move fast however everything work good open different land different time seem strange mystic manor definitely good worth go park magic disney park good worth go really loss would need day guess small child take long get place place plenty different food option choose good mix asian western choose price hong kong prices expensive the parade get crowd good worth pick good spot shade start ',\n",
              " 'great day disneyland centre hong kong island min mtr last train disney style real disney station park good one day park clean good maintain rent stroller year old son stroller steal min park get new one free ',\n",
              " 'pretty small manageable easily hit highlight within three four hour park open assume go line drop stop breakfast character meet etc park lot repackage ride area disneyworld anaheim disneyland fine nothing new well ride relatively novel hong kong iron man mystic manor well obviously favorite part whole park actually show really good blend cantonese english accessible interest way definitely try catch jedi training hilarious great show much identifiably hong kong part park really memorable westerner need afternoon beer river view cafe one beer tap ',\n",
              " 'must teenager smaller little see disneyland anaheim hand mean get good spot show parade etc despite size still get day ticket disney worth use mtr travel special disney themed train cute aware rarely get seat pack mtr stand trip home long day foot ',\n",
              " 'family visit disney hk last october daughter birthday lot fun part whole family really enjoy ',\n",
              " 'time disneyland hongkong place lose charm son really love attraction hyperspace mountain ironman experience buy day ticket rush attraction also wait light parade even ',\n",
              " 'nightmare experience online book system issue ticket park bank reject pick park gate cause disneyland park several security people pay visit gate resolve minute late well disney welcome generally park pretty good busy stay hotel advance pass help rain day ',\n",
              " 'huge disney fan last park visit absolutely love cast member amaze always help hong kong disneyland really unique attraction mystic manor need see believe lot fun disney work something like lot fun various character interaction paint night parade must see ',\n",
              " 'love thing disney visit hong kong know disneyland would thing vacation disappoint park much small usa counterpart still great disney experience little line many ride get ride ride wait line usa many ride us park character awesome interact everyone party would definitely say hong kong disney must attraction hong kong ',\n",
              " 'kid look forward visit hong kong disneyland visit hot day pre book arrive disney train exchange voucher ticket walk attraction quite long kid really enjoy various ride course popcorn ice cream queues really long try stay indoor visit place like  small world although long queue involve lot wait get ride disneyland visit due immense crowd hot weather kid enjoy much tokyo disneyland visit disneyland check weather definitely go public holiday weekend overall nice visit especially main street corner cafe nice drink decent food ',\n",
              " 'student silver annual pass cost ish min away city centre also recommend visit inspiration lake min away bus mins walk ',\n",
              " 'make mistake come lunch plan see pm parade want overtire son come early time see much exhibit bought meal coupon us provide much food portion quite generous rend stroller fire station main st khd recommend  bring small child ',\n",
              " 'enjoy visit disney land parade show lion king must see little bite disappoint firework show time cinderrella castle contruction experience pretty good ',\n",
              " 'dream world believe picture magical place age group ',\n",
              " ' disney may agree love staff ride shop etc extremely helpful queue move quickly food expensive quite good quality issue want get photo character see one disappoint read park brochure little information position day think need much one day short amount time ',\n",
              " 'absolutely worth go even disney fan spotless service fantastic ride great show enjoyable definitely worth allow one full day visit go almost ride see one show dinner watch projection show parade make full day enjoyable hot make sure bring cash purchase small stand remember atm need lot shade toystory land much shade hot love would definitely go back mtr drop right entrance ',\n",
              " 'little disappoint disneyland anaheim florida one much small many ride water ride hot disappoint st miniature version real thing',\n",
              " 'ok help heat disney experience price pay get mention buffet nearly per person feel little cheat bar one parade character actually see chip dale rescue ranger maybe micky busy count money pop see us also question car numb plate ',\n",
              " 'disneyland different country hong kong one big neither many ride specially adult however atmosphere nice much organize little crowd compare disneyland around world nice spend day walk take pic disney character ',\n",
              " 'compared usa park park small ride cater much young visitor understandable park clean enjoyable must stay end parade ',\n",
              " 'come hong kong disneyland avoid huge crowd usa france whilst definately different give alot asian theme show definatley far little expensive park little crowd staff seem genuinely love job seem happy definately try go mid week although go monday tuesday whilst monday great nearly line tuesday almost double crowd size small negative think limit food option would nice able grab snack like hot chip dougnuts instead pop corn highly recomended ',\n",
              " 'buy ticket via klook save us hkd per pax fast check baggage ticket booth long line love child yr old free lines kiddie ride average minute bad carry toddler need park stroller enter cue area food price expect high side want skip long line opt sit restaurant like maxim s great chinese food actually try dine outlet previous visit year ago also choose eat maxim s little consistently good ',\n",
              " 'small disney standard aim real littlies would expect terribly overpriced food really ordinary although bakery food pretty good ride would appeal real thrill seeker parade fun watch place beautifully clean unlike disneyland paris pleasant day  get little one ',\n",
              " 'although read review prior go still expect park small disappointment fake train station build look like backdrop cheap play make canvas main street little th length  counterpart castle although surround hoard look high tall basketball player many food establishment close although eat eat good many disney parks far wrong really worth money  ask ',\n",
              " 'stressful chaotic trip shanghai disneyland teen actually dread trip hong kong disneyland prepay try glad arrive afternoon friday decide get half day park pleasantly surprise lack crowd immediately notice friendliness staff smile common shanghai staff give sticker really try help us english need crowd good behave push day even parade projection show fun orderly good manage staff shanghai disneyland learn lot hong kong park small castle close make feel small clean happy really enjoy royal banquet hall fantasyland make us vegetarian spaghetti marinara sauce really good also go park saturday still pleasant increase crowd ',\n",
              " 'lovely clean everyone happy serve wave hello etc clean ride great come july queue short',\n",
              " 'although ride good adult primary kid year age range much food stall restaurant ride ',\n",
              " 'decide visit disneyland day whilst honeymoon hong kong whilst lack thrill ride queue compare disneyland bad min max whereas look hour peak time disney park clean impress food option offer much well usual fayre burgers hot dog chicken nugget etc mystic manor highlight us real gem space mountain slow disappoint compare paris update mine train good surprise make right decision visit ocean park ',\n",
              " 'spent day disneyland family rather small compare florida california many people though nice people stand line compare us definitely plus everyone smile face worth spend day ask ',\n",
              " 'expect disney ride facility top notch dissapointment service standed aware hong kong culture come across unfreindly expect lot much disney staff exeedingly unhelpful make family feel unwelcome would hurt much try putt smile shame happiest place earth sad people ',\n",
              " 'whether child adult visit place amazingly beautiful many ride people age group summer forget carry hand fan get hot humid toilet available every minute walk neat clean air condition one tae rest washroom outside every washroom drink water tap available carry refillable water bottle carry pram child prams available rend also miss p m mickey magic book show pm parade ride almost last much minute enjoy ride much show amaze ',\n",
              " 'young group old everyone great time extreme ride thrill seeker fun go june hot humid pack water bottle water fill station everywhere go early open get really busy around midday mid afternoon park pump people go weekday crowd manageable tip would ironman section hop toyland list get hot crowd afternoon limit shade wait time long mins heat decide bypass food expensive expect cheap though either good breakfast choose something like rice curry lunch fill keep go close small snack take think anything big would confiscate miss lion king show family see stage show unsure go say fantastic regret make time see ',\n",
              " 'although hot uncomfortable much day blast sister go young kid sure keep hydrate get ac every often cool go friday crowd still manage cover much park magic kingdom disney orlando take us day feel satisfy hk disney one day cover much due lack line lion king show highlight moana show new feature need much seat crowd overall great time would recommend ',\n",
              " 'rain day visit much ride close open short immediately wait min rain play spoil sport many option old boy son yr quite bore couple ride also due technical issue ',\n",
              " 'live hong kong two year want take kid disney since land finally able sister town start say grow disney world really hard top still great job disney thoroughly enjoy close disney world close nice job tomorrowland show see incredibly inclusive perform song english dialogue cantonese subtitle either side english mandarin prices disney price everything pretty expensive way disney parade end night lot fun exiting park incredibly easy mtr stop right kid especially love special mtr disney land worth see  disney would maybe suggest check ocean park unique hong kong panda ',\n",
              " 'like queue behind thousand mainland tourist hour visit attraction it small way airportthe govt allocate equal portion land expansion adjoin site take better go ocean park',\n",
              " 'company child heart enjoy go recommend visit april may it hot i suggest go feb march ',\n",
              " 'go expectation leave one well experience far date small enough get around whole thing day attraction pretty incredible ',\n",
              " 'place look old outdate food expensive hard get coffee anywhere layout place save money go disneyland tokyo instead',\n",
              " 'disneyland love slightly disappoint castle renovation ride still plenty ride keep us occupy attendant come across nice boy awesome time one day doe seem enough especially kid toilet break nap break icecream break explore break parade awesome closure especially member turn wave shout name adults kid sleep dreamily night magical place indeed ',\n",
              " '  euro disney tokyo kind quite right feel try hard america attempt make visitor feel  anaheim orlando quite make prices high ok kid fun ',\n",
              " 'park great family love experience however really love shop amaze variety disney item purchase probably spend much time actual park kid love air condition fan wait line warm day visit park cope good lot park visitor wait time line ride keep minimum ',\n",
              " 'value money overated small disneyland tourist trap go better visit ocean park instead ',\n",
              " 'hong kong disneyland fun relax even though small complacent center musical theme character ride',\n",
              " 'disney disappoint florida huge disney fan love however ride much childish orlando get disappoint worth visit ',\n",
              " 'ever possible always go disneyland two day ticket good much much expensive one day ticket walkable area much small shanghai guess many good restaurant cheap yolo ',\n",
              " 'spend full day disneyland hong kong easy get anywhere love train disneyland waiting period reasonable food good good value money theme park manage get lovely merchandise ',\n",
              " 'yes park small love day friendly welcome staff atmosphere make every moment enjoyable parade outstanding great place every age ',\n",
              " 'say whole day enough experience everything inside theme park well ride mystic manor rc racer grizzly gultch marvel ironman experience also okay ',\n",
              " 'get surprise see small disney florida though one hong kong would little size nonetheless virtually line mainly ',\n",
              " ' visit disneyland hk year ago open since grow still magical place visit small disneyland comparison one usa however suit us young child ',\n",
              " 'unfortunately day go rain hard outside ride activity cancel however offer compensation still fun never disneyland enjoy walk rain ',\n",
              " 'must visit travel kid  kid really nice ride attraction show e g lion king entertainment everything good organize include outlet serve lunch busy hour parade miss quite spectacular ',\n",
              " 'right start entrance experience sense awe walt disney world imagination indeed comprehensive design set actual hollywood set hk giving various theme make popular wd ',\n",
              " 'worth money yes ticket expensive quality ride good keep ground worth investment five year old complain walk step fitbit usually would complain walk step ',\n",
              " 'preface disclaimer fan theme park mainly queue crowd really good day decide take kid obviously ',\n",
              " 'place quite good destination hk family easily go mtr hk sunny bay station price quite expensive buy evoucher klook cheap ',\n",
              " 'like disney doe let take umbrella hot day crazy hot place escape sun easy get train staff great much ',\n",
              " 'disneyland maintain good condition alright day fun ride age adult lack key item good restaurant want go exclusive restaurant help ',\n",
              " 'visited disneyland hong kong family travel train easy acesss train hotel try ride enjoy food restaurant particularly like space mountain buzz lightyear ride visit future thanks',\n",
              " 'park quiet big ride show interest good maintain unlike several theme park china find maintenance park facility top class families young child recommneded bring thier stroller also hire stroller park get theme park map ticket window also kiosk enter ticket chekpoints take minute note show time parade firework parade firework show miss people usually take good spot along parad route good parade start time most popular ride show fast pass system tag yourbtiket fast pass kiosk ride return punch time get go fast pass queue short a great place day family',\n",
              " 'happy place earth great family everyone speak english easy get around meal great guest service get time character photo hire pram great kid get tire metro also beautiful',\n",
              " 'disneyland whole new world insulate mainland happiness write everyone face sadly castle sleep beauty etc renovation accessible toy story land ride non operational otherwise despite rain brave way ride attraction yes enjoy rain walk tire us bite add adventure vegetarian food limit inside would recommend vegetarian pack meal visit overall feel good factor good recommend much child recommend two day one day rush tire two day let soak thing much rush pace list miss ride show mystic manor unique hk disneyland hyper space tomorrowland grizzly gulch iron man experience river safari lion king show mickey wondrous book could make highly recommend ',\n",
              " 'pre purchase ticket klook wait gate although line look short anyway arrive around p m time parade good wait time ride minute mostly wait show put highlight particularly lion king show park close around pm find hour long enough two adult ',\n",
              " 'trip hk disneyland blend good bad experience firstly  bite expensive travel fro mtr form hong kong central station disneyland entry ticket pass also expensive recommendation would give disneyland world especially paris skip one sure need waste time money whole day place another disney include paris tell experience seriously worth kid surely opt day disney travel adult teen like early  strict thrill ride adult teen though whole idea behind create disney park child keep mind child age group visit besides pack flock queue wait time long lengthy much seat space shade food drink disney way expensive much choice vegetarian ocean park good alternative disneyland choose ocean park disneyland give day surely regret kids surely love disneyland age group afraid even light park pretty hence make mistake sacrifice day utilize well purpose ',\n",
              " 'disney belt one say little favorite thoroughly enjoy whole day yes small castle eyesore renovate one seem understand fast pass able use day went week day well crowd size enjoy year ',\n",
              " 'disneyland paris japan think hong kong unfortunately lot rain day visit ride close mid afternoon good range attraction ride age good selection different restaurant park app make get around breeze app also give wait time major ride attraction ',\n",
              " 'really fun disneyland came sister fellow solo traveller meet hostel agree highlight hong kong trip',\n",
              " 'hate give disney bad review hong kong disneyland four year bite disappoint today quite pointe lack disney magic small thing place example light work rain chain lie correctly rain forest scene small world maintenance man fix gate even use tool grind front line ironman experience visitor walk ride majority non perform cast member look like hate job smile look forward see new moana show venue absolutely ridiculous three row seat area accommodate lot much much shade cover unless get seat stand hot sun minute watch make entire show unenjoyable real downer kid hate say wrong part day seriously seem like disney take cheap route create new entertainment item also see post anywhere even disneyland app close ride back park one hour close time waste time walk back park ride ride would change even schedule know would close early use love ride mine cars dark park close sister visit us avid disney fan say wonder one come disneyland park open enough hour get money worth close ride early lot shade cover compare hot location walt disney world florida expect much disney thankfully new light parade fantastic day end classic disney magic ',\n",
              " 'exhaust spend whole day rides long queue show like lion king nice adventure zone tomorrowland highly recommend start jungle river cruise adventure land nice ride end pm parade happen long wait parade early use proper walk mickey donald mainly use led float interest face thunderstorm visit many ride get cancel get wet food widely available restrict must take cable car ride take hill top many ride n game save time buy express pass afford',\n",
              " 'disneyland never disappoint wonderfully magical place never disneyland visit hong kong disneyland couple friend go park state yearly hong kong disneyland small comparison disneyland magical show happen around park day long character walk street suprise attend show us american english speaker greet bilingual show find quite entertain go park november everything decorate christmas theme even christmas parade wonderful fake snowfall friend miss snowy winter weather home fantastic surprise load snow shoot crowd flash christmas light festive music would definitely recommend visit hong kong disneyland people age truly happy place earth also believe begin expand park soon become double size ',\n",
              " 'nice crazy experience disneyland hong kong good beginner hear many people disney land experience enjoy ',\n",
              " 'remember tell would enjoy childish place prove wrong able enjoy attraction ride offer realize despite mature age still like kid heart though adventure tire make sure good rest come wear comfortable shoe good come early make much ride stay close time still want much really place take back past allow enjoy present make look forward future ',\n",
              " 'disneyland always happy place earth easy get train renovation moment still enough see ride parade great ',\n",
              " 'hong kong disneyland able maintain service level especially new attraction iron man star wars free fast pass offer several select attraction slight negative experience food quality serve one food stall inside disneyland whereby menu state duck breast meat taste much like luncheon meat see meat stripe usually exist meat ',\n",
              " 'day visit adverse weather warn many ride close day although kid great time wife tiresome walk day choice restaurant limit menu restaurant basic bland overall new experience one miss disneyland visit hk',\n",
              " 'word express must visit feel kids come alive u reach theme park u become kid kid ',\n",
              " 'part bucket list visit disney park list senior entrance hk favourite ride pirates small world hk pirates shanghai small world go satisfy pirates reason instead hk god value totally well experience shanghai ',\n",
              " 'child dream go disneyland get chance somewhat underwhelm small expect ocean park way large come vastness park also quiet good thing think enjoy souvenir shop probably visit give chance ',\n",
              " 'travelled family t was really awesome see lot thing mickey mouse character good recommend kid want experience really disneyland big wow ',\n",
              " 'like place good set friendly team around good activity decent ride explore well thing miss visit disneyland hk lion king show awesome age group rest activity nice explore ',\n",
              " 'small disneys flip side much quiet queue maximum minute much time able get ride quick succession also quick get around trek one side park other food drink reasonably price overall however water bottle fairly steep renovation take place laughably small castle hamper space park staff friendly courteous throughout area improvement would type badge give entry need variety disney park marry birthday etc having animation academy different disney please available class say cantonese put easy follow great fun throw english explanation along way easy get via hk metro special disney line take last part way overall good visit ',\n",
              " 'day start hot sunny got a m open sure enough get let front gate a m wait go far park ride tell area inside open a m around lunch time rain start parade day leave minimal amount ride ',\n",
              " 'family hong kong visit always visit disney park travel abroad visit hong kong disneyland opt stay onsite park calm really need hotel mongkok mtr ride park minute line entrance move pretty fast never need use fastpass able ride everything want cast member also helpful great time park world busy disney park think change soon new castle new addition mystic manor favorite ride hyperspace mountain close ',\n",
              " 'took year old boy hkg disneyland birthday choosed hkg near term flight time kl worry would take kindly strap seat go stressful come home easy sleep throughout flight one thing discover order take load pix mickey gang well place dine one  restaurant make make schedule appearance take photo disney character disneyland entail long queue staying disney hotel also treat travelling disneyland even city easy frequent free coach going week holiday weekday queue ride fast short prepare spend though disney resort hotel day ticket food gift shop item cheap enjoyable experience kid blast hug kiss mickey gang mention mummy daddy jolly good time parent worry abt stroller hv disney stroller forget download app quite informative indicate kid ride suitability accord height also general info like find ride shop restaurant etc ',\n",
              " 'hong kong disneyland great day family however would recommend go extremely hot day little shelter sun unless enter souvenir shop plenty expect pack shopper even show di enough seat watch appear us see bench seat front however still good day ',\n",
              " 'good experience took mtr convenient show good loved lion king festival wish much shade area rest hk weather humid much water spout overall great experience ',\n",
              " 'nice crazy experience disneyland hk good begginers lunaparks rollercoasters ',\n",
              " 'even heat fantastic day last hour get fast pass give us hotel disney explores lodge come handy crowd increase around lunch time loved ride go staff kind food average would expect brought kid us ',\n",
              " 'think one day enough surprisingly disney hongkong apparently small disneyland world one day visit enough happiness year old face see buzz woody donald rest disney character truly priceless we problem go place due accommodate tour guide ',\n",
              " 'go mtrand catch disney resort train take straight train mickey window statue inside handle even mickey shape sell reduce ticket worth remember lovely park although castle renovate land visit show parade even parade small california disney good worth visit food quite expensive like theme park take easy get great day',\n",
              " 'extremely hot weather june avoid summer time place small manageable family young child go straight fantasyland kid go much ride night parade worth watch bite disappoint get see disney character walk photo take castle also close firework night ',\n",
              " 'maybe attraction prefer kid many kid attraction see disneyland promise child place must visit easy acces kowloon get mtr place near airport prefer go weekday big place great experience one day think enough around masjid mosque little bite difficult moslem pray every area great show get micky mouse show great excite professional foodcourt halal food buy ticket online well spot closing ceremonial well show thank',\n",
              " 'check weather go rain win see many character outside outdoor ride close indoor option available really pleasant surprise nd day staff mtr tell park may close due rain buy ticket still decide go rainy day day pass take rain coat umbrella pay hk buy one park lot walk plan visit want get way finish want exhaust much importantly kid get really hot humid my little girl princess maniac experience meet snow white elsa sophia tinker bell moana quite phenomenal love way character interact kid make truly memorable experience look particular character make sure check schedule day go e g elsa go tue fri meet elsa fri fix timing plan certainly help show good lion king moana etc plan min per show minimum night parade awesome see kid fascinate light show character food good lot option available day pass make sure eticket handy nd day even register finger print pretty easy get via mtr we one paris one though small definitely pack punch kid complete one day provide get early happy mickeying ',\n",
              " 'purchase park ticket travel agent day prior mean little queue park also cheap buy direct get tai po sure much travel agent able help arrived early via bus sha tin transport link brilliant good sign arrive park open near front que see mickey minnie greet people gate officially open park self small visit paris orlando still plenty lion king show highlight see twice help good fortune fast pass single rider queue manage get ride see show one twice meet character plan day good easy see lot park one day really possible space mountain star wars ride really good themed avengers part park also good iron man ride nice little attraction similar star wars ride park mickey mouse celebration projector show class good worth wait couple negatives castle close know obviously take away famous photo opportunity also iphone app website show different time park close also mean show wrong time parade leave sit main street hour long hop overall enjoyable park fun ride much certainly happy place earth ',\n",
              " ' caliber original nice park smaller anaheim disney small quite reasonable price tag second day ticket fraction cost day one lines minute saturday unheard disney location like disney park castle several area bring st century expect closure disney fan make stop hour layover able ride two ride explore main street grab lunch see much half parade ',\n",
              " 'bite disappoint cinderella castle renovation get see firework park small imagine rides many either good thing go non peak season really need queue long much ride ',\n",
              " 'similar park tokyo  mile ahead disneyland paris atrocious get meet cinderella duffy iron man tigger winnie pooh stellalou pluto goofy snow white see ariel food snack available tasty eat explorer club restaurant choose variety asian menu iron man experience ride like star tours also open ',\n",
              " 'must tourist visit hong kong quite big walk tire still recommend people age visit disney fun let go self become kid disney fast ride good moderate ride want sit ride enjoy show miss lion king show mystic manor show mickey wondrous book phillar show also must night parade ',\n",
              " 'pros visit new attraction especially iron man ride also upgrade renovation ride compare last round come ten year ago food price much reasonable variety though taste fantastic queues quite long probably due public holiday school holiday quite lot local park note much firework parade character lightning visual display toilets clean air condition ride indoor good summer period hot like singapore cons many complaint except long queue time worth visit new ride future ',\n",
              " 'nd time year time round find ride seem good may make alteration example small world ride use keep repeat song last time time play combine music pooh ride use lot pretty panel time turn area seem amount panel lessen ride shorten even night parade car little gorgeous st time see also discover ride able ride time go new iron man experience quite awesome also iron man virtual reality game yr old son store tomorrowland quite fun parent go solo use fast pass main attraction ride try single rider son sleep toy soldier parachute drop young kid teen shld able withstand excitement break tear also think mickey philharmagic fantasyland pretty awesome son bite scare maybe due loud noise inside really consider bring young kid one ride son love slinky dog spin toy story land ride parent enjoy mystic manor usual young kid quite dark scary son pretty cool dumbo ride obitron pretty much type ride food think well food court fantasyland also mystic point good go weekday little crowd summer outdoor ride u wish try go indoor rest till late afternoon work really good us try dumbo obitron ride go indoor ride like pooh ride mickey philarmagic small world ironman hyperspace mountain till late day hot go toy story area ride utilize fast pass single rider option save time park ',\n",
              " 'disneyland always great place spend day staff happy give sticker ask staff carry ride course big attraction along meet greet character great family day',\n",
              " 'disney fan hate stand long line like us try hk disneyland weekdays slow show food great ',\n",
              " 'disneyland little small complete easily rides good enjoyable kids much fun show disney parade enjoyed food allow inside throw find take care ',\n",
              " 'super duper disney enjoyed family day disney resort fun fill game ride eat memorabalia etc fantastic locale fun age always happy',\n",
              " 'roller coaster scary fun food really good shop good product parade end day magical',\n",
              " 'disneyland suppose small however show excellent long line place recommend buy fast ticket fun park however ride great adlabs imagica one lonavala bite disappointment ',\n",
              " 'full day trip disneyland one big like us one good enough keep kid occupy day beautiful parade noon close time load free show whose timing post update base weather condition tip crowd weekend public holiday min wait ride try go tuesday  would thurs less crowd also try cloudy raininy day ',\n",
              " 'two adult much fun attraction within easy walk distance good organize clean parade add bonus restaurant fast food good food good value entry price ',\n",
              " 'great place take kid  worth check one time would return well alternative like ocean park ',\n",
              " 'children enjoy ride love small work mystic castle kid ride star war roller coater x ride puke mainly kid',\n",
              " 'crs happy place world right size someone like cover everything one day beautiful ',\n",
              " 'much fun park perfectly size full one day visit great place visit family child adult disney fan kid heart mix classic new disney character ride ',\n",
              " 'lovely theme park different theme age audience got open could actually get ride great however rest park still amaze get mtr stop ',\n",
              " 'disneyland hong kong value money buy ticket include lunch waffle lunch fill even use one coupon clean staff regularly clean park several smoke area around park staff friendly show thing almost long wait ride awesome merchandise reasonably price easy find shop light show end day breathtaking beautiful around amaze experience definitely return recommend anyone ',\n",
              " 'visited sunday long weekend hk great thing although crowd feel overwhelm especially queue entrance somehow inside feel bad get wrong queue everywhere pack probably design everybody disperse much little evenly food drink expensive would expect give location point complain souvenir shop good stock variety plenty shop temp kid takes strong spend item great place visit kid bring guarantee good time ',\n",
              " 'great experience kid especially disney fan park facility good though bite warm day visit ',\n",
              " 'disneyland florida experience miss would definitely say one ',\n",
              " 'good day trip compare santosa island amusement option singapore well part samba show even prade overall expensive worth visit ',\n",
              " '  several time since open visit disappoint park much small d lands everything go park seem expand much time ',\n",
              " 'fun whole day outing family firework parade miss lion king show fun good enjoyment get sit get rest also forget get pic click disney character garden area ',\n",
              " '  disneyland country yes thoroughly enjoy one hong kong fun kid adult group',\n",
              " 'iron man fan treat soon enter park head iron man experience well ride park hyperspace mountain grizzly gulch mine car offer good roller coaster experience indian food good forget take water bottle charge time mineral water ',\n",
              " 'rain n whole day june team well weather side great job',\n",
              " 'daughter magical two day celebrate th birthday travel way sydney australia right time enter park th may thing lovely love photographer take photo gate late main st name harley make buy photo pass good worth photo lady winnie pooh ride also really helpful explain photo pass work get photo download onto app phone also help download app help sign feel great see professional photo day even breakfast safe phone wish mention name too although able ride one day go mid week school holiday also need day line photo character daughter love meet piglet winnie pooh eeyore cinderella aurora chip dale minnie mickey aware line always seem really long minnie mickey early quick princess except princess sophia seem popular all we fast pass two hotel disney explorers lodge end use much minute wait time ride apart winnie pooh parachute drop use winnie ride daughter really love really love near  small world ride early day one around love  small world winnie pooh air condition also especially love mystic manor ride also air conditioned we take water bottle love meal plaza inn daughter birthday book advance busy pork fillet delicious even eat fish bite chip cafeteria tomorrowland pretty standard american food little air condition quick also incredibly cute donut daughter love eat know castle renovate advance main street photographer still manage get nice photo us main st pretty much desert p m wednesday get great photo thank lovely photographer harley well worth visit especially australia far usa thanks hong kong disneyland magical visit ',\n",
              " 'fun space age group creativity beautiful attraction kid totally commendable ride good star time managemnt show ride praiseworthy lovely time kid enjoy core ',\n",
              " 'disneyland place child meet disney character feel good extreme ride nd time go disneyland constantly add renew attraction however one main reason postpone visit little late main castle renovation renovation also mean firework show make come disneyland little worth day ',\n",
              " 'hour enough must go back spend little day much see little time ',\n",
              " 'mention disney much immediately think crazy crowd along disney magic hong kong disneyland one favorite park strike perfect balance retain magic charm come expect disney park also low normal disney crowd sure avoid weekend holiday go non holiday weekday hear crowd much thick enjoy short wait time ability randomly catch parade show opportunity take leisurely pace disney fanatic recommend two day able experience everything park ride show parade couple repeat ride favorite realize exception much park good enough single day unique hong kong disney ride definitely worth go way experience area fan disney family simply magical ',\n",
              " 'visited family quiet day luckilyjust wish would cater much disable register blind use ride however disable ticket price hk dollar resident otherwise  full priceso make expensive day get push round luckily busy disney fast pass entry disable guest either like shanghai one doe queue line daughter son law leave wheelchair enter line uncomfortable little vision staff seem friendly overall good well people disability',\n",
              " 'family really enjoy park great ride find park comment get mention lot small park true also little congest much park good margin mean  ride much ride spend little time wait dining selection sit table service limit plenty food would love come back day ',\n",
              " 'best place visit hk kid heart place well kid bedt place visit hk ',\n",
              " 'wish something much star rate impossible express joy fun kid ',\n",
              " 'hk disneyland may small size compare disneyland sure little see saturday normally kid friendly place little line till p m ideal people come even line mostly min wait see almost everything miss thing time plus child us help time great time think well part since park small size little walk go place place lol ',\n",
              " 'whichever disneyland visit still magical place bring back fond memory childhood watch disney cartoon smaller size compare disneylands make bearable walk park since small attraction essential one one piece advice price comparison souvenir try much buy store main streey ',\n",
              " 'small wonderful disney staff little much disney spirit park keep excellent condition pricesfor goody little high side disney lots character greatings que ride short minute fabulous time buy ticket online often get another little something like hkd meal voucher merchant voucher ',\n",
              " 'must attraction visit hong kong amazing experience the minute step park everything magical background disney music navigation inside park easy use hong kong disneyland app app give real time update show lot helpful info find app really fun throughout day ',\n",
              " 'great place visit kid lot fun ur indian eat vegetarian food please cautious get something worth eat would fill u majorly ice cream popcorns also mostly caramel available eat good breakfast u get miss ride specially little world show doll fun unlimited kid get click picture character disney need days atleast cover kid start end u s street place eat well download app time show know long line ride show definitely enjoyable experience',\n",
              " 'note go renovation castle may something would like consider ticket price hkd adult day passwe buy ticket chungking mansion tst money changer usually sell hkd able haggle dow hkd charming nice also try klook app offer discount promos due credit card policy opt purchase disneyland couple time experience tip maximise time download disneyland hk app phone avail brochure schedule map free plan ahead time ride want personal preference finish ride list take picture picture take consume much time know people already flocking it open pm firework may ask staff day wifi almost everywhere bring extra battery phone camera selfie stick allowed heavy breakfast foods expensive take lunch early late tables restaurant limited wear comfortable shoe dress fun ',\n",
              " 'much excite part hk trip start travel disneyland mtr experience mickey themed train fab love even mtr disneyland station cool miss enough time take train stay disney hollywood hotel convenient need worry transport plenty shuttle bus available park hotel coming theme park alot people suggest one day enough cover park personally feel want get full disney experience go day exactly still feel enough maybe excite park big although read small disney theme park sure get map show schedule enter take note show want watch manage time accordingly expect long queue afternoon every ride wait time around mins tips start land far away avoid queue land open well us toy story land meals quite reasonably price park compare hotel lunch dinner park also wait till final parade plenty vegetarian option available two day watch show stage play parade day ride day ample time picture exploring want meet greet character queue atleast mins else prepare wait atleast mins queue castle close maintenance work till late year firework good overall much fun disney loved recommend ',\n",
              " 'brings back childhood memory bite crowd expect long line everywhere also require lot walk patience ',\n",
              " 'kid wonderful time sneyland weather fine rides aplenty lion king show really superb ',\n",
              " 'ignore bad review go today amaze time yes small park compare disney world florida expect get much ride walk cast member friendly know come summer rain lot bring umbrella ',\n",
              " 'must place visit hong kong really good place full family nice really indoor show good side ride also good good management good plan full day enough whole disney land pm ',\n",
              " 'boyfriend come yesterday really good start little disappoint ride shut due typhoon obviously fault disney bad luck however thankfully open late day really enjoy eat one restaurant food really nice service quick friendly shop main street also really good full great disney merch decent price staff also helpful despite big ride definitely thrill ride still enjoyable much tame side unfortunately renovate castle get decent picture infront never mind park also small compare disneyland day ticket manage everything fantastic worth money want trip nice easy disneyland expensive definitely one ',\n",
              " 'average expectation go small disney park anaheim however greet disney fine small park size somewhat advantage get like ride ride much see show disappoint castle bite let however currently construction shortly par toy story area definitely must see ',\n",
              " 'always fascinate disney land grow hear people experience finally get spend day experience hand magical place great time hong kong disney land cherish memory long time come ',\n",
              " ' experience disneyland anaheim california young child visit hong kong disneyland retiree fun much small easy get around arrive morning last leave halloween parade night enjoy every experience ride interactive show look forward day return grandchild ',\n",
              " 'go child much nice day children adult love park ',\n",
              " 'loved disney park okay big long queue ride attraction much ride without queue walk around get back ride paris florida disney numerous time different feel lot much relax pleasant lucky overcast day still hot keep sun watch parade x firework without usual hustle bustle disney parks definitely worth visit hong kong ',\n",
              " 'visited sunday unfortunately one hot bright day rd june mean could cover much wasted much time exhaust start wait customary mickey minnie photo skip line long esp stay one disney hotel anyway meet breakfast plan itinerary good fun go one land another confusion much hot food overpriced accept anything cash much small purchase like icecream although say outside food drink allow one really object although check bag ride like dumbo  small world really worth wait line winnie pooh boat ride long ride quite repetitive guess prioritize base interest cover time make lion king show near collapse afraid son catch heat stroke beat hasty retreat happiest place earth way weather careful visit may june small kid ',\n",
              " 'fanstastic specially people come holiday kid must visit disneyland stay park area cover ride show stay day besides ride must try see show currently go lion king show fabulous miss parade afternoon good night parade different unfortunately visit castle close firework try cover tomorrowland adventure land st maximumn wait time ',\n",
              " 'need smart enjoy hk disneyland tips easy reach metro line special metro line disneyland try reach rope drop carry selfie stick allow pick park map rope drop rush attraction choice take fast pass fast pass machine install important attraction find park map avoid long queue pick fast pass advance give time need come back specific ride attraction save time avoid queue please note pick one fast pass time plan day smartly try hyperspace mountain extreme roller coaster mine cars trust kid adult enjoy ',\n",
              " 'nice park mostly character enjoy ride good iron man miss different character come getup take pic make sure stand queue time allow many people single time click place big require little day fun child miss adult cheers',\n",
              " 'parents bring kid child play character become alive meet goofy mickey mouse bambi moana toys story ironman entertain place good visit far city much importantly little polution',\n",
              " 'gold coast spoil amaze theme park tick disneyland hong kong place good hardly ride small park ride  much gear toddler disneys target market teenager would suggest kid disappoint ',\n",
              " 'ask much except perhaps cold month spend whole day inside happy place earth we get lunchtime leave sunset catch flight home husband get nauseous roller coaster ride son enjoy rest ride especially ironman parachute ride horseshoe coaster ride this theme park perfect venue family getaway enjoy every ',\n",
              " 'worthtrying destination visit hongkong beauty magnificence marvelousness majestics animation academy good begin main street full stylist shop background shoot tips follow path contradict visitor like people go tomorrowland start adventureland instead queue wait long time must try star war tomorrow land  small world fantasy land rc racer toy story land mine car gruzzly gulch rafts adventure landthose try really recommend  sophisticate world enjoy really worth ',\n",
              " 'visited disneyland day may family senior citizen child good place visit love much take eye cor make disneyland different theme area believe around different theme park one unique theme surprise see even toilet make accord theme excellent ride expensive food forget ride disney train take water drink water inside empty bottle good ',\n",
              " 'day start early catch show meet character western food difficult find snack well popcorn ever year old son enjoy thoroughly glad take stroller castle unfortunately construction moment ',\n",
              " 'disneyland la think disneyland identical obviously geographical constraint economic restraint disneyland around world hk come disneyland la disappoint',\n",
              " 'take two day pass necessary kid yes wait time crazy big paris disney food  kids great time parade lovely ',\n",
              " 'wonderful day easy get anywhere hong kong unlike disney us  much quiet space mountain never much minute queue day longest queue ride day minute much like fyi grizzly gulch cheap food option see alcohol mainstreet smoke area park get really chaotic mainstreet parade expect ',\n",
              " 'able visit hk disneyland hour due time constraint feel park small enough able explore much within limit time able go three ride iron man experience hyperspace mountain big grizzly mountain runaway mine cars wait much minute ride though much park design look like original disney world iron man ride hong kong theme lunch explorer club restaurant mystic point pricey good park doe compare original disney world however interest visit international disney park cost admission around hkd usd would recommend park disney lover free day visit hk easily accessible mtr ',\n",
              " 'take yo daughter love every minute ride show character even queue bad  come back ',\n",
              " 'firework castle undergo transformation since already small version transformation area make much small ',\n",
              " 'smaller version disneyland california enjoy similarity chinese taste loved atmosphere cast member go beyond every effort ensure ju safety also ensure enjoyable time larger walk area train three stop speak english chinese mandarin english speak cast member certainly assist us venture spend three day really one complaint amount open umbrella visitor use open even shop shade spend lot time try avoid lose eye two ',\n",
              " 'twice year apart small park compare say really enjoyable crowd large adding much attraction time easily accessible hong kong',\n",
              " 'indeed give experience lifetime rides attraction make one let recall childhood memory placesforallages',\n",
              " ...]"
            ]
          },
          "metadata": {
            "tags": []
          },
          "execution_count": 38
        }
      ]
    },
    {
      "cell_type": "code",
      "metadata": {
        "colab": {
          "base_uri": "https://localhost:8080/"
        },
        "id": "GZMW11h_qyu8",
        "outputId": "2ec3f583-62cc-4450-babe-1c1a973d46b2"
      },
      "source": [
        "branch_lbl = LabelEncoder().fit_transform(data_cp['Branch'].tolist())\n",
        "branch_dummy = pd.get_dummies(branch_lbl)\n",
        "branch_dummy.shape"
      ],
      "execution_count": null,
      "outputs": [
        {
          "output_type": "execute_result",
          "data": {
            "text/plain": [
              "(42656, 3)"
            ]
          },
          "metadata": {
            "tags": []
          },
          "execution_count": 39
        }
      ]
    },
    {
      "cell_type": "markdown",
      "metadata": {
        "id": "ncLMioavd5Nw"
      },
      "source": [
        "#Modelling"
      ]
    },
    {
      "cell_type": "code",
      "metadata": {
        "id": "kQ6SV8ped65w"
      },
      "source": [
        "tfidf = TfidfVectorizer(max_df=3000, min_df=200, ngram_range=(2, 3))"
      ],
      "execution_count": null,
      "outputs": []
    },
    {
      "cell_type": "code",
      "metadata": {
        "id": "LAEJ7gDhptI7"
      },
      "source": [
        "text_feats = tfidf.fit_transform(data_cp['Review_Text'])\n",
        "text_feats.shape"
      ],
      "execution_count": null,
      "outputs": []
    },
    {
      "cell_type": "code",
      "metadata": {
        "id": "2bDyDDTtq_fH"
      },
      "source": [
        "all_feats = np.concatenate([text_feats.toarray(), branch_dummy], axis=1)"
      ],
      "execution_count": null,
      "outputs": []
    },
    {
      "cell_type": "code",
      "metadata": {
        "colab": {
          "base_uri": "https://localhost:8080/"
        },
        "id": "0yqqXzYzp1Cy",
        "outputId": "78d35bc3-3df0-4f19-e9b2-8bc2dc2abd19"
      },
      "source": [
        "all_feats.shape, text_feats.shape"
      ],
      "execution_count": null,
      "outputs": [
        {
          "output_type": "execute_result",
          "data": {
            "text/plain": [
              "((42656, 858), (42656, 855))"
            ]
          },
          "metadata": {
            "tags": []
          },
          "execution_count": 95
        }
      ]
    },
    {
      "cell_type": "code",
      "metadata": {
        "id": "1H6wyaOTp3vy"
      },
      "source": [
        "target_rating = data_cp['Rating'].to_numpy()"
      ],
      "execution_count": null,
      "outputs": []
    },
    {
      "cell_type": "code",
      "metadata": {
        "id": "ic7qQSgYqKwy"
      },
      "source": [
        "trainx, testx, trainy, testy = train_test_split(all_feats, target_rating, test_size=0.25, random_state=45)"
      ],
      "execution_count": null,
      "outputs": []
    },
    {
      "cell_type": "code",
      "metadata": {
        "colab": {
          "base_uri": "https://localhost:8080/"
        },
        "id": "HvQk2hzRqi4S",
        "outputId": "78e51675-5c11-4640-907d-d3da9569017e"
      },
      "source": [
        "lr = LogisticRegression()\n",
        "lr.fit(trainx, trainy)"
      ],
      "execution_count": null,
      "outputs": [
        {
          "output_type": "stream",
          "text": [
            "/usr/local/lib/python3.6/dist-packages/sklearn/linear_model/_logistic.py:940: ConvergenceWarning: lbfgs failed to converge (status=1):\n",
            "STOP: TOTAL NO. of ITERATIONS REACHED LIMIT.\n",
            "\n",
            "Increase the number of iterations (max_iter) or scale the data as shown in:\n",
            "    https://scikit-learn.org/stable/modules/preprocessing.html\n",
            "Please also refer to the documentation for alternative solver options:\n",
            "    https://scikit-learn.org/stable/modules/linear_model.html#logistic-regression\n",
            "  extra_warning_msg=_LOGISTIC_SOLVER_CONVERGENCE_MSG)\n"
          ],
          "name": "stderr"
        },
        {
          "output_type": "execute_result",
          "data": {
            "text/plain": [
              "LogisticRegression(C=1.0, class_weight=None, dual=False, fit_intercept=True,\n",
              "                   intercept_scaling=1, l1_ratio=None, max_iter=100,\n",
              "                   multi_class='auto', n_jobs=None, penalty='l2',\n",
              "                   random_state=None, solver='lbfgs', tol=0.0001, verbose=0,\n",
              "                   warm_start=False)"
            ]
          },
          "metadata": {
            "tags": []
          },
          "execution_count": 98
        }
      ]
    },
    {
      "cell_type": "code",
      "metadata": {
        "colab": {
          "base_uri": "https://localhost:8080/"
        },
        "id": "hBw5YOSGqoAz",
        "outputId": "f3fe7eb6-faf4-4c6c-ea2f-b1a6187f0a0d"
      },
      "source": [
        "lr.score(testx, testy)"
      ],
      "execution_count": null,
      "outputs": [
        {
          "output_type": "execute_result",
          "data": {
            "text/plain": [
              "0.5689234808702176"
            ]
          },
          "metadata": {
            "tags": []
          },
          "execution_count": 99
        }
      ]
    },
    {
      "cell_type": "code",
      "metadata": {
        "id": "Z8Z5S_xJqqlR"
      },
      "source": [
        ""
      ],
      "execution_count": null,
      "outputs": []
    },
    {
      "cell_type": "markdown",
      "metadata": {
        "id": "L34i5Rc8ksM4"
      },
      "source": [
        "#DL"
      ]
    },
    {
      "cell_type": "markdown",
      "metadata": {
        "id": "PjwTgYZ3-PtN"
      },
      "source": [
        "##Sequential Model with new Embeddings"
      ]
    },
    {
      "cell_type": "code",
      "metadata": {
        "id": "wuAMMhmTdSpZ",
        "colab": {
          "base_uri": "https://localhost:8080/"
        },
        "outputId": "7f1e82d9-1282-42df-8794-2b7931da89df"
      },
      "source": [
        "#Load pretrained GloVe embeddings\n",
        "dict_w2v = {}\n",
        "with open('glove.6B.50d.txt', \"r\") as file:\n",
        "    for line in file:\n",
        "        tokens = line.split()\n",
        "        word = tokens[0]\n",
        "        vector = np.array(tokens[1:], dtype=np.float32)\n",
        "        if vector.shape[0] == 50:\n",
        "            dict_w2v[word] = vector\n",
        "        else:\n",
        "            print(\"There was an issue with \" + word)\n",
        "# let's check the vocabulary size\n",
        "print(\"Dictionary Size: \", len(dict_w2v))"
      ],
      "execution_count": null,
      "outputs": [
        {
          "output_type": "stream",
          "text": [
            "Dictionary Size:  400000\n"
          ],
          "name": "stdout"
        }
      ]
    },
    {
      "cell_type": "code",
      "metadata": {
        "id": "dR2zfIepGKGS"
      },
      "source": [
        "include_ratings =[1, 3]\n",
        "data_sub = data_cp[(data_cp['Rating']==1)|(data_cp['Rating']==3)].copy()\n",
        "#data_sub = data_cp.copy()"
      ],
      "execution_count": null,
      "outputs": []
    },
    {
      "cell_type": "code",
      "metadata": {
        "id": "jKHqFZNDHa_y"
      },
      "source": [
        "#data_sub['Rating'] = data_sub['Rating'].apply(lambda x: x-1)\n",
        "data_sub['Rating'] = data_sub['Rating'].apply(lambda x: 0 if x==1 else 1)"
      ],
      "execution_count": null,
      "outputs": []
    },
    {
      "cell_type": "code",
      "metadata": {
        "colab": {
          "base_uri": "https://localhost:8080/"
        },
        "id": "4Ik56MSBK1UL",
        "outputId": "98de3d4b-3749-47e6-e641-cc58bb33786c"
      },
      "source": [
        "#data_sub[data_sub['Rating']==0][['Review_Text', 'Rating']].shape\n",
        "data_sub.shape"
      ],
      "execution_count": null,
      "outputs": [
        {
          "output_type": "execute_result",
          "data": {
            "text/plain": [
              "(6608, 6)"
            ]
          },
          "metadata": {
            "tags": []
          },
          "execution_count": 80
        }
      ]
    },
    {
      "cell_type": "code",
      "metadata": {
        "colab": {
          "base_uri": "https://localhost:8080/"
        },
        "id": "2C23a8vwGcoJ",
        "outputId": "4f260c11-3399-430c-eb32-164dd9d35702"
      },
      "source": [
        "data_sub.shape"
      ],
      "execution_count": null,
      "outputs": [
        {
          "output_type": "execute_result",
          "data": {
            "text/plain": [
              "(6608, 6)"
            ]
          },
          "metadata": {
            "tags": []
          },
          "execution_count": 81
        }
      ]
    },
    {
      "cell_type": "code",
      "metadata": {
        "id": "9InBS5GlqB4o"
      },
      "source": [
        "NUM_WORDS = 10000\n",
        "NUM_CLS = len(include_ratings)"
      ],
      "execution_count": null,
      "outputs": []
    },
    {
      "cell_type": "code",
      "metadata": {
        "id": "8vxZnuuyktIU"
      },
      "source": [
        "tokenizer = tf.keras.preprocessing.text.Tokenizer()"
      ],
      "execution_count": null,
      "outputs": []
    },
    {
      "cell_type": "code",
      "metadata": {
        "id": "7iUq36d3k8BO"
      },
      "source": [
        "all_text, all_labels = data_sub['Review_Text'].tolist(), data_sub['Rating'].tolist()"
      ],
      "execution_count": null,
      "outputs": []
    },
    {
      "cell_type": "code",
      "metadata": {
        "id": "-HwsWnMblMzS"
      },
      "source": [
        "tokenizer.fit_on_texts(all_text)"
      ],
      "execution_count": null,
      "outputs": []
    },
    {
      "cell_type": "code",
      "metadata": {
        "id": "l1JOQ3cepi1b",
        "colab": {
          "base_uri": "https://localhost:8080/"
        },
        "outputId": "9c3a1b68-95a4-4b48-e5a9-fe482a81a1de"
      },
      "source": [
        "NUM_WORDS = len(tokenizer.word_index) + 1\n",
        "print(NUM_WORDS)"
      ],
      "execution_count": null,
      "outputs": [
        {
          "output_type": "stream",
          "text": [
            "15581\n"
          ],
          "name": "stdout"
        }
      ]
    },
    {
      "cell_type": "code",
      "metadata": {
        "id": "i4SednIVdZ9J"
      },
      "source": [
        "embedding_dim = 50\n",
        "embedding_matrix = np.zeros((NUM_WORDS, embedding_dim))"
      ],
      "execution_count": null,
      "outputs": []
    },
    {
      "cell_type": "code",
      "metadata": {
        "colab": {
          "base_uri": "https://localhost:8080/"
        },
        "id": "yWT1UwyCdgaI",
        "outputId": "bb31e92e-ef10-42e9-c6d6-87d23e4697b8"
      },
      "source": [
        "unk_cnt = 0\n",
        "unk_set = set()\n",
        "for word in tokenizer.word_index.keys():\n",
        "    embedding_vector = dict_w2v.get(word)\n",
        "    if embedding_vector is not None:\n",
        "        tkn_id = tokenizer.word_index[word]\n",
        "        embedding_matrix[tkn_id] = embedding_vector\n",
        "    else:\n",
        "        unk_cnt += 1\n",
        "        unk_set.add(word)\n",
        "# Print how many weren't found\n",
        "print(\"Total unknown words: \", unk_cnt)"
      ],
      "execution_count": null,
      "outputs": [
        {
          "output_type": "stream",
          "text": [
            "Total unknown words:  2975\n"
          ],
          "name": "stdout"
        }
      ]
    },
    {
      "cell_type": "code",
      "metadata": {
        "id": "HFlMZRHko-QI"
      },
      "source": [
        "all_sequences = tokenizer.texts_to_sequences(all_text)"
      ],
      "execution_count": null,
      "outputs": []
    },
    {
      "cell_type": "code",
      "metadata": {
        "id": "u_VQh5xwpqHm"
      },
      "source": [
        "all_padded_sequences = tf.keras.preprocessing.sequence.pad_sequences(all_sequences, maxlen=80)"
      ],
      "execution_count": null,
      "outputs": []
    },
    {
      "cell_type": "code",
      "metadata": {
        "id": "cJiAzwN6qqc3"
      },
      "source": [
        "train_x, val_x, train_y, val_y = train_test_split(all_padded_sequences, np.asarray(all_labels, dtype=np.int32), test_size=0.2)"
      ],
      "execution_count": null,
      "outputs": []
    },
    {
      "cell_type": "code",
      "metadata": {
        "colab": {
          "base_uri": "https://localhost:8080/"
        },
        "id": "INu9KCF5q0x9",
        "outputId": "67976fa8-3f25-4d19-f8ce-efee5fd58076"
      },
      "source": [
        "train_x.shape, val_x.shape, val_y.shape, train_y.shape"
      ],
      "execution_count": null,
      "outputs": [
        {
          "output_type": "execute_result",
          "data": {
            "text/plain": [
              "((5286, 80), (1322, 80), (1322,), (5286,))"
            ]
          },
          "metadata": {
            "tags": []
          },
          "execution_count": 92
        }
      ]
    },
    {
      "cell_type": "code",
      "metadata": {
        "id": "K8vx-kgxEu04"
      },
      "source": [
        "train_x, train_y = train_x[:(train_x.shape[0]//32)*32, :], train_y[:(train_y.shape[0]//32)*32]\n",
        "val_x, val_y = val_x[:(val_x.shape[0]//32)*32, :], val_y[:(val_y.shape[0]//32)*32]"
      ],
      "execution_count": null,
      "outputs": []
    },
    {
      "cell_type": "code",
      "metadata": {
        "id": "hTAiv4MBCbWQ"
      },
      "source": [
        "class MergeHiddenStates(tf.keras.layers.Layer):\n",
        "  def __init__(self):\n",
        "    super(MergeHiddenStates, self).__init__()\n",
        "  \n",
        "  def call(self, inputs):\n",
        "    #print(inputs)\n",
        "    states = inputs#[0]\n",
        "    return tf.reduce_mean(states, axis=1)"
      ],
      "execution_count": null,
      "outputs": []
    },
    {
      "cell_type": "code",
      "metadata": {
        "id": "xDVNu0rkp4o0"
      },
      "source": [
        "def create_model(input_shape=(train_x.shape[1], ), vocabsize=NUM_WORDS, emb_dim=50, rnn_units=128, batch_size=32):\n",
        "  model = tf.keras.Sequential([\n",
        "                               tf.keras.layers.Embedding(\n",
        "                                   vocabsize,\n",
        "                                   emb_dim,\n",
        "                                   mask_zero=False,\n",
        "                                   batch_input_shape=(batch_size, input_shape[0]),\n",
        "                                   weights=[embedding_matrix], trainable=False\n",
        "                               ),\n",
        "                               tf.keras.layers.Bidirectional(tf.keras.layers.GRU(rnn_units, dropout=0.2, return_sequences=True)),\n",
        "                               MergeHiddenStates(),\n",
        "                               tf.keras.layers.Dropout(0.3),\n",
        "                               tf.keras.layers.Dense(128, activation='relu'),\n",
        "                               tf.keras.layers.Dropout(0.2),\n",
        "                               tf.keras.layers.Dense(NUM_CLS, activation='softmax')\n",
        "  ])\n",
        "  return model"
      ],
      "execution_count": null,
      "outputs": []
    },
    {
      "cell_type": "code",
      "metadata": {
        "colab": {
          "base_uri": "https://localhost:8080/"
        },
        "id": "Lduq6o13qbaC",
        "outputId": "3714d262-06a3-41b3-ffeb-877a5f52cc74"
      },
      "source": [
        "model = create_model()\n",
        "print(model.summary())"
      ],
      "execution_count": null,
      "outputs": [
        {
          "output_type": "stream",
          "text": [
            "Model: \"sequential_1\"\n",
            "_________________________________________________________________\n",
            "Layer (type)                 Output Shape              Param #   \n",
            "=================================================================\n",
            "embedding_1 (Embedding)      (32, 80, 50)              779050    \n",
            "_________________________________________________________________\n",
            "bidirectional_1 (Bidirection (32, 80, 256)             138240    \n",
            "_________________________________________________________________\n",
            "merge_hidden_states_1 (Merge (32, 256)                 0         \n",
            "_________________________________________________________________\n",
            "dropout_2 (Dropout)          (32, 256)                 0         \n",
            "_________________________________________________________________\n",
            "dense_2 (Dense)              (32, 128)                 32896     \n",
            "_________________________________________________________________\n",
            "dropout_3 (Dropout)          (32, 128)                 0         \n",
            "_________________________________________________________________\n",
            "dense_3 (Dense)              (32, 2)                   258       \n",
            "=================================================================\n",
            "Total params: 950,444\n",
            "Trainable params: 171,394\n",
            "Non-trainable params: 779,050\n",
            "_________________________________________________________________\n",
            "None\n"
          ],
          "name": "stdout"
        }
      ]
    },
    {
      "cell_type": "code",
      "metadata": {
        "id": "1LqytCMFqem3"
      },
      "source": [
        "loss_obj = tf.keras.losses.SparseCategoricalCrossentropy(from_logits=False)\n",
        "model.compile(loss=loss_obj, optimizer='adam', metrics=['accuracy'])"
      ],
      "execution_count": null,
      "outputs": []
    },
    {
      "cell_type": "code",
      "metadata": {
        "colab": {
          "base_uri": "https://localhost:8080/"
        },
        "id": "r7EcJhCuqmg9",
        "outputId": "073d68d2-8557-41ab-bce2-0a8d7b4bfeaa"
      },
      "source": [
        "history = model.fit(train_x, train_y, batch_size=32, epochs=20, validation_data=(val_x, val_y), shuffle=True)"
      ],
      "execution_count": null,
      "outputs": [
        {
          "output_type": "stream",
          "text": [
            "Epoch 1/20\n",
            "165/165 [==============================] - 4s 14ms/step - loss: 0.5281 - accuracy: 0.7846 - val_loss: 0.4935 - val_accuracy: 0.7645\n",
            "Epoch 2/20\n",
            "165/165 [==============================] - 2s 9ms/step - loss: 0.4370 - accuracy: 0.8009 - val_loss: 0.4074 - val_accuracy: 0.8056\n",
            "Epoch 3/20\n",
            "165/165 [==============================] - 2s 9ms/step - loss: 0.4072 - accuracy: 0.8168 - val_loss: 0.4307 - val_accuracy: 0.7881\n",
            "Epoch 4/20\n",
            "165/165 [==============================] - 2s 10ms/step - loss: 0.4018 - accuracy: 0.8234 - val_loss: 0.4405 - val_accuracy: 0.8072\n",
            "Epoch 5/20\n",
            "165/165 [==============================] - 2s 10ms/step - loss: 0.3780 - accuracy: 0.8343 - val_loss: 0.4057 - val_accuracy: 0.8125\n",
            "Epoch 6/20\n",
            "165/165 [==============================] - 2s 9ms/step - loss: 0.3708 - accuracy: 0.8346 - val_loss: 0.4046 - val_accuracy: 0.8140\n",
            "Epoch 7/20\n",
            "165/165 [==============================] - 2s 9ms/step - loss: 0.3621 - accuracy: 0.8365 - val_loss: 0.3835 - val_accuracy: 0.8117\n",
            "Epoch 8/20\n",
            "165/165 [==============================] - 2s 10ms/step - loss: 0.3547 - accuracy: 0.8488 - val_loss: 0.3938 - val_accuracy: 0.8201\n",
            "Epoch 9/20\n",
            "165/165 [==============================] - 2s 10ms/step - loss: 0.3532 - accuracy: 0.8463 - val_loss: 0.3864 - val_accuracy: 0.8140\n",
            "Epoch 10/20\n",
            "165/165 [==============================] - 2s 10ms/step - loss: 0.3423 - accuracy: 0.8533 - val_loss: 0.3807 - val_accuracy: 0.8117\n",
            "Epoch 11/20\n",
            "165/165 [==============================] - 2s 10ms/step - loss: 0.3486 - accuracy: 0.8491 - val_loss: 0.3901 - val_accuracy: 0.8239\n",
            "Epoch 12/20\n",
            "165/165 [==============================] - 2s 10ms/step - loss: 0.3288 - accuracy: 0.8629 - val_loss: 0.3840 - val_accuracy: 0.8171\n",
            "Epoch 13/20\n",
            "165/165 [==============================] - 2s 10ms/step - loss: 0.3152 - accuracy: 0.8593 - val_loss: 0.3863 - val_accuracy: 0.8163\n",
            "Epoch 14/20\n",
            "165/165 [==============================] - 2s 10ms/step - loss: 0.3063 - accuracy: 0.8740 - val_loss: 0.4259 - val_accuracy: 0.8148\n",
            "Epoch 15/20\n",
            "165/165 [==============================] - 2s 9ms/step - loss: 0.2763 - accuracy: 0.8831 - val_loss: 0.4024 - val_accuracy: 0.8194\n",
            "Epoch 16/20\n",
            "165/165 [==============================] - 2s 9ms/step - loss: 0.2759 - accuracy: 0.8870 - val_loss: 0.4386 - val_accuracy: 0.8072\n",
            "Epoch 17/20\n",
            "165/165 [==============================] - 2s 10ms/step - loss: 0.2370 - accuracy: 0.9056 - val_loss: 0.4376 - val_accuracy: 0.8155\n",
            "Epoch 18/20\n",
            "165/165 [==============================] - 2s 10ms/step - loss: 0.2252 - accuracy: 0.9087 - val_loss: 0.4088 - val_accuracy: 0.8064\n",
            "Epoch 19/20\n",
            "165/165 [==============================] - 2s 9ms/step - loss: 0.2060 - accuracy: 0.9194 - val_loss: 0.4332 - val_accuracy: 0.8102\n",
            "Epoch 20/20\n",
            "165/165 [==============================] - 2s 9ms/step - loss: 0.2006 - accuracy: 0.9145 - val_loss: 0.5619 - val_accuracy: 0.8034\n"
          ],
          "name": "stdout"
        }
      ]
    },
    {
      "cell_type": "code",
      "metadata": {
        "id": "_YrbLEIDrHwa"
      },
      "source": [
        "val_preds = np.argmax(model.predict(val_x, batch_size=32), axis=1)"
      ],
      "execution_count": null,
      "outputs": []
    },
    {
      "cell_type": "code",
      "metadata": {
        "colab": {
          "base_uri": "https://localhost:8080/"
        },
        "id": "38PAJlMeJe-U",
        "outputId": "4a4a20cc-d572-42b3-a7bc-e94310b4899c"
      },
      "source": [
        "val_preds.shape"
      ],
      "execution_count": null,
      "outputs": [
        {
          "output_type": "execute_result",
          "data": {
            "text/plain": [
              "(1312,)"
            ]
          },
          "metadata": {
            "tags": []
          },
          "execution_count": 100
        }
      ]
    },
    {
      "cell_type": "code",
      "metadata": {
        "colab": {
          "base_uri": "https://localhost:8080/"
        },
        "id": "K1NZh2v3JgvY",
        "outputId": "44d6b149-7210-49fc-e8b2-9a745793c74c"
      },
      "source": [
        "print(classification_report(val_y, val_preds))"
      ],
      "execution_count": null,
      "outputs": [
        {
          "output_type": "stream",
          "text": [
            "              precision    recall  f1-score   support\n",
            "\n",
            "           0       0.59      0.58      0.59       316\n",
            "           1       0.87      0.87      0.87       996\n",
            "\n",
            "    accuracy                           0.80      1312\n",
            "   macro avg       0.73      0.73      0.73      1312\n",
            "weighted avg       0.80      0.80      0.80      1312\n",
            "\n"
          ],
          "name": "stdout"
        }
      ]
    },
    {
      "cell_type": "code",
      "metadata": {
        "colab": {
          "base_uri": "https://localhost:8080/"
        },
        "id": "6TA7n9aAJws_",
        "outputId": "d3bc2db9-06cd-4009-f98b-0d6bc8074d13"
      },
      "source": [
        "print(classification_report(val_y, val_preds))"
      ],
      "execution_count": null,
      "outputs": [
        {
          "output_type": "stream",
          "text": [
            "              precision    recall  f1-score   support\n",
            "\n",
            "           0       0.57      0.33      0.42       297\n",
            "           1       0.28      0.05      0.09       401\n",
            "           2       0.39      0.28      0.32      1016\n",
            "           3       0.69      0.92      0.79      2158\n",
            "\n",
            "    accuracy                           0.62      3872\n",
            "   macro avg       0.48      0.40      0.41      3872\n",
            "weighted avg       0.56      0.62      0.57      3872\n",
            "\n"
          ],
          "name": "stdout"
        }
      ]
    },
    {
      "cell_type": "markdown",
      "metadata": {
        "id": "zfd1F3y_-aeh"
      },
      "source": [
        "##1D-CNN with Pretrained GloVe vectors"
      ]
    },
    {
      "cell_type": "code",
      "metadata": {
        "id": "u93fn34_Mn8f"
      },
      "source": [
        "include_ratings =[1, 3]\n",
        "#data_sub = data_cp[data_cp['Rating']!=5].copy()\n",
        "data_sub = data_cp[(data_cp['Rating']==1)|(data_cp['Rating']==3)|(data_cp['Rating']==3)].copy()\n",
        "\n",
        "#data_sub['Rating'] = data_sub['Rating'].apply(lambda x: x-1)\n",
        "data_sub['Rating'] = data_sub['Rating'].apply(lambda x: 0 if x==1 else 1)\n",
        "\n",
        "\n",
        "tokenizer = tf.keras.preprocessing.text.Tokenizer()\n",
        "all_text, all_labels = data_sub['Review_Text'].tolist(), data_sub['Rating'].tolist()\n",
        "tokenizer.fit_on_texts(all_text)\n",
        "all_sequences = tokenizer.texts_to_sequences(all_text)\n",
        "all_padded_sequences = tf.keras.preprocessing.sequence.pad_sequences(all_sequences, maxlen=100)\n",
        "train_x, val_x, train_y, val_y = train_test_split(all_padded_sequences, np.asarray(all_labels, dtype=np.int32), test_size=0.2)\n",
        "train_x, train_y = train_x[:(train_x.shape[0]//32)*32, :], train_y[:(train_y.shape[0]//32)*32]\n",
        "val_x, val_y = val_x[:(val_x.shape[0]//32)*32, :], val_y[:(val_y.shape[0]//32)*32]"
      ],
      "execution_count": null,
      "outputs": []
    },
    {
      "cell_type": "code",
      "metadata": {
        "id": "fRMFWvBMWpsf"
      },
      "source": [
        "NUM_WORDS = len(tokenizer.word_index) + 1\n",
        "NUM_CLS = len(include_ratings)"
      ],
      "execution_count": null,
      "outputs": []
    },
    {
      "cell_type": "code",
      "metadata": {
        "colab": {
          "base_uri": "https://localhost:8080/"
        },
        "id": "FMWBR_GZVLMX",
        "outputId": "5b0e0a0e-faf1-45a0-f4f7-cbf8944e5f19"
      },
      "source": [
        "#Load pretrained GloVe embeddings\n",
        "dict_w2v = {}\n",
        "with open('glove.6B.50d.txt', \"r\") as file:\n",
        "    for line in file:\n",
        "        tokens = line.split()\n",
        "        word = tokens[0]\n",
        "        vector = np.array(tokens[1:], dtype=np.float32)\n",
        "        if vector.shape[0] == 50:\n",
        "            dict_w2v[word] = vector\n",
        "        else:\n",
        "            print(\"There was an issue with \" + word)\n",
        "# let's check the vocabulary size\n",
        "print(\"Dictionary Size: \", len(dict_w2v))"
      ],
      "execution_count": null,
      "outputs": [
        {
          "output_type": "stream",
          "text": [
            "Dictionary Size:  400000\n"
          ],
          "name": "stdout"
        }
      ]
    },
    {
      "cell_type": "code",
      "metadata": {
        "id": "Dy-h0edRWNR5"
      },
      "source": [
        "embedding_dim = 50\n",
        "embedding_matrix = np.zeros((NUM_WORDS, embedding_dim))"
      ],
      "execution_count": null,
      "outputs": []
    },
    {
      "cell_type": "code",
      "metadata": {
        "colab": {
          "base_uri": "https://localhost:8080/"
        },
        "id": "PWh9xw-DWPkW",
        "outputId": "8b49ecd5-33cd-45ca-8fd2-e5811997b9e7"
      },
      "source": [
        "unk_cnt = 0\n",
        "unk_set = set()\n",
        "for word in tokenizer.word_index.keys():\n",
        "    embedding_vector = dict_w2v.get(word)\n",
        "    if embedding_vector is not None:\n",
        "        tkn_id = tokenizer.word_index[word]\n",
        "        embedding_matrix[tkn_id] = embedding_vector\n",
        "    else:\n",
        "        unk_cnt += 1\n",
        "        unk_set.add(word)\n",
        "# Print how many weren't found\n",
        "print(\"Total unknown words: \", unk_cnt)"
      ],
      "execution_count": null,
      "outputs": [
        {
          "output_type": "stream",
          "text": [
            "Total unknown words:  2975\n"
          ],
          "name": "stdout"
        }
      ]
    },
    {
      "cell_type": "code",
      "metadata": {
        "id": "xcPr3R6DXLWq"
      },
      "source": [
        "loss_obj = tf.keras.losses.SparseCategoricalCrossentropy(from_logits=False)\n",
        "model.compile(loss=loss_obj, optimizer='adam', metrics=['accuracy'])"
      ],
      "execution_count": null,
      "outputs": []
    },
    {
      "cell_type": "code",
      "metadata": {
        "id": "BWaiSuIMB1ms"
      },
      "source": [
        "def create_model(vocab_size, embedding_dim, input_shape=(60, ), batch_size=32):\n",
        "  model = tf.keras.Sequential([\n",
        "                               tf.keras.layers.Embedding(vocab_size, embedding_dim, mask_zero=True, batch_input_shape=(batch_size, input_shape[0]),\n",
        "                                                         weights=[embedding_matrix], trainable=False),\n",
        "                               tf.keras.layers.Conv1D(32, 5, 1, 'valid', activation='relu'),\n",
        "                               tf.keras.layers.MaxPool1D(),\n",
        "                               tf.keras.layers.Conv1D(64, 3, 1, 'valid', activation='relu'),\n",
        "                               tf.keras.layers.MaxPool1D(),\n",
        "                               #tf.keras.layers.Conv1D(128, 3, 1, 'valid', activation='relu'),\n",
        "                               #tf.keras.layers.MaxPool1D(),\n",
        "                               #tf.keras.layers.Conv1D(256, 3, 1, 'valid', activation='relu'),\n",
        "                               #tf.keras.layers.MaxPool1D(),\n",
        "                               #tf.keras.layers.Conv1D(512, 1, 1, 'valid', activation='relu'),\n",
        "                               #tf.keras.layers.MaxPool1D(),\n",
        "                               tf.keras.layers.Flatten(),\n",
        "                               tf.keras.layers.Dense(5, 'softmax')\n",
        "\n",
        "  ])\n",
        "  return model"
      ],
      "execution_count": null,
      "outputs": []
    },
    {
      "cell_type": "code",
      "metadata": {
        "colab": {
          "base_uri": "https://localhost:8080/"
        },
        "id": "exqRw8JOUP9x",
        "outputId": "813c6483-b944-41f3-81e6-63462a78c4df"
      },
      "source": [
        "model = create_model(NUM_WORDS, embedding_dim, (train_x.shape[1],))\n",
        "model.summary()"
      ],
      "execution_count": null,
      "outputs": [
        {
          "output_type": "stream",
          "text": [
            "Model: \"sequential_4\"\n",
            "_________________________________________________________________\n",
            "Layer (type)                 Output Shape              Param #   \n",
            "=================================================================\n",
            "embedding_4 (Embedding)      (32, 100, 50)             779050    \n",
            "_________________________________________________________________\n",
            "conv1d_10 (Conv1D)           (32, 96, 32)              8032      \n",
            "_________________________________________________________________\n",
            "max_pooling1d_10 (MaxPooling (32, 48, 32)              0         \n",
            "_________________________________________________________________\n",
            "conv1d_11 (Conv1D)           (32, 46, 64)              6208      \n",
            "_________________________________________________________________\n",
            "max_pooling1d_11 (MaxPooling (32, 23, 64)              0         \n",
            "_________________________________________________________________\n",
            "flatten_2 (Flatten)          (32, 1472)                0         \n",
            "_________________________________________________________________\n",
            "dense_6 (Dense)              (32, 5)                   7365      \n",
            "=================================================================\n",
            "Total params: 800,655\n",
            "Trainable params: 21,605\n",
            "Non-trainable params: 779,050\n",
            "_________________________________________________________________\n"
          ],
          "name": "stdout"
        }
      ]
    },
    {
      "cell_type": "code",
      "metadata": {
        "id": "hwHMmFJAXqKG"
      },
      "source": [
        "model.compile(loss=loss_obj, optimizer='adam', metrics=['accuracy'])"
      ],
      "execution_count": null,
      "outputs": []
    },
    {
      "cell_type": "code",
      "metadata": {
        "colab": {
          "base_uri": "https://localhost:8080/"
        },
        "id": "wIr3IySQYYoR",
        "outputId": "c1c55009-1e08-41d5-b7c2-07b57df2d4f8"
      },
      "source": [
        "history = model.fit(train_x, train_y, 32, 10, validation_data=(val_x, val_y))"
      ],
      "execution_count": null,
      "outputs": [
        {
          "output_type": "stream",
          "text": [
            "Epoch 1/10\n",
            "165/165 [==============================] - 1s 4ms/step - loss: 0.6261 - accuracy: 0.7494 - val_loss: 0.4617 - val_accuracy: 0.7919\n",
            "Epoch 2/10\n",
            "165/165 [==============================] - 0s 3ms/step - loss: 0.4397 - accuracy: 0.8073 - val_loss: 0.4395 - val_accuracy: 0.7957\n",
            "Epoch 3/10\n",
            "165/165 [==============================] - 0s 3ms/step - loss: 0.3764 - accuracy: 0.8432 - val_loss: 0.4297 - val_accuracy: 0.8049\n",
            "Epoch 4/10\n",
            "165/165 [==============================] - 1s 3ms/step - loss: 0.3105 - accuracy: 0.8746 - val_loss: 0.4734 - val_accuracy: 0.8026\n",
            "Epoch 5/10\n",
            "165/165 [==============================] - 1s 3ms/step - loss: 0.2444 - accuracy: 0.9074 - val_loss: 0.4634 - val_accuracy: 0.7980\n",
            "Epoch 6/10\n",
            "165/165 [==============================] - 1s 3ms/step - loss: 0.2157 - accuracy: 0.9267 - val_loss: 0.5371 - val_accuracy: 0.8026\n",
            "Epoch 7/10\n",
            "165/165 [==============================] - 1s 4ms/step - loss: 0.1494 - accuracy: 0.9514 - val_loss: 0.5655 - val_accuracy: 0.7873\n",
            "Epoch 8/10\n",
            "165/165 [==============================] - 1s 3ms/step - loss: 0.1039 - accuracy: 0.9720 - val_loss: 0.5654 - val_accuracy: 0.7691\n",
            "Epoch 9/10\n",
            "165/165 [==============================] - 1s 3ms/step - loss: 0.0776 - accuracy: 0.9855 - val_loss: 0.6296 - val_accuracy: 0.7744\n",
            "Epoch 10/10\n",
            "165/165 [==============================] - 0s 3ms/step - loss: 0.0580 - accuracy: 0.9898 - val_loss: 0.7148 - val_accuracy: 0.7942\n"
          ],
          "name": "stdout"
        }
      ]
    },
    {
      "cell_type": "code",
      "metadata": {
        "colab": {
          "base_uri": "https://localhost:8080/"
        },
        "id": "S3VXFTzv_gKG",
        "outputId": "c01f98d7-6a60-4f0b-e93e-be1c51f40a08"
      },
      "source": [
        "val_preds = np.argmax(model.predict(val_x, batch_size=32), axis=1)\n",
        "print(classification_report(val_y, val_preds))"
      ],
      "execution_count": null,
      "outputs": [
        {
          "output_type": "stream",
          "text": [
            "              precision    recall  f1-score   support\n",
            "\n",
            "           0       0.56      0.30      0.39       288\n",
            "           1       0.83      0.93      0.88      1024\n",
            "\n",
            "    accuracy                           0.79      1312\n",
            "   macro avg       0.69      0.62      0.63      1312\n",
            "weighted avg       0.77      0.79      0.77      1312\n",
            "\n"
          ],
          "name": "stdout"
        }
      ]
    },
    {
      "cell_type": "code",
      "metadata": {
        "id": "TsoCEe71cN3F"
      },
      "source": [
        ""
      ],
      "execution_count": null,
      "outputs": []
    }
  ]
}