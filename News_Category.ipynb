{
  "nbformat": 4,
  "nbformat_minor": 0,
  "metadata": {
    "colab": {
      "name": "News Category",
      "provenance": [],
      "authorship_tag": "ABX9TyPzxEA6uk4yZhhSvVFOt7WI",
      "include_colab_link": true
    },
    "kernelspec": {
      "name": "python3",
      "display_name": "Python 3"
    },
    "accelerator": "GPU"
  },
  "cells": [
    {
      "cell_type": "markdown",
      "metadata": {
        "id": "view-in-github",
        "colab_type": "text"
      },
      "source": [
        "<a href=\"https://colab.research.google.com/github/anandyadav819/kaggle-notebooks/blob/main/News_Category.ipynb\" target=\"_parent\"><img src=\"https://colab.research.google.com/assets/colab-badge.svg\" alt=\"Open In Colab\"/></a>"
      ]
    },
    {
      "cell_type": "markdown",
      "metadata": {
        "id": "3yshq38Foz9L"
      },
      "source": [
        "Kaggle Dataset - https://www.kaggle.com/rmisra/news-category-dataset\n",
        "\n",
        "\n",
        "Tasks for the dataset\n",
        "\n",
        "1.) News Categorization"
      ]
    },
    {
      "cell_type": "code",
      "metadata": {
        "id": "_rtfyIF9oGwy"
      },
      "source": [
        "from google.colab import drive\n",
        "import os"
      ],
      "execution_count": null,
      "outputs": []
    },
    {
      "cell_type": "code",
      "metadata": {
        "colab": {
          "base_uri": "https://localhost:8080/"
        },
        "id": "ekwL0BgcpMkm",
        "outputId": "8b464927-a98d-4e9e-8567-719313bddee8"
      },
      "source": [
        "drive.mount(\"gdrive/\")\n",
        "os.chdir(\"gdrive/My Drive/NLP/\")"
      ],
      "execution_count": null,
      "outputs": [
        {
          "output_type": "stream",
          "text": [
            "Mounted at gdrive/\n"
          ],
          "name": "stdout"
        }
      ]
    },
    {
      "cell_type": "markdown",
      "metadata": {
        "id": "2RolRVWscT8i"
      },
      "source": [
        "#Import libraries"
      ]
    },
    {
      "cell_type": "code",
      "metadata": {
        "id": "PAYgXuqCpiIC"
      },
      "source": [
        "import numpy as np\n",
        "import matplotlib.pyplot as plt\n",
        "import seaborn as sns \n",
        "import pandas as pd\n",
        "import json\n",
        "from sklearn.feature_extraction.text import TfidfVectorizer\n",
        "from sklearn.preprocessing import LabelEncoder\n",
        "from sklearn.model_selection import train_test_split\n",
        "from sklearn.linear_model import LogisticRegression\n",
        "from sklearn.metrics import classification_report\n",
        "\n",
        "import tensorflow as tf\n",
        "from tensorflow.keras.preprocessing.text import Tokenizer\n",
        "from tensorflow.keras.preprocessing.sequence import pad_sequences\n",
        "\n",
        "import spacy\n",
        "import re\n",
        "import nltk\n",
        "from nltk.corpus import stopwords\n",
        "from nltk.stem import WordNetLemmatizer\n",
        "from nltk.stem.porter import *\n",
        "from nltk.stem.snowball import SnowballStemmer"
      ],
      "execution_count": null,
      "outputs": []
    },
    {
      "cell_type": "code",
      "metadata": {
        "colab": {
          "base_uri": "https://localhost:8080/"
        },
        "id": "Eish9SNlZBk6",
        "outputId": "5b3da39f-fa40-444d-a338-06b4f895b481"
      },
      "source": [
        "nltk.download('stopwords')\n",
        "nltk.download('wordnet')\n",
        "! python -m spacy download en_core_web_md"
      ],
      "execution_count": null,
      "outputs": [
        {
          "output_type": "stream",
          "text": [
            "[nltk_data] Downloading package stopwords to /root/nltk_data...\n",
            "[nltk_data]   Unzipping corpora/stopwords.zip.\n",
            "[nltk_data] Downloading package wordnet to /root/nltk_data...\n",
            "[nltk_data]   Unzipping corpora/wordnet.zip.\n",
            "Collecting en_core_web_md==2.2.5\n",
            "\u001b[?25l  Downloading https://github.com/explosion/spacy-models/releases/download/en_core_web_md-2.2.5/en_core_web_md-2.2.5.tar.gz (96.4MB)\n",
            "\u001b[K     |████████████████████████████████| 96.4MB 70.1MB/s \n",
            "\u001b[?25hRequirement already satisfied: spacy>=2.2.2 in /usr/local/lib/python3.7/dist-packages (from en_core_web_md==2.2.5) (2.2.4)\n",
            "Requirement already satisfied: plac<1.2.0,>=0.9.6 in /usr/local/lib/python3.7/dist-packages (from spacy>=2.2.2->en_core_web_md==2.2.5) (1.1.3)\n",
            "Requirement already satisfied: srsly<1.1.0,>=1.0.2 in /usr/local/lib/python3.7/dist-packages (from spacy>=2.2.2->en_core_web_md==2.2.5) (1.0.5)\n",
            "Requirement already satisfied: setuptools in /usr/local/lib/python3.7/dist-packages (from spacy>=2.2.2->en_core_web_md==2.2.5) (54.0.0)\n",
            "Requirement already satisfied: thinc==7.4.0 in /usr/local/lib/python3.7/dist-packages (from spacy>=2.2.2->en_core_web_md==2.2.5) (7.4.0)\n",
            "Requirement already satisfied: wasabi<1.1.0,>=0.4.0 in /usr/local/lib/python3.7/dist-packages (from spacy>=2.2.2->en_core_web_md==2.2.5) (0.8.2)\n",
            "Requirement already satisfied: cymem<2.1.0,>=2.0.2 in /usr/local/lib/python3.7/dist-packages (from spacy>=2.2.2->en_core_web_md==2.2.5) (2.0.5)\n",
            "Requirement already satisfied: tqdm<5.0.0,>=4.38.0 in /usr/local/lib/python3.7/dist-packages (from spacy>=2.2.2->en_core_web_md==2.2.5) (4.41.1)\n",
            "Requirement already satisfied: requests<3.0.0,>=2.13.0 in /usr/local/lib/python3.7/dist-packages (from spacy>=2.2.2->en_core_web_md==2.2.5) (2.23.0)\n",
            "Requirement already satisfied: blis<0.5.0,>=0.4.0 in /usr/local/lib/python3.7/dist-packages (from spacy>=2.2.2->en_core_web_md==2.2.5) (0.4.1)\n",
            "Requirement already satisfied: preshed<3.1.0,>=3.0.2 in /usr/local/lib/python3.7/dist-packages (from spacy>=2.2.2->en_core_web_md==2.2.5) (3.0.5)\n",
            "Requirement already satisfied: murmurhash<1.1.0,>=0.28.0 in /usr/local/lib/python3.7/dist-packages (from spacy>=2.2.2->en_core_web_md==2.2.5) (1.0.5)\n",
            "Requirement already satisfied: catalogue<1.1.0,>=0.0.7 in /usr/local/lib/python3.7/dist-packages (from spacy>=2.2.2->en_core_web_md==2.2.5) (1.0.0)\n",
            "Requirement already satisfied: numpy>=1.15.0 in /usr/local/lib/python3.7/dist-packages (from spacy>=2.2.2->en_core_web_md==2.2.5) (1.19.5)\n",
            "Requirement already satisfied: urllib3!=1.25.0,!=1.25.1,<1.26,>=1.21.1 in /usr/local/lib/python3.7/dist-packages (from requests<3.0.0,>=2.13.0->spacy>=2.2.2->en_core_web_md==2.2.5) (1.24.3)\n",
            "Requirement already satisfied: idna<3,>=2.5 in /usr/local/lib/python3.7/dist-packages (from requests<3.0.0,>=2.13.0->spacy>=2.2.2->en_core_web_md==2.2.5) (2.10)\n",
            "Requirement already satisfied: chardet<4,>=3.0.2 in /usr/local/lib/python3.7/dist-packages (from requests<3.0.0,>=2.13.0->spacy>=2.2.2->en_core_web_md==2.2.5) (3.0.4)\n",
            "Requirement already satisfied: certifi>=2017.4.17 in /usr/local/lib/python3.7/dist-packages (from requests<3.0.0,>=2.13.0->spacy>=2.2.2->en_core_web_md==2.2.5) (2020.12.5)\n",
            "Requirement already satisfied: importlib-metadata>=0.20; python_version < \"3.8\" in /usr/local/lib/python3.7/dist-packages (from catalogue<1.1.0,>=0.0.7->spacy>=2.2.2->en_core_web_md==2.2.5) (3.7.0)\n",
            "Requirement already satisfied: zipp>=0.5 in /usr/local/lib/python3.7/dist-packages (from importlib-metadata>=0.20; python_version < \"3.8\"->catalogue<1.1.0,>=0.0.7->spacy>=2.2.2->en_core_web_md==2.2.5) (3.4.0)\n",
            "Requirement already satisfied: typing-extensions>=3.6.4; python_version < \"3.8\" in /usr/local/lib/python3.7/dist-packages (from importlib-metadata>=0.20; python_version < \"3.8\"->catalogue<1.1.0,>=0.0.7->spacy>=2.2.2->en_core_web_md==2.2.5) (3.7.4.3)\n",
            "Building wheels for collected packages: en-core-web-md\n",
            "  Building wheel for en-core-web-md (setup.py) ... \u001b[?25l\u001b[?25hdone\n",
            "  Created wheel for en-core-web-md: filename=en_core_web_md-2.2.5-cp37-none-any.whl size=98051305 sha256=9d37f4685e0359ea3d781e2dbecf98245c17d5c7022fef847acda0f173d9dfb0\n",
            "  Stored in directory: /tmp/pip-ephem-wheel-cache-unobeagp/wheels/df/94/ad/f5cf59224cea6b5686ac4fd1ad19c8a07bc026e13c36502d81\n",
            "Successfully built en-core-web-md\n",
            "Installing collected packages: en-core-web-md\n",
            "Successfully installed en-core-web-md-2.2.5\n",
            "\u001b[38;5;2m✔ Download and installation successful\u001b[0m\n",
            "You can now load the model via spacy.load('en_core_web_md')\n"
          ],
          "name": "stdout"
        }
      ]
    },
    {
      "cell_type": "code",
      "metadata": {
        "id": "gDmBGQyYZD6B"
      },
      "source": [
        "nlp = spacy.load('en', disable=[\"tagger\", \"parser\"])"
      ],
      "execution_count": null,
      "outputs": []
    },
    {
      "cell_type": "markdown",
      "metadata": {
        "id": "7ofTGmrBcWob"
      },
      "source": [
        "#Load data"
      ]
    },
    {
      "cell_type": "code",
      "metadata": {
        "id": "VmH6n9LKpSnz"
      },
      "source": [
        "data_path = \"datasets/News Category/News_Category_Dataset_v2.json\""
      ],
      "execution_count": null,
      "outputs": []
    },
    {
      "cell_type": "code",
      "metadata": {
        "id": "KBUU0au3pcL0"
      },
      "source": [
        "with open(data_path) as f:\n",
        "  all_lines = f.readlines()\n",
        "  all_jsons = [json.loads(i) for i in all_lines]\n"
      ],
      "execution_count": null,
      "outputs": []
    },
    {
      "cell_type": "code",
      "metadata": {
        "id": "EkdxO-Trr2bK"
      },
      "source": [
        "all_data_df = pd.DataFrame(all_jsons)"
      ],
      "execution_count": null,
      "outputs": []
    },
    {
      "cell_type": "code",
      "metadata": {
        "colab": {
          "base_uri": "https://localhost:8080/"
        },
        "id": "Ke9r3wH_uXT4",
        "outputId": "1a65b0d2-c9d9-4405-9e9c-34385d23fb62"
      },
      "source": [
        "all_data_df[[\"category\", \"headline\", \"short_description\"]].head()"
      ],
      "execution_count": null,
      "outputs": [
        {
          "output_type": "execute_result",
          "data": {
            "text/html": [
              "<div>\n",
              "<style scoped>\n",
              "    .dataframe tbody tr th:only-of-type {\n",
              "        vertical-align: middle;\n",
              "    }\n",
              "\n",
              "    .dataframe tbody tr th {\n",
              "        vertical-align: top;\n",
              "    }\n",
              "\n",
              "    .dataframe thead th {\n",
              "        text-align: right;\n",
              "    }\n",
              "</style>\n",
              "<table border=\"1\" class=\"dataframe\">\n",
              "  <thead>\n",
              "    <tr style=\"text-align: right;\">\n",
              "      <th></th>\n",
              "      <th>category</th>\n",
              "      <th>headline</th>\n",
              "      <th>short_description</th>\n",
              "    </tr>\n",
              "  </thead>\n",
              "  <tbody>\n",
              "    <tr>\n",
              "      <th>0</th>\n",
              "      <td>CRIME</td>\n",
              "      <td>There Were 2 Mass Shootings In Texas Last Week...</td>\n",
              "      <td>She left her husband. He killed their children...</td>\n",
              "    </tr>\n",
              "    <tr>\n",
              "      <th>1</th>\n",
              "      <td>ENTERTAINMENT</td>\n",
              "      <td>Will Smith Joins Diplo And Nicky Jam For The 2...</td>\n",
              "      <td>Of course it has a song.</td>\n",
              "    </tr>\n",
              "    <tr>\n",
              "      <th>2</th>\n",
              "      <td>ENTERTAINMENT</td>\n",
              "      <td>Hugh Grant Marries For The First Time At Age 57</td>\n",
              "      <td>The actor and his longtime girlfriend Anna Ebe...</td>\n",
              "    </tr>\n",
              "    <tr>\n",
              "      <th>3</th>\n",
              "      <td>ENTERTAINMENT</td>\n",
              "      <td>Jim Carrey Blasts 'Castrato' Adam Schiff And D...</td>\n",
              "      <td>The actor gives Dems an ass-kicking for not fi...</td>\n",
              "    </tr>\n",
              "    <tr>\n",
              "      <th>4</th>\n",
              "      <td>ENTERTAINMENT</td>\n",
              "      <td>Julianna Margulies Uses Donald Trump Poop Bags...</td>\n",
              "      <td>The \"Dietland\" actress said using the bags is ...</td>\n",
              "    </tr>\n",
              "  </tbody>\n",
              "</table>\n",
              "</div>"
            ],
            "text/plain": [
              "        category  ...                                  short_description\n",
              "0          CRIME  ...  She left her husband. He killed their children...\n",
              "1  ENTERTAINMENT  ...                           Of course it has a song.\n",
              "2  ENTERTAINMENT  ...  The actor and his longtime girlfriend Anna Ebe...\n",
              "3  ENTERTAINMENT  ...  The actor gives Dems an ass-kicking for not fi...\n",
              "4  ENTERTAINMENT  ...  The \"Dietland\" actress said using the bags is ...\n",
              "\n",
              "[5 rows x 3 columns]"
            ]
          },
          "metadata": {
            "tags": []
          },
          "execution_count": 9
        }
      ]
    },
    {
      "cell_type": "markdown",
      "metadata": {
        "id": "B2S0eaybcbAJ"
      },
      "source": [
        "#EDA"
      ]
    },
    {
      "cell_type": "code",
      "metadata": {
        "id": "ZZXFCv4Fu_KL",
        "colab": {
          "base_uri": "https://localhost:8080/",
          "height": 519
        },
        "outputId": "f98b68c7-d6ee-4726-940e-be6b24c05f7f"
      },
      "source": [
        "# News Category distribution\n",
        "\n",
        "plt.figure(figsize=(10, 7))\n",
        "sns.countplot(x='category', data=all_data_df, color=\"\");\n",
        "plt.xticks(rotation=90)\n",
        "plt.show();"
      ],
      "execution_count": null,
      "outputs": [
        {
          "output_type": "display_data",
          "data": {
            "image/png": "[encoded data removed]",
            "text/plain": [
              "<Figure size 720x504 with 1 Axes>"
            ]
          },
          "metadata": {
            "tags": [],
            "needs_background": "light"
          }
        }
      ]
    },
    {
      "cell_type": "code",
      "metadata": {
        "colab": {
          "base_uri": "https://localhost:8080/"
        },
        "id": "C-49iGLR3vTP",
        "outputId": "ed11a66b-7233-4c0a-c9b2-868cc3df9381"
      },
      "source": [
        "print(list(set(all_data_df['category'].tolist())))"
      ],
      "execution_count": null,
      "outputs": [
        {
          "output_type": "stream",
          "text": [
            "['COLLEGE', 'TECH', 'TASTE', 'STYLE', 'LATINO VOICES', 'ARTS & CULTURE', 'PARENTS', 'HOME & LIVING', 'MONEY', 'GOOD NEWS', 'HEALTHY LIVING', 'TRAVEL', 'EDUCATION', 'DIVORCE', 'CULTURE & ARTS', 'BUSINESS', 'WELLNESS', 'QUEER VOICES', 'WEIRD NEWS', 'RELIGION', 'POLITICS', 'BLACK VOICES', 'WORLD NEWS', 'PARENTING', 'WOMEN', 'IMPACT', 'ENTERTAINMENT', 'SCIENCE', 'THE WORLDPOST', 'WORLDPOST', 'FOOD & DRINK', 'GREEN', 'MEDIA', 'WEDDINGS', 'ENVIRONMENT', 'CRIME', 'SPORTS', 'FIFTY', 'ARTS', 'COMEDY', 'STYLE & BEAUTY']\n"
          ],
          "name": "stdout"
        }
      ]
    },
    {
      "cell_type": "code",
      "metadata": {
        "id": "ngR0mpx24qPZ",
        "colab": {
          "base_uri": "https://localhost:8080/"
        },
        "outputId": "b4ed8850-5743-4aac-8440-fc00e35f7bc9"
      },
      "source": [
        "all_data_df[all_data_df[\"category\"]==\"WOMEN\"]['headline'].tolist()"
      ],
      "execution_count": null,
      "outputs": [
        {
          "output_type": "execute_result",
          "data": {
            "text/plain": [
              "['Morgan Freeman Dropped From Marketing Campaigns After Harassment Accusations',\n",
              " 'The Joy Of Watching Harvey Weinstein’s Perp Walk',\n",
              " 'The 20 Funniest Tweets From Women This Week',\n",
              " 'Morgan Freeman Accused Of Inappropriate Behavior And Sexual Harassment',\n",
              " 'What Do You Say To Sexist Passengers? This Female Pilot Has The Perfect Response.',\n",
              " \"Time's Up Takes Aim At McDonald's, Walmart Over Sexual Harassment Complaints\",\n",
              " \"Trump Knew A 'Scary' Amount About The Appearance Of Bill Gates' Daughter\",\n",
              " 'The 20 Funniest Tweets From Women This Week',\n",
              " 'The Miss America Pageant Is Now Headed By Women After Email Scandal',\n",
              " 'Larry Nassar Victims To Receive $500 Million In Michigan State Settlement',\n",
              " \"Kristen Stewart Ditches Heels On Cannes Red Carpet, Defying 'No Flats' Rule\",\n",
              " 'Cannes Film Festival Promises Greater Gender Equality After Times Up Activism',\n",
              " \"Southern Baptist Leader Apologizes For Past 'Hurtful' Comments About Women\",\n",
              " '82 Women Take To Cannes Red Carpet To Protest Inequality In Film',\n",
              " 'Cornell Student Delivers Thesis In Underwear After Professor Questions Her Outfit',\n",
              " 'The 20 Funniest Tweets From Women This Week',\n",
              " 'Samantha Bee Delivers Blistering Takedown Of Former NY AG Eric Schneiderman',\n",
              " 'NY Governor Assigns Investigation Into Eric Schneiderman Abuse Allegations',\n",
              " \"Child Sexual Predator Roman Polanski Calls Me Too Movement 'Total Hypocrisy'\",\n",
              " \"Evangelical Women Are Condemning A Southern Baptist Leader's 'Sinful' Remarks\",\n",
              " \"Gloria Steinem: 'I've Never Seen This Much Activism In My Life'\",\n",
              " \"Michelle Obama Explains Why People Shouldn't Look To Her To Run For Office\",\n",
              " \"Preacher Speaks Up About The Misogyny She's Faced In Evangelical Circles\",\n",
              " 'The 20 Funniest Tweets From Women This Week',\n",
              " 'Iowa Lawmakers Just Approved The Most Restrictive Abortion Bill In The Country',\n",
              " 'Dozens More Women Say Charlie Rose Sexually Harassed Them: Report',\n",
              " 'Cate Blanchett Says Harvey Weinstein Sexually Harassed Her And Should Be Prosecuted',\n",
              " \"School Hangs Up 'Modesty Ponchos' To Ensure Students Abide By Prom Dress Code\",\n",
              " 'In New Accusations, Netflix Producer Says Harvey Weinstein Raped, Threatened Her',\n",
              " \"R. Kelly Says The Time's Up Campaign Against Him Is 'Unjust And Off-Target'\",\n",
              " \"Jessica Chastain Sums Up The Problem With The Phrase 'Be A Man' In 1 Tweet\",\n",
              " \"Bill Cosby Publicist Invokes Emmett Till In Calling Cosby's Accusers Liars\",\n",
              " 'Former Disney Execs Launch Social Network For Girls',\n",
              " 'Larry Nassar’s Boss Accused Of Assaulting Students In Practice Exam',\n",
              " \"Bill Cosby's Accusers: 'May This Verdict Open The Floodgates'\",\n",
              " \"Statue Of Suffragist Millicent Fawcett Unveiled In London's Parliament Square\",\n",
              " \"Cosby Accuser Lili Bernard Leaves Courtroom In Tears After He's Found Guilty\",\n",
              " \"Aly Raisman Challenges Colleges To 'Stand Up For What's Right' On Sexual Assault\",\n",
              " \"Lindy West's 'Shrill' Is Being Adapted By Aidy Bryant For Hulu\",\n",
              " 'TV Is Finally Catching Up With Real Single Women',\n",
              " \"15 Unique Gifts For Mom This Mother's Day\",\n",
              " 'The Fearless Girl Statue Is Being Relocated',\n",
              " 'The 20 Funniest Tweets From Women This Week',\n",
              " \"Let's Not Give Alleged Harassers A Comeback Narrative\",\n",
              " \"Southwest's Tammie Jo Shults Joins The Legacy of Badass Female Pilots\",\n",
              " \"18 Of The Best Self Care Mother's Day Gift Ideas\",\n",
              " \"Now A Company Is Using 'The Handmaid's Tale' To Sell Lingerie\",\n",
              " \"Bill Cosby's Admission Of Giving Quaaludes To Women Allowed In Retrial\",\n",
              " \"Terry Crews: 'Masculinity Can Be A Cult'\",\n",
              " 'Janice Dickinson Says She Covered Up Cosby Rape In Her Memoir',\n",
              " \"Forget Russia, It's These Women Who Could Ultimately Bring Down Trump\",\n",
              " 'The 20 Funniest Tweets From Women This Week',\n",
              " 'Viola Davis On The Lifelong Impact Sexual Violence Has On Women',\n",
              " 'The Rape Kit Backlog Shows Exactly How We Regard Women In This Country',\n",
              " \"The UN Women’s Empowerment Group Is Looking For A 'Masculine' Writer\",\n",
              " \"Aly Raisman Reminds Sexual Abuse Survivors 'It’s OK To Not Be OK'\",\n",
              " 'Man Accused Of Raping Teen Who Later Turned Up Dead Now Accused Of Her Murder',\n",
              " \"Model Turns To Twitter To Be First Trans Woman Of Color To Walk For Victoria's Secret\",\n",
              " 'This Isn’t A Pay ‘Gap,’ It’s A Freaking Black Hole',\n",
              " \"HBO Says It Corrected Its Pay Gaps, Thanks To Reese Witherspoon And Time's Up\",\n",
              " \"Topless Protester Says Bill Cosby 'Disempowered Women's Bodies For Decades'\",\n",
              " \"Janelle Monáe's New Music Video Is A Pink, Vagina-Inspired Celebration\",\n",
              " \"Catt Sadler On The 'Dark Little Secret' We Need To Do Away With On Equal Pay Day\",\n",
              " 'Junot Díaz: ‘I Was Raped When I Was 8 Years Old’',\n",
              " 'Tony Robbins Apologizes Amid Backlash Over Me Too Comments',\n",
              " 'Tony Robbins Apologizes For Grossly Mischaracterizing The Me Too Movement',\n",
              " \"Anne Hathaway Shuts Down Potential Body Shamers: 'It’s Not Me, It’s You'\",\n",
              " 'The 20 Funniest Tweets From Women This Week',\n",
              " 'Woman Who Says Mormon Church Failed To Discipline Her Abuser Files Lawsuit',\n",
              " \"Author Of Viral 'Prom Dress/Wedding Dress' Reveals Why She Really Wrote It\",\n",
              " \"How Coded Language And Emojis Are Helping China's Feminists Skirt Censorship\",\n",
              " '20 Alternative Mother’s Day Cards For The Supportive Women In Your Life',\n",
              " 'Women Are Describing Themselves As A Male Writer Would, And It’s Brilliant',\n",
              " 'President Who Bragged Of Groping Women Declares Sexual Assault Awareness Month',\n",
              " \"Larry Nassar Survivors Feel 'Violated All Over Again' After MSU Surveillance\",\n",
              " 'The 20 Funniest Tweets From Women This Week',\n",
              " 'A New Jersey Judge Asked A Woman If She Closed Her Legs To Prevent Rape',\n",
              " \"Don't Tell Model Winnie Harlow She's 'Suffering' From Vitiligo\",\n",
              " 'These Painfully Hilarious Comics Capture Life As A Muslim Woman In America',\n",
              " 'For Trump, Women Are Objects To Be Bought And Sold',\n",
              " 'Aly Raisman Is Not OK With Banning Gymnastics Leotards To Prevent Abuse',\n",
              " \"The French Government Is Proposing A Bill To Protect Women. Here's What Finally Propelled Them To Do So.\",\n",
              " 'Evangelical Pastor Claims Traditional Gender Roles Can Prevent Sexual Abuse',\n",
              " 'Evil Eye Gloves Are The New Pussy Hats At The March For Our Lives',\n",
              " 'The 20 Funniest Tweets From Women This Week',\n",
              " \"You Can Now Buy Your Very Own 'Fearless Girl' Statue\",\n",
              " 'The Irony Of Joe Biden Trying To Protect Women By Threatening Donald Trump',\n",
              " 'Former Mormon Missionary Center Leader Accused Of Sexual Assault',\n",
              " 'Maryland Governor Candidate Breastfeeds In New Campaign Ad',\n",
              " \"In 'Margaritaville,' Broadway's Lisa Howard Finds Strength And Self-Worth\",\n",
              " \"Tennessee Pastor Resigns After Admitting Sexual 'Incident' Was 'Abuse Of Power'\",\n",
              " 'Cardi B Talks Me Too Movement, Justice For Video Vixens In New Interview',\n",
              " 'Women Of All Ages Support Me Too, But More Younger Women Worry About Fallout',\n",
              " \"Polish Women Protest Catholic Bishops' Intervention In Abortion Debate\",\n",
              " \"Jameela Jamil's 'I Weigh' Instagram Celebrates Body Positivity, Self-Worth\",\n",
              " 'Muslim Women Forced To Remove Hijab For Mugshots File Civil Rights Lawsuit',\n",
              " 'Not Every Woman In A Position Of Power Is A Feminist Hero',\n",
              " \"17 Children's Books To Read To Your Kids In Honor Of Women's History Month\",\n",
              " 'The 20 Funniest Tweets From Women This Week',\n",
              " 'Jenna Jameson Calls On Women To #DropTheCover And Celebrates Motherhood',\n",
              " 'Rihanna Blasts Snapchat Ad That Made Light Of Chris Brown Assaulting Her',\n",
              " '17 Country Songs With Feminist Messages',\n",
              " 'Survivor Calls For Change In How Churches Respond To Abuse Allegations',\n",
              " 'Lynda Carter, The Original Wonder Woman, Shares Her Own Me Too Story',\n",
              " \"4 Men Stand Around While Woman Scrubs 'Happy International Women’s Day' From Steps\",\n",
              " \"Nearly 1 In 4 Men Worldwide Think It's Fine For Bosses To Expect Sex From An Employee: Poll\",\n",
              " \"Catholic Women's Event Persists Despite Vatican's Rejection Of Progressive Participants\",\n",
              " 'The 20 Funniest Tweets From Women This Week',\n",
              " \"Ivanka Trump's Women's Day Tribute Went Exactly As You'd Expect\",\n",
              " \"28 Photos Of Women Rallying Around The Globe On International Women's Day\",\n",
              " \"Brands With Spotty Histories On Feminism Cash In On International Women's Day\",\n",
              " \"McDonald's Flipped Arches Totally Miss The Point Of Empowering Women\",\n",
              " '40 Stunning Photos Of Women Working Around The World',\n",
              " \"Michelle Obama's Advice For Young Girl Leaders On International Women's Day\",\n",
              " 'How Working With Men And Boys Could Stop Domestic Violence',\n",
              " '16 Girls Who Changed The World',\n",
              " '55 Incredible Photos Of Girls Going To School Around The World',\n",
              " 'Former Yale Student Found Not Guilty In Rare Campus Sexual Assault Trial',\n",
              " \"Google Features 12 Female Artists To Celebrate International Women's Day\",\n",
              " \"Woman Who Accused Gary Oldman Of Assault: 'What Happened To The Me Too Movement?'\",\n",
              " \"Bill And Melinda Gates Pledge $170 Million To Women's Economic Empowerment\",\n",
              " 'Frida Kahlo And Other Historic Women Are Being Made Into Barbies',\n",
              " 'Women Slam Twitter For Hypocritical Oscars Ad About Female Empowerment',\n",
              " 'Rita Moreno Wore Her Same Oscar Dress From 1962',\n",
              " \"'Black Panther' Cast Made Sandra Bullock Cry 'As A Mother'\",\n",
              " 'A Statue Of Harvey Weinstein On A Casting Couch Appears On Hollywood Boulevard',\n",
              " \"'Lemony Snicket' Out As Wesleyan Speaker Amid Reports Of Inappropriate Comments\",\n",
              " 'Vatican Magazine Urges Church To Stop Using Nuns As Cheap Labor',\n",
              " \"'Princess Complicit' Ivanka Trump Skewered Over Women's History Month Tweet\",\n",
              " 'The 20 Funniest Tweets From Women This Week',\n",
              " \"Steve Bannon: The 'Potential Power' Of The Time's Up Movement Is Unmatched\",\n",
              " \"Trump Proclaims Women's History Month In Painfully Ironic Statement\",\n",
              " 'Woman Claims Pastor Abused Her As A Teen. He Continued Working With Youth For Years.',\n",
              " \"15 Trailblazers On What History Books Will Say About Women's Activism In 2018\",\n",
              " 'Evan Rachel Wood Shared Her Harrowing Story Of Abuse And Assault With Congress',\n",
              " \"Johnnie Walker Releases 'Jane Walker' Whisky To Celebrate Women's Rights\",\n",
              " 'Steve Wynn Accused Of Rape In New Police Filings: Report',\n",
              " \"Monica Lewinsky: 'I'm Not Alone Anymore' Thanks To The Me Too Movement\",\n",
              " 'College’s ‘Women In Math’ Panel Features Only Male Speakers',\n",
              " 'Olympic Swimmer Ariana Kukors Is Ready To Fight Sexual Abuse In Sports',\n",
              " 'The 20 Funniest Tweets From Women This Week',\n",
              " 'Female Journalists Tweet #MoreThanABabe To Protest Radio Bracket Ranking Women',\n",
              " 'How Gun Violence And Toxic Masculinity Are Linked, In 8 Tweets',\n",
              " 'Arizona Department Of Corrections Changes Menstrual Pad Policy Following Backlash',\n",
              " 'Heartbreaking PSA Highlights The Massive Backlog Of Untested Rape Kits',\n",
              " \"New York's Attorney General Files Civil Rights Suit Against Harvey Weinstein\",\n",
              " 'Teen Set To Testify Against Man She Accused Of Rape Found Dead',\n",
              " 'The 20 Funniest Tweets From Women This Week',\n",
              " \"Art Student Has Killer Comeback To Teacher's 'Dial Down The Feminism' Tip\",\n",
              " 'Volunteer Gymnastics Coach Charged With Child Molestation',\n",
              " 'They Called Her A Bitch. Now, O.J. Prosecutor Marcia Clark Is Seeing Her Image Reborn.',\n",
              " 'On ‘The Bachelor,’ Ambition Is Still An ‘Obstacle’ To Love',\n",
              " 'Lindsey Vonn Deserves Gold For This Twitter Troll Shutdown',\n",
              " \"Gloria Steinem: For The First Time Ever, 'Women Are Being Believed'\",\n",
              " 'South Korea Joins The #MeToo Movement',\n",
              " 'People Hilariously Blast ‘Lady Doritos’ On Twitter',\n",
              " 'Humane Society Board Members Quit Over Failure To Oust CEO For Harassment',\n",
              " \"Female Executives Demand Resignation Of Grammy Chief Who Told Women To 'Step Up'\",\n",
              " '22 Hilariously Perfect Gifts For Your Funny Galentine',\n",
              " \"Canada's National Anthem Is About To Go Gender-Neutral\",\n",
              " \"First Woman To Accuse Nassar Says Church Can Be One Of 'Worst Places' To Go For Help\",\n",
              " 'The 20 Funniest Tweets From Women This Week',\n",
              " 'One Of The Largest Retailers In The U.S. Is Launching A Hijab-Friendly Fashion Line',\n",
              " 'Michigan Police Department Apologizes To Nassar Accuser For Not Believing Her',\n",
              " \"21 Creative Valentine's Day Gifts For Her That Aren't Flowers\",\n",
              " \"Radio Station Blasted For 'Babe Bracket' That Ranks Female Journalists On Looks\",\n",
              " 'California Moves Closer To Offering The Abortion Pill On Campuses',\n",
              " \"India's 'Unwanted' Girls Number In The Millions, New Report Finds\",\n",
              " \"Donald Trump Admits He's Not A Feminist To The Surprise Of No One\",\n",
              " 'Betsy DeVos Sued For Weakening Sexual Assault Reporting Protections For Students',\n",
              " 'MSU Athletic Director Mark Hollis Resigns In Wake Of Larry Nassar Scandal',\n",
              " 'The American Public Finally Heard The Women Larry Nassar Abused',\n",
              " 'The 20 Funniest Tweets From Women This Week',\n",
              " 'MSU Faces A Reckoning Over Its Handling Of Sexual Abuse',\n",
              " 'Michigan State University President Resigns In Wake Of Sexual Assault Scandal',\n",
              " \"People Think Ivanka Trump's New Twitter Bio Is An Insult To Women\",\n",
              " \"Aly Raisman: 'This Is Bigger Than Larry Nassar'\",\n",
              " 'The Only Type Of Muslim Woman Acceptable For Major Brands Is A Silent One',\n",
              " 'She Was The First Woman To Go Public About Nassar. Read Her Statement In Full.',\n",
              " \"33 Anti-Valentine's Day Gifts For People Who Despise Valentine's Day\",\n",
              " 'Someone Edited This Music Festival Poster To Point Out Its Obvious Woman Problem',\n",
              " \"19 Stunning Plus Size Lingerie Sets That'll Make Your Valentine Swoon\",\n",
              " '30 Photos Of Larry Nassar Survivors That Show The Rage And Resilience Of Women',\n",
              " 'Left Out Of #MeToo, Strippers Fight For More Rights In The Workplace',\n",
              " \"James Franco Accusers Ask: 'Please Just Apologize'\",\n",
              " 'Widow Of Kansas Hate Crime Victim Tells Immigrants America Is Their Home, Too',\n",
              " \"National Gymnastics Champion To Larry Nassar: 'I F**king Hate You'\",\n",
              " \"Naomi Parker Fraley, Who Likely Inspired 'Rosie The Riveter' Poster, Dead At 96\",\n",
              " \"Constance Wu Calls Out The Fetishization Of Asians At Women's March\",\n",
              " \"L'Oréal Claims To Champion Diversity. But Now Its Only Hijabi Model Is Gone.\",\n",
              " \"The Voices Of Larry Nassar's Victims Made It All The Way To The Women’s March\",\n",
              " 'Natalie Portman Shares The Horror Of Being Sexualized At Age 13',\n",
              " '14 Romantic Gifts That Can Be Delivered',\n",
              " \"Women's March Activists Rally In Las Vegas, Vow To Bring Their 'Power To The Polls'\",\n",
              " \"Women's March Draws Massive Crowds In Cities Across The Nation\",\n",
              " \"Watch Halsey's Powerful Speech At The 2018 Women's March\",\n",
              " \"Trump Tweeted Support For The Women's Marches. It Backfired.\",\n",
              " \"Signs For The 2018 Women's March Prove The Movement Is Here To Stay\",\n",
              " 'At Least 4 Sets Of Sisters Have Accused Larry Nassar Of Sexual Abuse',\n",
              " \"Aly Raisman Tells Nassar 'You Are Pathetic' After He Complains About Sentencing Hearing\",\n",
              " 'The 20 Funniest Tweets From Women This Week',\n",
              " \"Judge Calls Larry Nassar 'Delusional' For Saying It's Hard To Face His Victims\",\n",
              " \"L'Oreal Paris Makes Historic Hire With Hijab-Wearing Amena Khan In Hair Campaign\",\n",
              " \"Olympian McKayla Maroney On Larry Nassar: 'He Abused My Trust. He Abused My Body.'\",\n",
              " 'A TV Series About The #MeToo Movement Is Coming To PBS',\n",
              " 'Ashleigh Banfield Responds On Air To Insulting Email From Aziz Ansari Story Reporter',\n",
              " \"The Thrill Of The Chase Isn't Sexy. It's Demeaning.\",\n",
              " 'This Badass Ellen Pompeo Interview Is A Call For Women Everywhere To Get Paid',\n",
              " 'Most American Catholic Women Want The Church To Have Female Deacons, Poll Finds',\n",
              " 'Penelope Cruz Tried To Teach Ellen Spanish, And It Was Bleeping Great',\n",
              " \"Are You A Gamer Who's The Victim Of A Harassment Campaign?\",\n",
              " 'You Might Not Be A Harvey Weinstein, But You Could Be An Aziz Ansari',\n",
              " 'Tennessee Pastor Accused Of Sexual Assault Placed On Leave Of Absence',\n",
              " \"25 Spot-On Galentine's Day Gifts For Your Long-Distance BFF\",\n",
              " \"Chrissy Teigen Offers To Pay Possible Fine For McKayla Maroney's Truth-Telling\",\n",
              " 'Larry Nassar’s Victims Get Their Day In Court: ‘Little Girls Don’t Stay Little Forever’',\n",
              " 'Aziz Ansari Reminds Us That We Don’t Want Your Faux\\xa0Feminism',\n",
              " 'Congresswoman Invites #MeToo Creator Tarana Burke To State of The Union',\n",
              " 'Don’t Forget Why Moira Donegan Started The ‘S**tty Media Men’ List In The First Place',\n",
              " 'San Francisco Takes A Stand To Protect Sex Workers Who Come Forward About Abuse',\n",
              " 'The 20 Funniest Tweets From Women This Week',\n",
              " 'Floyd Mayweather Confuses #MeToo Movement In The Most Ignorant Way',\n",
              " '#TimesUp: Moving Forward In The Age Of Branded Protest',\n",
              " \"Age Is Not The Arbiter Of Relevance. See 'Sneaky' Dianne Feinstein\",\n",
              " \"Women Of The Internet Band Together To Protect 'S**tty Media Men' Author\",\n",
              " 'I’ve Learned How To Piss People Off — And You Should, Too',\n",
              " \"Legendary French Actress Catherine Deneuve Decries #MeToo Movement As 'Puritanism'\",\n",
              " 'Why Is The Media Looking For A Cat Fight?',\n",
              " \"You Might've Missed The Feminist Message Behind Emma Stone's Golden Globes Makeup\",\n",
              " 'Here’s What You Should Know About The 8 Activists Who Went To The Golden Globes',\n",
              " \"Where Were All Those 'Phenomenal Men' At The Golden Globes Anyway?\",\n",
              " \"Emma Watson Opens Up About Sexual Harassment She's Faced In Hollywood\",\n",
              " 'Why Kids Across The U.S. Are Writing Books About Female Heroes',\n",
              " 'Alyssa Milano Demands Trump Be Held Accountable For Sexual Assault Accusations',\n",
              " \"Rashida Jones: The Golden Globes' Red Carpet Blackout Won’t Be A Silent Protest\",\n",
              " 'Woman Says Man Sexually Assaulted Her While She Slept On A Flight',\n",
              " 'The 20 Funniest Tweets From Women This Week',\n",
              " \"30 Important Things I've Learned By 30\",\n",
              " \"Meryl Streep Wonders Why Melania And Ivanka Trump Won't Speak Out About #MeToo\",\n",
              " \"Hoda Kotb Says She's 'Not Making Matt Lauer Money' On 'Today'\",\n",
              " \"Feminist: The 'F' Word I Refused To Say\",\n",
              " 'UK Train Company Answers Sexism Complaint With Even More Sexism',\n",
              " 'The #MeToo Movement Looks Different For Women Of Color. Here Are 10 Stories.',\n",
              " '29 Things To Give A S**t About In 2018',\n",
              " 'Hollywood Heroines Launch Initiative To Fight Sexual Harassment And Inequality',\n",
              " 'Measuring 2017 In Hugs',\n",
              " \"Alice Glass Says She Will Testify That Crystal Castles' Ethan Kath Raped Her\",\n",
              " 'The Modeling Industry’s #MeToo Moment Is Long Overdue',\n",
              " 'Miguel Sano Of Minnesota Twins Accused Of Assaulting Female Photographer',\n",
              " 'Topless Femen Activists Stage #MeToo Protest Against The Patriarchy At The Vatican',\n",
              " 'Twitter Skewers Los Angeles Times — And Stars — For All-White Actress Cover',\n",
              " 'Miss America CEO and Board Chair Resign Under Pressure Amid Scandal',\n",
              " 'Olivia Munn Links Hollywood Sexual Misconduct Epidemic To Gender Pay Gap',\n",
              " \"Jimmy Choo's 'Tone Deaf' Ad Goes Viral For All The Wrong Reasons\",\n",
              " 'The 20 Funniest Tweets From Women This Week',\n",
              " \"CEO Suspended After 49 Former Miss Americas Call On Organization's Leaders To Resign\",\n",
              " 'The 50 Funniest Tweets From Women In 2017',\n",
              " \"50 Photos From 2017 That Show The Power Of Women's Rage\",\n",
              " 'Watch Trump Apologize To Women In A Mashup We Wish Was Real',\n",
              " 'Why Culture Change Matters',\n",
              " 'Why I Stayed At A Job Where I Was Sexually Harassed',\n",
              " 'I Tried To Keep Track Of Every Time I Felt Guilt About Eating For A Week',\n",
              " 'Men Try To Guess If These Situations Are Porn Or #MeToo Stories',\n",
              " 'Former Weinstein Assistant Zelda Perkins Explains Why Gag Laws Need To Be Changed',\n",
              " 'Why Adriana Lima And Emily Ratajkowski Can Both Be Feminists, No Matter How Much Skin They Show',\n",
              " 'The Ultimate Roundup Of Hundreds Of Holiday Gift Ideas',\n",
              " 'Actor T.J. Miller Accused Of Punching Woman During Sexual Assault',\n",
              " '28 Of The Most Powerful Pieces Of Writing By Women In 2017',\n",
              " \"#MeToo Creator Will Push Button To Drop New Year's Eve Ball In Times Square\",\n",
              " \"Glenn Close On Weinstein Effect: 'To Condemn All Men Is Stupid And Counterproductive'\",\n",
              " 'What I Learned From A Year Of Not Shopping',\n",
              " \"Simple Book Helps Adult Men Answer Pressing Question: 'Where Does Your Penis Belong?'\",\n",
              " 'The 20 Funniest Tweets From Women This Week',\n",
              " \"Matt Lauer's First Accuser Lives 'In Constant Fear' Of Being Identified\",\n",
              " \"Samantha Bee Dedicates The 'Amazing' Defeat Of Roy Moore To His Accusers\",\n",
              " \"Roy Moore Accuser Says Alabama Is 'About To Make Some Changes'\",\n",
              " 'People On Twitter Are Pretty Pissed About These Photos For Plus-Size Tights',\n",
              " \"Jose Canseco's Icky Tweets Prove Some People Still Don't Get #MeToo\",\n",
              " 'The Maddening Frustration Of Fighting White Supremacy',\n",
              " 'Beware The Bumbler',\n",
              " 'How To Stand Your Ground In A World Full Of Mean Girls',\n",
              " \"U.K. Reality TV Contestant Fiercely Shuts Down Co-Stars' Sexist Comments\",\n",
              " 'The 20 Funniest Tweets From Women This Week',\n",
              " \"#MeToo Is Currently Playing Like A Partisan Revolution. Let's Fix That\",\n",
              " 'The Subtle Architecture Of Systemic Sexism',\n",
              " 'Alabama Women Protest Roy Moore By Dressing As Handmaids',\n",
              " 'Toeing The Race Line: What I Am And What I Am Not.',\n",
              " 'Myths On The Ideal Brown Feminist',\n",
              " 'Cecile Richards Opened Up About Being Sexually Assaulted As A Young Woman',\n",
              " 'You May Have Missed The 6th Woman On Time’s Person Of The Year Cover',\n",
              " \"'Broad City' Creators Take 'Accountability' For Using 'White Dude Power' To Bolster Show\",\n",
              " \"Margot Robbie Had A 'Boss Moment' In Response To Question About Her Marriage\",\n",
              " 'Exclusive Insights From Four TEDWomen Speakers',\n",
              " 'The Justice League We Deserve',\n",
              " \"'Portlandia' Sums Up Every Woman's Thoughts On Sexual Harassment In Spot-On Sketch\",\n",
              " 'Emily Ratajkowski Writhes Around In Spaghetti In The Name Of Feminism',\n",
              " 'How One Late Paycheck Messed Up My Life',\n",
              " \"'Fleabag' Actress Has Powerful Message For All The 'Creepy Bastards' About Sexual Misconduct\",\n",
              " 'Pamela Anderson Victim-Blamed Harvey Weinstein Accusers, Then Refused To Apologize',\n",
              " \"People Turned A Tweet About Taylor Swift Into A List Of 'Bad Bitches' In History\",\n",
              " 'The Cognitive Dissonance We Feel Because Of Matt Lauer, Charlie Rose, And Kevin Spacey',\n",
              " 'Brock Turner, Former Stanford Swimmer Convicted Of Sexual Assault, Files Appeal',\n",
              " 'Don’t Be Misled By The Sexual Harassment “Reckoning”',\n",
              " 'The 20 Funniest Tweets From Women This Week',\n",
              " 'And The Walls Came Tumbling Down',\n",
              " 'Powerful Video Honors The Sexual Violence Survivors Who Told Their Stories In 2017',\n",
              " '2017: Silent No Longer',\n",
              " 'What Does A Feminist Future Look Like?',\n",
              " 'Every Single Lady Can Relate To This Christmas Card',\n",
              " 'What Many Of The Current Sexual Assault Apologies Have In Common',\n",
              " \"Another GOP Lawmaker Got Caught In A Sex Scandal. Here's Why You Should Defend Him.\",\n",
              " \"How To Meaningfully Contribute To The Women's Movement, As A Man\",\n",
              " 'It’s Not Too Late, Ivanka',\n",
              " 'Over 200 Women In U.S. National Security Sign Open Letter About Sexual Misconduct',\n",
              " 'Mikayla Holmgren Blazes Trail As First State Miss USA Contestant With Down Syndrome',\n",
              " 'Acid Attack Victims In India Bravely Take To The Catwalk',\n",
              " 'Nearly 200 Women Have Accused Massage Envy Of Sexual Assault',\n",
              " 'How Do I Teach My Girls To Love Their Bodies When I Hate Mine?',\n",
              " \"Why This Is Our 'Women's Lives Matter' Moment\",\n",
              " 'The 20 Funniest Tweets From Women This Week',\n",
              " 'A Movement, Not A Mob',\n",
              " '5 Reasons This Catholic Feminist Is Thankful',\n",
              " \"When Men 'Misremember' Violating Women\",\n",
              " \"Piers Morgan Chews Out Dating Guru: 'You Are A Repulsive Individual'\",\n",
              " 'Danny Masterson’s Publicist Suggested A Woman Can’t Be Raped By A Man She’s In A Relationship With',\n",
              " '11 Women Revisit The Places They Experienced Street Harassment',\n",
              " \"Lena Dunham Defends 'Girls' Writer Accused Of Raping 17-Year-Old\",\n",
              " 'The Political World Is Still Failing To #BelieveWomen',\n",
              " \"Gabby Douglas Says\\xa0Dressing\\xa0Provocatively 'Entices' Wrong Crowd, Sparking Gymnast Feud\",\n",
              " 'Kellyanne Conway Says She Started The Discussion On Sexual Harassment',\n",
              " 'In Post-Weinstein Era, Trump Sexual Assault Accusers Await His Downfall',\n",
              " 'The 20 Funniest Tweets From Women This Week',\n",
              " 'Men, #MeToo and the Bare Minimum',\n",
              " 'The Life-Changing Magic Of Being Believed About Rape',\n",
              " 'Megyn Kelly And Suzanne Somers Joked About Marital Rape On Morning Show',\n",
              " \"Samantha Bee Takes Aim At 'Critically-Acclaimed Pervert' Louis C.K.\",\n",
              " '#MeToo and \"Legitimate rape\"',\n",
              " \"Glamour's Women Of The Year 'Firsts' Tell Inspiring Stories Of Struggle And Success\",\n",
              " 'Congress Should Lead, Not Follow, On Protecting Victims Of Sexual Harassment',\n",
              " 'Watch Anita Hill And Aly Raisman Share Their #MeToo Stories On Stage Together',\n",
              " 'There Are No Innocent Men',\n",
              " 'Red Carpet Rape',\n",
              " 'Olympic Fencer Ibtihaj Muhammad Just Got Her Very Own Barbie',\n",
              " 'Joe Biden Says He’s ‘So Sorry’ For What Anita Hill Went Through',\n",
              " 'Decent Christians And The Politics Of The Right',\n",
              " 'The Beautiful Bravery Behind #MeToo',\n",
              " 'Hear Them Roar',\n",
              " 'Mental Health Experts Are Drowning Out The Voices Of Sexual Harassment And Assault Survivors',\n",
              " 'Wendy Davis On Gun Violence: ‘Women Are Uniquely Vulnerable’',\n",
              " 'An Open Letter To Louis C.K.',\n",
              " 'Gretchen Carlson: Fire Sexual Predators, Protect Victims',\n",
              " 'James Toback Sexually Harassed Me When I Profiled Him In 2001',\n",
              " \"Here's How We Can Know If Assault Allegations Are True\",\n",
              " 'The Big Ask: Closing Gender Pay Gap For Creative Work Starts With Pricing',\n",
              " 'The 20 Funniest Tweets From Women This Week',\n",
              " 'Legendary Swimmer Diana Nyad Opens Up About Her Sexual Assault',\n",
              " 'Reasons To Hope, One Year After The Election',\n",
              " \"A Heartbreak Like No Other: One Year Into Trump's America\",\n",
              " '17 Gifts To Keep On Hand For Surprise Guests',\n",
              " 'The Patriarchal Stigma Of Periods, And How #Bloodnormal Is Changing That',\n",
              " '16 Gifts For Your BFF Who Needs Help Nailing This Adulthood Thing',\n",
              " \"A Year Removed From Trump's Election, His Rise And Shortcomings Hearken Back To The 1960s\",\n",
              " \"During This Month Of Thanks, Let's Be #ThankfulForMuslimWomen\",\n",
              " \"Gretchen Carlson On Sexual Violence: 'It's Not A Partisan Issue, It's A Cultural One'\",\n",
              " 'Uber Pledges $5 Million To Prevent Sexual Assault And Domestic Violence',\n",
              " 'Comedian Schools Male BBC Panel On Not Taking Sexual Harassment Seriously',\n",
              " \"I'm A Size 12 And My Best Friend Is A Size 24, But We Wore The Same Outfit. Here's Why.\",\n",
              " 'The 20 Funniest Tweets From Women This Week',\n",
              " 'Notre Dame Just Decided To Cut Birth Control Coverage For Students And Employees',\n",
              " 'Why We Discriminate Against Women Athletes And Why I Almost Kicked A Kid: An Essay',\n",
              " \"Tim Kaine: 'Men Need To Step Up' And Combat Sexism\",\n",
              " 'After #MeToo, New Campaign Offers Resources To Survivors Struggling With PTSD',\n",
              " 'Pageant Contestants Highlight Violence Against Women Instead Of Their Measurements',\n",
              " \"Tackling The Future: CEO's Game Plan To End Gender Bias In Sports, Tech\",\n",
              " 'A Bro’s Primer To Ending Sexual Misconduct',\n",
              " 'From The Granddaughter Of A North Korean Refugee',\n",
              " 'Domestic Violence Awareness Month is About Protecting People and Pets',\n",
              " 'Thousands Went To The Women’s Convention. And It Was Just What They Needed.',\n",
              " 'To Stop The Cycle Of Poverty, We Need To Invest In Mothers',\n",
              " 'Annabella Sciorra And Daryl Hannah Say They Feared Telling Their Weinstein Stories',\n",
              " 'When Sexual Harassment Extends From The Workplace To The Street',\n",
              " \"Maxine Waters To Women's Convention: Trump Is 'Most Dishonorable And Despicable' President Ever\",\n",
              " \"At The Women's Convention, A Clear Message: Follow Black Women In 2018\",\n",
              " 'The 20 Funniest Tweets From Women This Week',\n",
              " \"Rose McGowan On Sexual Violence: 'Name It. Shame It. Call It Out.'\",\n",
              " 'Men, Power Must Change',\n",
              " 'Maybe True Beauty Is In The Eye Of Everything',\n",
              " 'As A Father Of Sons: Confronting The Culture Of Toxic Masculinity',\n",
              " 'Banning Elected Moms From Breastfeeding Is On The Wrong Side Of History',\n",
              " \"16-Year-Old Denied Trophy For Winning Golf Tournament Because She's A Girl\",\n",
              " 'On Speaking Our #MeToo Truths',\n",
              " \"Lots Of Men Still Don't See Tampons As A Basic Right\",\n",
              " 'Liberal Male Hypocrisy, Modern Day Rasputins And The Culture Of Deceit',\n",
              " \"Jane Fonda: People Are Listening Now Because Weinstein Victims Are 'Famous And White'\",\n",
              " 'The #MeToo Campaign Is An Important Step In Ending Patriarchy, But It Cannot Work Alone',\n",
              " 'Tony Goldwyn Says He Was Sexually Harassed As A Young Man In Hollywood',\n",
              " 'Silence, Bought And Sold',\n",
              " 'Invoice Generator Lets You Bill Trump For Your Birth Control Copay',\n",
              " \"Matt McGorry: 'Good Men' Need To Step Up In Light Of Weinstein Allegations\",\n",
              " 'The Wreckage Of Men Like Harvey Weinstein',\n",
              " 'Cate Blanchett Slams Steve Bannon To Make An Excellent Point About Feminism',\n",
              " 'True Love Is Built In The Simple Moments',\n",
              " \"Bill O'Reilly Accuser Says She's Still 'Terrified' Of Fox News\",\n",
              " \"F*ck Your 'Cool Girl' Compliment\",\n",
              " 'Me, Too -- And I Let It Happen',\n",
              " \"Gabrielle Union To Lena Dunham: White Women Need To 'Pass The Mic' To Women Of Color\",\n",
              " \"'F***ing Bitches' Everywhere, Lend Me Your Ears\",\n",
              " 'The 20 Funniest Tweets From Women This Week',\n",
              " 'Put The Blame For Sexual Abuse Where It Belongs: On Men',\n",
              " \"Bernie Sanders Cancels Appearance At Women's Convention To Go To Puerto Rico\",\n",
              " 'Real Life Or Just For Likes?',\n",
              " 'What Now?',\n",
              " 'Male Radio Host Demands Pay Cut For One Selfless Reason',\n",
              " 'Mayim Bialik Is ‘Very Sorry’ For Her Controversial Weinstein Op-Ed',\n",
              " 'Democrats Introduce Bill To Fight Trump On Birth Control Mandate',\n",
              " \"Here's How To Reply To All Those Irritating, Ignorant Responses To Your #MeToo Posts\",\n",
              " \"#MeToo: In Directing 'ProtectHer,' I Found Peace In My Broken Pieces\",\n",
              " '#MeToo And Sexual Violence In The U. S. Fire Service',\n",
              " \"Harvey Weinstein's Not The Problem\",\n",
              " 'On (White) #WomenBoycottTwitter\\u200a And #MeToo, From A White\\xa0Woman To White Women',\n",
              " 'Me Too, But Now What?',\n",
              " \"Gretchen Carlson On Harvey Weinstein Allegations: 'This Is The Watershed Moment'\",\n",
              " \"The Worst Thing About Seeing 'Me Too' All Over Social Media Is That It Doesn't Surprise Me\",\n",
              " 'This Woman Got A Wonder Woman Tattoo Over Her Double Mastectomy Scars',\n",
              " '#MeToo: It Took Me Three Years To Unfriend Him',\n",
              " \"Ivanka Trump's Tweet About Breaking Down Barriers For Women Backfired\",\n",
              " '#MeToo Has Made Me Speak Up',\n",
              " 'What Matters',\n",
              " \"What Mayim Bialik Gets Wrong About 'Harvey Weinstein's World'\",\n",
              " 'Me Too',\n",
              " 'It Will Take More Than #MeToo To Get Our Experiences Heard',\n",
              " \"I Am So Tired Of Fake Feminism Suggesting We Are 'Asking For It'\",\n",
              " \"When I Realized That My 'Me Too's' Were Too Many To Count\",\n",
              " 'The Full Scope of \"Me Too\"',\n",
              " '#MeToo: See Beyond The Hashtag',\n",
              " 'Alec Baldwin Calls Out Hypocrisy Of Fox News Attacking Harvey Weinstein',\n",
              " \"Women's Boycott Of Twitter Inspires Company To Take On New Rules\",\n",
              " 'Harvey Weinstein And The Abuse Of Power',\n",
              " 'Former Playboy Model Accuses Oliver Stone Of Groping Her Breast',\n",
              " 'Harvey Weinstein Is Despicable. What About Bob?',\n",
              " 'Women Boycott Twitter In Solidarity With Rose McGowan',\n",
              " \"Joe Biden Condemns Harvey Weinstein's 'Disgusting Behavior'\",\n",
              " 'Democrats Introduce Bill That Would Turn Title IX Guidelines Into Law',\n",
              " \"Host Who Ben Affleck Got Handsy With In 2004 Says It Was An 'On-Camera Game'\",\n",
              " \"Women's Group Flies Banner Over Hollywood: 'Stop Enabling Abuse'\",\n",
              " 'Quick Reminder: A U.S. Soccer Team Can Still Qualify For The World Cup',\n",
              " 'Sexual Assault Survivors Aren’t Just Daughters. They’re Actually Humans.',\n",
              " 'Sexual Harassment Is Everywhere, Every Day',\n",
              " 'Hillary Clinton Must Condemn Harvey Weinstein',\n",
              " 'The Harvey Weinstein Scandal Should Be A Message To All Men',\n",
              " \"As If Trump Weren't Enough, Women Are Falling Behind At Work, Too\",\n",
              " 'How Planned Parenthood Is Using The Resistance To Face Down The Trump Era',\n",
              " 'Women Scientists Report Sexual Harassment On Boston University Expeditions',\n",
              " 'Why Do We Continually Blame Women For The Transgressions Of Men?',\n",
              " 'I Am Not A Prostitute. I’m A Female Solo Traveler!',\n",
              " 'ACLU Files Lawsuit After Trump Reverses Obama-Era Contraception Mandate',\n",
              " \"Dannon Yogurt Drops Cam Newton Over 'Sexist And Disparaging' Comment\",\n",
              " 'An Open Letter To The Woman Who Taught Me To Love',\n",
              " \"Harvey Weinstein And The Danger Of Performative 'Wokeness'\",\n",
              " 'Woman Takes Selfies With Her Catcallers To Show How Often It Happens',\n",
              " 'The 20 Funniest Tweets From Women This Week',\n",
              " 'Harvey Weinstein And The End Of Open Secrets',\n",
              " 'Hey, Trump—Here Are All The Things Birth Control Does',\n",
              " \"Harvey Weinstein Reportedly Called Rebecca Traister A 'C**t'\",\n",
              " \"The Sixties Made Me Do It! Harvey Weinstein's Excuse\",\n",
              " \"Yes, San Juan Mayor Carmen Yulín Cruz's 'Nasty' Shirt Was Aimed At Trump\",\n",
              " 'Cam Newton Insults Female Sports Reporter Just Doing Her Job',\n",
              " 'He Urged His Mistress To Have An Abortion, Then Voted To Ban Other Women From Getting One',\n",
              " 'Body And Soul: When Faced With Breast Cancer, Which Will Win?',\n",
              " 'Fort Wayne Is A City Of Contradictions',\n",
              " 'The ACLU Is Suing To Increase Access To The Abortion Pill',\n",
              " 'Lock Him Up',\n",
              " 'Trump Is In Your Head',\n",
              " 'Driving While White: Reflections On Bias And Rights',\n",
              " 'Mom Of Mass Shooting Victim Describes Last Week Of Her Daughter’s Life',\n",
              " 'Hugh Hefner Sold Women The Worst Kind Of Lie',\n",
              " 'Why Young Irish Women Are Marching For Choice',\n",
              " 'The Hyde Amendment Continues To Punish Our Country’s Most Vulnerable Women',\n",
              " \"The Contradictory Feminist Legacy Of Playboy's Hugh Hefner\",\n",
              " 'This Girl Meeting Hillary Clinton In A Pantsuit Will Melt Your Heart',\n",
              " '1 in 2 Abortions Worldwide Are Unsafe',\n",
              " 'How Deceptive Crisis Pregnancy Centers Undermine Reproductive Rights In West Virginia',\n",
              " \"Saudi Women May Soon Be Behind The Wheel, But Still Not In The Driver's Seat\",\n",
              " 'An Open Letter To Brown Parents: Please Stop Pressuring Us To Become Doctors',\n",
              " 'To Infinity And Beyond: Women Leaders In Science Open Universe Of Possibilities',\n",
              " 'Chimamanda Ngozi Adichie Made Trevor Noah Realize He Was A Feminist',\n",
              " 'Why We Shouldn’t Ignore The Misogyny In Trump’s NFL Comments',\n",
              " \"18 #MenForChoice On Why They're Standing Up For A Woman's Right To Choose\",\n",
              " \"Lucy Hale Perfectly Shut Down A Troll Who Called Her 'Anorexic'\",\n",
              " 'Debra Messing Asked That Grace Be A Feminist In The ‘Will & Grace’ Revival',\n",
              " \"People Are Loving This New Word To Rival The 'Mansplaining' Phenomenon\",\n",
              " \"'What Happened' And Moving On From The 2016 Election\",\n",
              " 'Say My Name, Say My Name (Or At Least Try)',\n",
              " 'Pro-Abortion Video: “What Do These Objects Have in Common?”',\n",
              " 'Betsy DeVos Rescinds Key Obama-Era Policy On Campus Sexual Assault',\n",
              " 'The 20 Funniest Tweets From Women This Week',\n",
              " 'This Is A Love Letter To The Sisterhood',\n",
              " 'Her Loss, Our Loss',\n",
              " 'Joseph Gordon-Levitt Inspired Justin Trudeau To Call Himself A Feminist',\n",
              " 'Preventing Sexual Violence Starts With What We Teach Our Boys',\n",
              " 'When The Person Shaming You For Your Abortion Is A Child',\n",
              " \"Hillary Clinton Calls Out Putin's Manspreading With Perfect Demonstration\",\n",
              " 'How I Finally Freed Myself From The D-Word (Dieting)',\n",
              " 'Is It OK To Cry At Work?',\n",
              " \"Andy Murray: Women In Tennis Make The 'Same Sacrifices' As Men\",\n",
              " 'This Cop Had The Audacity To Have A Baby. So Her Bosses Got Rid Of Her.',\n",
              " '29 Senators Sign Letter Urging DeVos To Maintain Title IX Guidelines',\n",
              " \"Fox Sports Host Desperate For Controversy Goes On CNN, Praises 'Boobs'\",\n",
              " 'The 20 Funniest Tweets From Women This Week',\n",
              " 'Brock Turner’s Mugshot Is Featured In A Criminal Justice Textbook',\n",
              " \"Kirsten Gillibrand Thinks Betsy DeVos Is Making An 'Enormous Mistake'\",\n",
              " 'Nasty Women Get Sh*t Done',\n",
              " 'OkCupid Partners With Planned Parenthood To Help Supporters Match With One Another',\n",
              " \"Read Amber Tamblyn's Searing Open Letter To James Woods\",\n",
              " \"Hillary Clinton's Supporters Don't Want Her To Shut Up\",\n",
              " \"An Open Letter To Home Depot On 'She Sheds'\",\n",
              " 'Planned Parenthood Kansas City Gets Its Abortion License Back',\n",
              " 'Gloria Steinem Just Went To Her First Fashion Week Show',\n",
              " 'This Is The Scary Part',\n",
              " 'The 20 Funniest Tweets From Women This Week',\n",
              " 'DeVos Confirms She Will Roll Back Obama-Era Title IX Guidelines',\n",
              " 'Joe Biden Has Strong Words For Betsy DeVos After Her Title IX Announcement',\n",
              " 'Texas Provider Will Offer Free Abortions For Women Affected By Harvey',\n",
              " 'Time Unveiled 12 Stunning Covers Celebrating Game-Changing Women',\n",
              " 'No Longer Burdened As The Keeper Of Things',\n",
              " \"'The Bold Type' Creator On Tackling Sexual Assault In The Show's Hopeful Finale\",\n",
              " 'This Twitter Thread Satirizing How Men Talk About Women Is Too Good',\n",
              " \"No, I'm Not Good, But I'm Okay\",\n",
              " 'Federal Judge Temporarily Blocks Texas Law Banning D&E Abortions',\n",
              " 'The 20 Funniest Tweets From Women This Week',\n",
              " 'One Of The Last Clinics To Offer Late Abortions Just Quietly Shut Down',\n",
              " \"I'm A Nightmare Ex-Girlfriend — And I'm Cool With That\",\n",
              " 'Sexual Assault Report Drops From White House Site, Remains On Obama Archive (UPDATE)',\n",
              " \"Laura Dern On The Low-Key Feminist Moment From 'Jurassic Park' You Might've Missed\",\n",
              " 'Trump Confuses Two Female Finnish Journalists During Press Conference',\n",
              " 'Women Continue To Resist And To Insist On Equality For All',\n",
              " \"10 Quotes To Inspire You This Women's Equality Day\",\n",
              " 'Why I’ll Never Understand Why You Didn’t Want Me',\n",
              " 'Orchestra Shuts Down After Telling Singers They Should Be ‘Fit & Slim’ To Perform',\n",
              " 'Losing Weight Is Not Anti-Feminist',\n",
              " 'Brie Larson Addresses Sexual Harassment Allegations At Cinefamily',\n",
              " 'Women On Boards: A Call To Action With Bloomberg’s Peter T. Grauer',\n",
              " 'The ‘Taxpaying American’ Mocked By Mnuchin’s Wife Wrote A Powerful Response',\n",
              " 'Crossfit Athlete Calls BS On Instagram Before-And-After Pics',\n",
              " 'Ending The Gender War For Women In STEM',\n",
              " \"Halsey On Why Posing In Playboy Doesn't Diminish Her Feminism\",\n",
              " 'Women Tweet Cheeky Selfies In Solidarity With Politician Called ‘Lipstick On A Pig’',\n",
              " \"‘Johns' Chair Boards More Than Women\",\n",
              " 'What Role Can Gender Diversity On Boards Play In Company Sustainability?',\n",
              " 'Bravo Reality Star Jax Taylor Calls Women Whores For Doing Exactly What He Does',\n",
              " 'Aly Raisman Calls Out USA Gymnastics For Poorly Handling Larry Nassar Accusations',\n",
              " 'Singer Stops Festival Show To Call Out Sexual Assault In The Crowd',\n",
              " 'Why I’m Vowing To Do More After Charlottesville',\n",
              " 'It Is Attackers, Not Victims Of Rape, Who Should Be Shamed',\n",
              " \"Why We Can't Just Eat Cake\",\n",
              " '5 Reasons To Date A Girl Who Travels',\n",
              " 'Warrior Women Are The Role Models We Need',\n",
              " 'The 20 Funniest Tweets From Women This Week',\n",
              " 'All Proceeds Of This Adorable Uterus Emoji App Will Go To Planned Parenthood',\n",
              " \"Fat Women Don't Get To Be Androgynous\",\n",
              " 'Arkansas Can Block Planned Parenthood Funding, Court Rules',\n",
              " 'Trust The Timing Of Your Life',\n",
              " 'Dear Men: This Is What It’s Like To Be A Girl',\n",
              " \"Malala Confirms She's Going To Oxford This Fall\",\n",
              " \"'Bachelor In Paradise' Tried To Address Racism And Consent With Mixed Results\",\n",
              " \"Paris Hilton: Women Accused Trump Of Sexual Assault For 'Attention And Fame'\",\n",
              " 'After Court Win, Taylor Swift Will Donate Money To Organizations To Help Survivors',\n",
              " 'Asian Teams Participate In FIRST Global Robotics Challenge',\n",
              " 'How To Help Charlottesville Right Now',\n",
              " \"A Poem I Wrote After My Parents Told Me I'm On The Autism Spectrum\",\n",
              " \"Taking Stock Of The 'Resistance': Where Are The Men?\",\n",
              " \"The Next Big Mobilization From Women's March Will Be In October\",\n",
              " \"It Wasn't Just White Men Who Participated In The 'Unite The Right' Rally\",\n",
              " \"Groping Is Sexual Violence, And It's Not Okay!\",\n",
              " 'This Incarcerated Mother Is Fighting For Her Right To Breastfeed',\n",
              " 'I Am The Problem',\n",
              " \"Taylor Swift's Sexual Assault Testimony Was A Lesson In Communication\",\n",
              " 'Sexual Assault Survivors React To Steubenville Rapist Joining Their College’s Football Team',\n",
              " 'The 20 Funniest Tweets From Women This Week',\n",
              " \"The Creepy 'Big Data' Crisis Pregnancy Center Group that Must Be Stopped\",\n",
              " 'Actually, I Was Biologically Designed To Be An Engineer',\n",
              " '10 Signs You’re Not Lazy, You’re ‘Selectively Motivated’ – And That’s A Good Thing',\n",
              " 'Is Silicon Valley Sexist? YES',\n",
              " 'Texas Is About To Ban Insurance Plans From Covering Abortion',\n",
              " 'Follow The Leader: Colorado Is A Pioneer In Bipartisan Pro-Choice Policies',\n",
              " 'Don\\'t Call Me \"Firecracker\"',\n",
              " 'The Future Of The World Is At Stake',\n",
              " \"Diverse Hiring Practices Don't Lower The Bar For Employees, They Weed Out The Mediocre\",\n",
              " 'Women Who Chase The Sun',\n",
              " 'Finding The Courage To Pursue Your True Happiness',\n",
              " 'Why I Will Always Be The Friend That You Deserve',\n",
              " \"How Ivanka Trump Can Truly 'Empower Women Who Work'\",\n",
              " \"California Gov. Says Abortion Rights Shouldn't Be A 'Litmus Test' For Democrats\",\n",
              " 'Here’s What I Learned Watching Usain Bolt Run His Final Individual Race',\n",
              " 'Stretchmarks Are The New Sexy: Why Your Postpartum Body Is Worth Celebrating',\n",
              " 'Breast-Feeding And Weight Loss',\n",
              " 'Meet The Planned Parenthood Organizers Who Lobbied Murkowski And Collins',\n",
              " 'The 20 Funniest Tweets From Women This Week',\n",
              " 'Once-Homeless Hairstylist Helps Girls In Need In The Most Beautiful Way',\n",
              " \"The Democrats' Changing Position On Abortion Is Full Of Pungent Irony\",\n",
              " 'What Happened When I Moved to New York City Without A Plan',\n",
              " 'Democrats Abandon Women By Saying They Will Fund Anti-Abortion Candidates',\n",
              " 'Throughout The U.S., Rape Victims Are Still Being Neglected And Silenced',\n",
              " 'We Need To Talk About Cold Women',\n",
              " \"Alabama Minors Seeking Abortions No Longer Have To Face Their Fetuses' Lawyers In Court\",\n",
              " 'NARAL President: Democrats Have To Stop Supporting Anti-Choice Candidates',\n",
              " \"States With The Most Abortion Laws Are The Worst At Actually Protecting Women's Health\",\n",
              " 'Democratic Party Leaders Will Continue To Welcome Anti-Choice Candidates',\n",
              " \"Bipartisan Understanding Of Women's Health Care\",\n",
              " 'Why Walking Down The Beach In My Bathing Suit Was Such A Big Deal',\n",
              " 'NRA Spokesperson Compared Penalizing Gun Owners To ‘Shaming A Rape Survivor’',\n",
              " 'How Women Can Help Each Other By Sharing',\n",
              " 'An Open Letter To My Neck Wrinkles',\n",
              " 'Watch Trump Silence A Reporter For Doing Her Job',\n",
              " 'Could This Ever Just Be Enough?',\n",
              " 'Why This Cancer Survivor Feels ‘More Like A Woman’ Without Breasts',\n",
              " \"To My Grandmother After My Father's Death\",\n",
              " \"'Game Of Thrones' Featured A Consensual, Intimate Sex Scene\",\n",
              " 'The Uncertainty And Silence Of Possible Infertility',\n",
              " \"BBC's Female Stars Demand Network Close The Gender Pay Gap\",\n",
              " 'What Happened When I Came Face-To-Face With My Own Privilege',\n",
              " \"Don't Shame Me For Wanting To Get Married Young\",\n",
              " 'The Reality Of Doing Cosplay As A Woman',\n",
              " 'I Refuse To Be Ashamed Of My Body',\n",
              " \"Judge Says Protestors Can't Block Door To Kentucky's Last Abortion Clinic\",\n",
              " 'After 55 Years, Navy Gets Its First Woman SEAL Applicant',\n",
              " 'The 20 Funniest Tweets From Women This Week',\n",
              " 'Of Course The GOP Women Who Opposed ACA Repeal Are Facing A Sexist Backlash',\n",
              " \"Another Reason Why It's Great The BBC Revealed Anchors' Salaries\",\n",
              " 'Behind The Campaign To Achieve Gender Parity In Politics By 2030',\n",
              " 'Washington Will Now Alert Survivors When Domestic Abusers Try To Buy A Gun',\n",
              " \"3 Republican Women Effectively Killed McConnell's Latest Repeal Plan\",\n",
              " \"Emily Ratajkowski: If A Woman Dresses Sexy It Doesn't Mean She's Not A Feminist\",\n",
              " 'Why Being Called ‘A Wanderer’ Is A Total Compliment',\n",
              " 'Why The Respect I Receive Shouldn’t Be Defined By My Gender',\n",
              " 'Everyone Around Me Is Talking Baby Bottles And Wipes, And I’m Over Here Asking For More Wine',\n",
              " 'What Female Leaders Can Learn From The Game Of Thrones!',\n",
              " 'Twitter Points Out How Dumb It Is To Be Mad About A Female Doctor Who',\n",
              " 'Why I Called The Police On My Street Harassers',\n",
              " \"Dear Angry Male 'Doctor Who' Fans -- Calm Down\",\n",
              " 'Donald Trump Could Learn A Lot From Reebok’s Viral Tweet',\n",
              " \"These 3 Women Are Fed Up With Sexual Harassment. And They're Taking Action.\",\n",
              " \"Maryam Mirzakhani, First Woman To Win Math's Highest Honor, Dead At 40\",\n",
              " \"Kesha's Best Revenge With 'Praying' And 'Woman' Is Her Healing\",\n",
              " 'The Women’s March Continues—Next Stop, The NRA',\n",
              " 'Imagine A World Where The NRA Used Positive Messaging And Preached Responsibility',\n",
              " 'The 20 Funniest Tweets From Women This Week',\n",
              " 'I Am Proud To Be A Pakistani Indian',\n",
              " 'The Myth Of The 10-Year Plan',\n",
              " \"Montana Just Updated Rape Laws To Include Cases When Victims Don't Fight Back\",\n",
              " 'The Performance Of A Loving Alliance Between Trump And Modi Terrifies Me',\n",
              " 'Why Women Need To Focus On What Really Matters',\n",
              " 'Scotland To Give Low-Income Women Free Menstrual Products In New Pilot Initiative',\n",
              " \"How Anti-Abortion Laws Negatively Affect Women's Health At Large\",\n",
              " 'Let’s Work Together To Stop the Cycle Of Shaming',\n",
              " 'Why I’m Not Flaunting My Curves This Summer',\n",
              " 'Lessons From Losing A Friend',\n",
              " 'Malala Celebrates High School Graduation, Joins Twitter',\n",
              " \"Having An NBA Star Dad Didn't Shield Me From Trauma\",\n",
              " 'An Open Letter To Blac Chyna And The Girls Who Have Been Called Hoes',\n",
              " \"This CEO Hopes Her Story Can Change Silicon Valley's Culture Of Sexual Harassment\",\n",
              " \"From 'Handmaid's' To Hillary: How Women Are Empowered (Or Controlled) Via Fashion\",\n",
              " \"The Insecure Masculinity Behind Rob Kardashian's 'Revenge' Posts\",\n",
              " 'Scotland And Wales Will Now Allow Northern Irish Women To Access Free Abortions',\n",
              " \"A Childless Woman's Response To 'You're Missing Out'\",\n",
              " 'Model Gloriously Slams Man Who Tried To Fat-Shame Her On Airplane',\n",
              " \"Maxine Waters Calls For Trump's 'Exile' Over His Brzezinski Tweets\",\n",
              " 'Bikini Body',\n",
              " 'As A Childfree Woman, Every Day Is Independence Day',\n",
              " 'From Hidden Figures to Wonder Woman, Invisible Stories Become Visible',\n",
              " 'Calling Intersectional and Older White Feminists: Can We Talk? Or Not?',\n",
              " \"Twitter Sufficiently Drags Trump For Commenting On Irish Reporter's Smile\",\n",
              " \"Handmaids Protested The GOP's Health Care Bill Outside The Capitol\",\n",
              " \"Sen. Kamala Harris' Guide To Protesting The Health Care Bill\",\n",
              " 'Why Did Contraception Stop Being Common Ground In The Abortion Wars?',\n",
              " 'Valerie Huber’s Dangerous Lesson Plan',\n",
              " \"Women Aren't Going To Just Let Bill Cosby Hold 'Town Halls' On Sexual Assault\",\n",
              " '5 Ways The Senate Health Care Bill Is Cruel To Women',\n",
              " 'New Ken, Same Old Barbie World',\n",
              " \"Cosby Juror Believes Constand’s 'Bare Midriff' Meant She Was Asking For It\",\n",
              " 'Why I’m Struggling To Accept My Body Hair',\n",
              " '#WeDoBelongHere: Why I’m Still Proud To Be American, Despite Stereotypes',\n",
              " 'Co-Maternity And Reciprocal IVF: Empowering lesbian parents with options',\n",
              " 'The Cosby Hung Jury Captures Our Cultural Ambivalence About Sexual Assault',\n",
              " 'My Biological Clock Is Defective',\n",
              " \"To Domestic Violence Survivors, The Alexandria Shooter's History Is All Too Familiar\",\n",
              " 'Thousands Mourn Nabra Hassanen At Funeral Prayer Service In Virginia',\n",
              " 'All Your Questions About At-Home Pregnancy Tests, Answered',\n",
              " 'The Path To Power Led By Women',\n",
              " 'Missouri Lawmakers Consider Blocking Local Protections For Pregnant Women',\n",
              " \"My Niece Has Cancer And I'm Ticked About It\",\n",
              " 'The 3 Things Senator Elizabeth Warren Wants Women To Do To Save Our Middle Class',\n",
              " 'Wonder Woman Inspires Crazy Sword-In-The-Dress Memes',\n",
              " 'Deadlocked: Being Female In America',\n",
              " \"Bill Cosby Isn't The Exception, He's The Rule\",\n",
              " 'What I Understood About A Father-Daughter Relationship Only After My Father Passed Away',\n",
              " 'The 20 Funniest Tweets From Women This Week',\n",
              " \"I've Broken This Mortifying Office Taboo — And I Bet I'm Not Alone\",\n",
              " 'Nevertheless, Persistence Pays Off',\n",
              " 'The Continued Effort To Silence Kamala Harris Speaks Volumes',\n",
              " 'I Hereby Quit Your Religion',\n",
              " '5 Steps To Combat Gender Disparity In The Workplace',\n",
              " 'In The Age Of Trump And Cosby, Consent Culture Is Vital',\n",
              " \"Uzo Aduba Plans To Use Her Voice 'As Often And As Loudly As Possible' To Protest\",\n",
              " '7 Ways To Become Your Own #WonderWoman',\n",
              " \"I Care For Everyone, But I'm Nobody's Caretaker\",\n",
              " 'Protecting Birth Control Access In Colorado In The Age Of Trump',\n",
              " 'Maryland Beach Town Passes Emergency Law To Protect Families From Topless Sunbathers',\n",
              " \"One More (Feminist) Wonder About 'Wonder Woman': It Passes The Abuse Litmus Test\",\n",
              " 'Women Need To Pack A Gun To Avoid Rape, Says GOP Indiana Lawmaker',\n",
              " 'I Believe You.',\n",
              " \"Nice Shouldn't Be Confused With Weak\",\n",
              " 'Ghosts Of My Exes Haunt My Online Dating Screen',\n",
              " 'Sometimes You Just Have To Call Bullsh*t On Yourself',\n",
              " 'Women Can Go Topless At This Maryland Beach... For Now',\n",
              " 'This Cheeky 1913 Letter From A Suffragist Is Giving Us Life',\n",
              " 'Handmaid’s Tale, Episodes 8 & 9: Rebranding Rape',\n",
              " 'Why More Immigrant Women Must Run For Office',\n",
              " 'Elizabeth Warren Might Get Her Very Own Action Figure',\n",
              " 'Sexual Assault And Undocumented Women In Trumpland',\n",
              " 'To Those Who Think They Can Derail My Dreams',\n",
              " 'Running Saved Me From Postpartum Depression',\n",
              " 'Demanding Respect For Women In Coed Sports',\n",
              " 'This Woman Had A Brilliant Solution To Her Ex Being In Her Old Photos',\n",
              " 'Hillary Clinton To Next Female Presidential Candidate: Prepare to Be ‘Brutalized’',\n",
              " \"Joss Whedon Responds To 'Wonder Woman' Backlash With Adorable Tweet\",\n",
              " \"The Handmaid's Homebirth\",\n",
              " 'Feminism Is Cool!',\n",
              " \"Ariel Winter: 'This Is The Body I Was Given. This Is Who I Am.'\",\n",
              " \"'The Bachelorette' Nonchalantly Praised Therapy And It Was Great\",\n",
              " 'Pantsuit Nation—Meet Rachel',\n",
              " 'A Feminist Defense Of Callista Gingrich',\n",
              " 'Feminist In The Kitchen',\n",
              " 'The One Thing Every Woman Needs To Know To Find Happiness',\n",
              " 'How Rape Culture And Racism Combine To Hurt Asian Women',\n",
              " 'Painful Chinese Foot-Binding Was More Than An Erotic Practice, Study Finds',\n",
              " \"Florida Just Became The Latest State To Abolish The 'Tampon Tax'\",\n",
              " 'This is Why I’m Not Sorry',\n",
              " \"I’m Not The Cooperative Target You'd Like Me To Be: And I'm Not Apologizing\",\n",
              " \"The Commencement Speech I Wish I'd Given...\",\n",
              " 'Can Wonder Woman Save Us From Donald Trump?',\n",
              " 'Periods Are More Than A Hassle',\n",
              " \"Toxic Masculinity And The Unsurprising 'Body-Slamming' Of A Reporter\",\n",
              " \"Grown Men Upset By Movie Theater Offering Women-Only Screening Of 'Wonder Woman'\",\n",
              " \"The KarJenner Effect on Trump's Constituency\",\n",
              " 'Texting With Your Twenties',\n",
              " 'Miss USA Reminds Young Women That They Have A Seat At The Table In STEM',\n",
              " \"Danielle Brooks To Her Teenage Self: Your Stretch Marks Are 'The Roadmap Of Your Strength'\",\n",
              " 'We Got Naked To Endorse Sex Positivity',\n",
              " \"Texas Just Won't Stop Trying To Force 'Fetal Burial' Rules On Women\",\n",
              " 'Women In Film Stronger Than Ever In Provincetown International Film Festival 2017',\n",
              " 'The Truth Behind The Push And Pull Of Love And Loneliness',\n",
              " \"Why We Need To Stop Shaming 'Resting Bitch Face'\",\n",
              " 'Revolutionary Advances In Abortion Access: Why Not In The U.S., Too?',\n",
              " 'An Open Letter To My Best Friend',\n",
              " '15 Themes On Feminism From Chimamanda Ngozi Adichie',\n",
              " \"Kesha Says 'Taking The Time To Work On Yourself Requires Bravery'\",\n",
              " 'Hillary Clinton Practiced Dodging Trump’s ‘Hugs’ Before The Debates',\n",
              " 'The 20 Funniest Tweets From Women This Week',\n",
              " \"Robin Wright: 'Feminism Is Just Equality'\",\n",
              " 'Macron Pulls A Trudeau And Fills Half His Cabinet With Women',\n",
              " \"The Truth About 'Identity Politics'\",\n",
              " 'How To Embrace College As A Feminist Experience',\n",
              " 'Miss USA Says She Actually Does Consider Herself A Feminist',\n",
              " \"The Future Depicted In 'The Handmaid's Tale' Is Already Here\",\n",
              " 'Government Scientist Crowned Miss USA In Pageant Trump Used To Own',\n",
              " 'Families Can Drive Gender Equality, But Only If We Help Them Evolve',\n",
              " \"Most Moms Work, But More Of Them Aren't Joining The Workforce\",\n",
              " \"An Open Letter To My Deceased Adoptive Mother (Fay) for Mother's Day\",\n",
              " 'The Woman Who Raised Me Was Unshockingly A Person First',\n",
              " \"50+ Women Can't Wear Bikinis? Not Anymore!\",\n",
              " 'Gender Equality: Facts Or Alternative Facts?',\n",
              " \"There's Nothing Dysfunctional About Single Motherhood\",\n",
              " 'Time Lapse: Your Relationship With Your Mother',\n",
              " 'Advice For The Broken-Hearted',\n",
              " '28 Things Anyone With A Feminist Mother Knows To Be True',\n",
              " 'The 20 Funniest Tweets From Women This Week',\n",
              " \"5 Things You're Doing 100 Percent Totally Exactly Right\",\n",
              " 'Mothers Don’t Need Greeting Cards And Chocolate—We Need Real Reform',\n",
              " 'Note: This content has been removed.',\n",
              " 'Note: This content has been removed.',\n",
              " \"Gloria Steinem Praises Protests Against Donald Trump As 'Fan-f**king-tastic'\",\n",
              " \"To The Momma Without A Baby This Mother's Day\",\n",
              " '6 Months Post Election, Women’s March Holds Sit-Ins To Reignite Activism',\n",
              " \"Learning About Love At Grandma's Table\",\n",
              " \"Beyoncé And Amal's Pregnancies Can Change The World In A Real Way\",\n",
              " 'OITNB Star Calls Out Sexist, Agist Casting Call In Perfect Twitter Rant',\n",
              " '5 Gifts You Need To Give Your Future Self (And Why They Matter)',\n",
              " '7 Feminist Groups On What Trumpcare Could Mean For Women',\n",
              " \"'Wonder Woman' Partnered With Think Thin In Tone-Deaf Branding Move\",\n",
              " 'We Must Be Our Own Mothers And Heal Our Wounds',\n",
              " \"Hillary Clinton: 'There Is Nothing Elitist About Fighting For Women's Rights'\",\n",
              " 'Woman Gives Birth To Her New (Book) Baby In Hilarious Photoshoot',\n",
              " '25 Tweets Show How Much Trumpcare Could Punish Women',\n",
              " 'NYC Takes A Major Step Toward Closing The Wage Gap',\n",
              " 'Trump Administration Hires Official Accused Of Sexually Assaulting Students',\n",
              " \"Check Out The Message Women Left For Trump Where He's Speaking In Manhattan\",\n",
              " 'Under The New Health Care Bill, Rape Could Be A Pre-Existing Condition',\n",
              " 'Ivanka Trump Actually Attributes Her Success To Hard Work',\n",
              " \"Barbra Streisand Says She Doesn't Have A Directing Oscar Because Of Sexism\",\n",
              " \"'Supergirl' Nods To Elizabeth Warren With A+ Season Finale Title\",\n",
              " 'Harmful Speaker Selected For Stanford Conference On Title IX And Sexual Violence',\n",
              " \"12-Year-Old 'Humiliated' By Chess Tournament Officials Over ‘Seductive’ Dress\",\n",
              " 'Finding The Volume Of My Voice As A Survivor',\n",
              " 'If We Treated Men Like We Do Women, Would They Cry More At Work?',\n",
              " \"Here's Why That Heineken Ad Is Even Worse Than The Pepsi Ad\",\n",
              " '3 Lessons Learned From A 31-Year-Old Intern',\n",
              " 'I Didn’t March, But It Doesn’t Mean I Don’t Care',\n",
              " \"Here's What Trump Has Done For Women In His First 100 Days\",\n",
              " 'Mothers Are Less Wealthy Than Women Without Children',\n",
              " \"Mother's Day: Italian Style\",\n",
              " 'Why Being Sexy Has Nothing To Do With Appearance',\n",
              " 'How Women Around The Country Raised Over $1 Million For Local Abortion Funds',\n",
              " \"Bill Cosby's Daughter Writes Letter In His Defense, Says He 'Respects Women'\",\n",
              " \"Lena Dunham On Body Image: 'I've Always Been Like Rihanna To Myself'\",\n",
              " \"'Resistance Is Female' Takes Over Phone Booths In New York\",\n",
              " 'Meet Colonel Wafa Sharqawi, Among The First Women To Become A Police Officer In Palestine',\n",
              " 'This Activist Nun Live-Tweeted The Arkansas Executions',\n",
              " \"Matt McGorry To Men Who Use Feminism To Get Laid: 'F**king Stop It'\",\n",
              " 'Why Sheryl Sandberg Decided To Speak Openly About Losing Her Husband',\n",
              " \"Supporting Your Right To Know What's In Your Tampons And Pads\",\n",
              " \"Abigail Breslin Had A Powerful Response To Commenter Who Said Only Reported Rapes 'Count'\",\n",
              " 'The Problem With Pussy Hats',\n",
              " 'What Does Your Husband Do? The Secret Identity Of The Expat Wife',\n",
              " 'Defense Lawyer Who Said Women Are \"Especially Good\" At Lying Is \"Especially Good\" At Being A Misogynist',\n",
              " \"'The Handmaid's Tale' Is Unequivocally A Story By, For And About Women\",\n",
              " 'Indiana University Will No Longer Accept Athletes With History Of Sexual Violence',\n",
              " \"Judge Who Praised Rapist Probably Isn't Going Anywhere, Utah Officials Say\",\n",
              " 'The 20 Funniest Tweets From Women This Week',\n",
              " 'How Many Women Does It Take To Change A Cable News Host?',\n",
              " 'Rachel Bloom Made A Hilarious Video About The Struggle Of Being A Ladyboss',\n",
              " \"Don't Fool Yourself, Men Are Still Overwhelmingly In Charge\",\n",
              " \"1 In 6 Teen Girls Say They've Experienced Harassment Since Election Day\",\n",
              " 'Joe Biden Reminds Men Just How Important They Are In The Fight Against Sexual Assault',\n",
              " 'Reminder To Progressives: Abortion Is An Economic Issue',\n",
              " 'Bill O’Reilly Meets Pope Francis The Same Day Fox Fires Him',\n",
              " 'D.C. Proposes Bill With Hope That More Sexual Assault Survivors Will Get Justice',\n",
              " \"Charlize Theron Shot Back At Idea That 'Girlboss' Cast Had 'Too Many Girls'\",\n",
              " '13 Things That Will Make You Panic When You Enter Your Late 20s',\n",
              " 'Stanford Backtracks After Prohibiting Use Of Trump Photo For Sexual Assault Conference',\n",
              " \"Sexual Assault Survivors Gather Outside Fox News To Demand Bill O'Reilly Be Fired\",\n",
              " \"Maryland Fails To Pass Bill That Would Take Away Rapists' Parental Rights\",\n",
              " \"Jessica Chastain Won't Take Roles Until She Knows What Male Stars Are Making\",\n",
              " 'Former Apple Engineer Describes Domestic Abuse In Chilling Courtroom Statement',\n",
              " \"Jenna Bush Hager's Praise Of Her Dad's 'Feminism' Speaks To A Common Misconception\",\n",
              " 'A Coach’s Role In Preventing Sexual Assault',\n",
              " 'Abortion: Stories Women Tell',\n",
              " 'Muslim Woman Runs Boston Marathon To Raise Money For Refugees',\n",
              " \"19 Women React To The Messy, Imperfect 'Girls' Finale\",\n",
              " 'Another GOPer Has Compared Planned Parenthood To Nazi Germany',\n",
              " 'Read The Empowering Letter Michelle Obama Sent Lilly Collins',\n",
              " \"On Growing Up With The 'Girls'\",\n",
              " \"A Look Back At 6 Seasons Of Perfect 'Girls' Quotes\",\n",
              " 'Yes, I Can Be A Zionist And A Feminist',\n",
              " 'Hear My Voice: No, Judge Low, Great Men Do Not Rape',\n",
              " 'The 20 Funniest Tweets From Women This Week',\n",
              " '93 Female Marines Write Letter Urging Service To Address Rampant Misogyny',\n",
              " \"Death Of Trailblazing Black Female Judge Is 'Suspicious,' NYPD Says\",\n",
              " 'The Greatest Team You Never Heard Of Got A Raise - And They Still Make Less Than The Men',\n",
              " 'What Happened To My Toddler?',\n",
              " 'How Sorority Women On Campus Can Support Survivors Of Sexual Assault',\n",
              " 'Would You Rather Be A Victim Or A Warrior?',\n",
              " 'Game Show Makes Men Guess Whether A Woman Is Pregnant Or Fat',\n",
              " 'Jian Ghomeshi Announces New Podcast, Gets Rightfully Dragged',\n",
              " 'Violent Misogyny Strikes Every Day, Just Read The News',\n",
              " 'Why I No Longer Dream of Having It All',\n",
              " 'Women Will Take Down Men Like Trump, O’Reilly And Ailes',\n",
              " 'Janelle Monáe Has Endorsed A Sex Strike',\n",
              " 'Thanks, But No Spanx...',\n",
              " 'How Yoga Instructors Can Support Sexual Assault Survivors',\n",
              " 'Fraternities Can Be A Force For Good In The Fight To End Campus Rape',\n",
              " 'Spotlight On AthenaHacks: Why Female Hackathons Are Important',\n",
              " 'Why I Stopped Feeling Pressured To Have Kids Now',\n",
              " \"I'm Not A Killjoy For Hating Dave Chappelle's Rape Jokes\",\n",
              " \"Woman Has Perfect Response To Husband's Sexist 'Sandwich Maker' Joke\",\n",
              " 'Texas House Just Approved $20 Million In Funding For Anti-Abortion Initiatives',\n",
              " 'Hillary Unleashes, While Ivanka Keeps Quiet',\n",
              " 'The 20 Funniest Tweets From Women This Week',\n",
              " 'Nicola Sturgeon: The Tendency To Reduce Women To Body Parts Is Not Innocent',\n",
              " \"Justin Trudeau: Promoting Women Is The 'Smartest Possible Thing To Do'\",\n",
              " 'The Evolution Of The Feminist Label, According To Two Iconic Activists',\n",
              " \"Queen Latifah On How She's Used Her Success To Lift Up Other Women\",\n",
              " \"Did You Join The Women's March? You Just Won An Awesome Award.\",\n",
              " 'Aly Raisman On Why We Need To Keep Talking About Sexual Violence',\n",
              " 'Andrew Lincoln Reveals What He Thinks Of His ‘Love Actually’ Character',\n",
              " \"How Joe Biden Sees 'Victory' In The Fight Against Sexual Assault\",\n",
              " 'A Seat At The Table',\n",
              " '5 Habits Professional Women Should Break',\n",
              " 'Cities Are Outlawing One Job Interview Question To Fight The Wage Gap',\n",
              " \"People Are Totally Buggin' Over This Time Capsule From 1998\",\n",
              " 'The Gender Wage Gap Exists: 5 Ways You Can Help',\n",
              " \"Equal Pay Won't Happen As Long As Employers Ask For Salary Histories\",\n",
              " 'Penis Subway Seat In Mexico City Is Meant To Teach Men About Sexual Assault',\n",
              " 'Georgia’s “Campus Rape Bill” Is Finally Dead For 2017, Students Are Now Asking For Something Better In 2018',\n",
              " \"Pregnant Syrian-American Woman Debuts Fire Rap Video 'Hijabi'\",\n",
              " 'To The Guy Who Took My Picture Without My Permission',\n",
              " \"China's First Androgynous 'Boy Band' Is Breaking Down Barriers\",\n",
              " 'Astronaut Peggy Whitson Just Smashed Another Space Record',\n",
              " 'Donald Trump Tweeted About Enlisting The Full Potential Of Women. It Fell Short.',\n",
              " \"Emma Watson Talked To Eve Ensler About The 'Profound Emergency In America'\",\n",
              " 'Over 90 Organizations Demand Trump Administration Enforce Title IX In Powerful Letter',\n",
              " \"Top UN & NGO Officials Adopt Zero Tolerance Stance On Abuses Against Female Staff. Here's What We Can Do Next.\",\n",
              " \"Samantha Bee Goes Full 'Schoolhouse Rock' With Video About Rape Kit Bill\",\n",
              " 'Female Smurf Character Edited Out Of Film Posters In Israeli City',\n",
              " 'Twitter Hilariously Reacts To Trump’s Bad Susan B. Anthony Joke',\n",
              " \"NBA Commissioner Says A Woman Will Be A Head Coach 'Sooner Rather Than Later'\",\n",
              " 'Team Trump Is On A Bizarre Mission To Convince You They Value Women',\n",
              " 'Daily Mail Hits Another Low With Sexist Front Page',\n",
              " 'Stop Talking About Abortion Access Without Considering Women Who Get Them',\n",
              " 'This 8-Year-Old Who Brought A Rice Krispie Treat On A Jog Is All Of Us',\n",
              " 'An Alarming Percentage Of Women At UT Austin Reported Being Raped',\n",
              " '#MuslimWomensDay Takes Off On Twitter Amid Celebration And Backlash',\n",
              " 'More Planned Parenthood Clinics Equals Fewer Teen Births, STDs',\n",
              " '‘Fearless Girl’ Statue Will Stare Down Wall Street Bull Until 2018',\n",
              " \"Step Aside, Uber — United Airlines' 'Leggings-Gate' Just Made You Look Good\",\n",
              " \"I Don't Care About Being Half Naked On The Internet\",\n",
              " 'The 20 Funniest Tweets From Women This Week',\n",
              " 'Gorsuch Deserves No Free Pass At The Expense Of Women',\n",
              " 'What Is It To Be A Woman? As A Black Woman, I Still Have No Answer',\n",
              " 'From Here To Uganda: Why U.S. Leadership On Reproductive Rights Matters',\n",
              " 'Hero Game Developer Starts Donation Campaign On Behalf Of Her Trolls',\n",
              " \"The Women We Forget When We Talk About 'Defunding' Planned Parenthood\",\n",
              " 'Thinx Co-Founder Denies Sexual Harassment Allegations',\n",
              " 'After 35 Years, Nevada Is Slated To Ratify The Equal Rights Amendment',\n",
              " 'National Rosie The Riveter Day Is Finally A Reality',\n",
              " 'Short Film Explores What It’s Like To Find Out You Have An STI',\n",
              " 'Stephen Hawking Teaches Piers Morgan A Valuable Lesson In Gender Equality',\n",
              " \"Jessica Chastain Shuts Down Bro Who Tried To Mansplain Women's Health\",\n",
              " \"Catchy 'Schoolhouse Rock' Parody Reminds Us That Plan B Is 'Just A Pill'\",\n",
              " \"Being Selfish And 9 Other Things You Shouldn't Apologize For During Sex\",\n",
              " 'Not My Feminism',\n",
              " 'How A Post-Planned Parenthood World Could Look For Women',\n",
              " 'Three Reasons You Need To Say ‘No’ More Often',\n",
              " 'Trump’s Budget Would Be Devastating To Poor Victims Of Domestic Abuse',\n",
              " \"Famous Women's Bodies Don't Belong To You\",\n",
              " 'Watch Kirsten Gillibrand Tear Into Marine General About Nude Photo Scandal',\n",
              " 'Watch This Woman School Tom Price On His Hypocrisy Around Planned Parenthood',\n",
              " \"Bow Wow And Why Fighting Trump With Sexism Ain't The Look\",\n",
              " \"UN Chief Warns That Women's Rights Are Under Attack Worldwide\",\n",
              " 'State Senator Compared Planned Parenthood To A Nazi Concentration Camp',\n",
              " 'Why Men Need To Help Pay For Prenatal Care: It Takes Two To Tango (And Make A Baby)',\n",
              " \"Internet Mistakes Professor’s Wife For Nanny. Here's What That Says About Us\",\n",
              " \"Men Of SNL Mansplained The 'Day Without A Woman' In Spot-On Skit\",\n",
              " 'An Indefensible Silence On Domestic Abuse In The Undocumented Community',\n",
              " 'Zionism, The Nakba And Feminism',\n",
              " '5 Infuriating Things Non-Adoptees Say To Adoptees',\n",
              " 'Standing Her Ground On Wall Street',\n",
              " \"Man In Suit Humping 'Fearless Girl' Statue Is Why We Need Feminism\",\n",
              " '#NotTheNanny: A Very Good Lesson In How Bias Works',\n",
              " 'The Story Of A North Korean Defector',\n",
              " 'Working On The Relationship:  Political Field Notes From Women And Feminisms Of The Past',\n",
              " 'Donald Trump Is Making Me Toned',\n",
              " \"What's Holding Arab Women Back From Achieving Equality?\",\n",
              " 'Judge Who Asked ‘Why Couldn’t You Keep Knees Together?’ Resigns',\n",
              " 'The 20 Funniest Tweets From Women This Week',\n",
              " 'If You Really Want To Limit Abortions, Protect Free Birth Control',\n",
              " 'Time to defund the diet industry?',\n",
              " \"Watch 'Day Without A Woman' Organizers Celebrate Their Release From Jail\",\n",
              " 'Former Beauty Queen Laura Hunter Sues Fake News Site For Stealing Her Identity',\n",
              " \"Here's What 'A Day Without A Woman' Strikers Had To Say To President Trump\",\n",
              " \"GOP Celebrated International Women's Day By Coming For Your Repro Rights\",\n",
              " \"Late Night TV Hosts Make Same Important Point To Mark International Women's Day\",\n",
              " 'My Husband Is Selfish, Forgetful And Brash. And That’s Exactly Why I Married Him.',\n",
              " '9 Things You Should Never Say To A Single Girl In Her 30s',\n",
              " \"These Media Outlets Are Striking On International Women's Day\",\n",
              " 'Kickass Google Doodle Celebrates 13 Game-Changing Women',\n",
              " \"IMDB Adopts British Film Festival's 'F-Rating' To Highlight Movies Made By Women\",\n",
              " \"J.K. Rowling Expertly Shuts Down The International Women's Day Trolls\",\n",
              " \"This Nora Ephron Speech Is For Women Who Think Feminism Doesn't Apply To Them\",\n",
              " 'Cecile Richards Makes The Case For Planned Parenthood Dressed In All Red',\n",
              " \"Pittsburgh Restaurant Gives Female Staff Paid Day Off For 'A Day Without A Woman'\",\n",
              " \"Women Keep Schools Running, But They're Not In Charge Of Running Them\",\n",
              " 'The BOSS Network Redefines Perspectives Of #WomenInTech Across The Globe',\n",
              " \"This App Wants To Help Women Track How Often They're 'Manterrupted'\",\n",
              " \"'Day Without A Woman' Rallies Happening From Alaska To Rhode Island\",\n",
              " 'This Is Why The Beyhive Is Mad At Emma Watson',\n",
              " \"Why Are Adult Men In Power Always Given The Chance To 'Grow Up’?\",\n",
              " \"10-Year-Old Explains To Principal Why She's Joining A 'Day Without A Woman'\",\n",
              " 'Here’s What It Would Cost The U.S. Economy If Every American Woman Went On Strike Tomorrow',\n",
              " \"I Didn't Lose My Self To Motherhood, And Neither Should You.\",\n",
              " \"26 Tweets Prove #WhatFeministsWear Is ‘Anything They F*cking Want'\",\n",
              " 'Women Leaders Of The Resistance Share 5 Different Ways To #StopTrump',\n",
              " \"Chrissy Teigen's Openness About Depression Empowered And Freed Us All\",\n",
              " '9 Things Every Type B Person Wishes You Knew',\n",
              " 'The Myth Of The Man-Hating Feminist',\n",
              " \"Tinder Issues Lifetime Ban After Man Calls His Match A 'Chink' And 'C**t'\",\n",
              " '13 Body Language Blunders That Make You Look Bad',\n",
              " '7 Reasons Why The Dating System Is Broken And How To Navigate The Shit-Show',\n",
              " \"Polish Politician: Women ‘Must Earn Less’ Because They Are ‘Weaker,’ ‘Less Intelligent'\",\n",
              " 'Kesha Urges Those Battling An Eating Disorder To Get Help In PSA',\n",
              " 'Women Of Twitter Celebrate Their Queerness With Empowering Hashtag',\n",
              " 'Ad Proves That Challenging Sexist Gender Roles Is No Longer Radical',\n",
              " \"ESPNW Video Reminds Women They're 'More Than A Body To Be Rated'\",\n",
              " \"The Brawny Man Is The Brawny Woman For Women's History Month\",\n",
              " \"I've Never Felt Worse Than In The Moment I Looked My 'Best'\",\n",
              " 'Tales Of A Former Girl Rapper',\n",
              " \"GOP Congressman Mocked Democratic Women's 'Bad-Looking White Pantsuits'\",\n",
              " 'The Huge Part Of Women’s History Trump Missed When He Praised Thomas Edison',\n",
              " 'Shame On President Trump For Exploiting A Widow',\n",
              " \"The Hollywood Reporter's Cover Story On CNN Doesn't Feature Any Women\",\n",
              " ...]"
            ]
          },
          "metadata": {
            "tags": []
          },
          "execution_count": 11
        }
      ]
    },
    {
      "cell_type": "code",
      "metadata": {
        "id": "uyp1KcJ43TWZ"
      },
      "source": [
        "#Merge Similar categories to reduce total number of categories\n",
        "#Note: After exploring some of the headlines for \"WOMEN\" category mapping th category to \"ACTIVISM\"\n",
        "cat_map_dict = {\"CRIME\":\"CRIME\",\n",
        "                \"ARTS\":\"ARTS\",\n",
        "                \"CULTURE & ARTS\":\"ARTS\",\n",
        "                \"ARTS & CULTURE\":\"ARTS\",\n",
        "                \"LATINO VOICES\":\"ACTIVISM\",\n",
        "                \"QUEER VOICES\":\"ACTIVISM\",\n",
        "                \"BLACK VOICES\":\"ACTIVISM\",\n",
        "                \"FOOD & DRINK\":\"FOOD & DRINK\",\n",
        "                \"TASTE\":\"FOOD & DRINK\",\n",
        "                \"STYLE & BEAUTY\":\"STYLE\",\n",
        "                \"STYLE\":\"STYLE\",\n",
        "                \"GREEN\":\"ENVIRONMENT\",\n",
        "                \"ENVIRONMENT\":\"ENVIRONMENT\",\n",
        "                \"COMEDY\":\"COMEDY\",\n",
        "                \"CRIME\":\"CRIME\",\n",
        "                \"FIFTY\":\"OTHER\",\n",
        "                \"SPORTS\":\"SPORTS\",\n",
        "                \"WEDDINGS\":\"WEDDINGS\",\n",
        "                \"MEDIA\":\"MEDIA\",\n",
        "                \"WORLDPOST\":\"WORLD NEWS\",\n",
        "                \"WORLD NEWS\":\"WORLD NEWS\",\n",
        "                \"THE WORLDPOST\":\"WORLD NEWS\",\n",
        "                \"SCIENCE\":\"SCIENCE & TECH\",\n",
        "                \"ENTERTAINMENT\":\"ENTERTAINMENT\",\n",
        "                \"IMPACT\":\"OTHER\",\n",
        "                \"WOMEN\":\"ACTIVISM\",\n",
        "                \"PARENTS\":\"PARENTS\",\n",
        "                \"PARENTING\":\"PARENTS\",\n",
        "                \"POLITICS\":\"POLITICS\",\n",
        "                \"RELIGION\":\"RELIGION\",\n",
        "                \"WEIRD NEWS\":\"OTHER\",\n",
        "                \"WELLNESS\":\"WELLNESS\",\n",
        "                \"HEALTHY LIVING\":\"WELLNESS\",\n",
        "                \"BUSINESS\":\"BUSINESS\",\n",
        "                \"DIVORCE\":\"DIVORCE\",\n",
        "                \"EDUCATION\":\"EDUCATION\",\n",
        "                \"COLLEGE\":\"EDUCATION\",\n",
        "                \"MONEY\":\"MONEY\",\n",
        "                \"HOME & LIVING\":\"HOME & LIVING\",\n",
        "                \"TECH\":\"SCIENCE & TECH\",\n",
        "                \"GOOD NEWS\":\"OTHER\",\n",
        "                \"TRAVEL\":\"TRAVEL\"}\n",
        "#print(len(cat_map_dict))\n",
        "all_data_df['new_category'] = all_data_df['category'].map(cat_map_dict)"
      ],
      "execution_count": null,
      "outputs": []
    },
    {
      "cell_type": "code",
      "metadata": {
        "colab": {
          "base_uri": "https://localhost:8080/",
          "height": 516
        },
        "id": "U1BEHV6MEa0l",
        "outputId": "d8c28661-19d2-4db7-c0dc-ae03bcbbed36"
      },
      "source": [
        "plt.figure(figsize=(10, 7))\n",
        "sns.countplot(x='new_category', data=all_data_df);\n",
        "plt.xticks(rotation=90)\n",
        "plt.show();"
      ],
      "execution_count": null,
      "outputs": [
        {
          "output_type": "display_data",
          "data": {
            "image/png": "[encoded data removed]",
            "text/plain": [
              "<Figure size 720x504 with 1 Axes>"
            ]
          },
          "metadata": {
            "tags": [],
            "needs_background": "light"
          }
        }
      ]
    },
    {
      "cell_type": "markdown",
      "metadata": {
        "id": "D5n1-RHBiFv1"
      },
      "source": [
        "#Preprocessing Headlines"
      ]
    },
    {
      "cell_type": "code",
      "metadata": {
        "id": "jHrFExH-oYdz"
      },
      "source": [
        "def clean_text(x):\n",
        "  #x = re.sub(r\"\\W\", \" \", x)\n",
        "  x = re.sub(r\"[0-9]\", \" \", x)\n",
        "  x = re.sub(r\"\\s{2,}\", \" \", x)\n",
        "  return x\n",
        "\n",
        "def clean_text2(x):\n",
        "  x = re.sub(r\"\\W\", \" \", x)\n",
        "  #x = re.sub(r\"[0-9]\", \" \", x)\n",
        "  x = re.sub(r\"\\s{2,}\", \" \", x)\n",
        "  x = re.sub(r\"pron\", \"\", x)\n",
        "  x = x.strip()\n",
        "  return x\n"
      ],
      "execution_count": null,
      "outputs": []
    },
    {
      "cell_type": "code",
      "metadata": {
        "colab": {
          "base_uri": "https://localhost:8080/"
        },
        "id": "_Cxmo5XaklTJ",
        "outputId": "bc4fa972-b119-4d34-94da-7caece5fa00e"
      },
      "source": [
        "print(clean_text(\"If you've ever     been to        Disneyland anywhere you...\"))"
      ],
      "execution_count": null,
      "outputs": [
        {
          "output_type": "stream",
          "text": [
            "If you've ever been to Disneyland anywhere you...\n"
          ],
          "name": "stdout"
        }
      ]
    },
    {
      "cell_type": "code",
      "metadata": {
        "id": "HfZ0aCFOiJnN"
      },
      "source": [
        "all_stop_words = stopwords.words('english')\n",
        "#all_stop_words.append(\"I\")"
      ],
      "execution_count": null,
      "outputs": []
    },
    {
      "cell_type": "code",
      "metadata": {
        "id": "pIb86UkU-q2V"
      },
      "source": [
        "#print(all_stop_words)"
      ],
      "execution_count": null,
      "outputs": []
    },
    {
      "cell_type": "code",
      "metadata": {
        "id": "AbgNSf1ZiK4W"
      },
      "source": [
        "#wnl = WordNetLemmatizer()\n",
        "#stm = PorterStemmer()\n",
        "#sn_stm = SnowballStemmer('english')"
      ],
      "execution_count": null,
      "outputs": []
    },
    {
      "cell_type": "code",
      "metadata": {
        "id": "wcOMD8Paigk3"
      },
      "source": [
        "data_cp = all_data_df[[\"new_category\", \"headline\", \"short_description\"]].copy(deep=True)"
      ],
      "execution_count": null,
      "outputs": []
    },
    {
      "cell_type": "code",
      "metadata": {
        "id": "X-YFL-sPDOfL"
      },
      "source": [
        "docs = list(nlp.pipe(data_cp['headline'].tolist()))\n",
        "docs2 = list(nlp.pipe(data_cp['short_description'].tolist()))"
      ],
      "execution_count": null,
      "outputs": []
    },
    {
      "cell_type": "code",
      "metadata": {
        "id": "NYA3c9YsFqs0"
      },
      "source": [
        "data_cp['headline'] = [\" \".join(i.lemma_ for i in j) for j in docs]\n",
        "data_cp['short_description'] = [\" \".join(i.lemma_ for i in j) for j in docs2]"
      ],
      "execution_count": null,
      "outputs": []
    },
    {
      "cell_type": "code",
      "metadata": {
        "colab": {
          "base_uri": "https://localhost:8080/"
        },
        "id": "511yCyluFvga",
        "outputId": "a5d809ee-1cf2-49ae-b4e1-22de76a76cad"
      },
      "source": [
        "data_cp['headline'].head(5)"
      ],
      "execution_count": null,
      "outputs": [
        {
          "output_type": "execute_result",
          "data": {
            "text/plain": [
              "0    There Were 2 Mass Shootings In Texas Last Week...\n",
              "1    Will Smith Joins Diplo And Nicky Jam For The 2...\n",
              "2      Hugh Grant Marries For The First Time At Age 57\n",
              "3    Jim Carrey Blasts ' Castrato ' Adam Schiff And...\n",
              "4    Julianna Margulies Uses Donald Trump Poop Bags...\n",
              "Name: headline, dtype: object"
            ]
          },
          "metadata": {
            "tags": []
          },
          "execution_count": 23
        }
      ]
    },
    {
      "cell_type": "code",
      "metadata": {
        "id": "oyOLOhQbiNq9"
      },
      "source": [
        "data_cp['headline'] = data_cp['headline'].apply(lambda x: clean_text(x))\n",
        "data_cp['headline'] = data_cp['headline'].apply(lambda x:\" \".join([i for i in x.lower().split() if i not in all_stop_words]))\n",
        "data_cp['headline'] = data_cp['headline'].apply(lambda x: clean_text2(x))\n",
        "\n",
        "data_cp['short_description'] = data_cp['short_description'].apply(lambda x: clean_text(x))\n",
        "data_cp['short_description'] = data_cp['short_description'].apply(lambda x:\" \".join([i for i in x.lower().split() if i not in all_stop_words]))\n",
        "data_cp['short_description'] = data_cp['short_description'].apply(lambda x: clean_text2(x))"
      ],
      "execution_count": null,
      "outputs": []
    },
    {
      "cell_type": "code",
      "metadata": {
        "colab": {
          "base_uri": "https://localhost:8080/"
        },
        "id": "yLVE87VHioK2",
        "outputId": "93b0260a-a317-485d-973a-ef7e109cfaa9"
      },
      "source": [
        "data_cp['headline'].tolist()[:50]"
      ],
      "execution_count": null,
      "outputs": [
        {
          "output_type": "execute_result",
          "data": {
            "text/plain": [
              "['mass shootings texas last week tv',\n",
              " 'smith joins diplo nicky jam world cup official song',\n",
              " 'hugh grant marries first time age',\n",
              " 'jim carrey blasts castrato adam schiff democrats new artwork',\n",
              " 'julianna margulies uses donald trump poop bags pick dog',\n",
              " 'morgan freeman devastated sexual harassment claims could undermine legacy',\n",
              " 'donald trump love new mcdonald jingle tonight show bit',\n",
              " 'watch amazon prime s new week',\n",
              " 'mike myers reveals  would like fourth austin powers film',\n",
              " 'watch hulu s new week',\n",
              " 'justin timberlake visits texas school shooting victims',\n",
              " 'south korean president meets north korea kim jong un talk trump summit',\n",
              " 'way life risk remote oyster growing region called robots',\n",
              " 'trump crackdown immigrant parents puts kids already strained system',\n",
              " 'trump son concerned fbi obtained wiretaps putin ally met trump jr',\n",
              " 'edward snowden one trump loves vladimir putin',\n",
              " 'booyah obama photographer hilariously trolls trump spy claim',\n",
              " 'ireland votes repeal abortion amendment landslide referendum',\n",
              " 'ryan zinke looks reel back critics grand pivot conservation',\n",
              " 'trump scottish golf resort pays women significantly less men report',\n",
              " 'weird father day gifts dad know wants',\n",
              " 'twitter putstarwarsinotherfilms universally entertaining',\n",
              " 'mystery wolf like animal reportedly shot montana baffles wildlife officials',\n",
              " 'north korea still open talks trump cancels summit',\n",
              " 'men detonate bomb inside indian restaurant near toronto authorities say',\n",
              " 'thousands travel home ireland vote abortion access',\n",
              " 'irish voters set liberalize abortion laws landslide exit poll signals',\n",
              " 'warriors coach steve kerr calls nfl ban protests fake patriotism',\n",
              " 'historic victory barbados elects first female prime minister',\n",
              " 'police killed least black american moment colin kaepernick protested',\n",
              " 'jack johnson pardoned taboo sex still criminalized',\n",
              " 'bet chairman ceo debra lee stepping',\n",
              " 'rachel dolezal faces felony charges welfare fraud',\n",
              " 'bishop michael curry joins christian march white house reclaim jesus',\n",
              " 'kanye west spent photo whitney houston bathroom album cover',\n",
              " 'morgan freeman dropped marketing campaigns harassment accusations',\n",
              " 'chinese exclusion act help us understand immigration politics today',\n",
              " 'trump new maga themed swimwear sinks twitter',\n",
              " 'seth meyers funny regret trump cancels north korea summit',\n",
              " 'colbert wants turn nyc subway rides new terrible punishment',\n",
              " 'man faces charges pulling knife stun gun muslim students mcdonald',\n",
              " 'jimmy kimmel knows iran supreme leader watches tom jerry',\n",
              " 'people injured indiana school shooting',\n",
              " 'people rattled much nigerian man looks like chadwick boseman',\n",
              " 'david cross proves yet  s terrible apologizing',\n",
              " 'sesame street creators sue makers upcoming adult themed puppet film',\n",
              " 'missed saddest death avengers infinity war',\n",
              " 'george takei accuser walks back story drugging sexual assault',\n",
              " 'samantha bee parents think america basically war zone',\n",
              " 'pete davidson says mental illness ruin romance']"
            ]
          },
          "metadata": {
            "tags": []
          },
          "execution_count": 25
        }
      ]
    },
    {
      "cell_type": "code",
      "metadata": {
        "colab": {
          "base_uri": "https://localhost:8080/"
        },
        "id": "GZMW11h_qyu8",
        "outputId": "0380f8af-4901-4958-c879-80bf30824a10"
      },
      "source": [
        "cat_lbl = LabelEncoder().fit_transform(data_cp['new_category'].tolist())\n",
        "cat_dummy = pd.get_dummies(cat_lbl)\n",
        "cat_dummy.shape"
      ],
      "execution_count": null,
      "outputs": [
        {
          "output_type": "execute_result",
          "data": {
            "text/plain": [
              "(200853, 24)"
            ]
          },
          "metadata": {
            "tags": []
          },
          "execution_count": 35
        }
      ]
    },
    {
      "cell_type": "code",
      "metadata": {
        "colab": {
          "base_uri": "https://localhost:8080/",
          "height": 163
        },
        "id": "_B8BWtTuctCf",
        "outputId": "7ae4ce78-b357-4961-a3b2-4cf55407c62c"
      },
      "source": [
        "cat_lbl[:5]"
      ],
      "execution_count": null,
      "outputs": [
        {
          "output_type": "error",
          "ename": "NameError",
          "evalue": "ignored",
          "traceback": [
            "\u001b[0;31m---------------------------------------------------------------------------\u001b[0m",
            "\u001b[0;31mNameError\u001b[0m                                 Traceback (most recent call last)",
            "\u001b[0;32m<ipython-input-34-d0a88376c47f>\u001b[0m in \u001b[0;36m<module>\u001b[0;34m()\u001b[0m\n\u001b[0;32m----> 1\u001b[0;31m \u001b[0mcat_lbl\u001b[0m\u001b[0;34m[\u001b[0m\u001b[0;34m:\u001b[0m\u001b[0;36m5\u001b[0m\u001b[0;34m]\u001b[0m\u001b[0;34m\u001b[0m\u001b[0;34m\u001b[0m\u001b[0m\n\u001b[0m",
            "\u001b[0;31mNameError\u001b[0m: name 'cat_lbl' is not defined"
          ]
        }
      ]
    },
    {
      "cell_type": "markdown",
      "metadata": {
        "id": "ncLMioavd5Nw"
      },
      "source": [
        "#Modelling\n",
        "\n",
        "Baseline with TFIDF and Logistic Regression"
      ]
    },
    {
      "cell_type": "code",
      "metadata": {
        "id": "kQ6SV8ped65w"
      },
      "source": [
        "tfidf = TfidfVectorizer(max_df=3000, min_df=200, ngram_range=(2, 3))"
      ],
      "execution_count": null,
      "outputs": []
    },
    {
      "cell_type": "code",
      "metadata": {
        "id": "LAEJ7gDhptI7",
        "colab": {
          "base_uri": "https://localhost:8080/"
        },
        "outputId": "fd5ac399-d74c-4292-af06-585d31b09d8f"
      },
      "source": [
        "text_feats = tfidf.fit_transform(data_cp['headline'])\n",
        "text_feats.shape"
      ],
      "execution_count": null,
      "outputs": [
        {
          "output_type": "execute_result",
          "data": {
            "text/plain": [
              "(200853, 64)"
            ]
          },
          "metadata": {
            "tags": []
          },
          "execution_count": 37
        }
      ]
    },
    {
      "cell_type": "code",
      "metadata": {
        "id": "2bDyDDTtq_fH"
      },
      "source": [
        "all_feats = text_feats#np.concatenate([text_feats.toarray(), branch_dummy], axis=1)"
      ],
      "execution_count": null,
      "outputs": []
    },
    {
      "cell_type": "code",
      "metadata": {
        "id": "0yqqXzYzp1Cy"
      },
      "source": [
        "#all_feats.shape, text_feats.shape"
      ],
      "execution_count": null,
      "outputs": []
    },
    {
      "cell_type": "code",
      "metadata": {
        "id": "1H6wyaOTp3vy"
      },
      "source": [
        "#target_rating = #data_cp['category'].to_numpy()"
      ],
      "execution_count": null,
      "outputs": []
    },
    {
      "cell_type": "code",
      "metadata": {
        "id": "ic7qQSgYqKwy"
      },
      "source": [
        "trainx, testx, trainy, testy = train_test_split(all_feats, cat_lbl, test_size=0.25, random_state=45)"
      ],
      "execution_count": null,
      "outputs": []
    },
    {
      "cell_type": "code",
      "metadata": {
        "id": "HvQk2hzRqi4S"
      },
      "source": [
        "lr = LogisticRegression()\n",
        "lr.fit(trainx, trainy)"
      ],
      "execution_count": null,
      "outputs": []
    },
    {
      "cell_type": "code",
      "metadata": {
        "colab": {
          "base_uri": "https://localhost:8080/"
        },
        "id": "hBw5YOSGqoAz",
        "outputId": "f5ee0b43-9932-4005-e639-842facd4aa75"
      },
      "source": [
        "lr.score(testx, testy)"
      ],
      "execution_count": null,
      "outputs": [
        {
          "output_type": "execute_result",
          "data": {
            "text/plain": [
              "0.1942287011590393"
            ]
          },
          "metadata": {
            "tags": []
          },
          "execution_count": 43
        }
      ]
    },
    {
      "cell_type": "code",
      "metadata": {
        "id": "Z8Z5S_xJqqlR"
      },
      "source": [
        ""
      ],
      "execution_count": null,
      "outputs": []
    },
    {
      "cell_type": "markdown",
      "metadata": {
        "id": "L34i5Rc8ksM4"
      },
      "source": [
        "#Deep Learning with RNNs"
      ]
    },
    {
      "cell_type": "markdown",
      "metadata": {
        "id": "PjwTgYZ3-PtN"
      },
      "source": [
        "##Sequential Model with Self-Attention"
      ]
    },
    {
      "cell_type": "code",
      "metadata": {
        "id": "wuAMMhmTdSpZ",
        "colab": {
          "base_uri": "https://localhost:8080/"
        },
        "outputId": "66e6ac57-43b9-49f2-960d-c59bd4cfbd0d"
      },
      "source": [
        "#Load pretrained GloVe embeddings\n",
        "dict_w2v = {}\n",
        "with open('glove.6B.50d.txt', \"r\") as file:\n",
        "    for line in file:\n",
        "        tokens = line.split()\n",
        "        word = tokens[0]\n",
        "        vector = np.array(tokens[1:], dtype=np.float32)\n",
        "        if vector.shape[0] == 50:\n",
        "            dict_w2v[word] = vector\n",
        "        else:\n",
        "            print(\"There was an issue with \" + word)\n",
        "# let's check the vocabulary size\n",
        "print(\"Dictionary Size: \", len(dict_w2v))"
      ],
      "execution_count": null,
      "outputs": [
        {
          "output_type": "stream",
          "text": [
            "Dictionary Size:  400000\n"
          ],
          "name": "stdout"
        }
      ]
    },
    {
      "cell_type": "code",
      "metadata": {
        "id": "dR2zfIepGKGS"
      },
      "source": [
        "#include_ratings =[1, 3]\n",
        "#data_sub = data_cp[(data_cp['Rating']==1)|(data_cp['Rating']==3)].copy()\n",
        "data_sub = data_cp.copy()"
      ],
      "execution_count": null,
      "outputs": []
    },
    {
      "cell_type": "code",
      "metadata": {
        "id": "jKHqFZNDHa_y"
      },
      "source": [
        "#data_sub['Rating'] = data_sub['Rating'].apply(lambda x: x-1)\n",
        "cat_lbl_enc1 = LabelEncoder()\n",
        "data_sub['cat_lbl'] = cat_lbl_enc1.fit_transform(data_sub['new_category'].tolist())"
      ],
      "execution_count": null,
      "outputs": []
    },
    {
      "cell_type": "code",
      "metadata": {
        "colab": {
          "base_uri": "https://localhost:8080/",
          "height": 204
        },
        "id": "4Ik56MSBK1UL",
        "outputId": "ea9a5193-f25b-4fe5-f13a-19cd06340454"
      },
      "source": [
        "data_sub.head()"
      ],
      "execution_count": null,
      "outputs": [
        {
          "output_type": "execute_result",
          "data": {
            "text/html": [
              "<div>\n",
              "<style scoped>\n",
              "    .dataframe tbody tr th:only-of-type {\n",
              "        vertical-align: middle;\n",
              "    }\n",
              "\n",
              "    .dataframe tbody tr th {\n",
              "        vertical-align: top;\n",
              "    }\n",
              "\n",
              "    .dataframe thead th {\n",
              "        text-align: right;\n",
              "    }\n",
              "</style>\n",
              "<table border=\"1\" class=\"dataframe\">\n",
              "  <thead>\n",
              "    <tr style=\"text-align: right;\">\n",
              "      <th></th>\n",
              "      <th>new_category</th>\n",
              "      <th>headline</th>\n",
              "      <th>short_description</th>\n",
              "      <th>cat_lbl</th>\n",
              "    </tr>\n",
              "  </thead>\n",
              "  <tbody>\n",
              "    <tr>\n",
              "      <th>0</th>\n",
              "      <td>CRIME</td>\n",
              "      <td>mass shootings texas last week tv</td>\n",
              "      <td>leave husband kill child another day america</td>\n",
              "      <td>4</td>\n",
              "    </tr>\n",
              "    <tr>\n",
              "      <th>1</th>\n",
              "      <td>ENTERTAINMENT</td>\n",
              "      <td>smith joins diplo nicky jam world cup official...</td>\n",
              "      <td>course song</td>\n",
              "      <td>7</td>\n",
              "    </tr>\n",
              "    <tr>\n",
              "      <th>2</th>\n",
              "      <td>ENTERTAINMENT</td>\n",
              "      <td>hugh grant marries first time age</td>\n",
              "      <td>actor longtime girlfriend anna eberstein tie k...</td>\n",
              "      <td>7</td>\n",
              "    </tr>\n",
              "    <tr>\n",
              "      <th>3</th>\n",
              "      <td>ENTERTAINMENT</td>\n",
              "      <td>jim carrey blasts castrato adam schiff democra...</td>\n",
              "      <td>actor give dems ass kick fight hard enough don...</td>\n",
              "      <td>7</td>\n",
              "    </tr>\n",
              "    <tr>\n",
              "      <th>4</th>\n",
              "      <td>ENTERTAINMENT</td>\n",
              "      <td>julianna margulies uses donald trump poop bags...</td>\n",
              "      <td>dietland actress say use bag really cathartic ...</td>\n",
              "      <td>7</td>\n",
              "    </tr>\n",
              "  </tbody>\n",
              "</table>\n",
              "</div>"
            ],
            "text/plain": [
              "    new_category  ... cat_lbl\n",
              "0          CRIME  ...       4\n",
              "1  ENTERTAINMENT  ...       7\n",
              "2  ENTERTAINMENT  ...       7\n",
              "3  ENTERTAINMENT  ...       7\n",
              "4  ENTERTAINMENT  ...       7\n",
              "\n",
              "[5 rows x 4 columns]"
            ]
          },
          "metadata": {
            "tags": []
          },
          "execution_count": 47
        }
      ]
    },
    {
      "cell_type": "code",
      "metadata": {
        "colab": {
          "base_uri": "https://localhost:8080/"
        },
        "id": "2C23a8vwGcoJ",
        "outputId": "b217801c-ea4c-4c39-a647-d52f29608b43"
      },
      "source": [
        "data_sub.shape"
      ],
      "execution_count": null,
      "outputs": [
        {
          "output_type": "execute_result",
          "data": {
            "text/plain": [
              "(200853, 4)"
            ]
          },
          "metadata": {
            "tags": []
          },
          "execution_count": 298
        }
      ]
    },
    {
      "cell_type": "code",
      "metadata": {
        "id": "9InBS5GlqB4o",
        "colab": {
          "base_uri": "https://localhost:8080/"
        },
        "outputId": "903057a5-996c-4c8e-ab6e-90d9bf05ef19"
      },
      "source": [
        "NUM_WORDS = 20000\n",
        "NUM_CLS = len(cat_lbl_enc1.classes_)\n",
        "print(cat_lbl_enc1.classes_)"
      ],
      "execution_count": null,
      "outputs": [
        {
          "output_type": "stream",
          "text": [
            "['ACTIVISM' 'ARTS' 'BUSINESS' 'COMEDY' 'CRIME' 'DIVORCE' 'EDUCATION'\n",
            " 'ENTERTAINMENT' 'ENVIRONMENT' 'FOOD & DRINK' 'HOME & LIVING' 'MEDIA'\n",
            " 'MONEY' 'OTHER' 'PARENTS' 'POLITICS' 'RELIGION' 'SCIENCE & TECH' 'SPORTS'\n",
            " 'STYLE' 'TRAVEL' 'WEDDINGS' 'WELLNESS' 'WORLD NEWS']\n"
          ],
          "name": "stdout"
        }
      ]
    },
    {
      "cell_type": "code",
      "metadata": {
        "id": "8vxZnuuyktIU"
      },
      "source": [
        "tokenizer = tf.keras.preprocessing.text.Tokenizer(oov_token=\"UNK\")"
      ],
      "execution_count": null,
      "outputs": []
    },
    {
      "cell_type": "code",
      "metadata": {
        "id": "7iUq36d3k8BO"
      },
      "source": [
        "all_text, all_labels = data_sub['headline'].tolist(), data_sub['cat_lbl'].tolist()"
      ],
      "execution_count": null,
      "outputs": []
    },
    {
      "cell_type": "code",
      "metadata": {
        "id": "-HwsWnMblMzS"
      },
      "source": [
        "tokenizer.fit_on_texts(all_text)"
      ],
      "execution_count": null,
      "outputs": []
    },
    {
      "cell_type": "code",
      "metadata": {
        "id": "l1JOQ3cepi1b",
        "colab": {
          "base_uri": "https://localhost:8080/"
        },
        "outputId": "471ae6da-6f9a-41f9-c98c-99027640402c"
      },
      "source": [
        "NUM_WORDS = len(tokenizer.word_index) + 1\n",
        "print(NUM_WORDS)"
      ],
      "execution_count": null,
      "outputs": [
        {
          "output_type": "stream",
          "text": [
            "54451\n"
          ],
          "name": "stdout"
        }
      ]
    },
    {
      "cell_type": "code",
      "metadata": {
        "id": "HFlMZRHko-QI"
      },
      "source": [
        "all_sequences = tokenizer.texts_to_sequences(all_text)\n",
        "all_padded_sequences = tf.keras.preprocessing.sequence.pad_sequences(all_sequences, maxlen=80)"
      ],
      "execution_count": null,
      "outputs": []
    },
    {
      "cell_type": "code",
      "metadata": {
        "id": "i4SednIVdZ9J"
      },
      "source": [
        "embedding_dim = 50\n",
        "embedding_matrix = np.zeros((NUM_WORDS, embedding_dim))"
      ],
      "execution_count": null,
      "outputs": []
    },
    {
      "cell_type": "code",
      "metadata": {
        "colab": {
          "base_uri": "https://localhost:8080/"
        },
        "id": "yWT1UwyCdgaI",
        "outputId": "a2476262-f27a-41f1-b992-1a796b595cee"
      },
      "source": [
        "unk_cnt = 0\n",
        "unk_set = set()\n",
        "for word in tokenizer.word_index.keys():\n",
        "    embedding_vector = dict_w2v.get(word)\n",
        "    if embedding_vector is not None:\n",
        "        tkn_id = tokenizer.word_index[word]\n",
        "        embedding_matrix[tkn_id] = embedding_vector\n",
        "    else:\n",
        "        unk_cnt += 1\n",
        "        unk_set.add(word)\n",
        "# Print how many weren't found\n",
        "print(\"Total unknown words: \", unk_cnt)"
      ],
      "execution_count": null,
      "outputs": [
        {
          "output_type": "stream",
          "text": [
            "Total unknown words:  6391\n"
          ],
          "name": "stdout"
        }
      ]
    },
    {
      "cell_type": "code",
      "metadata": {
        "id": "cJiAzwN6qqc3"
      },
      "source": [
        "train_x, val_x, train_y, val_y = train_test_split(all_padded_sequences, np.asarray(all_labels, dtype=np.int32), test_size=0.2, random_state=42)"
      ],
      "execution_count": null,
      "outputs": []
    },
    {
      "cell_type": "code",
      "metadata": {
        "colab": {
          "base_uri": "https://localhost:8080/"
        },
        "id": "INu9KCF5q0x9",
        "outputId": "a31f45c2-db78-468d-bbdf-47d108c018fe"
      },
      "source": [
        "train_x.shape, val_x.shape, val_y.shape, train_y.shape"
      ],
      "execution_count": null,
      "outputs": [
        {
          "output_type": "execute_result",
          "data": {
            "text/plain": [
              "((160682, 80), (40171, 80), (40171,), (160682,))"
            ]
          },
          "metadata": {
            "tags": []
          },
          "execution_count": 67
        }
      ]
    },
    {
      "cell_type": "code",
      "metadata": {
        "id": "K8vx-kgxEu04"
      },
      "source": [
        "train_x, train_y = train_x[:(train_x.shape[0]//32)*32, :], train_y[:(train_y.shape[0]//32)*32]\n",
        "val_x, val_y = val_x[:(val_x.shape[0]//32)*32, :], val_y[:(val_y.shape[0]//32)*32]"
      ],
      "execution_count": null,
      "outputs": []
    },
    {
      "cell_type": "code",
      "metadata": {
        "id": "hTAiv4MBCbWQ"
      },
      "source": [
        "class MergeHiddenStates(tf.keras.layers.Layer):\n",
        "  def __init__(self):\n",
        "    super(MergeHiddenStates, self).__init__()\n",
        "  \n",
        "  def call(self, inputs):\n",
        "    #print(inputs)\n",
        "    states = inputs#[0]\n",
        "    return tf.reduce_mean(states, axis=1)"
      ],
      "execution_count": null,
      "outputs": []
    },
    {
      "cell_type": "code",
      "metadata": {
        "id": "QeSgfk5JkbUj"
      },
      "source": [
        "class AttentionLayer(tf.keras.layers.Layer):\n",
        "  def __init__(self, enc_hidden_state_dim = None, dec_hidden_state_dim=None, attention_dim=1,attention_type=\"additive\"):\n",
        "    super(AttentionLayer, self).__init__()\n",
        "\n",
        "    self.attention_type = attention_type\n",
        "    \n",
        "    if self.attention_type==\"multiplicative\" and enc_hidden_state_dim and dec_hidden_state_dim:\n",
        "      assert enc_hidden_state_dim!=dec_hidden_state_dim\n",
        "      self.W = tf.keras.layers.Dense(enc_hidden_state_dim)\n",
        "    elif self.attention_type==\"additive\" and enc_hidden_state_dim and dec_hidden_state_dim:\n",
        "      self.W1 = tf.keras.layers.Dense(dec_hidden_state_dim)\n",
        "      self.W2 = tf.keras.layers.Dense(enc_hidden_state_dim)\n",
        "      self.V = tf.keras.layers.Dense(1)\n",
        "  \n",
        "  def call(self, enc_hidden_states, dec_hidden_state):\n",
        "    \n",
        "    ce = enc_hidden_states\n",
        "    cd = tf.expand_dims(dec_hidden_state, axis=1)\n",
        "    \n",
        "    if self.attention_type==\"additive\":\n",
        "      attention_weights = self.V(tf.nn.tanh(self.W1(cd) + self.W2(ce)))\n",
        "      attention_scores = tf.nn.softmax(attention_weights, axis=1)\n",
        "      context_vector = attention_scores * ce\n",
        "      #print(tf.shape(context_vector))\n",
        "      context_vector = tf.reduce_sum(context_vector, axis=1)\n",
        "      #encoder_context = tf.matmul(attention_scores, ce)\n",
        "    else:\n",
        "      attention_weights = tf.matmul(cd, ce, transpose_b=True)\n",
        "      attention_scores = tf.nn.softmax(attention_weights, axis=1)\n",
        "      context_vector = attention_scores * ce\n",
        "      context_vector = tf.reduce_sum(context_vector, axis=1)\n",
        "      #encoder_context = tf.matmul(attention_scores, ce)\n",
        "    \n",
        "    return attention_scores, context_vector\n",
        "      "
      ],
      "execution_count": null,
      "outputs": []
    },
    {
      "cell_type": "code",
      "metadata": {
        "id": "xDVNu0rkp4o0"
      },
      "source": [
        "def create_model(input_shape=(train_x.shape[1], ), vocabsize=NUM_WORDS, emb_dim=50, rnn_units=128, batch_size=32):\n",
        "  model = tf.keras.Sequential([\n",
        "                               tf.keras.layers.Embedding(\n",
        "                                   vocabsize,\n",
        "                                   emb_dim,\n",
        "                                   mask_zero=False,\n",
        "                                   batch_input_shape=(batch_size, input_shape[0]),\n",
        "                                   weights=[embedding_matrix], trainable=False\n",
        "                               ),\n",
        "                               tf.keras.layers.Bidirectional(tf.keras.layers.GRU(rnn_units, dropout=0.2, return_sequences=True)),\n",
        "                               MergeHiddenStates(),\n",
        "                               tf.keras.layers.Dropout(0.3),\n",
        "                               tf.keras.layers.Dense(128, activation='relu'),\n",
        "                               tf.keras.layers.Dropout(0.2),\n",
        "                               tf.keras.layers.Dense(NUM_CLS, activation='softmax')\n",
        "  ])\n",
        "  return model\n",
        "\n",
        "def create_model_v2(input_shape=(train_x.shape[1], ), vocabsize=NUM_WORDS, emb_dim=100, rnn_units=128, batch_size=32):\n",
        "  \n",
        "  inp = tf.keras.layers.Input(shape=input_shape, batch_size=batch_size, dtype=tf.int32)\n",
        "  emb_fixed = tf.keras.layers.Embedding(\n",
        "                                    vocabsize,\n",
        "                                    emb_dim,\n",
        "                                    mask_zero=False,\n",
        "                                    batch_input_shape=(batch_size, input_shape[0]),\n",
        "                                    weights=[embedding_matrix], trainable=False)\n",
        "  \n",
        "  emb_train = tf.keras.layers.Embedding(\n",
        "                                    vocabsize,\n",
        "                                    emb_dim,\n",
        "                                    mask_zero=False,\n",
        "                                    batch_input_shape=(batch_size, input_shape[0]),\n",
        "                                    weights=[embedding_matrix], trainable=True)\n",
        "  \n",
        "  rnn_unit = tf.keras.layers.Bidirectional(tf.keras.layers.GRU(rnn_units, dropout=0.2, return_sequences=True))\n",
        "  \n",
        "  x1 = emb_fixed(inp)\n",
        "  x2 = emb_train(inp)\n",
        "  x = tf.keras.layers.Concatenate()([x1, x2])\n",
        "  whole_sequence_output = rnn_unit(x)\n",
        "  x = MergeHiddenStates()(whole_sequence_output)\n",
        "  x = tf.keras.layers.Dropout(0.3)(x)\n",
        "  x = tf.keras.layers.Dense(128, activation='relu')(x)\n",
        "  x = tf.keras.layers.Dropout(0.2)(x)\n",
        "  preds = tf.keras.layers.Dense(NUM_CLS, activation='softmax')(x)\n",
        "  model = tf.keras.Model(inputs=inp, outputs=preds)\n",
        "  return model\n",
        "\n",
        "def create_model_v3(input_shape=(train_x.shape[1], ), vocabsize=NUM_WORDS, emb_dim=50, rnn_units=128, batch_size=32):\n",
        "  \n",
        "  inp = tf.keras.layers.Input(shape=input_shape, batch_size=batch_size, dtype=tf.int32)\n",
        "  emb_fixed = tf.keras.layers.Embedding(\n",
        "                                    vocabsize,\n",
        "                                    emb_dim,\n",
        "                                    mask_zero=False,\n",
        "                                    batch_input_shape=(batch_size, input_shape[0]),\n",
        "                                    weights=[embedding_matrix], trainable=True)\n",
        "  \n",
        "  # emb_train = tf.keras.layers.Embedding(\n",
        "  #                                   vocabsize,\n",
        "  #                                   emb_dim,\n",
        "  #                                   mask_zero=False,\n",
        "  #                                   batch_input_shape=(batch_size, input_shape[0]),\n",
        "  #                                   weights=[embedding_matrix], trainable=True)\n",
        "  \n",
        "  rnn_unit = tf.keras.layers.Bidirectional(tf.keras.layers.GRU(rnn_units, dropout=0.2, return_sequences=True, return_state=True))\n",
        "  \n",
        "  x1 = emb_fixed(inp)\n",
        "  #x2 = emb_train(inp)\n",
        "  x = x1 #tf.keras.layers.Concatenate()([x1, x2])\n",
        "  #whole_sequence_output, final_state = rnn_unit(x)\n",
        "  outs = rnn_unit(x)\n",
        "  #print(outs[0], outs[1])\n",
        "  #x = MergeHiddenStates()(whole_sequence_output)\n",
        "  _, context_vec = AttentionLayer(128, 128)(outs[0], outs[1])\n",
        "  x = tf.keras.layers.Dropout(0.3)(context_vec)\n",
        "  x = tf.keras.layers.Dense(128, activation='relu')(x)\n",
        "  x = tf.keras.layers.Dropout(0.2)(x)\n",
        "  preds = tf.keras.layers.Dense(NUM_CLS, activation='softmax')(x)\n",
        "  model = tf.keras.Model(inputs=inp, outputs=preds)\n",
        "  return model"
      ],
      "execution_count": null,
      "outputs": []
    },
    {
      "cell_type": "code",
      "metadata": {
        "colab": {
          "base_uri": "https://localhost:8080/"
        },
        "id": "Lduq6o13qbaC",
        "outputId": "1634f284-0f4e-4ff0-b10b-b6762922b04b"
      },
      "source": [
        "model = create_model_v3()\n",
        "print(model.summary())"
      ],
      "execution_count": null,
      "outputs": [
        {
          "output_type": "stream",
          "text": [
            "Model: \"model_1\"\n",
            "__________________________________________________________________________________________________\n",
            "Layer (type)                    Output Shape         Param #     Connected to                     \n",
            "==================================================================================================\n",
            "input_5 (InputLayer)            [(32, 80)]           0                                            \n",
            "__________________________________________________________________________________________________\n",
            "embedding_4 (Embedding)         (32, 80, 50)         2722550     input_5[0][0]                    \n",
            "__________________________________________________________________________________________________\n",
            "bidirectional_4 (Bidirectional) [(32, 80, 256), (32, 138240      embedding_4[0][0]                \n",
            "__________________________________________________________________________________________________\n",
            "attention_layer_3 (AttentionLay ((32, 80, 1), (32, 2 49537       bidirectional_4[0][0]            \n",
            "                                                                 bidirectional_4[0][1]            \n",
            "__________________________________________________________________________________________________\n",
            "dropout_3 (Dropout)             (32, 256)            0           attention_layer_3[0][1]          \n",
            "__________________________________________________________________________________________________\n",
            "dense_14 (Dense)                (32, 128)            32896       dropout_3[0][0]                  \n",
            "__________________________________________________________________________________________________\n",
            "dropout_4 (Dropout)             (32, 128)            0           dense_14[0][0]                   \n",
            "__________________________________________________________________________________________________\n",
            "dense_15 (Dense)                (32, 24)             3096        dropout_4[0][0]                  \n",
            "==================================================================================================\n",
            "Total params: 2,946,319\n",
            "Trainable params: 2,946,319\n",
            "Non-trainable params: 0\n",
            "__________________________________________________________________________________________________\n",
            "None\n"
          ],
          "name": "stdout"
        }
      ]
    },
    {
      "cell_type": "code",
      "metadata": {
        "id": "1LqytCMFqem3"
      },
      "source": [
        "loss_obj = tf.keras.losses.SparseCategoricalCrossentropy(from_logits=False)\n",
        "model.compile(loss=loss_obj, optimizer='adam', metrics=['accuracy'])"
      ],
      "execution_count": null,
      "outputs": []
    },
    {
      "cell_type": "code",
      "metadata": {
        "colab": {
          "base_uri": "https://localhost:8080/"
        },
        "id": "r7EcJhCuqmg9",
        "outputId": "1c03d949-4cdd-47a7-9485-16373a794552"
      },
      "source": [
        "history = model.fit(train_x, train_y, batch_size=32, epochs=10, validation_data=(val_x, val_y), shuffle=True)"
      ],
      "execution_count": null,
      "outputs": [
        {
          "output_type": "stream",
          "text": [
            "Epoch 1/10\n",
            "5021/5021 [==============================] - 197s 39ms/step - loss: 1.7220 - accuracy: 0.5095 - val_loss: 1.2075 - val_accuracy: 0.6450\n",
            "Epoch 2/10\n",
            "5021/5021 [==============================] - 194s 39ms/step - loss: 1.2006 - accuracy: 0.6501 - val_loss: 1.1359 - val_accuracy: 0.6656\n",
            "Epoch 3/10\n",
            "5021/5021 [==============================] - 194s 39ms/step - loss: 1.0563 - accuracy: 0.6870 - val_loss: 1.1028 - val_accuracy: 0.6748\n",
            "Epoch 4/10\n",
            "5021/5021 [==============================] - 193s 38ms/step - loss: 0.9576 - accuracy: 0.7148 - val_loss: 1.1156 - val_accuracy: 0.6753\n",
            "Epoch 5/10\n",
            "5021/5021 [==============================] - 193s 38ms/step - loss: 0.8757 - accuracy: 0.7375 - val_loss: 1.1237 - val_accuracy: 0.6743\n",
            "Epoch 6/10\n",
            "5021/5021 [==============================] - 193s 38ms/step - loss: 0.8030 - accuracy: 0.7576 - val_loss: 1.1482 - val_accuracy: 0.6730\n",
            "Epoch 7/10\n",
            "5021/5021 [==============================] - 192s 38ms/step - loss: 0.7520 - accuracy: 0.7719 - val_loss: 1.1671 - val_accuracy: 0.6732\n",
            "Epoch 8/10\n",
            "5021/5021 [==============================] - 193s 38ms/step - loss: 0.7110 - accuracy: 0.7812 - val_loss: 1.2258 - val_accuracy: 0.6696\n",
            "Epoch 9/10\n",
            "5021/5021 [==============================] - 193s 39ms/step - loss: 0.6622 - accuracy: 0.7944 - val_loss: 1.2250 - val_accuracy: 0.6689\n",
            "Epoch 10/10\n",
            "5021/5021 [==============================] - 193s 38ms/step - loss: 0.6345 - accuracy: 0.8030 - val_loss: 1.3583 - val_accuracy: 0.6661\n"
          ],
          "name": "stdout"
        }
      ]
    },
    {
      "cell_type": "code",
      "metadata": {
        "colab": {
          "base_uri": "https://localhost:8080/",
          "height": 541
        },
        "id": "Fvp8wp22xWaM",
        "outputId": "d5a8b04c-0cbd-4c32-ef83-90116c635640"
      },
      "source": [
        "train_acc, train_loss = history.history['accuracy'], history.history['loss']\n",
        "val_acc, val_loss = history.history['val_accuracy'], history.history['val_loss']\n",
        "plt.plot(range(1, len(train_loss)+1), train_loss, color=\"red\")\n",
        "plt.plot(range(1, len(train_loss)+1), val_loss, color=\"blue\")\n",
        "plt.xlabel(\"epochs\")\n",
        "plt.ylabel(\"loss\")\n",
        "plt.legend([\"Training\", \"Validation\"])\n",
        "plt.figure()\n",
        "plt.plot(range(1, len(train_loss)+1), train_acc, color=\"red\")\n",
        "plt.plot(range(1, len(train_loss)+1), val_acc, color=\"blue\")\n",
        "plt.xlabel(\"epochs\")\n",
        "plt.ylabel(\"accuracy\")\n",
        "plt.legend([\"Training\", \"Validation\"])\n",
        "plt.show()\n",
        "plt.show()"
      ],
      "execution_count": null,
      "outputs": [
        {
          "output_type": "display_data",
          "data": {
            "image/png": "[encoded data removed]",
            "text/plain": [
              "<Figure size 432x288 with 1 Axes>"
            ]
          },
          "metadata": {
            "tags": [],
            "needs_background": "light"
          }
        },
        {
          "output_type": "display_data",
          "data": {
            "image/png": "[encoded data removed]",
            "text/plain": [
              "<Figure size 432x288 with 1 Axes>"
            ]
          },
          "metadata": {
            "tags": [],
            "needs_background": "light"
          }
        }
      ]
    },
    {
      "cell_type": "code",
      "metadata": {
        "id": "_YrbLEIDrHwa"
      },
      "source": [
        "val_preds = np.argmax(model.predict(val_x, batch_size=32), axis=1)"
      ],
      "execution_count": null,
      "outputs": []
    },
    {
      "cell_type": "code",
      "metadata": {
        "colab": {
          "base_uri": "https://localhost:8080/"
        },
        "id": "38PAJlMeJe-U",
        "outputId": "7fcca73f-f2b3-4ec2-e5a5-33d0b3f6f135"
      },
      "source": [
        "val_preds.shape"
      ],
      "execution_count": null,
      "outputs": [
        {
          "output_type": "execute_result",
          "data": {
            "text/plain": [
              "(40160,)"
            ]
          },
          "metadata": {
            "tags": []
          },
          "execution_count": 93
        }
      ]
    },
    {
      "cell_type": "code",
      "metadata": {
        "colab": {
          "base_uri": "https://localhost:8080/"
        },
        "id": "K1NZh2v3JgvY",
        "outputId": "43272462-55e2-44f0-cf84-ec8a016d0b69"
      },
      "source": [
        "print(classification_report(val_y, val_preds, target_names=cat_lbl_enc1.classes_))"
      ],
      "execution_count": null,
      "outputs": [
        {
          "output_type": "stream",
          "text": [
            "                precision    recall  f1-score   support\n",
            "\n",
            "      ACTIVISM       0.62      0.53      0.57      3107\n",
            "          ARTS       0.54      0.46      0.50       803\n",
            "      BUSINESS       0.49      0.48      0.49      1121\n",
            "        COMEDY       0.57      0.48      0.52      1067\n",
            "         CRIME       0.47      0.66      0.55       650\n",
            "       DIVORCE       0.69      0.72      0.70       696\n",
            "     EDUCATION       0.48      0.49      0.48       431\n",
            " ENTERTAINMENT       0.66      0.69      0.68      3138\n",
            "   ENVIRONMENT       0.51      0.50      0.50       790\n",
            "  FOOD & DRINK       0.80      0.77      0.78      1723\n",
            " HOME & LIVING       0.77      0.68      0.72       848\n",
            "         MEDIA       0.56      0.47      0.52       544\n",
            "         MONEY       0.54      0.34      0.42       354\n",
            "         OTHER       0.39      0.30      0.34      1751\n",
            "       PARENTS       0.66      0.70      0.68      2536\n",
            "      POLITICS       0.76      0.78      0.77      6481\n",
            "      RELIGION       0.56      0.50      0.53       498\n",
            "SCIENCE & TECH       0.54      0.49      0.51       879\n",
            "        SPORTS       0.72      0.71      0.72      1016\n",
            "         STYLE       0.82      0.78      0.80      2446\n",
            "        TRAVEL       0.72      0.77      0.74      2011\n",
            "      WEDDINGS       0.78      0.74      0.76       769\n",
            "      WELLNESS       0.65      0.76      0.70      4817\n",
            "    WORLD NEWS       0.67      0.73      0.70      1684\n",
            "\n",
            "      accuracy                           0.67     40160\n",
            "     macro avg       0.62      0.61      0.61     40160\n",
            "  weighted avg       0.66      0.67      0.66     40160\n",
            "\n"
          ],
          "name": "stdout"
        }
      ]
    },
    {
      "cell_type": "code",
      "metadata": {
        "colab": {
          "base_uri": "https://localhost:8080/"
        },
        "id": "6TA7n9aAJws_",
        "outputId": "8692fc16-fc5c-49a9-c9fa-fc979868dd8b"
      },
      "source": [
        "print(classification_report(val_y, val_preds,  target_names=cat_lbl_enc1.classes_))"
      ],
      "execution_count": null,
      "outputs": [
        {
          "output_type": "stream",
          "text": [
            "                precision    recall  f1-score   support\n",
            "\n",
            "      ACTIVISM       0.72      0.41      0.52      2423\n",
            "          ARTS       0.58      0.32      0.41       813\n",
            "      BUSINESS       0.54      0.37      0.44      1178\n",
            "        COMEDY       0.61      0.41      0.49      1002\n",
            "         CRIME       0.56      0.54      0.55       666\n",
            "       DIVORCE       0.77      0.62      0.69       688\n",
            "     EDUCATION       0.45      0.41      0.43       456\n",
            " ENTERTAINMENT       0.61      0.70      0.65      3254\n",
            "   ENVIRONMENT       0.53      0.40      0.46       778\n",
            "  FOOD & DRINK       0.72      0.80      0.76      1643\n",
            " HOME & LIVING       0.83      0.61      0.70       851\n",
            "        IMPACT       0.48      0.10      0.17       650\n",
            "         MEDIA       0.56      0.32      0.41       536\n",
            "         MONEY       0.43      0.37      0.40       316\n",
            "         OTHER       0.44      0.22      0.30      1062\n",
            "       PARENTS       0.62      0.70      0.66      2584\n",
            "      POLITICS       0.68      0.85      0.75      6480\n",
            "      RELIGION       0.63      0.47      0.54       555\n",
            "SCIENCE & TECH       0.59      0.46      0.51       857\n",
            "        SPORTS       0.61      0.74      0.67       924\n",
            "         STYLE       0.79      0.74      0.76      2377\n",
            "        TRAVEL       0.64      0.78      0.70      1959\n",
            "      WEDDINGS       0.75      0.78      0.77       763\n",
            "      WELLNESS       0.59      0.79      0.67      4918\n",
            "         WOMEN       0.43      0.22      0.29       699\n",
            "    WORLD NEWS       0.73      0.66      0.70      1728\n",
            "\n",
            "      accuracy                           0.64     40160\n",
            "     macro avg       0.61      0.53      0.55     40160\n",
            "  weighted avg       0.64      0.64      0.63     40160\n",
            "\n"
          ],
          "name": "stdout"
        }
      ]
    },
    {
      "cell_type": "markdown",
      "metadata": {
        "id": "zfd1F3y_-aeh"
      },
      "source": [
        "##1D-CNN with Pretrained GloVe vectors"
      ]
    },
    {
      "cell_type": "code",
      "metadata": {
        "id": "u93fn34_Mn8f"
      },
      "source": [
        "include_ratings =[1, 3]\n",
        "data_sub = data_cp.copy()\n",
        "#data_sub = data_cp[(data_cp['Rating']==1)|(data_cp['Rating']==3)|(data_cp['Rating']==3)].copy()\n",
        "\n",
        "#data_sub['Rating'] = data_sub['Rating'].apply(lambda x: x-1)\n",
        "cat_lb = LabelEncoder()\n",
        "data_sub['cat_lbl'] = cat_lb.fit_transform(data_sub['category'].tolist())\n",
        "\n",
        "\n",
        "tokenizer = tf.keras.preprocessing.text.Tokenizer()\n",
        "all_text, all_labels = data_sub['headline'].tolist(), data_sub['cat_lbl'].tolist()\n",
        "tokenizer.fit_on_texts(all_text)\n",
        "all_sequences = tokenizer.texts_to_sequences(all_text)\n",
        "all_padded_sequences = tf.keras.preprocessing.sequence.pad_sequences(all_sequences, maxlen=100)\n",
        "train_x, val_x, train_y, val_y = train_test_split(all_padded_sequences, np.asarray(all_labels, np.int32), test_size=0.2)\n",
        "train_x, train_y = train_x[:(train_x.shape[0]//32)*32, :], train_y[:(train_y.shape[0]//32)*32]\n",
        "val_x, val_y = val_x[:(val_x.shape[0]//32)*32, :], val_y[:(val_y.shape[0]//32)*32]"
      ],
      "execution_count": null,
      "outputs": []
    },
    {
      "cell_type": "code",
      "metadata": {
        "id": "ueT6gyYzwXlE"
      },
      "source": [
        "list(set(data_sub['cat_lbl'].tolist()))"
      ],
      "execution_count": null,
      "outputs": []
    },
    {
      "cell_type": "code",
      "metadata": {
        "id": "fRMFWvBMWpsf",
        "colab": {
          "base_uri": "https://localhost:8080/"
        },
        "outputId": "cde7c384-86d2-469d-aaff-60fbe19a3392"
      },
      "source": [
        "NUM_WORDS = len(tokenizer.word_index) + 1\n",
        "NUM_CLS = len(cat_lb.classes_)\n",
        "print(cat_lb.classes_)"
      ],
      "execution_count": null,
      "outputs": [
        {
          "output_type": "stream",
          "text": [
            "['ARTS' 'ARTS & CULTURE' 'BLACK VOICES' 'BUSINESS' 'COLLEGE' 'COMEDY'\n",
            " 'CRIME' 'CULTURE & ARTS' 'DIVORCE' 'EDUCATION' 'ENTERTAINMENT'\n",
            " 'ENVIRONMENT' 'FIFTY' 'FOOD & DRINK' 'GOOD NEWS' 'GREEN' 'HEALTHY LIVING'\n",
            " 'HOME & LIVING' 'IMPACT' 'LATINO VOICES' 'MEDIA' 'MONEY' 'PARENTING'\n",
            " 'PARENTS' 'POLITICS' 'QUEER VOICES' 'RELIGION' 'SCIENCE' 'SPORTS' 'STYLE'\n",
            " 'STYLE & BEAUTY' 'TASTE' 'TECH' 'THE WORLDPOST' 'TRAVEL' 'WEDDINGS'\n",
            " 'WEIRD NEWS' 'WELLNESS' 'WOMEN' 'WORLD NEWS' 'WORLDPOST']\n"
          ],
          "name": "stdout"
        }
      ]
    },
    {
      "cell_type": "code",
      "metadata": {
        "colab": {
          "base_uri": "https://localhost:8080/",
          "height": 204
        },
        "id": "RHUFrfqNwEBW",
        "outputId": "bebfdb8b-68de-407f-ac8e-9827b08d8e9a"
      },
      "source": [
        "data_sub.head()"
      ],
      "execution_count": null,
      "outputs": [
        {
          "output_type": "execute_result",
          "data": {
            "text/html": [
              "<div>\n",
              "<style scoped>\n",
              "    .dataframe tbody tr th:only-of-type {\n",
              "        vertical-align: middle;\n",
              "    }\n",
              "\n",
              "    .dataframe tbody tr th {\n",
              "        vertical-align: top;\n",
              "    }\n",
              "\n",
              "    .dataframe thead th {\n",
              "        text-align: right;\n",
              "    }\n",
              "</style>\n",
              "<table border=\"1\" class=\"dataframe\">\n",
              "  <thead>\n",
              "    <tr style=\"text-align: right;\">\n",
              "      <th></th>\n",
              "      <th>category</th>\n",
              "      <th>headline</th>\n",
              "      <th>short_description</th>\n",
              "      <th>Review_Text</th>\n",
              "      <th>cat_lbl</th>\n",
              "    </tr>\n",
              "  </thead>\n",
              "  <tbody>\n",
              "    <tr>\n",
              "      <th>0</th>\n",
              "      <td>CRIME</td>\n",
              "      <td>There Were 2 Mass Shootings In Texas Last Week...</td>\n",
              "      <td>leave husband kill child another day america</td>\n",
              "      <td>There Were 2 Mass Shootings In Texas Last Week...</td>\n",
              "      <td>6</td>\n",
              "    </tr>\n",
              "    <tr>\n",
              "      <th>1</th>\n",
              "      <td>ENTERTAINMENT</td>\n",
              "      <td>Will Smith Joins Diplo And Nicky Jam For The 2...</td>\n",
              "      <td>course song</td>\n",
              "      <td>Will Smith Joins Diplo And Nicky Jam For The 2...</td>\n",
              "      <td>10</td>\n",
              "    </tr>\n",
              "    <tr>\n",
              "      <th>2</th>\n",
              "      <td>ENTERTAINMENT</td>\n",
              "      <td>Hugh Grant Marries For The First Time At Age 57</td>\n",
              "      <td>actor longtime girlfriend anna eberstein tie k...</td>\n",
              "      <td>Hugh Grant Marries For The First Time At Age 57</td>\n",
              "      <td>10</td>\n",
              "    </tr>\n",
              "    <tr>\n",
              "      <th>3</th>\n",
              "      <td>ENTERTAINMENT</td>\n",
              "      <td>Jim Carrey Blasts ' Castrato ' Adam Schiff And...</td>\n",
              "      <td>actor give dems ass kick fight hard enough don...</td>\n",
              "      <td>Jim Carrey Blasts Castrato Adam Schiff And Dem...</td>\n",
              "      <td>10</td>\n",
              "    </tr>\n",
              "    <tr>\n",
              "      <th>4</th>\n",
              "      <td>ENTERTAINMENT</td>\n",
              "      <td>Julianna Margulies Uses Donald Trump Poop Bags...</td>\n",
              "      <td>dietland actress say use bag really cathartic...</td>\n",
              "      <td>Julianna Margulies Uses Donald Trump Poop Bags...</td>\n",
              "      <td>10</td>\n",
              "    </tr>\n",
              "  </tbody>\n",
              "</table>\n",
              "</div>"
            ],
            "text/plain": [
              "        category  ... cat_lbl\n",
              "0          CRIME  ...       6\n",
              "1  ENTERTAINMENT  ...      10\n",
              "2  ENTERTAINMENT  ...      10\n",
              "3  ENTERTAINMENT  ...      10\n",
              "4  ENTERTAINMENT  ...      10\n",
              "\n",
              "[5 rows x 5 columns]"
            ]
          },
          "metadata": {
            "tags": []
          },
          "execution_count": 121
        }
      ]
    },
    {
      "cell_type": "code",
      "metadata": {
        "colab": {
          "base_uri": "https://localhost:8080/"
        },
        "id": "FMWBR_GZVLMX",
        "outputId": "2faa2cd1-c463-4ce7-ab97-4724bdc1a16f"
      },
      "source": [
        "#Load pretrained GloVe embeddings\n",
        "dict_w2v = {}\n",
        "with open('glove.6B.50d.txt', \"r\") as file:\n",
        "    for line in file:\n",
        "        tokens = line.split()\n",
        "        word = tokens[0]\n",
        "        vector = np.array(tokens[1:], dtype=np.float32)\n",
        "        if vector.shape[0] == 50:\n",
        "            dict_w2v[word] = vector\n",
        "        else:\n",
        "            print(\"There was an issue with \" + word)\n",
        "# let's check the vocabulary size\n",
        "print(\"Dictionary Size: \", len(dict_w2v))"
      ],
      "execution_count": null,
      "outputs": [
        {
          "output_type": "stream",
          "text": [
            "Dictionary Size:  400000\n"
          ],
          "name": "stdout"
        }
      ]
    },
    {
      "cell_type": "code",
      "metadata": {
        "id": "Dy-h0edRWNR5"
      },
      "source": [
        "embedding_dim = 50\n",
        "embedding_matrix = np.zeros((NUM_WORDS, embedding_dim))"
      ],
      "execution_count": null,
      "outputs": []
    },
    {
      "cell_type": "code",
      "metadata": {
        "colab": {
          "base_uri": "https://localhost:8080/"
        },
        "id": "PWh9xw-DWPkW",
        "outputId": "1295a611-de94-4a8f-ac8d-ab752ba56d54"
      },
      "source": [
        "unk_cnt = 0\n",
        "unk_set = set()\n",
        "for word in tokenizer.word_index.keys():\n",
        "    embedding_vector = dict_w2v.get(word)\n",
        "    if embedding_vector is not None:\n",
        "        tkn_id = tokenizer.word_index[word]\n",
        "        embedding_matrix[tkn_id] = embedding_vector\n",
        "    else:\n",
        "        unk_cnt += 1\n",
        "        unk_set.add(word)\n",
        "# Print how many weren't found\n",
        "print(\"Total unknown words: \", unk_cnt)"
      ],
      "execution_count": null,
      "outputs": [
        {
          "output_type": "stream",
          "text": [
            "Total unknown words:  6721\n"
          ],
          "name": "stdout"
        }
      ]
    },
    {
      "cell_type": "code",
      "metadata": {
        "id": "xcPr3R6DXLWq"
      },
      "source": [
        "loss_obj = tf.keras.losses.SparseCategoricalCrossentropy(from_logits=False)\n",
        "#model.compile(loss=loss_obj, optimizer='adam', metrics=['accuracy'])"
      ],
      "execution_count": null,
      "outputs": []
    },
    {
      "cell_type": "code",
      "metadata": {
        "id": "BWaiSuIMB1ms"
      },
      "source": [
        "def create_model(vocab_size, embedding_dim, input_shape=(100, ), batch_size=32):\n",
        "  model = tf.keras.Sequential([\n",
        "                               tf.keras.layers.Embedding(vocab_size, embedding_dim, mask_zero=True, batch_input_shape=(batch_size, input_shape[0]),\n",
        "                                                         weights=[embedding_matrix], trainable=False),\n",
        "                               tf.keras.layers.Conv1D(32, 5, 1, 'valid', activation='relu'),\n",
        "                               tf.keras.layers.MaxPool1D(),\n",
        "                               tf.keras.layers.Conv1D(64, 3, 1, 'valid', activation='relu'),\n",
        "                               tf.keras.layers.MaxPool1D(),\n",
        "                               tf.keras.layers.Conv1D(128, 3, 1, 'valid', activation='relu'),\n",
        "                               tf.keras.layers.MaxPool1D(),\n",
        "                               #tf.keras.layers.Conv1D(256, 3, 1, 'valid', activation='relu'),\n",
        "                               #tf.keras.layers.MaxPool1D(),\n",
        "                               #tf.keras.layers.Conv1D(512, 1, 1, 'valid', activation='relu'),\n",
        "                               #tf.keras.layers.MaxPool1D(),\n",
        "                               tf.keras.layers.Flatten(),\n",
        "                               tf.keras.layers.Dense(5, 'softmax')\n",
        "\n",
        "  ])\n",
        "  return model"
      ],
      "execution_count": null,
      "outputs": []
    },
    {
      "cell_type": "code",
      "metadata": {
        "colab": {
          "base_uri": "https://localhost:8080/"
        },
        "id": "exqRw8JOUP9x",
        "outputId": "274b1f46-8edb-451c-8550-31e99c001dbd"
      },
      "source": [
        "model = create_model(NUM_WORDS, embedding_dim, (train_x.shape[1],))\n",
        "model.summary()"
      ],
      "execution_count": null,
      "outputs": [
        {
          "output_type": "stream",
          "text": [
            "Model: \"sequential_4\"\n",
            "_________________________________________________________________\n",
            "Layer (type)                 Output Shape              Param #   \n",
            "=================================================================\n",
            "embedding_4 (Embedding)      (32, 100, 50)             2787400   \n",
            "_________________________________________________________________\n",
            "conv1d_4 (Conv1D)            (32, 96, 32)              8032      \n",
            "_________________________________________________________________\n",
            "max_pooling1d_4 (MaxPooling1 (32, 48, 32)              0         \n",
            "_________________________________________________________________\n",
            "conv1d_5 (Conv1D)            (32, 46, 64)              6208      \n",
            "_________________________________________________________________\n",
            "max_pooling1d_5 (MaxPooling1 (32, 23, 64)              0         \n",
            "_________________________________________________________________\n",
            "conv1d_6 (Conv1D)            (32, 21, 128)             24704     \n",
            "_________________________________________________________________\n",
            "max_pooling1d_6 (MaxPooling1 (32, 10, 128)             0         \n",
            "_________________________________________________________________\n",
            "flatten_2 (Flatten)          (32, 1280)                0         \n",
            "_________________________________________________________________\n",
            "dense_6 (Dense)              (32, 5)                   6405      \n",
            "=================================================================\n",
            "Total params: 2,832,749\n",
            "Trainable params: 45,349\n",
            "Non-trainable params: 2,787,400\n",
            "_________________________________________________________________\n"
          ],
          "name": "stdout"
        }
      ]
    },
    {
      "cell_type": "code",
      "metadata": {
        "id": "hwHMmFJAXqKG"
      },
      "source": [
        "model.compile(loss=loss_obj, optimizer='adam', metrics=['accuracy'])"
      ],
      "execution_count": null,
      "outputs": []
    },
    {
      "cell_type": "code",
      "metadata": {
        "colab": {
          "base_uri": "https://localhost:8080/",
          "height": 340
        },
        "id": "wIr3IySQYYoR",
        "outputId": "f41ce4da-94d1-4e7a-8c60-f55864b00400"
      },
      "source": [
        "history = model.fit(train_x, train_y, 32, 10, validation_data=(val_x, val_y))"
      ],
      "execution_count": null,
      "outputs": [
        {
          "output_type": "stream",
          "text": [
            "Epoch 1/10\n",
            "3921/5021 [======================>.......] - ETA: 3s - loss: nan - accuracy: 0.0076"
          ],
          "name": "stdout"
        },
        {
          "output_type": "error",
          "ename": "KeyboardInterrupt",
          "evalue": "ignored",
          "traceback": [
            "\u001b[0;31m---------------------------------------------------------------------------\u001b[0m",
            "\u001b[0;31mKeyboardInterrupt\u001b[0m                         Traceback (most recent call last)",
            "\u001b[0;32m<ipython-input-120-5161c4c12348>\u001b[0m in \u001b[0;36m<module>\u001b[0;34m()\u001b[0m\n\u001b[0;32m----> 1\u001b[0;31m \u001b[0mhistory\u001b[0m \u001b[0;34m=\u001b[0m \u001b[0mmodel\u001b[0m\u001b[0;34m.\u001b[0m\u001b[0mfit\u001b[0m\u001b[0;34m(\u001b[0m\u001b[0mtrain_x\u001b[0m\u001b[0;34m,\u001b[0m \u001b[0mtrain_y\u001b[0m\u001b[0;34m,\u001b[0m \u001b[0;36m32\u001b[0m\u001b[0;34m,\u001b[0m \u001b[0;36m10\u001b[0m\u001b[0;34m,\u001b[0m \u001b[0mvalidation_data\u001b[0m\u001b[0;34m=\u001b[0m\u001b[0;34m(\u001b[0m\u001b[0mval_x\u001b[0m\u001b[0;34m,\u001b[0m \u001b[0mval_y\u001b[0m\u001b[0;34m)\u001b[0m\u001b[0;34m)\u001b[0m\u001b[0;34m\u001b[0m\u001b[0;34m\u001b[0m\u001b[0m\n\u001b[0m",
            "\u001b[0;32m/usr/local/lib/python3.7/dist-packages/tensorflow/python/keras/engine/training.py\u001b[0m in \u001b[0;36mfit\u001b[0;34m(self, x, y, batch_size, epochs, verbose, callbacks, validation_split, validation_data, shuffle, class_weight, sample_weight, initial_epoch, steps_per_epoch, validation_steps, validation_batch_size, validation_freq, max_queue_size, workers, use_multiprocessing)\u001b[0m\n\u001b[1;32m   1103\u001b[0m               \u001b[0mlogs\u001b[0m \u001b[0;34m=\u001b[0m \u001b[0mtmp_logs\u001b[0m  \u001b[0;31m# No error, now safe to assign to logs.\u001b[0m\u001b[0;34m\u001b[0m\u001b[0;34m\u001b[0m\u001b[0m\n\u001b[1;32m   1104\u001b[0m               \u001b[0mend_step\u001b[0m \u001b[0;34m=\u001b[0m \u001b[0mstep\u001b[0m \u001b[0;34m+\u001b[0m \u001b[0mdata_handler\u001b[0m\u001b[0;34m.\u001b[0m\u001b[0mstep_increment\u001b[0m\u001b[0;34m\u001b[0m\u001b[0;34m\u001b[0m\u001b[0m\n\u001b[0;32m-> 1105\u001b[0;31m               \u001b[0mcallbacks\u001b[0m\u001b[0;34m.\u001b[0m\u001b[0mon_train_batch_end\u001b[0m\u001b[0;34m(\u001b[0m\u001b[0mend_step\u001b[0m\u001b[0;34m,\u001b[0m \u001b[0mlogs\u001b[0m\u001b[0;34m)\u001b[0m\u001b[0;34m\u001b[0m\u001b[0;34m\u001b[0m\u001b[0m\n\u001b[0m\u001b[1;32m   1106\u001b[0m               \u001b[0;32mif\u001b[0m \u001b[0mself\u001b[0m\u001b[0;34m.\u001b[0m\u001b[0mstop_training\u001b[0m\u001b[0;34m:\u001b[0m\u001b[0;34m\u001b[0m\u001b[0;34m\u001b[0m\u001b[0m\n\u001b[1;32m   1107\u001b[0m                 \u001b[0;32mbreak\u001b[0m\u001b[0;34m\u001b[0m\u001b[0;34m\u001b[0m\u001b[0m\n",
            "\u001b[0;32m/usr/local/lib/python3.7/dist-packages/tensorflow/python/keras/callbacks.py\u001b[0m in \u001b[0;36mon_train_batch_end\u001b[0;34m(self, batch, logs)\u001b[0m\n\u001b[1;32m    452\u001b[0m     \"\"\"\n\u001b[1;32m    453\u001b[0m     \u001b[0;32mif\u001b[0m \u001b[0mself\u001b[0m\u001b[0;34m.\u001b[0m\u001b[0m_should_call_train_batch_hooks\u001b[0m\u001b[0;34m:\u001b[0m\u001b[0;34m\u001b[0m\u001b[0;34m\u001b[0m\u001b[0m\n\u001b[0;32m--> 454\u001b[0;31m       \u001b[0mself\u001b[0m\u001b[0;34m.\u001b[0m\u001b[0m_call_batch_hook\u001b[0m\u001b[0;34m(\u001b[0m\u001b[0mModeKeys\u001b[0m\u001b[0;34m.\u001b[0m\u001b[0mTRAIN\u001b[0m\u001b[0;34m,\u001b[0m \u001b[0;34m'end'\u001b[0m\u001b[0;34m,\u001b[0m \u001b[0mbatch\u001b[0m\u001b[0;34m,\u001b[0m \u001b[0mlogs\u001b[0m\u001b[0;34m=\u001b[0m\u001b[0mlogs\u001b[0m\u001b[0;34m)\u001b[0m\u001b[0;34m\u001b[0m\u001b[0;34m\u001b[0m\u001b[0m\n\u001b[0m\u001b[1;32m    455\u001b[0m \u001b[0;34m\u001b[0m\u001b[0m\n\u001b[1;32m    456\u001b[0m   \u001b[0;32mdef\u001b[0m \u001b[0mon_test_batch_begin\u001b[0m\u001b[0;34m(\u001b[0m\u001b[0mself\u001b[0m\u001b[0;34m,\u001b[0m \u001b[0mbatch\u001b[0m\u001b[0;34m,\u001b[0m \u001b[0mlogs\u001b[0m\u001b[0;34m=\u001b[0m\u001b[0;32mNone\u001b[0m\u001b[0;34m)\u001b[0m\u001b[0;34m:\u001b[0m\u001b[0;34m\u001b[0m\u001b[0;34m\u001b[0m\u001b[0m\n",
            "\u001b[0;32m/usr/local/lib/python3.7/dist-packages/tensorflow/python/keras/callbacks.py\u001b[0m in \u001b[0;36m_call_batch_hook\u001b[0;34m(self, mode, hook, batch, logs)\u001b[0m\n\u001b[1;32m    294\u001b[0m       \u001b[0mself\u001b[0m\u001b[0;34m.\u001b[0m\u001b[0m_call_batch_begin_hook\u001b[0m\u001b[0;34m(\u001b[0m\u001b[0mmode\u001b[0m\u001b[0;34m,\u001b[0m \u001b[0mbatch\u001b[0m\u001b[0;34m,\u001b[0m \u001b[0mlogs\u001b[0m\u001b[0;34m)\u001b[0m\u001b[0;34m\u001b[0m\u001b[0;34m\u001b[0m\u001b[0m\n\u001b[1;32m    295\u001b[0m     \u001b[0;32melif\u001b[0m \u001b[0mhook\u001b[0m \u001b[0;34m==\u001b[0m \u001b[0;34m'end'\u001b[0m\u001b[0;34m:\u001b[0m\u001b[0;34m\u001b[0m\u001b[0;34m\u001b[0m\u001b[0m\n\u001b[0;32m--> 296\u001b[0;31m       \u001b[0mself\u001b[0m\u001b[0;34m.\u001b[0m\u001b[0m_call_batch_end_hook\u001b[0m\u001b[0;34m(\u001b[0m\u001b[0mmode\u001b[0m\u001b[0;34m,\u001b[0m \u001b[0mbatch\u001b[0m\u001b[0;34m,\u001b[0m \u001b[0mlogs\u001b[0m\u001b[0;34m)\u001b[0m\u001b[0;34m\u001b[0m\u001b[0;34m\u001b[0m\u001b[0m\n\u001b[0m\u001b[1;32m    297\u001b[0m     \u001b[0;32melse\u001b[0m\u001b[0;34m:\u001b[0m\u001b[0;34m\u001b[0m\u001b[0;34m\u001b[0m\u001b[0m\n\u001b[1;32m    298\u001b[0m       \u001b[0;32mraise\u001b[0m \u001b[0mValueError\u001b[0m\u001b[0;34m(\u001b[0m\u001b[0;34m'Unrecognized hook: {}'\u001b[0m\u001b[0;34m.\u001b[0m\u001b[0mformat\u001b[0m\u001b[0;34m(\u001b[0m\u001b[0mhook\u001b[0m\u001b[0;34m)\u001b[0m\u001b[0;34m)\u001b[0m\u001b[0;34m\u001b[0m\u001b[0;34m\u001b[0m\u001b[0m\n",
            "\u001b[0;32m/usr/local/lib/python3.7/dist-packages/tensorflow/python/keras/callbacks.py\u001b[0m in \u001b[0;36m_call_batch_end_hook\u001b[0;34m(self, mode, batch, logs)\u001b[0m\n\u001b[1;32m    314\u001b[0m       \u001b[0mself\u001b[0m\u001b[0;34m.\u001b[0m\u001b[0m_batch_times\u001b[0m\u001b[0;34m.\u001b[0m\u001b[0mappend\u001b[0m\u001b[0;34m(\u001b[0m\u001b[0mbatch_time\u001b[0m\u001b[0;34m)\u001b[0m\u001b[0;34m\u001b[0m\u001b[0;34m\u001b[0m\u001b[0m\n\u001b[1;32m    315\u001b[0m \u001b[0;34m\u001b[0m\u001b[0m\n\u001b[0;32m--> 316\u001b[0;31m     \u001b[0mself\u001b[0m\u001b[0;34m.\u001b[0m\u001b[0m_call_batch_hook_helper\u001b[0m\u001b[0;34m(\u001b[0m\u001b[0mhook_name\u001b[0m\u001b[0;34m,\u001b[0m \u001b[0mbatch\u001b[0m\u001b[0;34m,\u001b[0m \u001b[0mlogs\u001b[0m\u001b[0;34m)\u001b[0m\u001b[0;34m\u001b[0m\u001b[0;34m\u001b[0m\u001b[0m\n\u001b[0m\u001b[1;32m    317\u001b[0m \u001b[0;34m\u001b[0m\u001b[0m\n\u001b[1;32m    318\u001b[0m     \u001b[0;32mif\u001b[0m \u001b[0mlen\u001b[0m\u001b[0;34m(\u001b[0m\u001b[0mself\u001b[0m\u001b[0;34m.\u001b[0m\u001b[0m_batch_times\u001b[0m\u001b[0;34m)\u001b[0m \u001b[0;34m>=\u001b[0m \u001b[0mself\u001b[0m\u001b[0;34m.\u001b[0m\u001b[0m_num_batches_for_timing_check\u001b[0m\u001b[0;34m:\u001b[0m\u001b[0;34m\u001b[0m\u001b[0;34m\u001b[0m\u001b[0m\n",
            "\u001b[0;32m/usr/local/lib/python3.7/dist-packages/tensorflow/python/keras/callbacks.py\u001b[0m in \u001b[0;36m_call_batch_hook_helper\u001b[0;34m(self, hook_name, batch, logs)\u001b[0m\n\u001b[1;32m    354\u001b[0m       \u001b[0mhook\u001b[0m \u001b[0;34m=\u001b[0m \u001b[0mgetattr\u001b[0m\u001b[0;34m(\u001b[0m\u001b[0mcallback\u001b[0m\u001b[0;34m,\u001b[0m \u001b[0mhook_name\u001b[0m\u001b[0;34m)\u001b[0m\u001b[0;34m\u001b[0m\u001b[0;34m\u001b[0m\u001b[0m\n\u001b[1;32m    355\u001b[0m       \u001b[0;32mif\u001b[0m \u001b[0mgetattr\u001b[0m\u001b[0;34m(\u001b[0m\u001b[0mcallback\u001b[0m\u001b[0;34m,\u001b[0m \u001b[0;34m'_supports_tf_logs'\u001b[0m\u001b[0;34m,\u001b[0m \u001b[0;32mFalse\u001b[0m\u001b[0;34m)\u001b[0m\u001b[0;34m:\u001b[0m\u001b[0;34m\u001b[0m\u001b[0;34m\u001b[0m\u001b[0m\n\u001b[0;32m--> 356\u001b[0;31m         \u001b[0mhook\u001b[0m\u001b[0;34m(\u001b[0m\u001b[0mbatch\u001b[0m\u001b[0;34m,\u001b[0m \u001b[0mlogs\u001b[0m\u001b[0;34m)\u001b[0m\u001b[0;34m\u001b[0m\u001b[0;34m\u001b[0m\u001b[0m\n\u001b[0m\u001b[1;32m    357\u001b[0m       \u001b[0;32melse\u001b[0m\u001b[0;34m:\u001b[0m\u001b[0;34m\u001b[0m\u001b[0;34m\u001b[0m\u001b[0m\n\u001b[1;32m    358\u001b[0m         \u001b[0;32mif\u001b[0m \u001b[0mnumpy_logs\u001b[0m \u001b[0;32mis\u001b[0m \u001b[0;32mNone\u001b[0m\u001b[0;34m:\u001b[0m  \u001b[0;31m# Only convert once.\u001b[0m\u001b[0;34m\u001b[0m\u001b[0;34m\u001b[0m\u001b[0m\n",
            "\u001b[0;32m/usr/local/lib/python3.7/dist-packages/tensorflow/python/keras/callbacks.py\u001b[0m in \u001b[0;36mon_train_batch_end\u001b[0;34m(self, batch, logs)\u001b[0m\n\u001b[1;32m   1018\u001b[0m \u001b[0;34m\u001b[0m\u001b[0m\n\u001b[1;32m   1019\u001b[0m   \u001b[0;32mdef\u001b[0m \u001b[0mon_train_batch_end\u001b[0m\u001b[0;34m(\u001b[0m\u001b[0mself\u001b[0m\u001b[0;34m,\u001b[0m \u001b[0mbatch\u001b[0m\u001b[0;34m,\u001b[0m \u001b[0mlogs\u001b[0m\u001b[0;34m=\u001b[0m\u001b[0;32mNone\u001b[0m\u001b[0;34m)\u001b[0m\u001b[0;34m:\u001b[0m\u001b[0;34m\u001b[0m\u001b[0;34m\u001b[0m\u001b[0m\n\u001b[0;32m-> 1020\u001b[0;31m     \u001b[0mself\u001b[0m\u001b[0;34m.\u001b[0m\u001b[0m_batch_update_progbar\u001b[0m\u001b[0;34m(\u001b[0m\u001b[0mbatch\u001b[0m\u001b[0;34m,\u001b[0m \u001b[0mlogs\u001b[0m\u001b[0;34m)\u001b[0m\u001b[0;34m\u001b[0m\u001b[0;34m\u001b[0m\u001b[0m\n\u001b[0m\u001b[1;32m   1021\u001b[0m \u001b[0;34m\u001b[0m\u001b[0m\n\u001b[1;32m   1022\u001b[0m   \u001b[0;32mdef\u001b[0m \u001b[0mon_test_batch_end\u001b[0m\u001b[0;34m(\u001b[0m\u001b[0mself\u001b[0m\u001b[0;34m,\u001b[0m \u001b[0mbatch\u001b[0m\u001b[0;34m,\u001b[0m \u001b[0mlogs\u001b[0m\u001b[0;34m=\u001b[0m\u001b[0;32mNone\u001b[0m\u001b[0;34m)\u001b[0m\u001b[0;34m:\u001b[0m\u001b[0;34m\u001b[0m\u001b[0;34m\u001b[0m\u001b[0m\n",
            "\u001b[0;32m/usr/local/lib/python3.7/dist-packages/tensorflow/python/keras/callbacks.py\u001b[0m in \u001b[0;36m_batch_update_progbar\u001b[0;34m(self, batch, logs)\u001b[0m\n\u001b[1;32m   1083\u001b[0m       \u001b[0;31m# Only block async when verbose = 1.\u001b[0m\u001b[0;34m\u001b[0m\u001b[0;34m\u001b[0m\u001b[0;34m\u001b[0m\u001b[0m\n\u001b[1;32m   1084\u001b[0m       \u001b[0mlogs\u001b[0m \u001b[0;34m=\u001b[0m \u001b[0mtf_utils\u001b[0m\u001b[0;34m.\u001b[0m\u001b[0mto_numpy_or_python_type\u001b[0m\u001b[0;34m(\u001b[0m\u001b[0mlogs\u001b[0m\u001b[0;34m)\u001b[0m\u001b[0;34m\u001b[0m\u001b[0;34m\u001b[0m\u001b[0m\n\u001b[0;32m-> 1085\u001b[0;31m       \u001b[0mself\u001b[0m\u001b[0;34m.\u001b[0m\u001b[0mprogbar\u001b[0m\u001b[0;34m.\u001b[0m\u001b[0mupdate\u001b[0m\u001b[0;34m(\u001b[0m\u001b[0mself\u001b[0m\u001b[0;34m.\u001b[0m\u001b[0mseen\u001b[0m\u001b[0;34m,\u001b[0m \u001b[0mlist\u001b[0m\u001b[0;34m(\u001b[0m\u001b[0mlogs\u001b[0m\u001b[0;34m.\u001b[0m\u001b[0mitems\u001b[0m\u001b[0;34m(\u001b[0m\u001b[0;34m)\u001b[0m\u001b[0;34m)\u001b[0m\u001b[0;34m,\u001b[0m \u001b[0mfinalize\u001b[0m\u001b[0;34m=\u001b[0m\u001b[0;32mFalse\u001b[0m\u001b[0;34m)\u001b[0m\u001b[0;34m\u001b[0m\u001b[0;34m\u001b[0m\u001b[0m\n\u001b[0m\u001b[1;32m   1086\u001b[0m \u001b[0;34m\u001b[0m\u001b[0m\n\u001b[1;32m   1087\u001b[0m   \u001b[0;32mdef\u001b[0m \u001b[0m_finalize_progbar\u001b[0m\u001b[0;34m(\u001b[0m\u001b[0mself\u001b[0m\u001b[0;34m,\u001b[0m \u001b[0mlogs\u001b[0m\u001b[0;34m,\u001b[0m \u001b[0mcounter\u001b[0m\u001b[0;34m)\u001b[0m\u001b[0;34m:\u001b[0m\u001b[0;34m\u001b[0m\u001b[0;34m\u001b[0m\u001b[0m\n",
            "\u001b[0;32m/usr/local/lib/python3.7/dist-packages/tensorflow/python/keras/utils/generic_utils.py\u001b[0m in \u001b[0;36mupdate\u001b[0;34m(self, current, values, finalize)\u001b[0m\n\u001b[1;32m    639\u001b[0m \u001b[0;34m\u001b[0m\u001b[0m\n\u001b[1;32m    640\u001b[0m       \u001b[0msys\u001b[0m\u001b[0;34m.\u001b[0m\u001b[0mstdout\u001b[0m\u001b[0;34m.\u001b[0m\u001b[0mwrite\u001b[0m\u001b[0;34m(\u001b[0m\u001b[0minfo\u001b[0m\u001b[0;34m)\u001b[0m\u001b[0;34m\u001b[0m\u001b[0;34m\u001b[0m\u001b[0m\n\u001b[0;32m--> 641\u001b[0;31m       \u001b[0msys\u001b[0m\u001b[0;34m.\u001b[0m\u001b[0mstdout\u001b[0m\u001b[0;34m.\u001b[0m\u001b[0mflush\u001b[0m\u001b[0;34m(\u001b[0m\u001b[0;34m)\u001b[0m\u001b[0;34m\u001b[0m\u001b[0;34m\u001b[0m\u001b[0m\n\u001b[0m\u001b[1;32m    642\u001b[0m \u001b[0;34m\u001b[0m\u001b[0m\n\u001b[1;32m    643\u001b[0m     \u001b[0;32melif\u001b[0m \u001b[0mself\u001b[0m\u001b[0;34m.\u001b[0m\u001b[0mverbose\u001b[0m \u001b[0;34m==\u001b[0m \u001b[0;36m2\u001b[0m\u001b[0;34m:\u001b[0m\u001b[0;34m\u001b[0m\u001b[0;34m\u001b[0m\u001b[0m\n",
            "\u001b[0;32m/usr/local/lib/python3.7/dist-packages/ipykernel/iostream.py\u001b[0m in \u001b[0;36mflush\u001b[0;34m(self)\u001b[0m\n\u001b[1;32m    347\u001b[0m                 \u001b[0mself\u001b[0m\u001b[0;34m.\u001b[0m\u001b[0mpub_thread\u001b[0m\u001b[0;34m.\u001b[0m\u001b[0mschedule\u001b[0m\u001b[0;34m(\u001b[0m\u001b[0mevt\u001b[0m\u001b[0;34m.\u001b[0m\u001b[0mset\u001b[0m\u001b[0;34m)\u001b[0m\u001b[0;34m\u001b[0m\u001b[0;34m\u001b[0m\u001b[0m\n\u001b[1;32m    348\u001b[0m                 \u001b[0;31m# and give a timeout to avoid\u001b[0m\u001b[0;34m\u001b[0m\u001b[0;34m\u001b[0m\u001b[0;34m\u001b[0m\u001b[0m\n\u001b[0;32m--> 349\u001b[0;31m                 \u001b[0;32mif\u001b[0m \u001b[0;32mnot\u001b[0m \u001b[0mevt\u001b[0m\u001b[0;34m.\u001b[0m\u001b[0mwait\u001b[0m\u001b[0;34m(\u001b[0m\u001b[0mself\u001b[0m\u001b[0;34m.\u001b[0m\u001b[0mflush_timeout\u001b[0m\u001b[0;34m)\u001b[0m\u001b[0;34m:\u001b[0m\u001b[0;34m\u001b[0m\u001b[0;34m\u001b[0m\u001b[0m\n\u001b[0m\u001b[1;32m    350\u001b[0m                     \u001b[0;31m# write directly to __stderr__ instead of warning because\u001b[0m\u001b[0;34m\u001b[0m\u001b[0;34m\u001b[0m\u001b[0;34m\u001b[0m\u001b[0m\n\u001b[1;32m    351\u001b[0m                     \u001b[0;31m# if this is happening sys.stderr may be the problem.\u001b[0m\u001b[0;34m\u001b[0m\u001b[0;34m\u001b[0m\u001b[0;34m\u001b[0m\u001b[0m\n",
            "\u001b[0;32m/usr/lib/python3.7/threading.py\u001b[0m in \u001b[0;36mwait\u001b[0;34m(self, timeout)\u001b[0m\n\u001b[1;32m    550\u001b[0m             \u001b[0msignaled\u001b[0m \u001b[0;34m=\u001b[0m \u001b[0mself\u001b[0m\u001b[0;34m.\u001b[0m\u001b[0m_flag\u001b[0m\u001b[0;34m\u001b[0m\u001b[0;34m\u001b[0m\u001b[0m\n\u001b[1;32m    551\u001b[0m             \u001b[0;32mif\u001b[0m \u001b[0;32mnot\u001b[0m \u001b[0msignaled\u001b[0m\u001b[0;34m:\u001b[0m\u001b[0;34m\u001b[0m\u001b[0;34m\u001b[0m\u001b[0m\n\u001b[0;32m--> 552\u001b[0;31m                 \u001b[0msignaled\u001b[0m \u001b[0;34m=\u001b[0m \u001b[0mself\u001b[0m\u001b[0;34m.\u001b[0m\u001b[0m_cond\u001b[0m\u001b[0;34m.\u001b[0m\u001b[0mwait\u001b[0m\u001b[0;34m(\u001b[0m\u001b[0mtimeout\u001b[0m\u001b[0;34m)\u001b[0m\u001b[0;34m\u001b[0m\u001b[0;34m\u001b[0m\u001b[0m\n\u001b[0m\u001b[1;32m    553\u001b[0m             \u001b[0;32mreturn\u001b[0m \u001b[0msignaled\u001b[0m\u001b[0;34m\u001b[0m\u001b[0;34m\u001b[0m\u001b[0m\n\u001b[1;32m    554\u001b[0m \u001b[0;34m\u001b[0m\u001b[0m\n",
            "\u001b[0;32m/usr/lib/python3.7/threading.py\u001b[0m in \u001b[0;36mwait\u001b[0;34m(self, timeout)\u001b[0m\n\u001b[1;32m    298\u001b[0m             \u001b[0;32melse\u001b[0m\u001b[0;34m:\u001b[0m\u001b[0;34m\u001b[0m\u001b[0;34m\u001b[0m\u001b[0m\n\u001b[1;32m    299\u001b[0m                 \u001b[0;32mif\u001b[0m \u001b[0mtimeout\u001b[0m \u001b[0;34m>\u001b[0m \u001b[0;36m0\u001b[0m\u001b[0;34m:\u001b[0m\u001b[0;34m\u001b[0m\u001b[0;34m\u001b[0m\u001b[0m\n\u001b[0;32m--> 300\u001b[0;31m                     \u001b[0mgotit\u001b[0m \u001b[0;34m=\u001b[0m \u001b[0mwaiter\u001b[0m\u001b[0;34m.\u001b[0m\u001b[0macquire\u001b[0m\u001b[0;34m(\u001b[0m\u001b[0;32mTrue\u001b[0m\u001b[0;34m,\u001b[0m \u001b[0mtimeout\u001b[0m\u001b[0;34m)\u001b[0m\u001b[0;34m\u001b[0m\u001b[0;34m\u001b[0m\u001b[0m\n\u001b[0m\u001b[1;32m    301\u001b[0m                 \u001b[0;32melse\u001b[0m\u001b[0;34m:\u001b[0m\u001b[0;34m\u001b[0m\u001b[0;34m\u001b[0m\u001b[0m\n\u001b[1;32m    302\u001b[0m                     \u001b[0mgotit\u001b[0m \u001b[0;34m=\u001b[0m \u001b[0mwaiter\u001b[0m\u001b[0;34m.\u001b[0m\u001b[0macquire\u001b[0m\u001b[0;34m(\u001b[0m\u001b[0;32mFalse\u001b[0m\u001b[0;34m)\u001b[0m\u001b[0;34m\u001b[0m\u001b[0;34m\u001b[0m\u001b[0m\n",
            "\u001b[0;31mKeyboardInterrupt\u001b[0m: "
          ]
        }
      ]
    },
    {
      "cell_type": "code",
      "metadata": {
        "colab": {
          "base_uri": "https://localhost:8080/"
        },
        "id": "S3VXFTzv_gKG",
        "outputId": "c01f98d7-6a60-4f0b-e93e-be1c51f40a08"
      },
      "source": [
        "val_preds = np.argmax(model.predict(val_x, batch_size=32), axis=1)\n",
        "print(classification_report(val_y, val_preds))"
      ],
      "execution_count": null,
      "outputs": [
        {
          "output_type": "stream",
          "text": [
            "              precision    recall  f1-score   support\n",
            "\n",
            "           0       0.56      0.30      0.39       288\n",
            "           1       0.83      0.93      0.88      1024\n",
            "\n",
            "    accuracy                           0.79      1312\n",
            "   macro avg       0.69      0.62      0.63      1312\n",
            "weighted avg       0.77      0.79      0.77      1312\n",
            "\n"
          ],
          "name": "stdout"
        }
      ]
    },
    {
      "cell_type": "code",
      "metadata": {
        "id": "TsoCEe71cN3F"
      },
      "source": [
        ""
      ],
      "execution_count": null,
      "outputs": []
    }
  ]
}