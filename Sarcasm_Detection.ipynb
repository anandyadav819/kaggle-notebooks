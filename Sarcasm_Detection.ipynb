{
  "nbformat": 4,
  "nbformat_minor": 0,
  "metadata": {
    "colab": {
      "name": "Sarcasm Detection.ipynb",
      "provenance": [],
      "collapsed_sections": [
        "qyo2a-YkPCDC"
      ],
      "authorship_tag": "ABX9TyPHOwKV2MOOstYI+aSGAY3q",
      "include_colab_link": true
    },
    "kernelspec": {
      "name": "python3",
      "display_name": "Python 3"
    },
    "accelerator": "GPU"
  },
  "cells": [
    {
      "cell_type": "markdown",
      "metadata": {
        "id": "view-in-github",
        "colab_type": "text"
      },
      "source": [
        "<a href=\"https://colab.research.google.com/github/anandyadav819/kaggle-notebooks/blob/main/Sarcasm_Detection.ipynb\" target=\"_parent\"><img src=\"https://colab.research.google.com/assets/colab-badge.svg\" alt=\"Open In Colab\"/></a>"
      ]
    },
    {
      "cell_type": "markdown",
      "metadata": {
        "id": "ugZarqJGeLJI"
      },
      "source": [
        "Kaggle Datset - https://www.kaggle.com/rmisra/news-headlines-dataset-for-sarcasm-detection"
      ]
    },
    {
      "cell_type": "code",
      "metadata": {
        "id": "L-AjZO0TK61H"
      },
      "source": [
        "from google.colab import drive\n",
        "import os"
      ],
      "execution_count": null,
      "outputs": []
    },
    {
      "cell_type": "code",
      "metadata": {
        "colab": {
          "base_uri": "https://localhost:8080/"
        },
        "id": "u2r_qVvyLI9F",
        "outputId": "81d54243-d1bc-4332-dc8d-517aff79b6f0"
      },
      "source": [
        "drive.mount(\"gdrive/\")\n",
        "#os.chdir(\"gdrive/My Drive/NLP/datasets/Disneyland Reviews/\")\n",
        "os.chdir(\"gdrive/My Drive/NLP/\")"
      ],
      "execution_count": null,
      "outputs": [
        {
          "output_type": "stream",
          "text": [
            "Mounted at gdrive/\n"
          ],
          "name": "stdout"
        }
      ]
    },
    {
      "cell_type": "code",
      "metadata": {
        "id": "C5-ROEfpLKq-"
      },
      "source": [
        "import pandas as pd\n",
        "import numpy as np\n",
        "import matplotlib.pyplot as plt\n",
        "import seaborn as sns\n",
        "import spacy\n",
        "from sklearn.feature_extraction.text import TfidfVectorizer\n",
        "from sklearn.preprocessing import LabelEncoder\n",
        "from sklearn.model_selection import train_test_split\n",
        "from sklearn.linear_model import LogisticRegression, Lasso, Huber, RidgeClassifier\n",
        "from sklearn.ensemble import RandomForestClassifier\n",
        "from sklearn.metrics import classification_report\n",
        "import re\n",
        "import nltk\n",
        "from nltk.corpus import stopwords\n",
        "from nltk.stem import WordNetLemmatizer\n",
        "from nltk.stem.porter import *\n",
        "from nltk.stem.snowball import SnowballStemmer\n",
        "import tensorflow as tf\n",
        "import json"
      ],
      "execution_count": null,
      "outputs": []
    },
    {
      "cell_type": "code",
      "metadata": {
        "colab": {
          "base_uri": "https://localhost:8080/"
        },
        "id": "hvCTvvc0LPH-",
        "outputId": "9007ab31-b215-4da7-a5ce-f78461df0430"
      },
      "source": [
        "nltk.download('stopwords')\n",
        "nltk.download('wordnet')\n",
        "! python -m spacy download en_core_web_md"
      ],
      "execution_count": null,
      "outputs": [
        {
          "output_type": "stream",
          "text": [
            "[nltk_data] Downloading package stopwords to /root/nltk_data...\n",
            "[nltk_data]   Unzipping corpora/stopwords.zip.\n",
            "[nltk_data] Downloading package wordnet to /root/nltk_data...\n",
            "[nltk_data]   Unzipping corpora/wordnet.zip.\n",
            "Collecting en_core_web_md==2.2.5\n",
            "\u001b[?25l  Downloading https://github.com/explosion/spacy-models/releases/download/en_core_web_md-2.2.5/en_core_web_md-2.2.5.tar.gz (96.4MB)\n",
            "\u001b[K     |████████████████████████████████| 96.4MB 1.2MB/s \n",
            "\u001b[?25hRequirement already satisfied: spacy>=2.2.2 in /usr/local/lib/python3.7/dist-packages (from en_core_web_md==2.2.5) (2.2.4)\n",
            "Requirement already satisfied: preshed<3.1.0,>=3.0.2 in /usr/local/lib/python3.7/dist-packages (from spacy>=2.2.2->en_core_web_md==2.2.5) (3.0.5)\n",
            "Requirement already satisfied: setuptools in /usr/local/lib/python3.7/dist-packages (from spacy>=2.2.2->en_core_web_md==2.2.5) (53.0.0)\n",
            "Requirement already satisfied: cymem<2.1.0,>=2.0.2 in /usr/local/lib/python3.7/dist-packages (from spacy>=2.2.2->en_core_web_md==2.2.5) (2.0.5)\n",
            "Requirement already satisfied: requests<3.0.0,>=2.13.0 in /usr/local/lib/python3.7/dist-packages (from spacy>=2.2.2->en_core_web_md==2.2.5) (2.23.0)\n",
            "Requirement already satisfied: tqdm<5.0.0,>=4.38.0 in /usr/local/lib/python3.7/dist-packages (from spacy>=2.2.2->en_core_web_md==2.2.5) (4.41.1)\n",
            "Requirement already satisfied: murmurhash<1.1.0,>=0.28.0 in /usr/local/lib/python3.7/dist-packages (from spacy>=2.2.2->en_core_web_md==2.2.5) (1.0.5)\n",
            "Requirement already satisfied: srsly<1.1.0,>=1.0.2 in /usr/local/lib/python3.7/dist-packages (from spacy>=2.2.2->en_core_web_md==2.2.5) (1.0.5)\n",
            "Requirement already satisfied: blis<0.5.0,>=0.4.0 in /usr/local/lib/python3.7/dist-packages (from spacy>=2.2.2->en_core_web_md==2.2.5) (0.4.1)\n",
            "Requirement already satisfied: catalogue<1.1.0,>=0.0.7 in /usr/local/lib/python3.7/dist-packages (from spacy>=2.2.2->en_core_web_md==2.2.5) (1.0.0)\n",
            "Requirement already satisfied: plac<1.2.0,>=0.9.6 in /usr/local/lib/python3.7/dist-packages (from spacy>=2.2.2->en_core_web_md==2.2.5) (1.1.3)\n",
            "Requirement already satisfied: thinc==7.4.0 in /usr/local/lib/python3.7/dist-packages (from spacy>=2.2.2->en_core_web_md==2.2.5) (7.4.0)\n",
            "Requirement already satisfied: numpy>=1.15.0 in /usr/local/lib/python3.7/dist-packages (from spacy>=2.2.2->en_core_web_md==2.2.5) (1.19.5)\n",
            "Requirement already satisfied: wasabi<1.1.0,>=0.4.0 in /usr/local/lib/python3.7/dist-packages (from spacy>=2.2.2->en_core_web_md==2.2.5) (0.8.2)\n",
            "Requirement already satisfied: certifi>=2017.4.17 in /usr/local/lib/python3.7/dist-packages (from requests<3.0.0,>=2.13.0->spacy>=2.2.2->en_core_web_md==2.2.5) (2020.12.5)\n",
            "Requirement already satisfied: chardet<4,>=3.0.2 in /usr/local/lib/python3.7/dist-packages (from requests<3.0.0,>=2.13.0->spacy>=2.2.2->en_core_web_md==2.2.5) (3.0.4)\n",
            "Requirement already satisfied: urllib3!=1.25.0,!=1.25.1,<1.26,>=1.21.1 in /usr/local/lib/python3.7/dist-packages (from requests<3.0.0,>=2.13.0->spacy>=2.2.2->en_core_web_md==2.2.5) (1.24.3)\n",
            "Requirement already satisfied: idna<3,>=2.5 in /usr/local/lib/python3.7/dist-packages (from requests<3.0.0,>=2.13.0->spacy>=2.2.2->en_core_web_md==2.2.5) (2.10)\n",
            "Requirement already satisfied: importlib-metadata>=0.20; python_version < \"3.8\" in /usr/local/lib/python3.7/dist-packages (from catalogue<1.1.0,>=0.0.7->spacy>=2.2.2->en_core_web_md==2.2.5) (3.7.0)\n",
            "Requirement already satisfied: typing-extensions>=3.6.4; python_version < \"3.8\" in /usr/local/lib/python3.7/dist-packages (from importlib-metadata>=0.20; python_version < \"3.8\"->catalogue<1.1.0,>=0.0.7->spacy>=2.2.2->en_core_web_md==2.2.5) (3.7.4.3)\n",
            "Requirement already satisfied: zipp>=0.5 in /usr/local/lib/python3.7/dist-packages (from importlib-metadata>=0.20; python_version < \"3.8\"->catalogue<1.1.0,>=0.0.7->spacy>=2.2.2->en_core_web_md==2.2.5) (3.4.0)\n",
            "Building wheels for collected packages: en-core-web-md\n",
            "  Building wheel for en-core-web-md (setup.py) ... \u001b[?25l\u001b[?25hdone\n",
            "  Created wheel for en-core-web-md: filename=en_core_web_md-2.2.5-cp37-none-any.whl size=98051305 sha256=b5c6801b48a3952aaba6debbad85694ba91943a7c1139bbb3502931d59837075\n",
            "  Stored in directory: /tmp/pip-ephem-wheel-cache-vl4f_kjd/wheels/df/94/ad/f5cf59224cea6b5686ac4fd1ad19c8a07bc026e13c36502d81\n",
            "Successfully built en-core-web-md\n",
            "Installing collected packages: en-core-web-md\n",
            "Successfully installed en-core-web-md-2.2.5\n",
            "\u001b[38;5;2m✔ Download and installation successful\u001b[0m\n",
            "You can now load the model via spacy.load('en_core_web_md')\n"
          ],
          "name": "stdout"
        }
      ]
    },
    {
      "cell_type": "code",
      "metadata": {
        "id": "PVhHC3pqLQm1"
      },
      "source": [
        "nlp = spacy.load('en', disable=[\"tagger\", \"parser\"])"
      ],
      "execution_count": null,
      "outputs": []
    },
    {
      "cell_type": "code",
      "metadata": {
        "id": "fdw2M6OeLeQd"
      },
      "source": [
        "def parse_data(file):\n",
        "    for l in open(file,'r'):\n",
        "        yield json.loads(l)\n",
        "\n",
        "data_v1 = list(parse_data('datasets/Sarcasm/Sarcasm_Headlines_Dataset.json'))\n",
        "data_v2 = list(parse_data('datasets/Sarcasm/Sarcasm_Headlines_Dataset_v2.json'))"
      ],
      "execution_count": null,
      "outputs": []
    },
    {
      "cell_type": "code",
      "metadata": {
        "id": "iHFzkvWkLzLy"
      },
      "source": [
        "def create_dataframe(list_of_dicts):\n",
        "  all_headlines = [i['headline'] for i in list_of_dicts]\n",
        "  all_labels = [i['is_sarcastic'] for i in list_of_dicts]\n",
        "  return pd.DataFrame({\"Text\":all_headlines, \"Label\":all_labels})"
      ],
      "execution_count": null,
      "outputs": []
    },
    {
      "cell_type": "code",
      "metadata": {
        "id": "GLN4mCUNLu_f"
      },
      "source": [
        "train_df = create_dataframe(data_v1)\n",
        "test_df = create_dataframe(data_v2)"
      ],
      "execution_count": null,
      "outputs": []
    },
    {
      "cell_type": "code",
      "metadata": {
        "colab": {
          "base_uri": "https://localhost:8080/"
        },
        "id": "mo8S6przMeHY",
        "outputId": "57fc49e2-3a05-4e3b-c9b2-af8cd47e7651"
      },
      "source": [
        "print(train_df.head())\n",
        "print(test_df.head())"
      ],
      "execution_count": null,
      "outputs": [
        {
          "output_type": "stream",
          "text": [
            "                                                Text  Label\n",
            "0  former versace store clerk sues over secret 'b...      0\n",
            "1  the 'roseanne' revival catches up to our thorn...      0\n",
            "2  mom starting to fear son's web series closest ...      1\n",
            "3  boehner just wants wife to listen, not come up...      1\n",
            "4  j.k. rowling wishes snape happy birthday in th...      0\n",
            "                                                Text  Label\n",
            "0  thirtysomething scientists unveil doomsday clo...      1\n",
            "1  dem rep. totally nails why congress is falling...      0\n",
            "2  eat your veggies: 9 deliciously different recipes      0\n",
            "3  inclement weather prevents liar from getting t...      1\n",
            "4  mother comes pretty close to using word 'strea...      1\n"
          ],
          "name": "stdout"
        }
      ]
    },
    {
      "cell_type": "code",
      "metadata": {
        "colab": {
          "base_uri": "https://localhost:8080/"
        },
        "id": "5DSFthw4LWcF",
        "outputId": "132e6660-6c61-49d6-927f-90cf76b2d5b6"
      },
      "source": [
        "print(train_df.shape, test_df.shape)\n",
        "#data = pd.read_csv(\"datasets/Disneyland Reviews/DisneylandReviews.csv\", encoding=\"ISO-8859-1\")"
      ],
      "execution_count": null,
      "outputs": [
        {
          "output_type": "stream",
          "text": [
            "(26709, 2) (28619, 2)\n"
          ],
          "name": "stdout"
        }
      ]
    },
    {
      "cell_type": "code",
      "metadata": {
        "colab": {
          "base_uri": "https://localhost:8080/"
        },
        "id": "1b3WdED_MyUM",
        "outputId": "416a7bc4-29f5-48ed-8038-da0789267d8a"
      },
      "source": [
        "all_data = pd.concat([train_df, test_df], axis=0)\n",
        "print(all_data.shape)"
      ],
      "execution_count": null,
      "outputs": [
        {
          "output_type": "stream",
          "text": [
            "(55328, 2)\n"
          ],
          "name": "stdout"
        }
      ]
    },
    {
      "cell_type": "code",
      "metadata": {
        "colab": {
          "base_uri": "https://localhost:8080/",
          "height": 279
        },
        "id": "f0XyfRsyNM9O",
        "outputId": "66a37901-afb4-4a6f-cdd8-79c71e4cc5f5"
      },
      "source": [
        "sns.countplot(x='Label', data=all_data);"
      ],
      "execution_count": null,
      "outputs": [
        {
          "output_type": "display_data",
          "data": {
            "image/png": "[encoded data removed]",
            "text/plain": [
              "<Figure size 432x288 with 1 Axes>"
            ]
          },
          "metadata": {
            "tags": [],
            "needs_background": "light"
          }
        }
      ]
    },
    {
      "cell_type": "markdown",
      "metadata": {
        "id": "X8LriyqVN0oQ"
      },
      "source": [
        "#Preprocessing"
      ]
    },
    {
      "cell_type": "code",
      "metadata": {
        "id": "Ru046ym3NTa5"
      },
      "source": [
        "def clean_text(x):\n",
        "  \n",
        "  #x = re.sub(r\"\\W\", \" \", x)\n",
        "  x = re.sub(r\"[0-9]\", \" \", x)\n",
        "  x = re.sub(r\"\\s{2,}\", \" \", x)\n",
        "  return x.strip()\n",
        "\n",
        "def clean_text2(x):\n",
        "  \n",
        "  #x = re.sub(r\"\\W\", \" \", x)\n",
        "  #x = re.sub(r\"[0-9]\", \" \", x)\n",
        "  x = re.sub(r\"\\s{2,}\", \" \", x)\n",
        "  x = re.sub(r\" s \", \" \", x)\n",
        "  \n",
        "  return x.strip()\n"
      ],
      "execution_count": null,
      "outputs": []
    },
    {
      "cell_type": "code",
      "metadata": {
        "id": "CuFXmzukN8wp"
      },
      "source": [
        "#all_clean_text = [clean_text2(clean_text(i)) for i in all_data['Text'].tolist()]\n",
        "all_clean_text = all_data['Text'].tolist()"
      ],
      "execution_count": null,
      "outputs": []
    },
    {
      "cell_type": "code",
      "metadata": {
        "colab": {
          "base_uri": "https://localhost:8080/"
        },
        "id": "TJJ9I44oOEqH",
        "outputId": "9251993f-98be-49e6-820d-858f8d6b4b80"
      },
      "source": [
        "all_clean_text"
      ],
      "execution_count": null,
      "outputs": [
        {
          "output_type": "execute_result",
          "data": {
            "text/plain": [
              "[\"former versace store clerk sues over secret 'black code' for minority shoppers\",\n",
              " \"the 'roseanne' revival catches up to our thorny political mood, for better and worse\",\n",
              " \"mom starting to fear son's web series closest thing she will have to grandchild\",\n",
              " 'boehner just wants wife to listen, not come up with alternative debt-reduction ideas',\n",
              " 'j.k. rowling wishes snape happy birthday in the most magical way',\n",
              " \"advancing the world's women\",\n",
              " 'the fascinating case for eating lab-grown meat',\n",
              " 'this ceo will send your kids to school, if you work for his company',\n",
              " 'top snake handler leaves sinking huckabee campaign',\n",
              " \"friday's morning email: inside trump's presser for the ages\",\n",
              " 'airline passengers tackle man who rushes cockpit in bomb threat',\n",
              " 'facebook reportedly working on healthcare features and apps',\n",
              " \"north korea praises trump and urges us voters to reject 'dull hillary'\",\n",
              " \"actually, cnn's jeffrey lord has been 'indefensible' for a while\",\n",
              " 'barcelona holds huge protest in support of refugees',\n",
              " \"nuclear bomb detonates during rehearsal for 'spider-man' musical\",\n",
              " \"cosby lawyer asks why accusers didn't come forward to be smeared by legal team years ago\",\n",
              " 'stock analysts confused, frightened by boar market',\n",
              " \"bloomberg's program to build better cities just got bigger\",\n",
              " 'craig hicks indicted',\n",
              " 'courtroom sketch artist has clear manga influences',\n",
              " 'trump assures nation that decision for syrian airstrikes came after carefully considering all his passing whims',\n",
              " 'qatar deporting dutch woman who reported she was drugged and raped',\n",
              " \"this is why you shouldn't go to the circus\",\n",
              " \"ted cruz hits the panic button: 'we could lose both houses of congress'\",\n",
              " 'why writers must plan to be surprised',\n",
              " 'obama visits arlington national cemetery to honor veterans',\n",
              " 'ex-con back behind bar',\n",
              " 'after careful consideration, bush recommends oil drilling',\n",
              " 'remembrance is the beginning of the task',\n",
              " 'allies: islamist motive for killing nemtsov is nonsense',\n",
              " \"gillian jacobs on what it's like to kiss adam brody\",\n",
              " \"uber vows to repay nyc drivers 'tens of millions' after tax snafu\",\n",
              " 'apple may have poached electric motorcycle company to death',\n",
              " \"drug-resistant bacteria often lurk in children's, dogs' sandboxes\",\n",
              " 'if you see a muslim at the airport',\n",
              " 'giant altoid heading toward earth',\n",
              " \"'moana' sails straight to the top of the box office with massive $81.1 million opening\",\n",
              " 'selig counted money while baseball lost the next generation of fans',\n",
              " 'robin williams inflicted on holiday moviegoers for eighth straight year',\n",
              " \"devin nunes vows to 'never' reveal source of surveillance claims\",\n",
              " 'scott used to stop breathing nearly 40 times an hour. this device changed his life',\n",
              " 'rescuers heroically help beached garbage back into ocean',\n",
              " \"medics drop soccer player from stretcher; he's ticked\",\n",
              " 'give the gift of play this holiday season',\n",
              " 'christian bale visits sikh temple victims',\n",
              " 'spicer denies that ending maternity care guarantee would mean women pay more for health care',\n",
              " \"'right to live life in complete, stunned horror,' added to constitution\",\n",
              " 'nasa now almost positive mars is rocky',\n",
              " 'monster undeterred by night-light',\n",
              " 'diy: sports equipment closet',\n",
              " '1 dead, 3 injured in shooting at t.i. concert in nyc',\n",
              " \"longtime teacher retires without changing a single student's life\",\n",
              " 'donald trump heading for a series of wins in the northeast, polls say',\n",
              " \"donald trump wouldn't have had the ready cash to self-finance entire campaign — analysis\",\n",
              " \"new 'star wars' film once again disappoints die-hard nien nunb fans\",\n",
              " \"bats shooed out of nation's waterslide tunnels in preparation for summer\",\n",
              " 'mobile news crew reports on own van breaking down',\n",
              " \"un rights chief calls humanitarian situation in syria 'an outrage'\",\n",
              " \"how to track santa claus' flight around the world this christmas eve\",\n",
              " 'obama has colorado appraised',\n",
              " \"trouble again in tv's africa\",\n",
              " 'brita unveils new in-throat water filters',\n",
              " 'report: john grisham slowly but surely climbing list of greatest living american authors',\n",
              " \"ghost can't make a simple cup of coffee without everyone freaking out\",\n",
              " 'tupperware will never truly recover from red curry leftovers',\n",
              " \"one of the planet's most powerful forces for change? an adolescent girl\",\n",
              " 'how does draymond green take his game to the next level? by tuning in to the wnba',\n",
              " \"area woman said 'sorry' 118 times yesterday\",\n",
              " 'ryan lochte apologizes for behavior in rio',\n",
              " 'north dakota not heard from in 48 hours',\n",
              " '4 lessons prison taught me about power and control',\n",
              " 'sick fucks line up to gape at dead body',\n",
              " \"what is america's first muslim fraternity really like?\",\n",
              " 'the vicious knot of syria, the untangling process contains solutions in our time',\n",
              " 'this congressman thinks we can fix the economy by drinking beer',\n",
              " 'breast implants found to cause problems in laboratory mice',\n",
              " 'trump orders strikes on syria in retaliation for chemical attack',\n",
              " \"ceo's funeral a networking dream\",\n",
              " 'year-round schooling: how it would help minority students',\n",
              " '90 zen teachers pledge to change culture that fosters abuse',\n",
              " 'nypd weighs allowing chokeholds following eric garner death',\n",
              " 'sonny bono foundation prevents at-risk youths from skiing into trees',\n",
              " \"pope francis reminds the world that caring for the earth is everyone's responsibility\",\n",
              " '6-year-old cries when told mtm productions kitten dead by now',\n",
              " \"ex-boyfriend just thought he'd check in and throw entire day off\",\n",
              " \"doctors restore ken burns' full-color vision after removing massive tumor from filmmaker's visual cortex\",\n",
              " \"'gravity' & '12 years a slave' tie at 2014 pga awards\",\n",
              " 'for national coming out day, 150 lgbtq sports people who have come out in the last year',\n",
              " 'john oliver lays out the most disturbing ways in which trump impacts america',\n",
              " 'house gop crackdown continues',\n",
              " \"'i must make sure you have the skills to please my grandson,' says queen elizabeth disrobing before meghan markle\",\n",
              " 'man visiting hometown amazed to find all his childhood insecurities still there',\n",
              " 'look: world cup star attacked by giant bug',\n",
              " 'clinton becomes first president to clear 18 feet in pole vault',\n",
              " 'hunter s. thompson shoots mouth off one last time',\n",
              " \"inhofe's grand climate conspiracy theory: it's all about barbra streisand\",\n",
              " '5 questions i wish younger people would stop asking me',\n",
              " 'albuquerque shooter on the loose; gunman leaves 1 dead, 3 injured',\n",
              " \"what it's like to lose everything in a flood\",\n",
              " \"demi lovato drops emotional 'nightingale' music vid\",\n",
              " 'miley cyrus and liam hemsworth smooch on nye, and the world notices',\n",
              " 'jealous gps clearly wants man to back over wife',\n",
              " \"'parks and rec' star natalie morales comes out as queer\",\n",
              " 'the top italy tours for 2015',\n",
              " \"kaia gerber, cindy crawford's daughter, lands major fashion campaign\",\n",
              " 'l.a. grants clippers $12 for new nets',\n",
              " 'james corden roasts david beckham for matching outfits with posh',\n",
              " 'café adds heartbreaking little lunch menu',\n",
              " \"mcdonald's says its packaging will be 100 percent green by 2025\",\n",
              " \"kris jenner turned all the way up for drunken valentine's day karaoke\",\n",
              " 'whale regrets eating 290,000 plastic poker chips that fell off container ship',\n",
              " \"texas ebola patient 'fighting for his life'\",\n",
              " \"'is it too late to audition?' asks perfect actor for role, poking head into room just as producers were giving up hope\",\n",
              " 'robert de niro to turn 58 for movie role',\n",
              " 'scott pruitt (sort of) answers whether trump believes in climate change',\n",
              " 'accused father and son urinal thieves flushed out by cops',\n",
              " \"'just take it slow, and you'll be fine,' drunk driver assures self while speeding away in stolen police car\",\n",
              " \"3 libertarians fuel $7 million super pac in philadelphia's mayoral democratic primary\",\n",
              " \"air force will no longer require 'so help me god' in enlistment oaths\",\n",
              " 'paul newman dies after consuming 51 hard-boiled eggs',\n",
              " 'yak chews thoughtfully',\n",
              " \"man worried about drug dealer who's not picking up phone\",\n",
              " \"dad recommends hotel 10 miles away from city you're visiting\",\n",
              " 'explosion fells building outside paris, killing at least 2',\n",
              " \"the source of donald trump's military expertise finally revealed!\",\n",
              " 'union claims sanders campaign staffers posed as members to influence workers',\n",
              " \"seattle mayor's accuser in sex-abuse lawsuit comes forward\",\n",
              " 'southern comfort comforts southerner',\n",
              " 'swedish police featured in film shown by fox news say they were selectively edited',\n",
              " 'chromat features not 1, but 2 plus-size models on its runway',\n",
              " 'councilman calls on baltimore rappers to inspire students',\n",
              " '10 qualities of your inner spirit',\n",
              " 'chubby jewish boy dreams of one day being next apatow muse',\n",
              " \"the only parenting advice i'd dare to give\",\n",
              " 'family chooses different dog than reincarnated grandfather',\n",
              " 'celebrities celebrate fourth of july with some fun in the sun',\n",
              " 'international women\\'s day: will \"western women save the world\"?',\n",
              " \"michelle phan, youtube's 'beauty bestie,' empowers women from the outside in\",\n",
              " \"caitlyn jenner responds to ricky gervais' golden globes jokes\",\n",
              " 'joy behar responds to michael flynn guilty plea with pure joy',\n",
              " '6 things no one tells women about their weight loss journey',\n",
              " 'fan disappointed to learn l. ron hubbard scientologist',\n",
              " 'marriage breaks up over procreative differences',\n",
              " 'ne-yo helps to raise $2.3 million for california engineering school',\n",
              " \"elizabeth warren calls donald trump a 'racist bully'\",\n",
              " 'six dead, 10 hurt in baltimore commuter, school bus crash',\n",
              " 'fox news problem solvers in way over their heads',\n",
              " 'kim gordon clarifies her comments on lana del rey and feminism',\n",
              " \"bashar al-assad tries tiny bit of sarin gas on self to see what it's like\",\n",
              " \"my niece has cancer and i'm ticked about it\",\n",
              " 'supermodel stephanie seymour arrested, charged with drunken driving',\n",
              " 'scoliosis: what you need to know',\n",
              " \"controversy erupts after uk retailer removes gender labels from kids' clothes\",\n",
              " 'teacher bitches about paycheck to sixth-grade class',\n",
              " 'area insurance salesman celebrates 14th year of quoting fletch',\n",
              " 'friends always on best behavior around neil labute',\n",
              " 'man vows never to watch another sci-fi movie with physicist friend',\n",
              " \"biologists announce they're all done with rodents\",\n",
              " \"megyn kelly on donald trump: 'i have done my level best to not make this story about me'\",\n",
              " 'the secret behind a one day project going viral',\n",
              " 'creating leverage where none seems to exist',\n",
              " \"new movie taps into nation's love of rapping kangaroos\",\n",
              " 'newspaper starting to worry spending so much time on facebook not healthy for it',\n",
              " 'the lawsuit against black lives matter and the central meaning of the first amendment',\n",
              " \"vatican putting out feelers for how public would react to another children's crusade\",\n",
              " \"'the wire' cast reunited in baltimore to uplift community\",\n",
              " \"obama's supreme court nominee just bragged about sending this man to prison. now he's free.\",\n",
              " 'death of d.c. man in security guard custody ruled a homicide',\n",
              " 'boehner vows to leave successor with clean slate',\n",
              " 'trump makes last-minute push to appeal to whites',\n",
              " 'facing rising seas, remote alaskan village votes to move (again)',\n",
              " \"all of child's fondest memories times when dad trying to make up for things\",\n",
              " 'the worst place in the world for a child',\n",
              " \"mom sentenced for encouraging boyfriend's sex assault on baby\",\n",
              " \"donald trump's assault on our values\",\n",
              " \"the women's march inspired them to run. now they're unseating gop men.\",\n",
              " 'was it worth it, america?',\n",
              " \"gop senators aren't ready to accept trump as their champion\",\n",
              " 'price-gouging pharma ceo takes over cancer company',\n",
              " 'man failing to heed harsh lessons of past orders sonic bacon cheeseburger toaster',\n",
              " \"ken burns completes documentary about fucking liars who claimed they watched entire 'jazz' series\",\n",
              " 'magic-markered initials fail to deter breakroom rice-cake thief',\n",
              " \"'straight outta compton' is a stunning surprise\",\n",
              " \"carly rae jepsen just released her new single, 'all that'\",\n",
              " \"god humbled to be the answer to 'jeopardy!' clue\",\n",
              " \"female barista getting a lot better at avoiding touching male patrons' hands when they pay\",\n",
              " 'gunman kills one, wounds four in shooting at german nightclub',\n",
              " \"couple at point where they're comfortable using toilet at same time\",\n",
              " 'mountain lion tracked by scientists is found dead near malibu road',\n",
              " \"noah cyrus makes her late-night debut belting out 'make me (cry)'\",\n",
              " 'scalia goes on abortion bender after being passed over for chief justice',\n",
              " \"campbell's unveils one big can-sized noodle\",\n",
              " 'is area man going to finish those fries?',\n",
              " \"taylor swift used a 'gremlin voice' while writing '1989'\",\n",
              " \"restaurant's eating challenge rewards any patron who can consume reasonably portioned meal\",\n",
              " \"fun sticker placed on child's ventilator\",\n",
              " 'the best way to eat avocados: avocado pasta',\n",
              " \"that one mcdonald's plate from the '70s: holy shit, there it is\",\n",
              " \"an open letter to progressives: tpp is not yet 'the most progressive trade agreement in history'\",\n",
              " 'modern-day lancelot offers to pay for abortion',\n",
              " 'united airlines offering immigrants special flights that circle u.s. awaiting gaps in travel ban',\n",
              " 'sun thinking of just collapsing now and getting this all over with',\n",
              " \"justice thomas' wife calls supreme court retirement report 'bogus'\",\n",
              " 'trump retweets video from anti-muslim hate group',\n",
              " 'long-silent facebook friend comes out of woodwork with post asking about insulating windows',\n",
              " 'struggling airline helped by friendly giant',\n",
              " '7 ways to breakup like a boss',\n",
              " \"sure seems like frankie muniz wants a 'malcolm in the middle' reboot\",\n",
              " 'using the united fiasco to flourish in the future',\n",
              " \"unemployed sibling makes last push for group mother's day gift\",\n",
              " \"3822 voted america's favorite pin number\",\n",
              " 'thank a teacher thursday: dominic casulli and the power of encouragement, part 1',\n",
              " \"a toe in the arctic ocean: canada's northwest territories on the looney front, part 2\",\n",
              " \"'it will never happen to me'\",\n",
              " 'mark zuckerberg cited for contempt of congress after refusing to shut the fuck up about how he started company in dorm room',\n",
              " \"rubio supporters get in a scuffle with a 'rubiobot'\",\n",
              " 'the music of strangers: a film review by dr. lloyd sederer',\n",
              " \"'dsm-5' updated to accommodate man who is legitimately being ordered to kill by the moon\",\n",
              " \"purina debuts new 'slovenly feast' for nasty-ass shelter cats\",\n",
              " 'obama chides darrell issa for touting alliance with him in re-election fight',\n",
              " \"pope francis' iraq peace message meets the reality of war\",\n",
              " \"'ant-man and the wasp' trailer brings the fun after 'avengers: infinity war'\",\n",
              " 'frontier airlines tells customers to just fucking deal with it',\n",
              " 'moses and the red sea',\n",
              " \"everyone forgets to bring swimsuits to coworker's party\",\n",
              " 'george takei accused of groping former male model in 1981',\n",
              " 'new york times adds color to target under-70 demographic',\n",
              " \"the hollywood boys' club that supports casey affleck is a total disgrace\",\n",
              " '3 myths about low libido',\n",
              " \"girl scouts rocked by 'cookies for cash' fundraising scandal\",\n",
              " 'christian juggler regrets years wasted as secular juggler',\n",
              " 'huffpollster: americans see progress, room for improvement on voting rights',\n",
              " 'world will miss goal for universal education by 50 years: un',\n",
              " \"jennifer lopez's name is jennifer lopez again\",\n",
              " 'how to rebuild your credit after bankruptcy -- fast',\n",
              " 'discover how climate change is rapidly transforming our earth with google timelapse',\n",
              " 'man who does everything at last minute wonders how you do it',\n",
              " 'voting lines are shorter — but mostly for whites',\n",
              " 'conrad bain steps down as national kitsch-reference laureate',\n",
              " 'amanda slavin: not just a statistic',\n",
              " \"laurie hernandez and val chmerkovskiy are already our favorite 'dancing with the stars' couple\",\n",
              " \"new photos show hurricane matthew's path of destruction in haiti\",\n",
              " 'florida lawmakers vote to ban marriage under the age of 17',\n",
              " 'nasa inadvertently launches unmanned space shuttle',\n",
              " \"nick viall is no longer a 'bachelor'\",\n",
              " 'why america demonizes its teachers',\n",
              " 'new instant lottery game features three ways to win, 19,839,947 ways to lose',\n",
              " 'podcast a cry for help',\n",
              " \"fashion designer peter som's legendary minestrone soup recipe\",\n",
              " 'photography series spotlighting iconic women over 70 proves the best is yet to come',\n",
              " \"clairvoyant vince vaughn accepts movie role before it's offered\",\n",
              " \"report kenan thompson is leaving 'snl' deemed 'inaccurate'\",\n",
              " 'woman hid heroin, oxy under fake butt, cops say',\n",
              " \"'don't cry for me'\",\n",
              " 'isis and the g-41 world',\n",
              " 'melania trump hangs decayed badger carcass over white house mantel to finish off traditional slovenian christmas decor',\n",
              " 'woman who admits to having watched golden globes thinks jodie foster embarrassed herself',\n",
              " \"sarah huckabee sanders defends trump's sexist attack on kirsten gillibrand\",\n",
              " \"saying goodbye to hollywood's hottest, seediest address\",\n",
              " 'bush increasingly focused on how revisionist history will see him',\n",
              " '11 years later: the human genome paves the way for genomic technonlogy',\n",
              " 'man claiming to be boko haram leader appears in new video',\n",
              " 'how do i live knowing proof of heaven?',\n",
              " 'on pilgrimage in india',\n",
              " 'will religious freedom advocates oppose roy moore?',\n",
              " \"uaw, fca still negotiating under 'hour-by-hour' contract extension\",\n",
              " 'if bernie sanders wanted to solve problems like donald trump',\n",
              " 'there is no right way, just write',\n",
              " 'rest of evening spent declaring asshole not going to ruin evening',\n",
              " \"north carolina doesn't seem to want people to see police camera footage\",\n",
              " \"the education department officially won't deal with transgender students experiencing bathroom discrimination\",\n",
              " \"why we won't be participating in black friday\",\n",
              " 'hooded members of congress drown another love child in potomac to prevent affair from getting out',\n",
              " 'merkel: isis poses major risk to europe',\n",
              " 'alcoholic kindergarten teacher stretches naptime to three hours',\n",
              " 'report: store out of good kind',\n",
              " 'devastating floods leave 23 dead in west virginia',\n",
              " \"obama's greatest oratory performance\",\n",
              " 'grandmother palms grandson $10 like she fixing boxing match',\n",
              " 'bumper nilla crop spells profit for wafer growers',\n",
              " \"6 summer salads you'll actually crave\",\n",
              " \"the black keys new album 'turn blue' is now available to stream in full\",\n",
              " \"isis vs isil -- what's in a name?\",\n",
              " \"national trust for historic preservation to pay for andy rooney's upkeep\",\n",
              " \"list of names on gchat sidebar like a portal into area man's past lives\",\n",
              " 'tomi lahren is suing glenn beck and theblaze',\n",
              " 'greg hardy unapologetically denies domestic abuse allegations',\n",
              " 'tourists describe scenes of horror in tunisian beach massacre',\n",
              " 'trump voters blink',\n",
              " \"photos from 'ahs' set may help explain all those creepy blond children\",\n",
              " 'study: more couples delaying divorce until kids old enough to remember every painful detail',\n",
              " \"never-before-heard buzzword flying around office can't be good\",\n",
              " \"man not certain what any of his coworkers' names are\",\n",
              " 'psychologists push for smartphone warning labels',\n",
              " 'clinton receives 400,000 honorary degrees for college commencement speech',\n",
              " \"scavenger-hunt party 'not leaving without twine'\",\n",
              " 'the republican obamacare dilemma in one 6-minute video',\n",
              " 'mass graves suggest systematic killing of rohingya in myanmar',\n",
              " 'final german u-boat surrenders to allied powers',\n",
              " 'private prison companies will still lock up immigrants, despite doj decision',\n",
              " \"woman's head feared lost forever inside infinity scarf\",\n",
              " 'fed-up brookstone body-massage chair now only entertaining serious buyers',\n",
              " 'trump asks entire senate to clear out of chamber so he can speak to comey alone',\n",
              " 'grateful dead lyricist, internet pioneer john perry barlow dead at 70',\n",
              " 'new report finds americans most interested in science when moon looks different than usual',\n",
              " \"'new york times' moves all content you won't give a shit about unless you make at least $200k a year into one convenient section\",\n",
              " 'philippines president calls on civilians to kill drug addicts',\n",
              " \"woman perfectly breaks down why she's not 'just' a nurse\",\n",
              " 'chicago police department to monitor all interactions with public using new bullet cams',\n",
              " 'amid the chattering of the global elite, a silent interlude',\n",
              " 'at least 23 ethical issues are dogging epa administrator scott pruitt',\n",
              " \"won't ask, don't tell\",\n",
              " 'weird black dot actually part of bowl',\n",
              " 'vegas, baby! (well, minus our babies)',\n",
              " \"people really like kanye's new song 'real friends' because it's really g.o.o.d.\",\n",
              " \"20 suede pieces you'll want to wear all spring\",\n",
              " 'fcc sentences artie lange to death',\n",
              " \"behold the title of 'american horror story' season 7\",\n",
              " 'football-loving americans harassed for wearing turbans to nfl game',\n",
              " 'to your health',\n",
              " 'new job posting on craigslist clearly for secretary of the interior',\n",
              " \"seth meyers loses it over thanksgiving's proximity to christmas\",\n",
              " '15 ways the knicks can trade carmelo anthony',\n",
              " 'parents fight to save their two daughters after tragic diagnosis',\n",
              " 'the quiet practice where i found my voice',\n",
              " \"fcc assures nation their favorite verizon websites won't be affected by net neutrality repeal\",\n",
              " 'everyone told me my second child would be so much harder than my first, but they were wrong',\n",
              " 'report: it still nowhere near okay to act like donald trump',\n",
              " 'man reportedly unleashes trump-inspired anti-lgbtq rant at church',\n",
              " 'white sprinter finishes fifth',\n",
              " \"how i'm finding my voice with wendy davis\",\n",
              " 'obama begins inauguration festivities with ceremonial drone flyover',\n",
              " 'lindsay wagner to star in anything offered her',\n",
              " 'democratic senator strides down corridors of powerlessness',\n",
              " \"here's how trump's rage campaign opened the door to the james comey firing\",\n",
              " 'looking for happiness in all the wrong places',\n",
              " \"swarm of 100 drones dance to beethoven's 'symphony no. 5' in the night sky\",\n",
              " 'fatal school bus crash cements bff status',\n",
              " 'no-makeup look easier to achieve than elle claims',\n",
              " \"the outfit that got this woman kicked out of her school's gym\",\n",
              " 'bluetooth headset worn throughout date',\n",
              " 'breakroom tension at all-time high following mug dispute',\n",
              " 'depression symptom checklist speaking to area man as no poem ever could',\n",
              " 'parents formally announce transfer of expectations to second child',\n",
              " \"'saturday night live' celebrates halloween with spooktacular montage\",\n",
              " 'steven spielberg: can his career be salvaged?',\n",
              " 'local laundromat employs social media coordinator',\n",
              " 'partygoer vows to fix keg',\n",
              " 'right to own handheld device that shoots deadly metal pellets at high speed worth all of this',\n",
              " 'oscar countdown 2002 begins',\n",
              " 'disaster movies are tame compared to what happened 3.3 billion years ago',\n",
              " 'washington d.c. officer shoots woman carrying knife',\n",
              " 'in your face: the hidden history of plastic surgery and why looks matter',\n",
              " \"a knicks' fan's open letter to santa\",\n",
              " \"wolf blitzer decks boston man who hasn't been healed by red sox baseball\",\n",
              " \"donald trump and america's blood sport of choice\",\n",
              " 'time to end subsidies that are destroying forests',\n",
              " 'netflix to shut down planned louis c.k. comedy special',\n",
              " \"trump undercuts easy obamacare attack with dig about bill clinton's infidelities\",\n",
              " 'narcissist mentally undresses self',\n",
              " \"we got the exclusive look at hillary's dnc speech notes\",\n",
              " 'watch john kasich lead an awkward david bowie sing-along',\n",
              " 'pro governing: is it faked?',\n",
              " 'how a social media detox helped ed burns become more productive',\n",
              " \"outdoor movie guest excited to watch barely audible 'back to the future' while sitting on tree root\",\n",
              " \"north korea claims it's planning to fire missiles near guam\",\n",
              " 'gorillagram employee shot by white house security',\n",
              " 'how do i make my 4-month-old fall in love with reading?',\n",
              " '15 weirdest things that people have left behind in an uber',\n",
              " 'arkansas executes first inmate in 12 years',\n",
              " 'meet the other baldwin brother, james!',\n",
              " 'a sadder pride because of washington inaction',\n",
              " \"brad pitt stumbles across old cardboard box with gwyneth paltrow's head in attic\",\n",
              " 'shonda rhimes on the motivation behind her weight loss journey',\n",
              " 'obama plans to tackle major education inequality',\n",
              " 'teaching, learning and the college ratings framework',\n",
              " 'fashion-forward pigeon sports bread necklace in bold style choice',\n",
              " 'video relaunches investigation into death of man held by chicago police',\n",
              " \"whoopi goldberg says the oscars 'can't be that racist' because she won once\",\n",
              " 'housefly tracks dog shit all over cucumber slice',\n",
              " 'hillary clinton opens new presidential library charting course of purely theoretical tenure as commander in chief',\n",
              " 'bounty, brawny ceos wearing down patience of mutual friend',\n",
              " \"sherman alexie says artists under trump will be 'noise-canceling headphones'\",\n",
              " 'visibly flu-stricken choir kid really dragging down whole christmas pageant',\n",
              " 'nbc news correspondent ayman mohyeldin returning to gaza',\n",
              " 'tim robbins tired of being typecast as relatively tall characters',\n",
              " \"sen. tom cotton thinks 'tough guy' trump is ready to resume waterboarding\",\n",
              " 'leather-clad ted cruz greeting voters at reno-area fetish club',\n",
              " \"man's family rises to record-high fourth priority\",\n",
              " 'mike ditka has not been paying attention to history',\n",
              " 'what mom would have wanted evolving over course of funeral planning',\n",
              " 'simple task of going to post office feels like weight of 10,000 boulders',\n",
              " 'report: some crazy shit probably happened to classmate being raised by grandmother',\n",
              " \"ivanka trump incorrectly names judaism as 1 of the 3 'largest world religions'\",\n",
              " 'rescued lion has been obsessed with blankets since he was a baby',\n",
              " 'county fair judges blown away by heifer',\n",
              " 'the best toys to shop on prime day for kids of all ages',\n",
              " 'the sanders phenomenon',\n",
              " \"clinton staff readies emp launch to disable all nation's electronic devices\",\n",
              " \"khloe kardashian joins 'waist gang'\",\n",
              " \"next week's republican debate in utah canceled\",\n",
              " \"a trove of 'lost and found' photos reveal one mystery couple's beautiful life\",\n",
              " 'bear family pool party is the cutest backyard invasion ever',\n",
              " 'dustin hoffman accusers speak out about alleged abuse in joint nbc interview',\n",
              " 'another open letter to betsy devos from a public school teacher',\n",
              " '6 tips to boost your career',\n",
              " 'video shows transphobic man preaching in target getting shut down by customer',\n",
              " '#xmasgiftsfromtrump wish list will give trump a very un-merry christmas',\n",
              " 'ronda rousey eerily predicted how she would lose',\n",
              " 'police release haircut-progressed photo of missing woman',\n",
              " 'a brief (pun intended) history of lawyers in movies',\n",
              " 'gifs: the memphis grizzlies weathered this epic oklahoma city thunder storm',\n",
              " 'stomach sets aside synthetic additives until it has a few minutes to figure out how to digest them',\n",
              " 'russia denies it has compromising information on donald trump',\n",
              " 'what comics can offer to bible readers',\n",
              " 'breaking uniform',\n",
              " 'congress approves of $250 billion',\n",
              " '7 fascinating but forgotten facts from world war i (new book)',\n",
              " 'taylor swift now dating watertown boat',\n",
              " 'rapture wreaks havoc on local book club',\n",
              " 'the key to setting achievable goals',\n",
              " 'the only shopping guide for cyber monday you need',\n",
              " 'donald trump says refugee crisis and threats to uk identity drove brexit',\n",
              " 'science fiction writer admits unstoppable killing machine based on mother',\n",
              " 'gunman kills at least two american advisers in kabul shooting',\n",
              " 'kris kobach defends using a private email for government business',\n",
              " '10-year-old denies girl-liking allegations',\n",
              " 'stray dad found in lumber section of the home depot',\n",
              " 'office manager unveils new rule',\n",
              " 'charles darwin and the sunmine',\n",
              " 'another way companies make it harder for new mothers',\n",
              " 'sheets changed after every breakup',\n",
              " 'want to make meetings more productive? start walking',\n",
              " \"man overjoyed he no longer has to purchase entire day's worth of egg mcmuffins in morning\",\n",
              " 'watch: stone brewing evacuates as wildfire approaches',\n",
              " 'military prosecutor: senate report on cia interrogation program is accurate',\n",
              " 'national park service studies historic lgbtq sites for possible recognition',\n",
              " \"safeguarding america's health system from sabotage\",\n",
              " \"jonathan safran foer guesses it's time to give up on silly little dream of becoming good writer\",\n",
              " 'skydiver luke aikins makes jump without a parachute',\n",
              " 'study: universe actually shrunk by about 19 inches last year',\n",
              " 'power-crazed orkin man burns house to ground',\n",
              " \"couple's fucked-up presex ritual involves tucking both kids into bed\",\n",
              " 'will all senate republicans kowtow to trump and the far right?',\n",
              " 'viral photo captures incredible moment between police officer, homeless man',\n",
              " 'google employees disappointed 15th anniversary party only has one solar-powered lego drag race reffed by david pogue',\n",
              " 'study: average american tries getting out of 10,000 things each year',\n",
              " 'rnc builds levee out of poor people to protect convention site',\n",
              " 'romney delivers stern warning to china, speaking directly into the camera in fluent mandarin',\n",
              " 'the inside story of how congress sent the stock market tumbling',\n",
              " 'voters shocked christie botched such an easy political cover-up',\n",
              " 'desperate dole promises best prom ever',\n",
              " 'a different kind of mom',\n",
              " \"uber halts self-driving car tests in california, where it didn't test much anyway\",\n",
              " \"from tiger mothers to fresh off the boat: eddie huang's mom is not every asian-american mom\",\n",
              " \"donald trump thinks roger goodell is 'weak,' 'stupid' and a 'dope'\",\n",
              " \"trump says congress won't change libel laws, but that's a decision for the states\",\n",
              " 'shirtless goofball in flag underwear invades field at world series',\n",
              " 'local moviegoer enjoying movie so far',\n",
              " \"why chinese parents don't say 'i love you'\",\n",
              " 'americans say the white house is creating more problems than it solves',\n",
              " \"theater major has too long borne shakespeare teacher's blunt upbraidings, bitter scoffs\",\n",
              " 'a lancet breakthrough: publishing about faith and health',\n",
              " 'area grasshopper kind of a thorax man himself',\n",
              " 'freemasons return to jupiter',\n",
              " 'banjo-wielding matt damon makes last-minute bid for best original song',\n",
              " 'after criticism, cleveland officials to outline convention security plans',\n",
              " \"new teen trend 'walking wet and nude' couldn't have caught on at worse time\",\n",
              " 'justin bieber interrupts performance to scold spanish audience',\n",
              " \"'mudbound' oscar nominations place netflix in big leagues\",\n",
              " 'area man uses wtc attack as excuse to call ex-girlfriend',\n",
              " 'mccain gets hammered at local vfw',\n",
              " \"12-year-old's christmas list demonstrates heartbreaking awareness of family's financial predicament\",\n",
              " 'kendrick lamar, taylor swift and the weeknd lead the 2016 grammy nominations',\n",
              " 'slight inconvenience avoided',\n",
              " \"frustrated fcc unable to stop use of word 'friggin''\",\n",
              " \"nbc to dramatize menendez brothers murders in 'law & order: true crime' spinoff\",\n",
              " 'police assume truck was deliberately driven into berlin christmas market',\n",
              " 'area man cleans apartment once every relationship',\n",
              " 'after shooting, orlando chefs provide thousands of free meals',\n",
              " \"gop sen. jeff flake comes out and says it: 'my party might not deserve to lead'\",\n",
              " 'dentist offers to buy back halloween candy',\n",
              " \"mta officials assure new yorkers that today's subway will run just as fucked up as normal\",\n",
              " 'routine drunk-driving trip turns tragic for five local teens',\n",
              " 'grizzly bear sprained paw while mauling hunter, reports ranger',\n",
              " 'trump selects longtime personal plane to head faa',\n",
              " \"new antidepressant makes friends' problems seem worse\",\n",
              " 'restaurant teaches former inmates to cook, helps them get back on their feet',\n",
              " '5 entrepreneurial rules to live by',\n",
              " 'laser pointer aimed toward space in 1997 finally annoying planet 13 light-years away',\n",
              " \"man who skipped airport's moving walkway immediately realizes what an arrogant fool he's been\",\n",
              " \"7 things you probably didn't know about christmas\",\n",
              " 'paul beatty becomes first american to win man booker prize for fiction',\n",
              " \"your favorite female 'star wars' heroes finally get their own series\",\n",
              " 'nation checks out cnn.com to see what their old pals the tsarnaevs and castros are up to',\n",
              " 'small town beginning to wonder what taking heroin epidemic so long to get there',\n",
              " 'new ted cruz super-pacs take in record haul',\n",
              " 'domestic abuse survivor gives young victims the support she wishes she had',\n",
              " \"dogs smell grandma's scent, set off on quest to find her\",\n",
              " \"smb's are changing the way they do business\",\n",
              " \"president's american manufacturing council down to ceo of shoe carnival\",\n",
              " \"world's physicists complete study of physics\",\n",
              " 'how to really listen in a difficult conversation (6.2)',\n",
              " 'heroic turtle dials most of 911',\n",
              " \"what it's really like to have a miscarriage\",\n",
              " 'businesses say anti-lgbt bills could cost texas billions',\n",
              " \"accused killer wanted 'army of people who'd do anything he asked'\",\n",
              " 'avid fisherman forever ruins fishing for son',\n",
              " \"british public on the hunt for 'witches' marks' this halloween\",\n",
              " \"nation relieved insufferable little 'game of thrones' fans don't have book to lord over them this season\",\n",
              " 'the best volunteer programs do this',\n",
              " 'nasa completely forgot probe was returning today',\n",
              " '3m introduces new line of protective foam eye plugs',\n",
              " \"michael b. jordan sets fire to first 'fahrenheit 451' trailer\",\n",
              " \"astronomers predict giant asteroid will hit nation's theaters this summer\",\n",
              " \"hero of the common man talks to plumber for entire time he's in house\",\n",
              " \"social unity is most important, says pm modi on india's 70th independence day\",\n",
              " \"roe made abortions legal, but it doesn't keep women and providers safe\",\n",
              " 'hussein judge hoping for fair, speedy assassination',\n",
              " \"savvy man registers 'sleepy romney' twitter account just in case candidate looks tired\",\n",
              " \"dreamers face nightmare of trump's deportation force\",\n",
              " 'third world disease eliminated with hot-air hand dryers',\n",
              " 'whoops! selfie snapper smashes sculpture days after exhibit opens',\n",
              " 'aspiring actor dreams of one day publicly voicing regret for working with woody allen',\n",
              " 'swiss unable to maintain neutrality toward delicious pastries',\n",
              " '9 things all parents of college kids do but hate to admit',\n",
              " 'thousands of new orleans households still without political power',\n",
              " 'watch: underreported story -- reuniting families with remains of dead migrants',\n",
              " \"yahoo's newfront pulses to steve aoki's edm beat\",\n",
              " \"look at it: it's goddamn beautiful\",\n",
              " 'how to lose to the islamic state: obama administration considers deploying troops to iraq, focusing on assad in syria',\n",
              " \"eric's bogosian's operation nemesis: can a genocide ever truly be avenged?\",\n",
              " 'antarctic observational comic running out of ideas',\n",
              " 'thousands protest in moscow against housing plan',\n",
              " 'new pixar employees required to watch adorable sexual harassment video',\n",
              " 'cosmopolitan releases 40-year compendium: 812,683 ways to please your man',\n",
              " 'row of asterisks spices up otherwise ordinary e-mail',\n",
              " 'this tattoo shop is creating a safe and accepting space for queer bodies',\n",
              " 'sears gold card holder pushing weight around area sears',\n",
              " 'author jeff lindsay says goodbye to serial killer dexter with final novel',\n",
              " 'after-work drinks enter third excruciating minute',\n",
              " 'koch network spent nearly $400 million in 2015',\n",
              " \"those weren't nooses at university of delaware\",\n",
              " 'man already has whole sentence lined up for later in conversation',\n",
              " 'area waitress has one hell of an ass on her, local man will tell you that right now',\n",
              " '30 unbeleafably adorable gifts for plant lovers',\n",
              " 'cuomo makes surprise afghanistan trip',\n",
              " \"drummer's girlfriend thinks he should sing\",\n",
              " \"nobody watched matthew mcconaughey's forgotten youtube channel until now\",\n",
              " 'pope francis admits god really starting to look old',\n",
              " 'what has becoming a parent done to me?',\n",
              " 'video:  #icantbreathe poem on house floor',\n",
              " 'man somehow overcomes alcoholism without jesus',\n",
              " 'donald w. bush?',\n",
              " 'mom uses full name to refer to bisquick impossibly easy cheeseburger pie\\x99',\n",
              " \"congressman calls trump 'an idiot' for using egypt mosque attack to promote border wall\",\n",
              " \"luke bryan says confederate flag has become a 'symbol of racism'\",\n",
              " 'rich first-grader buys whole sheet of gold stars',\n",
              " \"we ain't germans\",\n",
              " \"kentucky governor echoes trump: 'all sides' to blame for charlottesville violence\",\n",
              " 'how caitlyn jenner is helping me be a better me',\n",
              " 'new apple campaign urges consumers to buy iphone for other hand',\n",
              " 'woman dozing at coffee shop has that dave eggers sex dream again',\n",
              " 'manager of combination taco bell/kfc secretly considers it mostly a taco bell',\n",
              " 'could hillary clinton have what it takes to defeat the democrats in 2008?',\n",
              " 'wild tales:  outstanding black comedy at cannes',\n",
              " 'donald trump prefers violent football so more black players get hurt: espn analyst',\n",
              " 'black ribbon in the balsam',\n",
              " 'the buttermilk biscuit recipes you want and need',\n",
              " 'ai weiwei commemorates drowned refugees during berlin film festival',\n",
              " \"the restrictions journalists agreed to in order to attend the koch brothers' conference\",\n",
              " '7-year-old puts on uno face',\n",
              " \"'little boy' stands tall\",\n",
              " \"jake tapper has one-word response to creepy kellyanne conway 'snl' sketch\",\n",
              " 'poll shows support for birth control mandate on eve of court ruling',\n",
              " 'death row inmate loses fight over kosher food',\n",
              " 'jada pinkett smith and gabrielle union end feud after 17 years',\n",
              " 'huffpost rise: what you need to know on february 10',\n",
              " 'dear mr. president: a dispatch from bowling green',\n",
              " 'shinto priestess killed by brother during sword attack at tokyo shrine',\n",
              " \"journalists push back on correspondents' association's response to michelle wolf\",\n",
              " \"nina dobrev addresses her rumored return to 'vampire diaries'\",\n",
              " 'theresa may, edging towards donald trump, scolds john kerry over israel',\n",
              " 'child assured it will be long time before he dies',\n",
              " \"new year's eve prank leaves 4-year-old glued to mcdonald's toilet\",\n",
              " 'prosecutors in tamir rice case bizarrely pointed toy gun at witness, lawyers allege',\n",
              " \"what's wrong with this picture? for u.s. fight against isis, everything\",\n",
              " 'afi docs: where policy meets art',\n",
              " 'school bully not so tough since being molested',\n",
              " \"the real mothers of mother's day\",\n",
              " 'dad shoots daughter while teaching her about gun safety',\n",
              " '3 unexpected ways to help your kids be mindful about screen time',\n",
              " \"dee bogetti's gps guide for living in the moment\",\n",
              " 'paul ryan confident american people will warm up to tax plan once they realize life a cruel and meaningless farce',\n",
              " 'war-torn, blood-soaked kosovo: would bombing it help?',\n",
              " 'starving for a fantasy',\n",
              " 'bill clinton waiting until after primaries to endorse candidate',\n",
              " 'what you should do if you own a volkswagen that was just recalled',\n",
              " 'to read or not to read, part 2',\n",
              " 'hillary clinton loses lead over bernie sanders in new iowa poll',\n",
              " 'several women accuse progressive media executive don hazen of sexual harassment',\n",
              " \"success and still enjoying your 'happy place'\",\n",
              " 'last 12 years a real wake-up call for area man',\n",
              " \"pollsters admit they underestimated voters' adrenal glands\",\n",
              " \"lin-manuel miranda freestyles about life's most annoying minor inconveniences on 'ellen'\",\n",
              " \"john lewis won't attend civil rights museum opening because trump is going\",\n",
              " 'is trouble brewing for the 2015 npt review conference?',\n",
              " 'area man going to go ahead and consider that a date',\n",
              " '4 senators mauled during congressional tiger show',\n",
              " 'huffpost hill - secret service agents really glad dark sunglasses hide bloodshot eyes',\n",
              " 'kite flyer in the zone',\n",
              " \"bacon just one of sprint's new downloadable ring scents\",\n",
              " 'i photograph to remember',\n",
              " 'u.s. bobsled team pays tribute to late gold medalist steven holcomb',\n",
              " \"among santa fe's many virtues? history, art, culture, hospitality and killer vintage clothing\",\n",
              " 'power plan foes from mars, backers from venus (earth actually)',\n",
              " 'journalists who refuse to take the same non-answer for an answer',\n",
              " 'nukes and the global schism',\n",
              " 'weird relative at family reunion knows how everyone related to each other',\n",
              " \"negro week at the 1939–1940 new york world's fair\",\n",
              " 'trump threatens to veto spending bill over border wall funding, then signs it',\n",
              " \"6 diy stress hacks using what's in your closet\",\n",
              " 'the major concern with the phone call with taiwan',\n",
              " \"a weird and wonderful cabaret chronicle: karen mason revisits her roots at 'don't tell mama!'\",\n",
              " \"why companies shouldn't hide the financial risks of climate change\",\n",
              " 'the louvre gardens are teeming with rats',\n",
              " \"trump is #1 in the polls, and so was the 'macarena'\",\n",
              " 'boy george opens up about happiness, being a u.s. politics junkie and more',\n",
              " 'area woman decides not to post facebook status that would have tipped gun control debate',\n",
              " 'sprint, t-mobile ceos merge into grotesque executive hybrid',\n",
              " 'patrick stewart reads hilariously bad reviews of iconic tourist attractions',\n",
              " 'safeguarding the well-being of children',\n",
              " 'the public health threat of private anger',\n",
              " \"target 'dorm room essentials' aisle being browsed exclusively by 30-year-old men with studio apartments\",\n",
              " 'suzanne somers named u.s. thighmaster general',\n",
              " 'just a friendly and wildly hot reminder that oscar isaac is playing hamlet',\n",
              " \"a new hbo documentary shows what it's really like inside a terror attack\",\n",
              " \"watch: stories you won't believe from some of the world's dirtiest jobs\",\n",
              " 'golf sensation jordan spieth loses masters after horrible meltdown; danny willett wins',\n",
              " \"first gay couple receives marriage license at jailed kentucky clerk's office\",\n",
              " \"world's jews celebrate christmas with ceremonial re-murdering of christ\",\n",
              " 'john mccain, czar hater, calls for ebola czar',\n",
              " 'father of trump tower climber also has an important message for you',\n",
              " 'that guy from that one show in rehab',\n",
              " 'sanders hits bill clinton on welfare reform, trade',\n",
              " \"white nationalist calls trump's denouncement of hate groups 'kumbaya nonsense'\",\n",
              " \"'old milwaukee book of world records' confirms title for most punches to shoulder\",\n",
              " 'new details paint unsettling pictures of london attackers',\n",
              " \"don't ask me to 'get over' my history with breast cancer\",\n",
              " \"being a facebook wallflower isn't good for you, the social site says\",\n",
              " 'woody harrelson spends two hours drawing marijuana leaf on binder',\n",
              " 'burger king franchise owner adds sad little personal touches to restaurant',\n",
              " 'verb to follow noun; prepositional phrase to follow',\n",
              " \"a valentine for my best friend: my life wouldn't be the same without you\",\n",
              " 'the importance of being collaborative',\n",
              " 'russian officials scrambling as plan to delegitimize western democracy moving way faster than intended',\n",
              " 'obama sort of freaked out after not receiving single e-mail, phone call for entire day',\n",
              " 'adele tweets apology after stage rigging hits glasgow concertgoer',\n",
              " 'pastor talking to non-christian who just lost wife can smell blood',\n",
              " \"'religious freedom' clauses are point of contention as australia crafts marriage equality laws\",\n",
              " 'voters are excited for november despite not really loving the likely nominees',\n",
              " \"everyone in family compliments grandmother on how small and feeble she's gotten\",\n",
              " \"eating entire box of donuts not originally part of evening's plan\",\n",
              " 'white house pretty sure uzbekistan diplomat stole a bunch of soap',\n",
              " \"jared kushner quietly transfers 'solve middle east crisis' to next week's to-do list\",\n",
              " '15 years in environment of constant fear somehow fails to rehabilitate prisoner',\n",
              " \"internet personality michael buckley on giving 'sex tips' off broadway\",\n",
              " \"legends of new york's latex ball celebrate the history of voguing\",\n",
              " 'man unfortunately sleeps like baby',\n",
              " 'one last ruben studdard reference wafts gently into the cool evening air',\n",
              " 'hubble telescope discovers giant amelia earhart statue on distant planet',\n",
              " 'trump is telling \"jokes,\" but nobody\\'s laughing',\n",
              " \"hundreds of miniature sean hannitys burst from roger ailes' corpse\",\n",
              " \"kellie pickler hilariously misses the buzzer in celebrity 'family feud' fail\",\n",
              " \"military institutes new 'don't tell, let me guess' policy\",\n",
              " \"jeb bush insists he's a washington outsider\",\n",
              " 'washington post journalist jailed in iran has christmas meal with family',\n",
              " \"coloradans who deregistered after trump request for voter data aren't signing up again\",\n",
              " \"watch vin diesel say 'i am groot' in different languages\",\n",
              " \"artist's stunning image honors the moment one woman defied a neo-nazi march\",\n",
              " 'voters glad they got hope in politicians out of system for next election cycle or two',\n",
              " \"new year's resolution -- let colleges lead the way to a new normal in cuba\",\n",
              " 'paris police arrest second couple over notre dame gas cylinders',\n",
              " 'my 8 favorite beauty products',\n",
              " 'financial burden of cancer can harm quality of life',\n",
              " \"high schooler promises to have man's impregnated daughter home by midnight\",\n",
              " 'cnn anchor interviews al jazeera anchor who interviewed libyan rebels',\n",
              " 'the quadruple bottom line: its time has come',\n",
              " 'this may be holding you back from repairing a broken relationship',\n",
              " \"in the weeks before trump takes office, obama's mad dash to save public lands\",\n",
              " 'the changing holiday shopping landscape',\n",
              " 'burger king introduces new thing to throw in front of kids after another hellish day at work',\n",
              " 'this road sign is a lot less helpful than it looks',\n",
              " 'day chalked up as loss by 10:15 a.m.',\n",
              " 'australian lawmaker shoots opponents in campaign ad, draws ire after orlando',\n",
              " 'kinda creepy peter pan pranks disney world',\n",
              " \"#brownribboncampaign reminds us oscar diversity isn't just black and white\",\n",
              " 'high school elects gay 45-year-old homecoming king for first time in school history',\n",
              " \"george thorogood fan disgusted to learn musician licensed 'bad to the bone' for commercial purposes\",\n",
              " \"for america's future, engineering needs to diversify\",\n",
              " 'darrelle revis to be charged in fight that leaves two men unconscious',\n",
              " \"don't pay another bill until you pay this\",\n",
              " 'move to houseboat regretted by third day',\n",
              " 'buick regal named best vehicle in class for idling outside off-track betting parlor',\n",
              " 'arizona iced tea unveils new 4-foot-tall cans',\n",
              " \"blm's alicia garza launches census project to mobilize black political power\",\n",
              " 'police audio leaked in killing of unarmed black teen christian taylor',\n",
              " \"for a first-time marathoner, there's strength in numbers\",\n",
              " 'hate preachers on qatar campus: obama gives qatar undeserved a+ on fighting incitement',\n",
              " '10th-grade prodigy studying mathematics at 10th-grade level',\n",
              " '3 reminders that can help you raise resilient kids',\n",
              " 'nation horrified to learn about war in afghanistan while reading up on petraeus sex scandal',\n",
              " 'trump relaxes after debate by slipping back into nice, warm personal reality',\n",
              " 'area liberal no longer recognizes fanciful, wildly inaccurate mental picture of country he lives in',\n",
              " \"update: 'the onion' is immediately suspending production on our basketball infographic video directed by brett ratner\",\n",
              " 'george foreman grill retires to promote own grill',\n",
              " 'study finds having it all leading indicator that everything will come crashing down',\n",
              " 'shooting at copenhagen synagogue leaves 1 dead, 2 officers wounded',\n",
              " 'paris hilton impersonates kim kardashian for kanye west fashion line',\n",
              " 'international space station tented to spray for xenomorphs',\n",
              " 'ex-boyfriend hopes to still be terrible, incompatible friends',\n",
              " 'teen accepted into 113 colleges chooses full ride to hbcu',\n",
              " \"transgender lawmaker danica roem: trump shows there's 'no barrier' to getting elected\",\n",
              " 'shit, friend just said something to obnoxious drunk guy on bus',\n",
              " 'weekend encounter with coworker never acknowledged',\n",
              " 'study: 74% of home contractors end up accidentally walling themselves in during housing construction',\n",
              " 'goth kid builds scary-ass birdhouse',\n",
              " 'outbreak of va-va-vooms traced to miniskirt-wearing blonde',\n",
              " \"grandmother can't believe they let people with tattoos on price is right\",\n",
              " \"the '7th heaven' cast reunites for the first time in 8 years\",\n",
              " \"are we meeting the needs of our nation's rich?\",\n",
              " 'there is nothing libertarian about conservatives',\n",
              " 'yorkshire terrier monogrammed',\n",
              " 'pope cleans up dead angel who flew into sistine chapel window',\n",
              " 'remainder of ross ice shelf now in smithsonian freezer',\n",
              " 'panicked agriculture secretary momentarily forgets what corn is',\n",
              " \"an introvert's guide to throwing a solid holiday party\",\n",
              " 'area client would like a different font',\n",
              " \"fifth harmony's lauren jauregui blasts 'toxic' homophobia in poignant twitter exchange\",\n",
              " \"usda admits weight loss not possible for people who don't like salmon\",\n",
              " 'six teenagers in britain suspected of killing polish man in hate crime',\n",
              " 'cubans: new dictator doing it all wrong',\n",
              " 'obama fills out lukewarm glassdoor review after exiting presidency',\n",
              " 'bill henderson, jazz vocalist and actor, dies at 90',\n",
              " 'very specific food pyramid recommends two to three shrimp scampis per year',\n",
              " \"alaskan gray wolf can't believe no one told him he's got snow on nose\",\n",
              " 'how to emotionally recover from the election',\n",
              " 'man always taking good mood out on friends',\n",
              " '6 essentials for a trash-free lunch',\n",
              " 'candidate delighted to be in chair factory',\n",
              " \"woman knows exactly which knife she'd grab out of cutlery drawer in event of home invasion\",\n",
              " 'bored predator drone pumps a few rounds into mountain goat',\n",
              " '30-year-old nes still wasting life playing video games',\n",
              " 'schools enact positive change with drama therapy',\n",
              " 'world map rearranged to accommodate poor geography skills of americans\\x97nations ordered alphabetically',\n",
              " 'woman leaving meeting worried she came off as too competent',\n",
              " 'professor threatened with firing says wheaton college is changing the rules',\n",
              " 'jfk jr. celebrates 10,000th coupling',\n",
              " 'man with stupid breaks off co-dependent relationship',\n",
              " 'internet pop-up quiz insulting',\n",
              " 'suspension of disbelief goes unrewarded',\n",
              " \"'the late show' updated trump's election night speech with annotations\",\n",
              " \"ancient flying beast named after 'avatar' creature\",\n",
              " \"tennessee senate passes a bill to erect a memorial to 'victims of abortion'\",\n",
              " 'report: no one at white castle wants to make friends',\n",
              " '45-year-old to help candidate understand youth vote',\n",
              " \"word 'millennials' forced into headline to boost pageviews\",\n",
              " 'dozens of social issues thankful they never had to go toe-to-toe with muhammad ali',\n",
              " 'fox news struggling to attract younger 60-75 demographic',\n",
              " 'after a string of accidents, u-haul announces closure of aircraft division',\n",
              " 'why stakes is too high to bother with white tears',\n",
              " 'growing up with the holocaust as a writer',\n",
              " \"the surprising way horses can help ease alzheimer's symptoms\",\n",
              " \"beaver can't wait to get started on dam\",\n",
              " \"huffpollster: republican women really don't like trump\",\n",
              " 'what we know so far about the new white house org chart',\n",
              " 'morbidly obese man enjoys disabled privileges with motorized cart',\n",
              " \"'no one will push you into running for president,' jeb bush softly whispers before tucking in sleeping grandson\",\n",
              " 'madcap romp escalates into zany hijinks',\n",
              " \"5 longevity secrets from the world's healthiest cultures\",\n",
              " '8 perks of being divorced during the holidays',\n",
              " 'nation healed by awesome sports highlight',\n",
              " 'why moms demand action will participate in day without a woman',\n",
              " \"hillary clinton's asian american outreach director leaving campaign\",\n",
              " 'interview with louise munson, playwright of luigi',\n",
              " 'suspect reportedly arrested over explosives sent to washington, d.c. area',\n",
              " \"writer calls on women of color 'to divest from lena dunham' after controversy\",\n",
              " 'area dad will only watch things in hd',\n",
              " \"the unexpected place you're probably overeating\",\n",
              " \"don lemon on sean spicer: everyone 'is dumber for having listened to that'\",\n",
              " 'kansas state refused to investigate sexual assaults because they happened off-campus, lawsuit says',\n",
              " 'nfl player avery williamson wears 9/11 cleats despite threat of fine',\n",
              " 'trump confidant floats crazy rbg-for-merrick-garland scotus swap',\n",
              " 'u.s. continues proud tradition of  diversity on front lines',\n",
              " \"south korean president meets north korea's kim jong un to talk trump summit\",\n",
              " \"nation's financial advisors recommend capturing magical creature that grants wishes\",\n",
              " \"michelle, ross and carson on the wild ride to 'rupaul's drag race'\",\n",
              " 'content writer awkwardly shows parents around website where he works',\n",
              " 'possible viking find could rewrite north american history',\n",
              " 'new details emerge in forgotten murder that snared attorney, highway patrolmen',\n",
              " \"watching faces of students as they finish 'the lottery' highlight of english teacher's year\",\n",
              " 'no one in prison sure how jared fogle still eating subway every meal',\n",
              " \"sean spicer says donald trump is a 'champion' of first amendment\",\n",
              " \"uncovered california: community college students' quest for mental health services\",\n",
              " \"debra messing doesn't want you to freak out about a 'will & grace' revival just yet (update)\",\n",
              " 'nation delighted as many famous people in same room together',\n",
              " \"area man winded after particularly lengthy wendy's order\",\n",
              " \"the 6 real reasons i'm happy to be married\",\n",
              " \"biden busted in dnc parking lot selling bootleg 'i'm with her' t-shirts\",\n",
              " 'white person waved past beeping walgreens security barrier',\n",
              " \"khloe kardashian says no one was doing cocaine at kylie jenner's graduation party\",\n",
              " 'genuine happiness now seen only on game shows',\n",
              " \"chewbacca just got himself a 'chewbacca mom' mask\",\n",
              " 'yet another donald trump pick has a habit of spreading dangerous conspiracy theories',\n",
              " 'dog trying its absolute hardest',\n",
              " 'mississippi bans soft drinks smaller than 20 ounces',\n",
              " 'explosion at fedex facility outside san antonio may be linked to austin bombings, fbi says',\n",
              " \"cupid cop gave out roses, cards on valentine's day instead of tickets\",\n",
              " 'fox news host disavows internment camps, after panelists suggest rounding up muslims',\n",
              " \"reince priebus says it's 'too late' for a new candidate to stop trump\",\n",
              " \"minnesota café charges 35 cent 'fee' to protest minimum wage hike\",\n",
              " 'asshole from plane greeted at baggage claim by whole family',\n",
              " 'an american dreamer in the age of trump',\n",
              " \"hillary clinton celebrates confederate flag's removal at mlk day ceremony\",\n",
              " \"david brooks: obama has a 'manhood problem in the middle east'\",\n",
              " 'why terrorists attack us',\n",
              " 'everyone proud of grandma for staying awake',\n",
              " 'the nypd has secretly been spying on cell phones since 2008',\n",
              " 'republicans urge obama administration to crack down on sanctuary cities',\n",
              " 'floor plan of retirement community 90% defibrillator locations',\n",
              " 'voters in 14 states navigating new rules while trying to cast ballots',\n",
              " 'arne duncan stressed about preparing for standardized secretary of education exam',\n",
              " 'tom brokaw touched so many women would go out of their way to defend filthy old pervert like himself',\n",
              " 'stop complaining about the evolution of text language. period.',\n",
              " \"half-dressed man frantically scrambles out of home after hearing toyotathon deals won't last long\",\n",
              " 'tech is the future, reports local dad',\n",
              " 'trump fulfills campaign promise of pushing major immigration decision on someone else so he can watch tv',\n",
              " 'communication matters: getting your message out',\n",
              " 'son surprised dad knows johnny cash song',\n",
              " 'man suddenly regretting asking to be taken seriously by peers',\n",
              " 'eleven-year-old has miniskirt, pumps, vague notion of what sex is',\n",
              " 'cinemax director wins award for skinematography',\n",
              " 'doctor unable to hide his excitement from patient with ultra-rare disease',\n",
              " 'dozens injured after trains collide in pennsylvania',\n",
              " \"ed sheeran sang 'chasing cars' at a wedding, and now we're swooning\",\n",
              " \"'game of thrones' producers reveal series moved beyond show's written script halfway through current season\",\n",
              " \"girls scouts announces they'll never ever let gross fucking boys in\",\n",
              " \"un rebukes trump's jerusalem move in overwhelming vote\",\n",
              " \"father's day tribute to a family man\",\n",
              " \"white house: 'this is not the geologic era to debate gun control'\",\n",
              " \"professors try to figure out what 'bae' and 'on fleek' mean\",\n",
              " \"house republican spending bill seeks to block obama's carbon rules\",\n",
              " \"fred durst spray paints 'limp bizkit' on bridge\",\n",
              " \"democrats shouldn't panic over one poll showing donald trump ahead\",\n",
              " 'bored kim jong-un stacks entire north korean populace into human pyramid to kill time',\n",
              " 'how humans are laying out the welcome mat for mosquitoes and the diseases they carry',\n",
              " 'jennifer lawrence honored robert de niro at the glaad media awards the only way she knows how',\n",
              " '11 unexpected ways to use grapefruit',\n",
              " 'study: 90% of all meowing comes from owners trying to get cats to meow back',\n",
              " '14 photos that show the special bond between moms and daughters',\n",
              " \"'star wars' fans are freaking out because 'jedi' in 'the last jedi' is plural\",\n",
              " \"study: headaches are the body's way of communicating it wants pills\",\n",
              " \"how jimmy carter learned to make his wife rosalynn a 'full' partner\",\n",
              " \"gop congressman complains women are 'in my grill' over obamacare repeal\",\n",
              " \"religious leaders, groups are appalled by trump's immigration orders\",\n",
              " 'lice having blast trying out different wigs at costume shop',\n",
              " \"10 places you wouldn't have gone 10 years ago\",\n",
              " \"chicago's top prosecutor will not try the officer who killed laquan mcdonald\",\n",
              " \"'big eyes' is about the 'most quiet feminist you've ever met'\",\n",
              " 'bloomberg gadfly debuts in bid to shake-up financial commentary space',\n",
              " \"harry reid: republicans are 'acting as puppets for the nra'\",\n",
              " 'little tobacco hit with $3.5 hundred lawsuit',\n",
              " 'women in business q&a: rebecca henderson, group president, randstad professional solutions',\n",
              " 'mike pence disappointed in the 200,000 husbands and fathers who permitted women to attend march',\n",
              " 'jeff flake delivers searing, critical applause for trump during state of the union',\n",
              " \"michelle obama explains in no uncertain terms why she won't run for office\",\n",
              " 'republican food stamp bill would cut benefits, but not the size of government',\n",
              " \"russians mint 'in trump we trust' coin ahead of u.s. inauguration\",\n",
              " \"kristen wiig's fake trailer from 'jimmy kimmel' needs to be made into a real movie\",\n",
              " 'patients with limited english are more likely to return to the er',\n",
              " 'dear baby boomers, step aside',\n",
              " \"don't spend a cent on bitcoin until you see john oliver's cryptocurrency warning\",\n",
              " 'celebrities mourn anne meara on twitter after news of her death',\n",
              " \"here's what you need to know about obamacare enrollment this year\",\n",
              " 'relationship experts recommend single women try bathing in open stream until suitor glimpses them through trees',\n",
              " 'married couple longs for days when they only quietly resented one another',\n",
              " \"group of friends chanting 'shots' make compelling point\",\n",
              " \"blind date pronounces every syllable of word 'comfortable'\",\n",
              " 'to hope again',\n",
              " 'the science-backed reason to see your therapist in the morning',\n",
              " 'turkish president: no muslim family should engage in birth control',\n",
              " 'claire danes is expecting baby number two with hugh dancy',\n",
              " \"vlogger shamed in walmart fitting room because she might 'stretch' clothes\",\n",
              " 'at the university of texas,  echoes of its confederate past reverberate in the present',\n",
              " 'trump hints at obamacare replacement that would look nothing like what republicans have in mind',\n",
              " 'bad-ass engagement ring also tells the time and temperature',\n",
              " \"director paul feig says 'men have to speak out' after weinstein sexual assault allegations\",\n",
              " 'advertising firm unveils new mute-resistant commercials',\n",
              " 'rookie justice gorsuch assigned to supreme court overnight shift',\n",
              " \"mike pence takes oath of office as country's next vice president\",\n",
              " 'rex tillerson blindsided by news he still worked for state department',\n",
              " \"fight over obama's treasury nominee underscores battles within democratic party\",\n",
              " \"rommel, hummel dominate parents' christmas list\",\n",
              " 'a big myth about how to spot a narcissist',\n",
              " 'doll-housing crisis set to worsen, mean older brother says',\n",
              " 'slushing in utah at the end of ski season',\n",
              " 'here are the candidates voters think can actually win in november',\n",
              " \"missing maryland toddler's body found in ohio creek\",\n",
              " 'terrified jeb bush beginning to fade from visible spectrum',\n",
              " \"adele celebrates 'titanic'-themed 30th birthday\",\n",
              " 'changing weather inspires area conversationalist',\n",
              " 'fourth tool discovered',\n",
              " 'texas public school districts may now store, not trash, leftover food',\n",
              " 'hentai message board features surprisingly close-knit, supportive community',\n",
              " 'hootie and the blowfish: breaking down racial barriers between black, white pussies',\n",
              " 'study: snapping three times leading way to recall movies, actors',\n",
              " \"donald trump insists he has the 'complete power' to pardon, as russia probe persists\",\n",
              " 'syria ceasefire, backed by russia and turkey, holds after initial clashes',\n",
              " \"french parliament debates 'deep sleep' bill for end of life\",\n",
              " 'reality, risk & reward: is us kids tv ripe for authenticity and autonomy?',\n",
              " 'transcript, emails show how tabloid reporters helped harvey weinstein get dirt on women',\n",
              " \"trump's america--a not so shining city on the hill\",\n",
              " \"photographer assumes endless identities in her mother's clothes\",\n",
              " 'stripper surprised she only talked to 2 homicide detectives today',\n",
              " 'justin bieber fan jealous of anne frank',\n",
              " 'elevate your leadership in 2016',\n",
              " \"woman's face-down halloween dummy gets repeated 911 calls\",\n",
              " '259 new objects now available in gummi form',\n",
              " 'kremlin agent not even going to bother trying to compromise trump staffer who will be forced to resign in few months',\n",
              " 'the future is blurry!',\n",
              " \"here's a pg-rated facebook alternative for evangelical christians\",\n",
              " 'donald trump is unqualified to be president, majority of american voters say',\n",
              " 'body given false hope with first piece of fruit in 9 days',\n",
              " \"missouri democrats filibuster for 39 hours to stop anti-gay 'religious freedom' bill\",\n",
              " \"9-year-old reporter told to just be 'cute' has landed a book deal\",\n",
              " 'this craigslist missed connection is delightfully feminist',\n",
              " 'african nation not war-torn',\n",
              " 'three chinese tourists dead, six people missing in borneo shipwreck',\n",
              " 'god announces successful test of first category 7 hurricane',\n",
              " 'lone geek sits off by self reading the silmarillion throughout recess',\n",
              " 'this is what happens when you ask arya stark to write your yearbook quote',\n",
              " 'alex jones pleads with sandy hook parents to imagine pain an expensive lawsuit would cause him',\n",
              " 'rescue animals get the help they need thanks to online donations',\n",
              " \"goldfish can't stand bowlmate\",\n",
              " 'john legend speaks to the crack in the system caused by mass incarceration',\n",
              " 'police launch investigation after video appears to show cop shoving man in wheelchair into street',\n",
              " 'nasa discovers distant planet located outside funding capabilities',\n",
              " \"judge who asked 'why couldn't you keep knees together?' resigns\",\n",
              " 'white house prepares to send congress $15 billion spending cuts package',\n",
              " 'gop race heads to south carolina, known for dirty tricks and brawls',\n",
              " 'kindergartener allegedly barred from school because she has two moms',\n",
              " \"george will trashes bill o'reilly: 'wise, he is not'\",\n",
              " 'ohio voters will get to decide on legalizing marijuana',\n",
              " 'the best ifttt recipes to make the most of your vacation',\n",
              " 'last living california raisin dies of prostate cancer',\n",
              " 'microsoft debuts surface book, its first laptop, plus other new gizmos',\n",
              " \"fda confirms psilocybin reduces risk of mindlessly following society's rules like fucking lemming\",\n",
              " \"fourth death in new york legionnaire's disease outbreak\",\n",
              " 'national weather service to give hurricanes full names',\n",
              " 'william h. macy has ultimate dad moment dancing with his daughter before prom',\n",
              " 'warm temperatures bring hot deals on winter gear',\n",
              " \"sarah huckabee sanders flatly rejects jim acosta's assertion that he's jim acosta\",\n",
              " 'reno orders investigation of u.s. department of corruption',\n",
              " 'billions of electric signals between neurons allow brain to imagine what michael imperioli looks like',\n",
              " 'unapologetic self-portraits that shatter perceptions of disability',\n",
              " 'scientists discover eating serves function other than easing anxiety',\n",
              " 'libraries burning: from sarajevo to mosul',\n",
              " 'what i realized after years of searching for my soulmate',\n",
              " 'astoria characters: the charity stager',\n",
              " 'dolby theatre usher throws out matt damon for attempting to film oscars with camcorder',\n",
              " '600-pound butter cow sculpture wins iowa caucus',\n",
              " \"bill o'reilly tearfully packs up framed up-skirt photos from desk\",\n",
              " \"trump's army secretary pick is victim of 'gay gestapo,' right wing activists claim\",\n",
              " 'candidates preparing for colorado debate conditions with high-altitude speaking drills',\n",
              " \"the drama desks, all the way, m&m's and more\",\n",
              " 'magazine editor undergoes sleek new redesign',\n",
              " 'town nervously welcomes veteran back home',\n",
              " 'local student also a poet',\n",
              " \"'it's a wonderful life' was almost too racy for theaters\",\n",
              " \"ariana grande performs 'break free' on 'snl'\",\n",
              " 'unconditional love given to 15-year-old who just called mom a bitch in middle of hollister',\n",
              " 'newborn prince of cambridge begins consolidating power by having family imprisoned in tower of london',\n",
              " 'congress abandons wikiconstitution',\n",
              " '2016: all about the electorate',\n",
              " 'self-defense instructor keeps a couple of secrets to himself',\n",
              " 'adorable puppy nets owner handjob',\n",
              " \"10 super annoying things we can't help but whine about\",\n",
              " 'man bitten by radioactive sloth does the lying-around-all-day of 10 normal men',\n",
              " 'quake claims 500 hours',\n",
              " 'teen football recruit makes bold statement about black lives at training camp',\n",
              " \"10 of illinois' safest cities\",\n",
              " 'unconsciousness faked to make anesthesiologist feel better',\n",
              " 'trump hails gorsuch as fierce protector of future amendment allowing president to temporarily suspend right to assemble',\n",
              " 'historical archives: two feared dead in near-by child-birth',\n",
              " \"prison warden vows to take away el chapo's tunnel privileges if captured\",\n",
              " 'mothers, precious and misunderstood: the many mothers i have met',\n",
              " \"new 'baby weinstein' tapes prepare infants for career in entertainment law\",\n",
              " '5 steps to get you from shy to sociable',\n",
              " 'who were you on 9/11?',\n",
              " ...]"
            ]
          },
          "metadata": {
            "tags": []
          },
          "execution_count": 14
        }
      ]
    },
    {
      "cell_type": "code",
      "metadata": {
        "id": "4jYFrE4LOGDG"
      },
      "source": [
        "#Skipping removing stop words for now "
      ],
      "execution_count": null,
      "outputs": []
    },
    {
      "cell_type": "code",
      "metadata": {
        "id": "U_rS2y9ePBbc"
      },
      "source": [
        ""
      ],
      "execution_count": null,
      "outputs": []
    },
    {
      "cell_type": "markdown",
      "metadata": {
        "id": "qyo2a-YkPCDC"
      },
      "source": [
        "#Baseline - TFIDF with Logistic Regression"
      ]
    },
    {
      "cell_type": "code",
      "metadata": {
        "colab": {
          "base_uri": "https://localhost:8080/"
        },
        "id": "2sm1w7r7PHfl",
        "outputId": "b7971c71-f3d9-407b-a09d-e255acb6c5ac"
      },
      "source": [
        "tfidf = TfidfVectorizer(ngram_range=(2, 3), max_df=1000, min_df=10)\n",
        "tfidf.fit(all_clean_text)"
      ],
      "execution_count": null,
      "outputs": [
        {
          "output_type": "execute_result",
          "data": {
            "text/plain": [
              "TfidfVectorizer(analyzer='word', binary=False, decode_error='strict',\n",
              "                dtype=<class 'numpy.float64'>, encoding='utf-8',\n",
              "                input='content', lowercase=True, max_df=1000, max_features=None,\n",
              "                min_df=10, ngram_range=(2, 3), norm='l2', preprocessor=None,\n",
              "                smooth_idf=True, stop_words=None, strip_accents=None,\n",
              "                sublinear_tf=False, token_pattern='(?u)\\\\b\\\\w\\\\w+\\\\b',\n",
              "                tokenizer=None, use_idf=True, vocabulary=None)"
            ]
          },
          "metadata": {
            "tags": []
          },
          "execution_count": 15
        }
      ]
    },
    {
      "cell_type": "code",
      "metadata": {
        "id": "7qlWz5ENPU-o"
      },
      "source": [
        "tfidf_feats = tfidf.transform(all_clean_text)"
      ],
      "execution_count": null,
      "outputs": []
    },
    {
      "cell_type": "code",
      "metadata": {
        "colab": {
          "base_uri": "https://localhost:8080/"
        },
        "id": "SHppF2lRPYk9",
        "outputId": "136dbde5-59b3-42ee-cc41-d76d65dc534b"
      },
      "source": [
        "tfidf_feats.shape"
      ],
      "execution_count": null,
      "outputs": [
        {
          "output_type": "execute_result",
          "data": {
            "text/plain": [
              "(55328, 5576)"
            ]
          },
          "metadata": {
            "tags": []
          },
          "execution_count": 17
        }
      ]
    },
    {
      "cell_type": "code",
      "metadata": {
        "id": "KJ9DFOExPaV5"
      },
      "source": [
        "trainx, testvalx, trainy, testvaly = train_test_split(tfidf_feats, all_data['Label'].tolist(), test_size=0.4)"
      ],
      "execution_count": null,
      "outputs": []
    },
    {
      "cell_type": "code",
      "metadata": {
        "id": "g27SJSkVQd_N"
      },
      "source": [
        "valx, testx, valy, testy = train_test_split(testvalx, testvaly, test_size=0.5)"
      ],
      "execution_count": null,
      "outputs": []
    },
    {
      "cell_type": "code",
      "metadata": {
        "colab": {
          "base_uri": "https://localhost:8080/"
        },
        "id": "J_BVlP5jQlS5",
        "outputId": "30f710a2-7b28-4e30-a106-bc548c3f5019"
      },
      "source": [
        "trainx.shape, valx.shape, testx.shape"
      ],
      "execution_count": null,
      "outputs": [
        {
          "output_type": "execute_result",
          "data": {
            "text/plain": [
              "((33196, 5576), (11066, 5576), (11066, 5576))"
            ]
          },
          "metadata": {
            "tags": []
          },
          "execution_count": 20
        }
      ]
    },
    {
      "cell_type": "code",
      "metadata": {
        "colab": {
          "base_uri": "https://localhost:8080/"
        },
        "id": "zNzF9-ZlQoTV",
        "outputId": "3e025386-e5f0-4338-981e-41539bdd74e1"
      },
      "source": [
        "lr = LogisticRegression(C=10)\n",
        "lr.fit(trainx, trainy)"
      ],
      "execution_count": null,
      "outputs": [
        {
          "output_type": "stream",
          "text": [
            "/usr/local/lib/python3.7/dist-packages/sklearn/linear_model/_logistic.py:940: ConvergenceWarning: lbfgs failed to converge (status=1):\n",
            "STOP: TOTAL NO. of ITERATIONS REACHED LIMIT.\n",
            "\n",
            "Increase the number of iterations (max_iter) or scale the data as shown in:\n",
            "    https://scikit-learn.org/stable/modules/preprocessing.html\n",
            "Please also refer to the documentation for alternative solver options:\n",
            "    https://scikit-learn.org/stable/modules/linear_model.html#logistic-regression\n",
            "  extra_warning_msg=_LOGISTIC_SOLVER_CONVERGENCE_MSG)\n"
          ],
          "name": "stderr"
        },
        {
          "output_type": "execute_result",
          "data": {
            "text/plain": [
              "LogisticRegression(C=10, class_weight=None, dual=False, fit_intercept=True,\n",
              "                   intercept_scaling=1, l1_ratio=None, max_iter=100,\n",
              "                   multi_class='auto', n_jobs=None, penalty='l2',\n",
              "                   random_state=None, solver='lbfgs', tol=0.0001, verbose=0,\n",
              "                   warm_start=False)"
            ]
          },
          "metadata": {
            "tags": []
          },
          "execution_count": 21
        }
      ]
    },
    {
      "cell_type": "code",
      "metadata": {
        "colab": {
          "base_uri": "https://localhost:8080/"
        },
        "id": "pu7Wb0lqSmHl",
        "outputId": "1c22baa3-0ac5-4061-a1b7-3bc3ddd586a9"
      },
      "source": [
        "print(f\"Validation Set Score: {lr.score(valx, valy)}\")\n",
        "print(f\"Test Set Score: {lr.score(testx, testy)}\")"
      ],
      "execution_count": null,
      "outputs": [
        {
          "output_type": "stream",
          "text": [
            "Validation Set Score: 0.7673052593529731\n",
            "Test Set Score: 0.7645942526658233\n"
          ],
          "name": "stdout"
        }
      ]
    },
    {
      "cell_type": "code",
      "metadata": {
        "colab": {
          "base_uri": "https://localhost:8080/"
        },
        "id": "l7zfruS4SpiA",
        "outputId": "0e7f4975-b5f1-4863-a82c-aea00d097e4a"
      },
      "source": [
        "lasso = RandomForestClassifier(n_estimators=200)\n",
        "lasso.fit(trainx, trainy)\n",
        "print(f\"Validation Set Score: {lasso.score(valx, valy)}\")\n",
        "print(f\"Test Set Score: {lasso.score(testx, testy)}\")"
      ],
      "execution_count": null,
      "outputs": [
        {
          "output_type": "stream",
          "text": [
            "Validation Set Score: 0.7983011024760528\n",
            "Test Set Score: 0.7975781673594795\n"
          ],
          "name": "stdout"
        }
      ]
    },
    {
      "cell_type": "code",
      "metadata": {
        "id": "RRrlWA57TS-U"
      },
      "source": [
        ""
      ],
      "execution_count": null,
      "outputs": []
    },
    {
      "cell_type": "markdown",
      "metadata": {
        "id": "nZY70Iq3TzmJ"
      },
      "source": [
        "#Sequential Model"
      ]
    },
    {
      "cell_type": "code",
      "metadata": {
        "colab": {
          "base_uri": "https://localhost:8080/"
        },
        "id": "MXX5EU12T2ys",
        "outputId": "6a2869d4-b593-404f-abec-40df1dab8e4e"
      },
      "source": [
        "#Load pretrained GloVe embeddings\n",
        "dict_w2v = {}\n",
        "with open('glove.6B.100d.txt', \"r\") as file:\n",
        "    for line in file:\n",
        "        tokens = line.split()\n",
        "        word = tokens[0]\n",
        "        vector = np.array(tokens[1:], dtype=np.float32)\n",
        "        if vector.shape[0] == 100:\n",
        "            dict_w2v[word] = vector\n",
        "        else:\n",
        "            print(\"There was an issue with \" + word)\n",
        "# let's check the vocabulary size\n",
        "print(\"Dictionary Size: \", len(dict_w2v))"
      ],
      "execution_count": null,
      "outputs": [
        {
          "output_type": "stream",
          "text": [
            "Dictionary Size:  400000\n"
          ],
          "name": "stdout"
        }
      ]
    },
    {
      "cell_type": "code",
      "metadata": {
        "id": "zg4QKOYjT9hm"
      },
      "source": [
        "NUM_WORDS = 10000\n",
        "NUM_CLS = 2"
      ],
      "execution_count": null,
      "outputs": []
    },
    {
      "cell_type": "code",
      "metadata": {
        "id": "p893bfN1T_pQ"
      },
      "source": [
        "tokenizer = tf.keras.preprocessing.text.Tokenizer(filters=\"\")\n",
        "tokenizer.fit_on_texts(all_clean_text)"
      ],
      "execution_count": null,
      "outputs": []
    },
    {
      "cell_type": "code",
      "metadata": {
        "colab": {
          "base_uri": "https://localhost:8080/"
        },
        "id": "6Cd-_wcKUFG3",
        "outputId": "acca1077-7487-46cc-8aa7-a9d344292ed1"
      },
      "source": [
        "NUM_WORDS = len(tokenizer.word_index) + 1\n",
        "print(NUM_WORDS)"
      ],
      "execution_count": null,
      "outputs": [
        {
          "output_type": "stream",
          "text": [
            "38246\n"
          ],
          "name": "stdout"
        }
      ]
    },
    {
      "cell_type": "code",
      "metadata": {
        "colab": {
          "base_uri": "https://localhost:8080/"
        },
        "id": "5H2OL668UG9W",
        "outputId": "9ae83d98-0693-4f2a-838a-8b0ffbaeb3e9"
      },
      "source": [
        "embedding_dim = 100\n",
        "embedding_matrix = np.zeros((NUM_WORDS, embedding_dim))\n",
        "\n",
        "unk_cnt = 0\n",
        "unk_set = set()\n",
        "for word in tokenizer.word_index.keys():\n",
        "    embedding_vector = dict_w2v.get(word)\n",
        "    if embedding_vector is not None:\n",
        "        tkn_id = tokenizer.word_index[word]\n",
        "        embedding_matrix[tkn_id] = embedding_vector\n",
        "    else:\n",
        "        unk_cnt += 1\n",
        "        unk_set.add(word)\n",
        "# Print how many weren't found\n",
        "print(\"Total unknown words: \", unk_cnt)"
      ],
      "execution_count": null,
      "outputs": [
        {
          "output_type": "stream",
          "text": [
            "Total unknown words:  13190\n"
          ],
          "name": "stdout"
        }
      ]
    },
    {
      "cell_type": "code",
      "metadata": {
        "id": "wtASiimwUJR8"
      },
      "source": [
        "all_sequences = tokenizer.texts_to_sequences(all_clean_text)\n",
        "all_padded_sequences = tf.keras.preprocessing.sequence.pad_sequences(all_sequences)"
      ],
      "execution_count": null,
      "outputs": []
    },
    {
      "cell_type": "code",
      "metadata": {
        "id": "_od9QvGvUXC-"
      },
      "source": [
        "train_x, valtest_x, train_y, valtest_y = train_test_split(all_padded_sequences, np.asarray(all_data['Label'].tolist(), dtype=np.int32), test_size=0.4)\n",
        "val_x, test_x, val_y, test_y = train_test_split(valtest_x, valtest_y, test_size=0.5)"
      ],
      "execution_count": null,
      "outputs": []
    },
    {
      "cell_type": "code",
      "metadata": {
        "colab": {
          "base_uri": "https://localhost:8080/"
        },
        "id": "R1OehuUwUZ59",
        "outputId": "d3e5306a-b12c-443c-89f6-5ee338313104"
      },
      "source": [
        "print(train_x.shape, val_x.shape, test_x.shape, val_y.shape, train_y.shape, test_y.shape)\n",
        "train_x, train_y = train_x[:(train_x.shape[0]//32)*32, :], train_y[:(train_y.shape[0]//32)*32]\n",
        "val_x, val_y = val_x[:(val_x.shape[0]//32)*32, :], val_y[:(val_y.shape[0]//32)*32]\n",
        "test_x, test_y = test_x[:(test_x.shape[0]//32)*32, :], test_y[:(test_y.shape[0]//32)*32]"
      ],
      "execution_count": null,
      "outputs": [
        {
          "output_type": "stream",
          "text": [
            "(33196, 151) (11066, 151) (11066, 151) (11066,) (33196,) (11066,)\n"
          ],
          "name": "stdout"
        }
      ]
    },
    {
      "cell_type": "code",
      "metadata": {
        "id": "CdmeoTdDUfpA"
      },
      "source": [
        "class MergeHiddenStates(tf.keras.layers.Layer):\n",
        "  def __init__(self):\n",
        "    super(MergeHiddenStates, self).__init__()\n",
        "  \n",
        "  def call(self, inputs):\n",
        "    #print(inputs)\n",
        "    states = inputs#[0]\n",
        "    return tf.reduce_mean(states, axis=1)"
      ],
      "execution_count": null,
      "outputs": []
    },
    {
      "cell_type": "code",
      "metadata": {
        "id": "lCGEo_BPUg1F"
      },
      "source": [
        "def create_model(input_shape=(train_x.shape[1], ), vocabsize=NUM_WORDS, emb_dim=50, rnn_units=128, batch_size=32):\n",
        "  model = tf.keras.Sequential([\n",
        "                               tf.keras.layers.Embedding(\n",
        "                                   vocabsize,\n",
        "                                   emb_dim,\n",
        "                                   mask_zero=False,\n",
        "                                   batch_input_shape=(batch_size, input_shape[0]),\n",
        "                                   weights=[embedding_matrix], trainable=True\n",
        "                               ),\n",
        "                               tf.keras.layers.Bidirectional(tf.keras.layers.GRU(rnn_units, dropout=0.2, return_sequences=True)),\n",
        "                               MergeHiddenStates(),\n",
        "                               tf.keras.layers.Dropout(0.3),\n",
        "                               tf.keras.layers.Dense(128, activation='relu'),\n",
        "                               tf.keras.layers.Dropout(0.2),\n",
        "                               tf.keras.layers.Dense(NUM_CLS, activation='softmax')\n",
        "  ])\n",
        "  return model\n",
        "\n",
        "def create_model_v2(input_shape=(train_x.shape[1], ), vocabsize=NUM_WORDS, emb_dim=100, rnn_units=128, batch_size=32):\n",
        "  \n",
        "  inp = tf.keras.layers.Input(shape=input_shape, batch_size=batch_size, dtype=tf.int32)\n",
        "  emb_fixed = tf.keras.layers.Embedding(\n",
        "                                    vocabsize,\n",
        "                                    emb_dim,\n",
        "                                    mask_zero=False,\n",
        "                                    batch_input_shape=(batch_size, input_shape[0]),\n",
        "                                    weights=[embedding_matrix], trainable=False)\n",
        "  \n",
        "  emb_train = tf.keras.layers.Embedding(\n",
        "                                    vocabsize,\n",
        "                                    emb_dim,\n",
        "                                    mask_zero=False,\n",
        "                                    batch_input_shape=(batch_size, input_shape[0]),\n",
        "                                    weights=[embedding_matrix], trainable=True)\n",
        "  \n",
        "  rnn_unit = tf.keras.layers.Bidirectional(tf.keras.layers.GRU(rnn_units, dropout=0.2, return_sequences=True))\n",
        "  \n",
        "  x1 = emb_fixed(inp)\n",
        "  x2 = emb_train(inp)\n",
        "  x = tf.keras.layers.Concatenate()([x1, x2])\n",
        "  whole_sequence_output = rnn_unit(x)\n",
        "  x = MergeHiddenStates()(whole_sequence_output)\n",
        "  x = tf.keras.layers.Dropout(0.3)(x)\n",
        "  x = tf.keras.layers.Dense(128, activation='relu')(x)\n",
        "  x = tf.keras.layers.Dropout(0.2)(x)\n",
        "  preds = tf.keras.layers.Dense(NUM_CLS, activation='softmax')(x)\n",
        "  model = tf.keras.Model(inputs=inp, outputs=preds)\n",
        "  return model"
      ],
      "execution_count": null,
      "outputs": []
    },
    {
      "cell_type": "code",
      "metadata": {
        "colab": {
          "base_uri": "https://localhost:8080/"
        },
        "id": "k4l2W-D9UiC-",
        "outputId": "aed54f9e-28d5-4ec5-a1a4-1c9d401bd8d0"
      },
      "source": [
        "#model = create_model()\n",
        "model = create_model_v2()\n",
        "print(model.summary())"
      ],
      "execution_count": null,
      "outputs": [
        {
          "output_type": "stream",
          "text": [
            "Model: \"model_2\"\n",
            "__________________________________________________________________________________________________\n",
            "Layer (type)                    Output Shape         Param #     Connected to                     \n",
            "==================================================================================================\n",
            "input_5 (InputLayer)            [(32, 151)]          0                                            \n",
            "__________________________________________________________________________________________________\n",
            "embedding_8 (Embedding)         (32, 151, 100)       3824600     input_5[0][0]                    \n",
            "__________________________________________________________________________________________________\n",
            "embedding_9 (Embedding)         (32, 151, 100)       3824600     input_5[0][0]                    \n",
            "__________________________________________________________________________________________________\n",
            "concatenate_4 (Concatenate)     (32, 151, 200)       0           embedding_8[0][0]                \n",
            "                                                                 embedding_9[0][0]                \n",
            "__________________________________________________________________________________________________\n",
            "bidirectional_4 (Bidirectional) (32, 151, 256)       253440      concatenate_4[0][0]              \n",
            "__________________________________________________________________________________________________\n",
            "merge_hidden_states_3 (MergeHid (32, 256)            0           bidirectional_4[0][0]            \n",
            "__________________________________________________________________________________________________\n",
            "dropout_6 (Dropout)             (32, 256)            0           merge_hidden_states_3[0][0]      \n",
            "__________________________________________________________________________________________________\n",
            "dense_6 (Dense)                 (32, 128)            32896       dropout_6[0][0]                  \n",
            "__________________________________________________________________________________________________\n",
            "dropout_7 (Dropout)             (32, 128)            0           dense_6[0][0]                    \n",
            "__________________________________________________________________________________________________\n",
            "dense_7 (Dense)                 (32, 2)              258         dropout_7[0][0]                  \n",
            "==================================================================================================\n",
            "Total params: 7,935,794\n",
            "Trainable params: 4,111,194\n",
            "Non-trainable params: 3,824,600\n",
            "__________________________________________________________________________________________________\n",
            "None\n"
          ],
          "name": "stdout"
        }
      ]
    },
    {
      "cell_type": "code",
      "metadata": {
        "id": "JMwqxEAMUjWg"
      },
      "source": [
        "loss_obj = tf.keras.losses.SparseCategoricalCrossentropy(from_logits=False)\n",
        "model.compile(loss=loss_obj, optimizer='adam', metrics=['accuracy'])"
      ],
      "execution_count": null,
      "outputs": []
    },
    {
      "cell_type": "code",
      "metadata": {
        "colab": {
          "base_uri": "https://localhost:8080/"
        },
        "id": "m-Y7NVhrUksI",
        "outputId": "834a5ac8-8b46-4264-8572-a4a1c15c26d1"
      },
      "source": [
        "history = model.fit(train_x, train_y, batch_size=32, epochs=5, validation_data=(val_x, val_y), shuffle=True)"
      ],
      "execution_count": null,
      "outputs": [
        {
          "output_type": "stream",
          "text": [
            "Epoch 1/5\n",
            "1037/1037 [==============================] - 56s 52ms/step - loss: 0.4875 - accuracy: 0.7404 - val_loss: 0.2366 - val_accuracy: 0.9044\n",
            "Epoch 2/5\n",
            "1037/1037 [==============================] - 52s 50ms/step - loss: 0.3480 - accuracy: 0.8984 - val_loss: 0.1862 - val_accuracy: 0.9298\n",
            "Epoch 3/5\n",
            "1037/1037 [==============================] - 49s 47ms/step - loss: 0.0822 - accuracy: 0.9727 - val_loss: 0.2083 - val_accuracy: 0.9322\n",
            "Epoch 4/5\n",
            "1037/1037 [==============================] - 49s 47ms/step - loss: 0.0392 - accuracy: 0.9873 - val_loss: 0.2157 - val_accuracy: 0.9407\n",
            "Epoch 5/5\n",
            "1037/1037 [==============================] - 49s 47ms/step - loss: 0.0261 - accuracy: 0.9905 - val_loss: 0.3103 - val_accuracy: 0.9438\n"
          ],
          "name": "stdout"
        }
      ]
    },
    {
      "cell_type": "code",
      "metadata": {
        "id": "D6YkM_GSUmJl"
      },
      "source": [
        "test_preds = np.argmax(model.predict(test_x, batch_size=32), axis=1)"
      ],
      "execution_count": null,
      "outputs": []
    },
    {
      "cell_type": "code",
      "metadata": {
        "colab": {
          "base_uri": "https://localhost:8080/"
        },
        "id": "PcHojodCUnjv",
        "outputId": "cb005eaf-95c4-419e-8bae-5ee32f79ee67"
      },
      "source": [
        "print(classification_report(test_y, test_preds))"
      ],
      "execution_count": null,
      "outputs": [
        {
          "output_type": "stream",
          "text": [
            "              precision    recall  f1-score   support\n",
            "\n",
            "           0       0.96      0.94      0.95      5995\n",
            "           1       0.93      0.95      0.94      5045\n",
            "\n",
            "    accuracy                           0.95     11040\n",
            "   macro avg       0.95      0.95      0.95     11040\n",
            "weighted avg       0.95      0.95      0.95     11040\n",
            "\n"
          ],
          "name": "stdout"
        }
      ]
    },
    {
      "cell_type": "code",
      "metadata": {
        "colab": {
          "base_uri": "https://localhost:8080/"
        },
        "id": "br3VI1I1xulB",
        "outputId": "60a95572-a7f9-4301-a9c0-763ddc640712"
      },
      "source": [
        "print(classification_report(test_y, test_preds))"
      ],
      "execution_count": null,
      "outputs": [
        {
          "output_type": "stream",
          "text": [
            "              precision    recall  f1-score   support\n",
            "\n",
            "           0       0.97      0.92      0.94      5980\n",
            "           1       0.91      0.96      0.93      5060\n",
            "\n",
            "    accuracy                           0.94     11040\n",
            "   macro avg       0.94      0.94      0.94     11040\n",
            "weighted avg       0.94      0.94      0.94     11040\n",
            "\n"
          ],
          "name": "stdout"
        }
      ]
    },
    {
      "cell_type": "code",
      "metadata": {
        "id": "oAqv3S05YOkX"
      },
      "source": [
        "# Let's test on some random samples from internet"
      ],
      "execution_count": null,
      "outputs": []
    },
    {
      "cell_type": "code",
      "metadata": {
        "id": "stdh42PtYX0e"
      },
      "source": [
        "eval_sent = \"Aim at nothing–you’ll hit it every time.\""
      ],
      "execution_count": null,
      "outputs": []
    },
    {
      "cell_type": "code",
      "metadata": {
        "id": "FCbW5AQZYmrK"
      },
      "source": [
        "eval_sent_clean = clean_text2(clean_text(eval_sent.lower()))"
      ],
      "execution_count": null,
      "outputs": []
    },
    {
      "cell_type": "code",
      "metadata": {
        "id": "9QsikmR1YrH1",
        "colab": {
          "base_uri": "https://localhost:8080/",
          "height": 35
        },
        "outputId": "025cae01-4cf5-4958-a7d6-1bda228ca31d"
      },
      "source": [
        "eval_sent_clean"
      ],
      "execution_count": null,
      "outputs": [
        {
          "output_type": "execute_result",
          "data": {
            "application/vnd.google.colaboratory.intrinsic+json": {
              "type": "string"
            },
            "text/plain": [
              "'aim at nothing–you’ll hit it every time.'"
            ]
          },
          "metadata": {
            "tags": []
          },
          "execution_count": 224
        }
      ]
    },
    {
      "cell_type": "code",
      "metadata": {
        "id": "1DkR8lVIYsPg"
      },
      "source": [
        "eval_sequence = tokenizer.texts_to_sequences([eval_sent_clean])\n",
        "eval_padded_sequence = tf.keras.preprocessing.sequence.pad_sequences(eval_sequence, maxlen=151)"
      ],
      "execution_count": null,
      "outputs": []
    },
    {
      "cell_type": "code",
      "metadata": {
        "colab": {
          "base_uri": "https://localhost:8080/"
        },
        "id": "1lqC8EE2ZK4Y",
        "outputId": "37563e3e-1b5b-440c-8475-feb4277bb991"
      },
      "source": [
        "eval_padded_sequence.shape"
      ],
      "execution_count": null,
      "outputs": [
        {
          "output_type": "execute_result",
          "data": {
            "text/plain": [
              "(1, 151)"
            ]
          },
          "metadata": {
            "tags": []
          },
          "execution_count": 226
        }
      ]
    },
    {
      "cell_type": "code",
      "metadata": {
        "id": "YwUDNTP5Y8QK"
      },
      "source": [
        "#eval_pred = np.argmax(model.predict(eval_padded_sequence, batch_size=1), axis=1)\n",
        "eval_pred = model.predict(eval_padded_sequence, batch_size=1)"
      ],
      "execution_count": null,
      "outputs": []
    },
    {
      "cell_type": "code",
      "metadata": {
        "colab": {
          "base_uri": "https://localhost:8080/"
        },
        "id": "Tertm2dsY-yA",
        "outputId": "110c6435-91dc-4fb1-e82d-658294148797"
      },
      "source": [
        "eval_pred"
      ],
      "execution_count": null,
      "outputs": [
        {
          "output_type": "execute_result",
          "data": {
            "text/plain": [
              "array([[9.9986398e-01, 1.3598653e-04]], dtype=float32)"
            ]
          },
          "metadata": {
            "tags": []
          },
          "execution_count": 228
        }
      ]
    },
    {
      "cell_type": "code",
      "metadata": {
        "colab": {
          "base_uri": "https://localhost:8080/"
        },
        "id": "55ze2i57ZbM3",
        "outputId": "6ea859d8-fbde-42bd-fa5c-5ef3deec9020"
      },
      "source": [
        "all_data[all_data['Label']==1][600:680][\"Text\"].tolist()"
      ],
      "execution_count": null,
      "outputs": [
        {
          "output_type": "execute_result",
          "data": {
            "text/plain": [
              "['cancer topples chavez in bloodless coup',\n",
              " 'exhibitionist zoo elephants waiting for crowd to gather before screwing',\n",
              " \"website's built-in search engine just pathetic\",\n",
              " 'candidate to accuse opponent of racism just to see what happens',\n",
              " 'area mofo announces plans to chill',\n",
              " \"gunman opens fire in own mcdonald's\",\n",
              " '45-year-old man self-conscious, embarrassed by new, unexpected changes his body going through',\n",
              " 'woman feels guilty after switching brands',\n",
              " \"vacationing detective just going to pretend like he didn't even see dead body in the woods\",\n",
              " 'trio of cutups attempts to hide horse from landlord',\n",
              " \"military recruiter doesn't have to dig too far into bag of tricks to land this one\",\n",
              " \"'entertainment weekly' critic lets director redo 'sorority row' for better grade\",\n",
              " 'report: we could probably just have computer pick president',\n",
              " 'grandma still swallowing okay, grandpa reports',\n",
              " 'mother provides adult son with list of questions to ask doctor',\n",
              " 'grumblethor the mischievous pleased with mayhem his magical antics have wrought upon white house–fbi relations',\n",
              " 'area man loses all control of face while thinking',\n",
              " 'nation to try channeling outrage over gun control into issue that can actually be addressed',\n",
              " 'insatiable water droplet barrels down windowpane consuming everything in its path',\n",
              " 'department of education hires art teacher to spread evenly across all u.s. public schools',\n",
              " 'evangelical haggard claims he was molested by republican congressman',\n",
              " 'grimacing congressman quickly drafts legislation for charley-horse research',\n",
              " \"mitt romney announces he's running for his life\",\n",
              " 'career-driven man beginning to worry entire identity no longer tied to job',\n",
              " 'pope francis clarifies that god just one of many immortal beings who speak to him every day',\n",
              " \"'holy shit, the government owes me 50 million dollars,' reports man incorrectly filling out his taxes\",\n",
              " 'trembling, pallid rnc attendees undergo second day of firearm withdrawal',\n",
              " 'recording academy reminds aging musicians to die before december 15 to be included in 2017 grammy tributes',\n",
              " 'man always gets little rush out of telling people john lennon beat wife',\n",
              " 'news report on wartime atrocity even more powerful for its brevity',\n",
              " 'cheney orders motorcade to gun it over half-open drawbridge',\n",
              " 'ben carson slowly floats away from earth',\n",
              " 'every bill reminds congressman of ex-wife',\n",
              " 'report: music industry made $18 in 2009',\n",
              " \"trump boys ransack mueller's office to steal answer key to questions for their dad\",\n",
              " \"man's body running out of ideas to convince him he full\",\n",
              " 'investigation exposes ebay user for selling fake pulitzer medals',\n",
              " 'samsung smart tv owner learning about majority of features from leaked cia documents',\n",
              " 'grown man refers to map at beginning of novel to find out where ruined castle of arnoth is located',\n",
              " \"trump: 'it's my honor to deliver the first-ever state of the union'\",\n",
              " 'new epa study finds 98% of u.s. mop water fucking nasty as hell',\n",
              " \"career spider not sure she's ready for 3,000 children at this point\",\n",
              " 'city to issue deep, meaningful municipal bonds',\n",
              " 'stolen tour bus leads police on chase of historic downtown philadelphia',\n",
              " \"nation just goes ahead and decides 'freedom prevails over hate' is lesson of 9/11\",\n",
              " 'homesick trump stays up all night on phone with automated mar-a-lago reservations line',\n",
              " 'naturist retreat ends in boner',\n",
              " 'star trek introduces alien character with totally different forehead wrinkles',\n",
              " 'study: majority of new marine life species now discovered while cleaning oil spills',\n",
              " \"study: boyfriends who aren't speaking are thinking about ending relationship 90% of time\",\n",
              " 'family receives 38-piece astrazeneca assorted pill sampler',\n",
              " 'blood-soaked mayor bloomberg announces homelessness no longer a problem in new york city',\n",
              " 'westminster dog show finalists form elite iditarod team',\n",
              " 'deceased souls backed up at river styx ferry crossing during underworld transit strike',\n",
              " 'hanes unveils w-neck t-shirt',\n",
              " 'seasonal depression to take over for chronic depression for a few months',\n",
              " \"man wearing sunglasses upside down on back of head still recovering from paul walker's death\",\n",
              " 'woman only willing to learn new things in settings called boot camp',\n",
              " 'roommate all into cycling now',\n",
              " \"facebook clarifies site not intended to be users' primary information source\",\n",
              " 'mom figures it about time to sit down adolescent daughter and explain how weight watchers points work',\n",
              " 'heavy police presence in ferguson to ensure residents adequately provoked',\n",
              " 'morning after morning after pill re-impregnates guilt-ridden women',\n",
              " 'area man could have made same meal at home but worse',\n",
              " 'exit from apartment delayed 20 seconds to avoid pleasantries with neighbor',\n",
              " \"nude model suspects she's posing for civics class\",\n",
              " 'vote, voter wasted',\n",
              " \"'you're my best friend,' says obama to drone that appears outside bedroom window every night\",\n",
              " 'plan for future still involves drumming for lifehouse',\n",
              " \"delicate little man kept awake all night by having coffee after four o'clock\",\n",
              " 'surgeon general recommends twisting head far enough until you hear little pop',\n",
              " 'alex delarge forced to step down as leader of droogs amidst allegations of sexual misconduct',\n",
              " 'dying baboon pretty low on heart-transplant list',\n",
              " 'tornado creeped out by man who keeps following it in truck and filming it',\n",
              " 'thumbtack on carpet still at large',\n",
              " 'breaking: cousin mark coming after all',\n",
              " 'many animals harmed in catering of film',\n",
              " 'nerd has most obscure crush ever',\n",
              " 'important piece of paper tragically smudged with breadstick grease',\n",
              " 'study finds not acting like total fucking moron most attractive quality in potential mate']"
            ]
          },
          "metadata": {
            "tags": []
          },
          "execution_count": 209
        }
      ]
    },
    {
      "cell_type": "code",
      "metadata": {
        "id": "xppCbmHMbFwr"
      },
      "source": [
        ""
      ],
      "execution_count": null,
      "outputs": []
    }
  ]
}